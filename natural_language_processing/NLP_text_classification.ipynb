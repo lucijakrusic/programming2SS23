{
 "cells": [
  {
   "cell_type": "markdown",
   "id": "1ed929b7",
   "metadata": {},
   "source": [
    "# Text classification "
   ]
  },
  {
   "cell_type": "code",
   "execution_count": 1,
   "id": "adc3870b",
   "metadata": {},
   "outputs": [],
   "source": [
    "from IPython.display import Image"
   ]
  },
  {
   "cell_type": "markdown",
   "id": "c91ee8c5",
   "metadata": {},
   "source": [
    "- fundamental task in Natural Language Processing (NLP)\n",
    "- categorizing text into organized groups\n",
    "- used for spam detection, sentiment analysis, tagging customer queries, document categorization, news categorization, and much more\n"
   ]
  },
  {
   "cell_type": "code",
   "execution_count": 2,
   "id": "2feba07e",
   "metadata": {},
   "outputs": [
    {
     "data": {
      "text/html": [
       "<img src=\"../img/classification.png\"/>"
      ],
      "text/plain": [
       "<IPython.core.display.Image object>"
      ]
     },
     "execution_count": 2,
     "metadata": {},
     "output_type": "execute_result"
    }
   ],
   "source": [
    "Image(url= \"../img/classification.png\")\n",
    "# https://towardsdatascience.com/machine-learning-nlp-text-classification-using-scikit-learn-python-and-nltk-c52b92a7c73a"
   ]
  },
  {
   "cell_type": "markdown",
   "id": "d315d189",
   "metadata": {},
   "source": [
    "### Machine learning and NLP"
   ]
  },
  {
   "cell_type": "markdown",
   "id": "0d34e94a",
   "metadata": {},
   "source": [
    "- a supervised learning approach where observed and labeled text data is used to train a classifier model\n",
    "- the trained model is then used to predict the class of new, unseen text data.\n",
    "\n",
    "### Algorithms used for text classification:\n",
    "* Naive Bayes\n",
    "* Logistic Regression\n",
    "* Support Vector Machines\n",
    "* Random Forests\n",
    "* Gradient Boosting algorithms, \n",
    "* deep learning models such as Convolutional Neural Networks (CNNs) and Recurrent Neural Networks (RNNs)."
   ]
  },
  {
   "cell_type": "markdown",
   "id": "9e54cf29",
   "metadata": {},
   "source": [
    "### Imports\n"
   ]
  },
  {
   "cell_type": "code",
   "execution_count": 3,
   "id": "e834bbc0",
   "metadata": {},
   "outputs": [],
   "source": [
    "import pandas as pd\n",
    "from sklearn.model_selection import train_test_split\n",
    "from sklearn.feature_extraction.text import TfidfVectorizer\n",
    "from sklearn.linear_model import LogisticRegression\n",
    "from sklearn.neighbors import KNeighborsClassifier\n",
    "from sklearn.svm import LinearSVC\n",
    "from sklearn.naive_bayes import MultinomialNB\n",
    "from sklearn import metrics\n",
    "from nltk.corpus import stopwords\n",
    "from nltk.stem import WordNetLemmatizer\n",
    "import nltk\n",
    "import re"
   ]
  },
  {
   "cell_type": "markdown",
   "id": "e1bc2d20",
   "metadata": {},
   "source": [
    "Our dataset now has also the categories of topics. Our aim is to be able to classify any new text that we get, automatically into these five categories:"
   ]
  },
  {
   "cell_type": "code",
   "execution_count": 4,
   "id": "56ea9b3e",
   "metadata": {},
   "outputs": [
    {
     "data": {
      "text/html": [
       "<div>\n",
       "<style scoped>\n",
       "    .dataframe tbody tr th:only-of-type {\n",
       "        vertical-align: middle;\n",
       "    }\n",
       "\n",
       "    .dataframe tbody tr th {\n",
       "        vertical-align: top;\n",
       "    }\n",
       "\n",
       "    .dataframe thead th {\n",
       "        text-align: right;\n",
       "    }\n",
       "</style>\n",
       "<table border=\"1\" class=\"dataframe\">\n",
       "  <thead>\n",
       "    <tr style=\"text-align: right;\">\n",
       "      <th></th>\n",
       "      <th>category</th>\n",
       "      <th>text</th>\n",
       "    </tr>\n",
       "  </thead>\n",
       "  <tbody>\n",
       "    <tr>\n",
       "      <th>0</th>\n",
       "      <td>tech</td>\n",
       "      <td>tv future in the hands of viewers with home th...</td>\n",
       "    </tr>\n",
       "    <tr>\n",
       "      <th>1</th>\n",
       "      <td>business</td>\n",
       "      <td>worldcom boss  left books alone  former worldc...</td>\n",
       "    </tr>\n",
       "    <tr>\n",
       "      <th>2</th>\n",
       "      <td>sport</td>\n",
       "      <td>tigers wary of farrell  gamble  leicester say ...</td>\n",
       "    </tr>\n",
       "    <tr>\n",
       "      <th>3</th>\n",
       "      <td>sport</td>\n",
       "      <td>yeading face newcastle in fa cup premiership s...</td>\n",
       "    </tr>\n",
       "    <tr>\n",
       "      <th>4</th>\n",
       "      <td>entertainment</td>\n",
       "      <td>ocean s twelve raids box office ocean s twelve...</td>\n",
       "    </tr>\n",
       "    <tr>\n",
       "      <th>5</th>\n",
       "      <td>politics</td>\n",
       "      <td>howard hits back at mongrel jibe michael howar...</td>\n",
       "    </tr>\n",
       "    <tr>\n",
       "      <th>6</th>\n",
       "      <td>politics</td>\n",
       "      <td>blair prepares to name poll date tony blair is...</td>\n",
       "    </tr>\n",
       "    <tr>\n",
       "      <th>7</th>\n",
       "      <td>sport</td>\n",
       "      <td>henman hopes ended in dubai third seed tim hen...</td>\n",
       "    </tr>\n",
       "    <tr>\n",
       "      <th>8</th>\n",
       "      <td>sport</td>\n",
       "      <td>wilkinson fit to face edinburgh england captai...</td>\n",
       "    </tr>\n",
       "    <tr>\n",
       "      <th>9</th>\n",
       "      <td>entertainment</td>\n",
       "      <td>last star wars  not for children  the sixth an...</td>\n",
       "    </tr>\n",
       "  </tbody>\n",
       "</table>\n",
       "</div>"
      ],
      "text/plain": [
       "        category                                               text\n",
       "0           tech  tv future in the hands of viewers with home th...\n",
       "1       business  worldcom boss  left books alone  former worldc...\n",
       "2          sport  tigers wary of farrell  gamble  leicester say ...\n",
       "3          sport  yeading face newcastle in fa cup premiership s...\n",
       "4  entertainment  ocean s twelve raids box office ocean s twelve...\n",
       "5       politics  howard hits back at mongrel jibe michael howar...\n",
       "6       politics  blair prepares to name poll date tony blair is...\n",
       "7          sport  henman hopes ended in dubai third seed tim hen...\n",
       "8          sport  wilkinson fit to face edinburgh england captai...\n",
       "9  entertainment  last star wars  not for children  the sixth an..."
      ]
     },
     "execution_count": 4,
     "metadata": {},
     "output_type": "execute_result"
    }
   ],
   "source": [
    "df = pd.read_csv('../data/bbc-text-categories.csv')\n",
    "df.head(10)"
   ]
  },
  {
   "cell_type": "markdown",
   "id": "21701e74",
   "metadata": {},
   "source": [
    "### Text preprocessing"
   ]
  },
  {
   "cell_type": "markdown",
   "id": "f86ce087",
   "metadata": {},
   "source": [
    "The first step, as before is the text preprocessing. "
   ]
  },
  {
   "cell_type": "code",
   "execution_count": null,
   "id": "d4922a13",
   "metadata": {},
   "outputs": [],
   "source": [
    "# Text preprocessing\n",
    "lemmatizer = WordNetLemmatizer()\n",
    "stop_words = set(stopwords.words('english'))\n"
   ]
  },
  {
   "cell_type": "code",
   "execution_count": null,
   "id": "7f8ca20e",
   "metadata": {},
   "outputs": [],
   "source": [
    "def preprocess_text(text):\n",
    "    # Remove punctuations and numbers\n",
    "    text = re.sub('[^a-zA-Z]', ' ', text)\n",
    "    # Convert to lowercase\n",
    "    text = text.lower()\n",
    "    # Remove single characters\n",
    "    text = re.sub(r\"\\s+[a-zA-Z]\\s+\", ' ', text)\n",
    "    # Lemmatize and remove stopwords\n",
    "    text = [lemmatizer.lemmatize(word) for word in text.split() if word not in stop_words]\n",
    "    return ' '.join(text)"
   ]
  },
  {
   "cell_type": "code",
   "execution_count": null,
   "id": "f19728a0",
   "metadata": {},
   "outputs": [],
   "source": [
    "df['processed_text'] = df['text'].apply(preprocess_text)"
   ]
  },
  {
   "cell_type": "markdown",
   "id": "7ee790ad",
   "metadata": {},
   "source": [
    "<div class=\"alert alert-block alert-info\">\n",
    "<b>Exercise 1</b>\n",
    "\n",
    "\n",
    "  <li>Split the data (processed_text and category) into train and test sets </li>\n",
    "  <li> Make the test- train distribution 80-20</li>\n",
    "\n",
    "\n",
    "  \n",
    "</div>"
   ]
  },
  {
   "cell_type": "markdown",
   "id": "fcd3b9e8",
   "metadata": {},
   "source": [
    "### Vectorizing the text data"
   ]
  },
  {
   "cell_type": "markdown",
   "id": "bd13dd85",
   "metadata": {},
   "source": [
    "In the case of our text classification task, we use vectorization to convert the news text into a format that our machine learning models can understand and learn from.\n",
    "\n",
    "\n",
    "\n",
    "\n"
   ]
  },
  {
   "cell_type": "code",
   "execution_count": null,
   "id": "3d2445a4",
   "metadata": {},
   "outputs": [],
   "source": [
    "vectorizer = TfidfVectorizer()\n",
    "X_train = vectorizer.fit_transform(X_train)\n",
    "X_test = vectorizer.transform(X_test)\n"
   ]
  },
  {
   "cell_type": "markdown",
   "id": "425012ad",
   "metadata": {},
   "source": [
    "### Logistic regression"
   ]
  },
  {
   "cell_type": "markdown",
   "id": "c9dfa3bb",
   "metadata": {},
   "source": [
    "<div class=\"alert alert-block alert-info\">\n",
    "<b>Exercise 1</b>\n",
    "\n",
    "\n",
    "  <li> Train and evaluate Logistic Regression</li>\n",
    "  <li> use metrics.accuracy_score for the evaluation</li>\n",
    "\n",
    "\n",
    "  \n",
    "</div>"
   ]
  },
  {
   "cell_type": "markdown",
   "id": "d8207c90",
   "metadata": {},
   "source": [
    "### k-NN"
   ]
  },
  {
   "cell_type": "markdown",
   "id": "f4e147c2",
   "metadata": {},
   "source": [
    "- see Titanic notebook\n",
    "- It doesn't learn a model, it classifies samples based on their similarity to samples seen during trainin\n",
    "- the class of a new sample is determined by the majority class of its K closest samples.\n",
    "\n"
   ]
  },
  {
   "cell_type": "markdown",
   "id": "2ee9ba23",
   "metadata": {},
   "source": [
    "<div class=\"alert alert-block alert-info\">\n",
    "<b>Exercise 2</b>\n",
    "\n",
    "\n",
    "  <li> Train and evaluate a k-NN algoritm</li>\n",
    "  <li> use metrics.accuracy_score for the evaluation</li>\n",
    "\n",
    "\n",
    "  \n",
    "</div>"
   ]
  },
  {
   "cell_type": "markdown",
   "id": "453a1fed",
   "metadata": {},
   "source": [
    "### SVM"
   ]
  },
  {
   "cell_type": "markdown",
   "id": "cf0d72ca",
   "metadata": {},
   "source": [
    "- see Titanic notebook\n",
    "- Support Vector Machine \n",
    "- a powerful classification model that aims to find the best hyperplane separating different classes\n",
    "- works well at untangling outliers from complex small and medium datasets and managing high dimensional data\n",
    "\n"
   ]
  },
  {
   "cell_type": "markdown",
   "id": "0e681aba",
   "metadata": {},
   "source": [
    "<div class=\"alert alert-block alert-info\">\n",
    "<b>Exercise 3</b>\n",
    "\n",
    "\n",
    "  <li> Train and evaluate an SVM algoritm</li>\n",
    "  <li> use metrics.accuracy_score for the evaluation</li>\n",
    "\n",
    "\n",
    "  \n",
    "</div>"
   ]
  },
  {
   "cell_type": "markdown",
   "id": "106c8ac4",
   "metadata": {},
   "source": [
    "### Naive Bayes"
   ]
  },
  {
   "cell_type": "markdown",
   "id": "5a640a7d",
   "metadata": {},
   "source": [
    "- Naive Bayes is a classification algorithm based on applying Bayes' theorem with a strong assumption that all the predictors (or features) are independent of each other - this  is what makes it 'naive'\n",
    "\n",
    "- Bayes' theorem is a fundamental theorem in the field of probability theory and statistics that describes the probability of an event based on prior knowledge of conditions that might be related to the event.\n",
    "\n"
   ]
  },
  {
   "cell_type": "markdown",
   "id": "7b0be7ac",
   "metadata": {},
   "source": [
    "#### Example"
   ]
  },
  {
   "cell_type": "markdown",
   "id": "198bbcc7",
   "metadata": {},
   "source": [
    "We are trying to classify an email as spam or not spam based on the words in the email. The 'naive' assumption allows us to estimate the probability of each word appearing in a spam email independently.\n",
    "\n",
    "For instance, let's assume we have two words, 'free' and 'offer'. If both these words appear in an email, under the 'naive' assumption, we assume that the appearance of 'free' does not affect the appearance of 'offer' and vice versa, even though it's possible that 'free' and 'offer' might often appear together in spam emails.\n",
    "\n",
    "Despite this 'naive' assumption, Naive Bayes classifiers work quite well in many real-world situations, especially for text classification problems like spam detection, sentiment analysis, and topic categorization."
   ]
  },
  {
   "cell_type": "code",
   "execution_count": null,
   "id": "22b58865",
   "metadata": {},
   "outputs": [],
   "source": [
    "Image(url= \"../img/BAYES.png\", height = 100, width=500)\n",
    "# https://www.turing.com/kb/an-introduction-to-naive-bayes-algorithm-for-beginners"
   ]
  },
  {
   "cell_type": "code",
   "execution_count": null,
   "id": "047519be",
   "metadata": {},
   "outputs": [],
   "source": [
    "clf_naive_bayes = MultinomialNB()\n",
    "clf_naive_bayes.fit(X_train, y_train)\n",
    "pred = clf_naive_bayes.predict(X_test)\n",
    "print('Naive Bayes Accuracy:', metrics.accuracy_score(y_test, pred))\n"
   ]
  },
  {
   "cell_type": "markdown",
   "id": "76681138",
   "metadata": {},
   "source": [
    "### Making a prediction\n"
   ]
  },
  {
   "cell_type": "code",
   "execution_count": null,
   "id": "62acbd35",
   "metadata": {},
   "outputs": [],
   "source": [
    "example_text = \"The government announced new policies on international trade. The stock market responded positively to the news. Tech companies are expecting to benefit from these changes. Sports events will be affected due to the adjustments in international travel policies.\"\n"
   ]
  },
  {
   "cell_type": "markdown",
   "id": "491962dd",
   "metadata": {},
   "source": [
    "<div class=\"alert alert-block alert-info\">\n",
    "<b>Exercise 4</b>\n",
    "\n",
    "\n",
    "  <li> preprocess our new text using the preprocess funciton</li>\n",
    "  <li> vectorize our text</li>\n",
    "\n",
    "\n",
    "  \n",
    "</div>"
   ]
  },
  {
   "cell_type": "markdown",
   "id": "963bfff0",
   "metadata": {},
   "source": [
    "### Make predictions with each model"
   ]
  },
  {
   "cell_type": "code",
   "execution_count": null,
   "id": "c18a0a5e",
   "metadata": {},
   "outputs": [],
   "source": [
    "log_reg_pred = clf.predict(example_vectorized)\n",
    "knn_pred = clf_knn.predict(example_vectorized)\n",
    "svm_pred = clf_svm.predict(example_vectorized)\n",
    "naive_bayes_pred = clf_naive_bayes.predict(example_vectorized)\n",
    "\n",
    "print(\"Logistic Regression Prediction: \", log_reg_pred[0])\n",
    "print(\"KNN Prediction: \", knn_pred[0])\n",
    "print(\"SVM Prediction: \", svm_pred[0])\n",
    "print(\"Naive Bayes Prediction: \", naive_bayes_pred[0])\n"
   ]
  }
 ],
 "metadata": {
  "kernelspec": {
   "display_name": "Python 3 (ipykernel)",
   "language": "python",
   "name": "python3"
  },
  "language_info": {
   "codemirror_mode": {
    "name": "ipython",
    "version": 3
   },
   "file_extension": ".py",
   "mimetype": "text/x-python",
   "name": "python",
   "nbconvert_exporter": "python",
   "pygments_lexer": "ipython3",
   "version": "3.9.13"
  }
 },
 "nbformat": 4,
 "nbformat_minor": 5
}
