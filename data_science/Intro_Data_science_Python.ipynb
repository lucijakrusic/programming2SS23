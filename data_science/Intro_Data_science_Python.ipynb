{
 "cells": [
  {
   "cell_type": "markdown",
   "id": "f7705dbd",
   "metadata": {},
   "source": [
    "## What is data science?"
   ]
  },
  {
   "cell_type": "code",
   "execution_count": 1,
   "id": "0527b566",
   "metadata": {},
   "outputs": [],
   "source": [
    "from IPython.display import Image\n",
    "from IPython.core.display import HTML "
   ]
  },
  {
   "cell_type": "markdown",
   "id": "b110fa7f",
   "metadata": {},
   "source": [
    "The term 'data science' has in recent times really become a buzzword. We hear about data scientists and data analyists being highly sought after and it becoming a really popular branch of IT.\n",
    "\n",
    "But what exactly is data science and what are the skills neccessary to become someone who analyzes data?\n",
    "\n"
   ]
  },
  {
   "cell_type": "markdown",
   "id": "7041e4f8",
   "metadata": {},
   "source": [
    "Data science is kind of an interdisciplinary field, which means it is at an intersection of multiple disciplines. At the centre of it is data - the most valuable commodity of today.\n",
    "\n",
    "Data science seeks to analyze and process data in such a way that new knowledge can be extracted from it. This knowledge serves to improve businesses and advance science by helping the decision making process (what should we do?), making predictions (what will hapen next?) and discover patterns (find hidden information in the data)."
   ]
  },
  {
   "cell_type": "code",
   "execution_count": 2,
   "id": "65800fa4",
   "metadata": {},
   "outputs": [
    {
     "data": {
      "text/html": [
       "<img src=\"../img/DS.png\" width=\"400\" height=\"1200\"/>"
      ],
      "text/plain": [
       "<IPython.core.display.Image object>"
      ]
     },
     "execution_count": 2,
     "metadata": {},
     "output_type": "execute_result"
    }
   ],
   "source": [
    "Image(url= \"../img/DS.png\", width=400, height=1200)"
   ]
  },
  {
   "cell_type": "markdown",
   "id": "30289d11",
   "metadata": {},
   "source": [
    "source: https://jakevdp.github.io/PythonDataScienceHandbook/00.00-preface.html"
   ]
  },
  {
   "cell_type": "markdown",
   "id": "becd30f2",
   "metadata": {},
   "source": [
    "This diagram basically explains where data science lies in the intersection of different disciplines. It comprises the skills of statistics (knowing how to summarize datasets), computer science (knowing how to model algorithms) an domain expertise (neccessary to formulate the research questions and put the answers into context)."
   ]
  },
  {
   "cell_type": "markdown",
   "id": "8eb360e1",
   "metadata": {},
   "source": [
    "### Where is Data Science needed?"
   ]
  },
  {
   "cell_type": "markdown",
   "id": "2adfd920",
   "metadata": {},
   "source": [
    "It's used in many disciplines, such as science, banking, consulting, health care, e-commerce, politics, and manufacturing.\n",
    "\n",
    "\n",
    "Some areas where data science is used:\n",
    "* marketing (sales analysis)\n",
    "* election predictions\n",
    "* to predict the best time for deliveries\n",
    "* to forsee delays in traffic\n",
    "* etc"
   ]
  },
  {
   "cell_type": "markdown",
   "id": "ebcadc8f",
   "metadata": {},
   "source": [
    "In the end, for our purposes, data science can help us better understand our data and provide some basic statistics as well as find out the relations inside the data."
   ]
  },
  {
   "cell_type": "markdown",
   "id": "88b0739b",
   "metadata": {},
   "source": [
    "Some of DS taks that are also useful for us:\n",
    "* asking the right questions\n",
    "* exploring and collecting data\n",
    "* extracting data\n",
    "* cleaning the data\n",
    "* finding and replacing missing values\n",
    "* normalizing data\n",
    "* analyzing data, finding patterns and making predictions\n",
    "* representing the results (visualisations)"
   ]
  },
  {
   "cell_type": "markdown",
   "id": "3c98def8",
   "metadata": {},
   "source": [
    "### Data "
   ]
  },
  {
   "cell_type": "markdown",
   "id": "83662d92",
   "metadata": {},
   "source": [
    "Types of data:\n",
    "* unstructured (Tweets, novels, reviews)\n",
    "* structured (databases, tables)\n",
    "\n",
    "One purpose of Data Science is to structure data, making it interpretable and easy to work with.\n",
    "\n"
   ]
  },
  {
   "cell_type": "markdown",
   "id": "9b8e137c",
   "metadata": {},
   "source": [
    "### Data analysis in Python"
   ]
  },
  {
   "cell_type": "markdown",
   "id": "8196cf70",
   "metadata": {},
   "source": [
    "Python is the \"main language\" of data science, as it has many inbuilt functions as well as libraries developed for the purposes of data science. \n",
    "\n",
    "Some of these libraries:\n",
    "* [pandas](https://pandas.pydata.org/) - for structured data operations\n",
    "* [numpy](https://numpy.org/) - a mathematical library (linear algebra, Fourier transform)\n",
    "* [matplotlib](https://matplotlib.org/) - visualizations\n",
    "* [SciPy](https://scipy.org/) - linear algebra models"
   ]
  },
  {
   "cell_type": "markdown",
   "id": "ab269d27",
   "metadata": {},
   "source": [
    "### Data analysis and manipulation with Pandas"
   ]
  },
  {
   "cell_type": "markdown",
   "id": "bac2eb5d",
   "metadata": {},
   "source": [
    "What can we find out with pandas?"
   ]
  },
  {
   "cell_type": "markdown",
   "id": "85e1d60b",
   "metadata": {},
   "source": [
    "* what is the correlation between two or more columns?\n",
    "* what is the average value?\n",
    "* what are the min and max values?"
   ]
  },
  {
   "cell_type": "markdown",
   "id": "f61f33b4",
   "metadata": {},
   "source": [
    "To install pandas - https://pandas.pydata.org/docs/getting_started/install.html"
   ]
  },
  {
   "cell_type": "code",
   "execution_count": 3,
   "id": "26e0d8c5",
   "metadata": {},
   "outputs": [],
   "source": [
    "import pandas"
   ]
  },
  {
   "cell_type": "markdown",
   "id": "b8e67c77",
   "metadata": {},
   "source": [
    "Let's check our pandas version:"
   ]
  },
  {
   "cell_type": "code",
   "execution_count": 4,
   "id": "a9b37ed6",
   "metadata": {},
   "outputs": [
    {
     "data": {
      "text/plain": [
       "'1.4.4'"
      ]
     },
     "execution_count": 4,
     "metadata": {},
     "output_type": "execute_result"
    }
   ],
   "source": [
    "pandas.__version__"
   ]
  },
  {
   "cell_type": "markdown",
   "id": "ae3f85f3",
   "metadata": {},
   "source": [
    "Usually, for pandas we use the abbreviation 'pd' so, we actually do our import such as:"
   ]
  },
  {
   "cell_type": "code",
   "execution_count": 5,
   "id": "b738dfc4",
   "metadata": {},
   "outputs": [],
   "source": [
    "import pandas as pd"
   ]
  },
  {
   "cell_type": "markdown",
   "id": "81b987fa",
   "metadata": {},
   "source": [
    "Of course, for data science, data types are extremely important. We are already very familiar with the standard Python datatypes, such as strings, ints, lists, dictionaries, etc. In pandas, two important datatypes (or objects) are called Series and Dataframe."
   ]
  },
  {
   "cell_type": "markdown",
   "id": "f58f8554",
   "metadata": {},
   "source": [
    "### Pandas Series"
   ]
  },
  {
   "cell_type": "markdown",
   "id": "04d1cb78",
   "metadata": {},
   "source": [
    "Pandas series is kind of like a column in a table. It's actually a one-dimensional array that holds any type of data. We can create it out of a list, e.g.:"
   ]
  },
  {
   "cell_type": "code",
   "execution_count": 6,
   "id": "e158e772",
   "metadata": {},
   "outputs": [
    {
     "data": {
      "text/plain": [
       "0    1\n",
       "1    2\n",
       "2    3\n",
       "dtype: int64"
      ]
     },
     "execution_count": 6,
     "metadata": {},
     "output_type": "execute_result"
    }
   ],
   "source": [
    "a = [1, 2, 3]\n",
    "my_series = pd.Series(a)\n",
    "my_series"
   ]
  },
  {
   "cell_type": "markdown",
   "id": "e07271bd",
   "metadata": {},
   "source": [
    "If nothing else is specified, the values are labeled with their index number. First value has index 0, second value has index 1 etc.\n",
    "\n",
    "This label can be used to access a specified value.\n",
    "\n"
   ]
  },
  {
   "cell_type": "code",
   "execution_count": 7,
   "id": "fbe447aa",
   "metadata": {},
   "outputs": [
    {
     "data": {
      "text/plain": [
       "1"
      ]
     },
     "execution_count": 7,
     "metadata": {},
     "output_type": "execute_result"
    }
   ],
   "source": [
    "my_series[0]"
   ]
  },
  {
   "cell_type": "markdown",
   "id": "b8858052",
   "metadata": {},
   "source": [
    "With the index argument, you can name your own labels.\n",
    "\n"
   ]
  },
  {
   "cell_type": "code",
   "execution_count": 8,
   "id": "96571cbf",
   "metadata": {},
   "outputs": [
    {
     "data": {
      "text/plain": [
       "x    1\n",
       "y    2\n",
       "z    3\n",
       "dtype: int64"
      ]
     },
     "execution_count": 8,
     "metadata": {},
     "output_type": "execute_result"
    }
   ],
   "source": [
    "my_series = pd.Series(a, index = [\"x\", \"y\", \"z\"])\n",
    "\n",
    "my_series"
   ]
  },
  {
   "cell_type": "markdown",
   "id": "32c93aac",
   "metadata": {},
   "source": [
    "When you have created labels, you can access an item by referring to the label.\n",
    "\n"
   ]
  },
  {
   "cell_type": "code",
   "execution_count": 9,
   "id": "a916b730",
   "metadata": {},
   "outputs": [
    {
     "name": "stdout",
     "output_type": "stream",
     "text": [
      "1\n"
     ]
    }
   ],
   "source": [
    "print(my_series['x'])"
   ]
  },
  {
   "cell_type": "markdown",
   "id": "062e6896",
   "metadata": {},
   "source": [
    "We can think about series as a type of a specialized dictionary. As we know, dictionaries have keys and values and Series also maps typed keys to sets of typed values.\n"
   ]
  },
  {
   "cell_type": "code",
   "execution_count": 10,
   "id": "44d7ebc4",
   "metadata": {},
   "outputs": [],
   "source": [
    "population_dict = {'California': 38332521,\n",
    "                   'Texas': 26448193,\n",
    "                   'New York': 19651127,\n",
    "                   'Florida': 19552860,\n",
    "                   'Illinois': 12882135}\n",
    "\n"
   ]
  },
  {
   "cell_type": "markdown",
   "id": "f5ac54ee",
   "metadata": {},
   "source": [
    "<div class=\"alert alert-block alert-info\">\n",
    "<b>Exercise 1</b>\n",
    "    \n",
    "<p>\n",
    "    <li>Make a Series object out of Population_dict </li>\n",
    "    <li>find out the population of California </li>\n",
    " \n",
    "</p>\n",
    "</div>"
   ]
  },
  {
   "cell_type": "code",
   "execution_count": 11,
   "id": "8d2894fa",
   "metadata": {},
   "outputs": [
    {
     "data": {
      "text/plain": [
       "California    38332521\n",
       "Texas         26448193\n",
       "New York      19651127\n",
       "Florida       19552860\n",
       "Illinois      12882135\n",
       "dtype: int64"
      ]
     },
     "execution_count": 11,
     "metadata": {},
     "output_type": "execute_result"
    }
   ],
   "source": [
    "population = pd.Series(population_dict)\n",
    "population"
   ]
  },
  {
   "cell_type": "code",
   "execution_count": 12,
   "id": "eb2630cb",
   "metadata": {},
   "outputs": [
    {
     "data": {
      "text/plain": [
       "38332521"
      ]
     },
     "execution_count": 12,
     "metadata": {},
     "output_type": "execute_result"
    }
   ],
   "source": [
    "population['California']"
   ]
  },
  {
   "cell_type": "markdown",
   "id": "108ae951",
   "metadata": {},
   "source": [
    "We can also slice the data:"
   ]
  },
  {
   "cell_type": "code",
   "execution_count": 13,
   "id": "f967a7ab",
   "metadata": {},
   "outputs": [
    {
     "data": {
      "text/plain": [
       "Texas       26448193\n",
       "New York    19651127\n",
       "Florida     19552860\n",
       "Illinois    12882135\n",
       "dtype: int64"
      ]
     },
     "execution_count": 13,
     "metadata": {},
     "output_type": "execute_result"
    }
   ],
   "source": [
    "population['Texas':'Illinois']"
   ]
  },
  {
   "cell_type": "markdown",
   "id": "1b6c3072",
   "metadata": {},
   "source": [
    "### Pandas Dataframes"
   ]
  },
  {
   "cell_type": "markdown",
   "id": "75cde88d",
   "metadata": {},
   "source": [
    "Dataframes are structured representations of data, and unlike Series, often have more than one column."
   ]
  },
  {
   "cell_type": "markdown",
   "id": "ea912b53",
   "metadata": {},
   "source": [
    " Let's start by making a dataframe with some numbers:"
   ]
  },
  {
   "cell_type": "code",
   "execution_count": 14,
   "id": "ee6692a3",
   "metadata": {},
   "outputs": [],
   "source": [
    "d = {'col1': [1, 2, 3, 4, 7], 'col2': [4, 5, 6, 9, 5], 'col3': [7, 8, 12, 1, 11]}"
   ]
  },
  {
   "cell_type": "code",
   "execution_count": 15,
   "id": "64b8174b",
   "metadata": {},
   "outputs": [
    {
     "data": {
      "text/html": [
       "<div>\n",
       "<style scoped>\n",
       "    .dataframe tbody tr th:only-of-type {\n",
       "        vertical-align: middle;\n",
       "    }\n",
       "\n",
       "    .dataframe tbody tr th {\n",
       "        vertical-align: top;\n",
       "    }\n",
       "\n",
       "    .dataframe thead th {\n",
       "        text-align: right;\n",
       "    }\n",
       "</style>\n",
       "<table border=\"1\" class=\"dataframe\">\n",
       "  <thead>\n",
       "    <tr style=\"text-align: right;\">\n",
       "      <th></th>\n",
       "      <th>col1</th>\n",
       "      <th>col2</th>\n",
       "      <th>col3</th>\n",
       "    </tr>\n",
       "  </thead>\n",
       "  <tbody>\n",
       "    <tr>\n",
       "      <th>number1</th>\n",
       "      <td>1</td>\n",
       "      <td>4</td>\n",
       "      <td>7</td>\n",
       "    </tr>\n",
       "    <tr>\n",
       "      <th>number2</th>\n",
       "      <td>2</td>\n",
       "      <td>5</td>\n",
       "      <td>8</td>\n",
       "    </tr>\n",
       "    <tr>\n",
       "      <th>number3</th>\n",
       "      <td>3</td>\n",
       "      <td>6</td>\n",
       "      <td>12</td>\n",
       "    </tr>\n",
       "    <tr>\n",
       "      <th>number4</th>\n",
       "      <td>4</td>\n",
       "      <td>9</td>\n",
       "      <td>1</td>\n",
       "    </tr>\n",
       "    <tr>\n",
       "      <th>number5</th>\n",
       "      <td>7</td>\n",
       "      <td>5</td>\n",
       "      <td>11</td>\n",
       "    </tr>\n",
       "  </tbody>\n",
       "</table>\n",
       "</div>"
      ],
      "text/plain": [
       "         col1  col2  col3\n",
       "number1     1     4     7\n",
       "number2     2     5     8\n",
       "number3     3     6    12\n",
       "number4     4     9     1\n",
       "number5     7     5    11"
      ]
     },
     "execution_count": 15,
     "metadata": {},
     "output_type": "execute_result"
    }
   ],
   "source": [
    "df = pd.DataFrame(data=d, index = ['number1', 'number2', 'number3', 'number4', 'number5'])\n",
    "df"
   ]
  },
  {
   "cell_type": "markdown",
   "id": "41b3d6ab",
   "metadata": {},
   "source": [
    "We see that \"col1\", \"col2\" and \"col3\" are the names of the columns. The names of the indexes we added through a list.\n",
    "They tell us the information about the position of the rows.\n",
    "\n",
    "Now, we can use Python to count the columns and rows and ```df.shape``` to find the number of columns:\n",
    "\n"
   ]
  },
  {
   "cell_type": "code",
   "execution_count": 16,
   "id": "95a1f461",
   "metadata": {},
   "outputs": [],
   "source": [
    "count_row = df.shape[0]"
   ]
  },
  {
   "cell_type": "code",
   "execution_count": 17,
   "id": "fa8c7971",
   "metadata": {},
   "outputs": [
    {
     "name": "stdout",
     "output_type": "stream",
     "text": [
      "5\n"
     ]
    }
   ],
   "source": [
    "print(count_row)"
   ]
  },
  {
   "cell_type": "markdown",
   "id": "ab20d305",
   "metadata": {},
   "source": [
    "To demonstrate this, let's first construct a new Series listing the area of each of the five states discussed in the previous section:\n",
    "\n"
   ]
  },
  {
   "cell_type": "code",
   "execution_count": 18,
   "id": "61e0739f",
   "metadata": {},
   "outputs": [],
   "source": [
    "area_dict = {'California': 423967, 'Texas': 695662, 'New York': 141297,\n",
    "             'Florida': 170312, 'Illinois': 149995}\n"
   ]
  },
  {
   "cell_type": "markdown",
   "id": "ef8466da",
   "metadata": {},
   "source": [
    "Now that we have this along with the population Series from before, we can use a dictionary to construct a single two-dimensional object containing this information:\n",
    "\n"
   ]
  },
  {
   "cell_type": "code",
   "execution_count": 19,
   "id": "3646e13e",
   "metadata": {},
   "outputs": [
    {
     "data": {
      "text/html": [
       "<div>\n",
       "<style scoped>\n",
       "    .dataframe tbody tr th:only-of-type {\n",
       "        vertical-align: middle;\n",
       "    }\n",
       "\n",
       "    .dataframe tbody tr th {\n",
       "        vertical-align: top;\n",
       "    }\n",
       "\n",
       "    .dataframe thead th {\n",
       "        text-align: right;\n",
       "    }\n",
       "</style>\n",
       "<table border=\"1\" class=\"dataframe\">\n",
       "  <thead>\n",
       "    <tr style=\"text-align: right;\">\n",
       "      <th></th>\n",
       "      <th>population</th>\n",
       "      <th>area</th>\n",
       "    </tr>\n",
       "  </thead>\n",
       "  <tbody>\n",
       "    <tr>\n",
       "      <th>California</th>\n",
       "      <td>38332521</td>\n",
       "      <td>423967</td>\n",
       "    </tr>\n",
       "    <tr>\n",
       "      <th>Texas</th>\n",
       "      <td>26448193</td>\n",
       "      <td>695662</td>\n",
       "    </tr>\n",
       "    <tr>\n",
       "      <th>New York</th>\n",
       "      <td>19651127</td>\n",
       "      <td>141297</td>\n",
       "    </tr>\n",
       "    <tr>\n",
       "      <th>Florida</th>\n",
       "      <td>19552860</td>\n",
       "      <td>170312</td>\n",
       "    </tr>\n",
       "    <tr>\n",
       "      <th>Illinois</th>\n",
       "      <td>12882135</td>\n",
       "      <td>149995</td>\n",
       "    </tr>\n",
       "  </tbody>\n",
       "</table>\n",
       "</div>"
      ],
      "text/plain": [
       "            population    area\n",
       "California    38332521  423967\n",
       "Texas         26448193  695662\n",
       "New York      19651127  141297\n",
       "Florida       19552860  170312\n",
       "Illinois      12882135  149995"
      ]
     },
     "execution_count": 19,
     "metadata": {},
     "output_type": "execute_result"
    }
   ],
   "source": [
    "states = pd.DataFrame({'population': population,\n",
    "                       'area': area_dict})\n",
    "states"
   ]
  },
  {
   "cell_type": "markdown",
   "id": "cceb68e9",
   "metadata": {},
   "source": [
    "### Indexing "
   ]
  },
  {
   "cell_type": "markdown",
   "id": "c3e6cfbe",
   "metadata": {},
   "source": [
    "The individual Series that make up the columns of the DataFrame can be accessed via dictionary-style indexing of the column name:\n",
    "\n"
   ]
  },
  {
   "cell_type": "code",
   "execution_count": 20,
   "id": "58569821",
   "metadata": {},
   "outputs": [
    {
     "data": {
      "text/plain": [
       "California    423967\n",
       "Texas         695662\n",
       "New York      141297\n",
       "Florida       170312\n",
       "Illinois      149995\n",
       "Name: area, dtype: int64"
      ]
     },
     "execution_count": 20,
     "metadata": {},
     "output_type": "execute_result"
    }
   ],
   "source": [
    "states['area']\n"
   ]
  },
  {
   "cell_type": "code",
   "execution_count": 21,
   "id": "ae33bd63",
   "metadata": {},
   "outputs": [
    {
     "data": {
      "text/plain": [
       "California    423967\n",
       "Texas         695662\n",
       "New York      141297\n",
       "Florida       170312\n",
       "Illinois      149995\n",
       "Name: area, dtype: int64"
      ]
     },
     "execution_count": 21,
     "metadata": {},
     "output_type": "execute_result"
    }
   ],
   "source": [
    "states.area"
   ]
  },
  {
   "cell_type": "markdown",
   "id": "be4230ea",
   "metadata": {},
   "source": [
    "Like with the Series objects discussed earlier, this dictionary-style syntax can also be used to modify the object, in this case adding a new column:\n",
    "\n"
   ]
  },
  {
   "cell_type": "code",
   "execution_count": 22,
   "id": "048cd56e",
   "metadata": {},
   "outputs": [
    {
     "data": {
      "text/html": [
       "<div>\n",
       "<style scoped>\n",
       "    .dataframe tbody tr th:only-of-type {\n",
       "        vertical-align: middle;\n",
       "    }\n",
       "\n",
       "    .dataframe tbody tr th {\n",
       "        vertical-align: top;\n",
       "    }\n",
       "\n",
       "    .dataframe thead th {\n",
       "        text-align: right;\n",
       "    }\n",
       "</style>\n",
       "<table border=\"1\" class=\"dataframe\">\n",
       "  <thead>\n",
       "    <tr style=\"text-align: right;\">\n",
       "      <th></th>\n",
       "      <th>population</th>\n",
       "      <th>area</th>\n",
       "      <th>density</th>\n",
       "    </tr>\n",
       "  </thead>\n",
       "  <tbody>\n",
       "    <tr>\n",
       "      <th>California</th>\n",
       "      <td>38332521</td>\n",
       "      <td>423967</td>\n",
       "      <td>90.413926</td>\n",
       "    </tr>\n",
       "    <tr>\n",
       "      <th>Texas</th>\n",
       "      <td>26448193</td>\n",
       "      <td>695662</td>\n",
       "      <td>38.018740</td>\n",
       "    </tr>\n",
       "    <tr>\n",
       "      <th>New York</th>\n",
       "      <td>19651127</td>\n",
       "      <td>141297</td>\n",
       "      <td>139.076746</td>\n",
       "    </tr>\n",
       "    <tr>\n",
       "      <th>Florida</th>\n",
       "      <td>19552860</td>\n",
       "      <td>170312</td>\n",
       "      <td>114.806121</td>\n",
       "    </tr>\n",
       "    <tr>\n",
       "      <th>Illinois</th>\n",
       "      <td>12882135</td>\n",
       "      <td>149995</td>\n",
       "      <td>85.883763</td>\n",
       "    </tr>\n",
       "  </tbody>\n",
       "</table>\n",
       "</div>"
      ],
      "text/plain": [
       "            population    area     density\n",
       "California    38332521  423967   90.413926\n",
       "Texas         26448193  695662   38.018740\n",
       "New York      19651127  141297  139.076746\n",
       "Florida       19552860  170312  114.806121\n",
       "Illinois      12882135  149995   85.883763"
      ]
     },
     "execution_count": 22,
     "metadata": {},
     "output_type": "execute_result"
    }
   ],
   "source": [
    "states['density'] = states['population'] / states['area']\n",
    "states"
   ]
  },
  {
   "cell_type": "markdown",
   "id": "38fe5046",
   "metadata": {},
   "source": [
    "With the index argument, you can name your own indexes.\n",
    "\n"
   ]
  },
  {
   "cell_type": "markdown",
   "id": "1beaf513",
   "metadata": {},
   "source": [
    "As mentioned previously, we can also view the DataFrame as an enhanced two-dimensional array. We can examine the raw underlying data array using the values attribute:\n",
    "\n"
   ]
  },
  {
   "cell_type": "code",
   "execution_count": 23,
   "id": "45e66304",
   "metadata": {},
   "outputs": [
    {
     "data": {
      "text/plain": [
       "array([[3.83325210e+07, 4.23967000e+05, 9.04139261e+01],\n",
       "       [2.64481930e+07, 6.95662000e+05, 3.80187404e+01],\n",
       "       [1.96511270e+07, 1.41297000e+05, 1.39076746e+02],\n",
       "       [1.95528600e+07, 1.70312000e+05, 1.14806121e+02],\n",
       "       [1.28821350e+07, 1.49995000e+05, 8.58837628e+01]])"
      ]
     },
     "execution_count": 23,
     "metadata": {},
     "output_type": "execute_result"
    }
   ],
   "source": [
    "states.values\n"
   ]
  },
  {
   "cell_type": "markdown",
   "id": "3e92427c",
   "metadata": {},
   "source": [
    "With this picture in mind, many familiar array-like observations can be done on the DataFrame itself. For example, we can transpose the full DataFrame to swap rows and columns:\n",
    "\n"
   ]
  },
  {
   "cell_type": "code",
   "execution_count": 24,
   "id": "6c87913b",
   "metadata": {},
   "outputs": [
    {
     "data": {
      "text/html": [
       "<div>\n",
       "<style scoped>\n",
       "    .dataframe tbody tr th:only-of-type {\n",
       "        vertical-align: middle;\n",
       "    }\n",
       "\n",
       "    .dataframe tbody tr th {\n",
       "        vertical-align: top;\n",
       "    }\n",
       "\n",
       "    .dataframe thead th {\n",
       "        text-align: right;\n",
       "    }\n",
       "</style>\n",
       "<table border=\"1\" class=\"dataframe\">\n",
       "  <thead>\n",
       "    <tr style=\"text-align: right;\">\n",
       "      <th></th>\n",
       "      <th>California</th>\n",
       "      <th>Texas</th>\n",
       "      <th>New York</th>\n",
       "      <th>Florida</th>\n",
       "      <th>Illinois</th>\n",
       "    </tr>\n",
       "  </thead>\n",
       "  <tbody>\n",
       "    <tr>\n",
       "      <th>population</th>\n",
       "      <td>3.833252e+07</td>\n",
       "      <td>2.644819e+07</td>\n",
       "      <td>1.965113e+07</td>\n",
       "      <td>1.955286e+07</td>\n",
       "      <td>1.288214e+07</td>\n",
       "    </tr>\n",
       "    <tr>\n",
       "      <th>area</th>\n",
       "      <td>4.239670e+05</td>\n",
       "      <td>6.956620e+05</td>\n",
       "      <td>1.412970e+05</td>\n",
       "      <td>1.703120e+05</td>\n",
       "      <td>1.499950e+05</td>\n",
       "    </tr>\n",
       "    <tr>\n",
       "      <th>density</th>\n",
       "      <td>9.041393e+01</td>\n",
       "      <td>3.801874e+01</td>\n",
       "      <td>1.390767e+02</td>\n",
       "      <td>1.148061e+02</td>\n",
       "      <td>8.588376e+01</td>\n",
       "    </tr>\n",
       "  </tbody>\n",
       "</table>\n",
       "</div>"
      ],
      "text/plain": [
       "              California         Texas      New York       Florida  \\\n",
       "population  3.833252e+07  2.644819e+07  1.965113e+07  1.955286e+07   \n",
       "area        4.239670e+05  6.956620e+05  1.412970e+05  1.703120e+05   \n",
       "density     9.041393e+01  3.801874e+01  1.390767e+02  1.148061e+02   \n",
       "\n",
       "                Illinois  \n",
       "population  1.288214e+07  \n",
       "area        1.499950e+05  \n",
       "density     8.588376e+01  "
      ]
     },
     "execution_count": 24,
     "metadata": {},
     "output_type": "execute_result"
    }
   ],
   "source": [
    "states.T"
   ]
  },
  {
   "cell_type": "markdown",
   "id": "f5a07d5d",
   "metadata": {},
   "source": [
    "Thus for array-style indexing, we need another convention. Here Pandas again uses the loc and iloc indexers mentioned earlier. Using the iloc indexer, we can index the underlying array, but the DataFrame index and column labels are maintained in the result.\n",
    "Different from the loc method, iloc is integer position based. It only works with the inherent row position number ranged 0-n.\n",
    "\n"
   ]
  },
  {
   "cell_type": "code",
   "execution_count": 25,
   "id": "762f1edc",
   "metadata": {},
   "outputs": [
    {
     "data": {
      "text/html": [
       "<div>\n",
       "<style scoped>\n",
       "    .dataframe tbody tr th:only-of-type {\n",
       "        vertical-align: middle;\n",
       "    }\n",
       "\n",
       "    .dataframe tbody tr th {\n",
       "        vertical-align: top;\n",
       "    }\n",
       "\n",
       "    .dataframe thead th {\n",
       "        text-align: right;\n",
       "    }\n",
       "</style>\n",
       "<table border=\"1\" class=\"dataframe\">\n",
       "  <thead>\n",
       "    <tr style=\"text-align: right;\">\n",
       "      <th></th>\n",
       "      <th>population</th>\n",
       "      <th>area</th>\n",
       "    </tr>\n",
       "  </thead>\n",
       "  <tbody>\n",
       "    <tr>\n",
       "      <th>California</th>\n",
       "      <td>38332521</td>\n",
       "      <td>423967</td>\n",
       "    </tr>\n",
       "    <tr>\n",
       "      <th>Texas</th>\n",
       "      <td>26448193</td>\n",
       "      <td>695662</td>\n",
       "    </tr>\n",
       "    <tr>\n",
       "      <th>New York</th>\n",
       "      <td>19651127</td>\n",
       "      <td>141297</td>\n",
       "    </tr>\n",
       "  </tbody>\n",
       "</table>\n",
       "</div>"
      ],
      "text/plain": [
       "            population    area\n",
       "California    38332521  423967\n",
       "Texas         26448193  695662\n",
       "New York      19651127  141297"
      ]
     },
     "execution_count": 25,
     "metadata": {},
     "output_type": "execute_result"
    }
   ],
   "source": [
    "states.iloc[:3, :2]\n"
   ]
  },
  {
   "cell_type": "code",
   "execution_count": 26,
   "id": "d813eabd",
   "metadata": {},
   "outputs": [
    {
     "data": {
      "text/html": [
       "<div>\n",
       "<style scoped>\n",
       "    .dataframe tbody tr th:only-of-type {\n",
       "        vertical-align: middle;\n",
       "    }\n",
       "\n",
       "    .dataframe tbody tr th {\n",
       "        vertical-align: top;\n",
       "    }\n",
       "\n",
       "    .dataframe thead th {\n",
       "        text-align: right;\n",
       "    }\n",
       "</style>\n",
       "<table border=\"1\" class=\"dataframe\">\n",
       "  <thead>\n",
       "    <tr style=\"text-align: right;\">\n",
       "      <th></th>\n",
       "      <th>population</th>\n",
       "    </tr>\n",
       "  </thead>\n",
       "  <tbody>\n",
       "    <tr>\n",
       "      <th>California</th>\n",
       "      <td>38332521</td>\n",
       "    </tr>\n",
       "    <tr>\n",
       "      <th>Texas</th>\n",
       "      <td>26448193</td>\n",
       "    </tr>\n",
       "    <tr>\n",
       "      <th>New York</th>\n",
       "      <td>19651127</td>\n",
       "    </tr>\n",
       "    <tr>\n",
       "      <th>Florida</th>\n",
       "      <td>19552860</td>\n",
       "    </tr>\n",
       "  </tbody>\n",
       "</table>\n",
       "</div>"
      ],
      "text/plain": [
       "            population\n",
       "California    38332521\n",
       "Texas         26448193\n",
       "New York      19651127\n",
       "Florida       19552860"
      ]
     },
     "execution_count": 26,
     "metadata": {},
     "output_type": "execute_result"
    }
   ],
   "source": [
    "states.loc[:'Florida', :'population']\n"
   ]
  },
  {
   "cell_type": "markdown",
   "id": "a37802a2",
   "metadata": {},
   "source": [
    "Similarly, using the loc indexer we can index the underlying data in an array-like style but using the explicit index and column names:\n",
    "\n"
   ]
  },
  {
   "cell_type": "code",
   "execution_count": 27,
   "id": "8d5b9e8f",
   "metadata": {},
   "outputs": [
    {
     "name": "stdout",
     "output_type": "stream",
     "text": [
      "population    3.833252e+07\n",
      "area          4.239670e+05\n",
      "density       9.041393e+01\n",
      "Name: California, dtype: float64\n"
     ]
    }
   ],
   "source": [
    "print(states.loc['California'])\n"
   ]
  },
  {
   "cell_type": "markdown",
   "id": "84c1bc43",
   "metadata": {},
   "source": [
    "Direct masking operations are also interpreted row-wise rather than column-wise:\n",
    "\n"
   ]
  },
  {
   "cell_type": "code",
   "execution_count": 28,
   "id": "62f2b654",
   "metadata": {},
   "outputs": [
    {
     "data": {
      "text/html": [
       "<div>\n",
       "<style scoped>\n",
       "    .dataframe tbody tr th:only-of-type {\n",
       "        vertical-align: middle;\n",
       "    }\n",
       "\n",
       "    .dataframe tbody tr th {\n",
       "        vertical-align: top;\n",
       "    }\n",
       "\n",
       "    .dataframe thead th {\n",
       "        text-align: right;\n",
       "    }\n",
       "</style>\n",
       "<table border=\"1\" class=\"dataframe\">\n",
       "  <thead>\n",
       "    <tr style=\"text-align: right;\">\n",
       "      <th></th>\n",
       "      <th>population</th>\n",
       "      <th>area</th>\n",
       "      <th>density</th>\n",
       "    </tr>\n",
       "  </thead>\n",
       "  <tbody>\n",
       "    <tr>\n",
       "      <th>New York</th>\n",
       "      <td>19651127</td>\n",
       "      <td>141297</td>\n",
       "      <td>139.076746</td>\n",
       "    </tr>\n",
       "    <tr>\n",
       "      <th>Florida</th>\n",
       "      <td>19552860</td>\n",
       "      <td>170312</td>\n",
       "      <td>114.806121</td>\n",
       "    </tr>\n",
       "  </tbody>\n",
       "</table>\n",
       "</div>"
      ],
      "text/plain": [
       "          population    area     density\n",
       "New York    19651127  141297  139.076746\n",
       "Florida     19552860  170312  114.806121"
      ]
     },
     "execution_count": 28,
     "metadata": {},
     "output_type": "execute_result"
    }
   ],
   "source": [
    "states[states.density > 100]\n"
   ]
  },
  {
   "cell_type": "markdown",
   "id": "cb43705e",
   "metadata": {},
   "source": [
    "<div class=\"alert alert-block alert-info\">\n",
    "<b>Exercise 2</b>\n",
    "    \n",
    "<p>\n",
    "    <li>Make a new dataframe out of exercise_data  </li>\n",
    "    <li>Give the rows indexes as follows: 'day1', 'day2', 'day3' </li>\n",
    "    <li>Return 'day3' using loc </li>\n",
    "</p>\n",
    "</div>"
   ]
  },
  {
   "cell_type": "code",
   "execution_count": 29,
   "id": "81f158db",
   "metadata": {},
   "outputs": [],
   "source": [
    "exercise_data = {\n",
    "  \"calories\": [420, 380, 390],\n",
    "  \"duration\": [50, 40, 45]\n",
    "}\n"
   ]
  },
  {
   "cell_type": "code",
   "execution_count": 30,
   "id": "d4510d95",
   "metadata": {},
   "outputs": [
    {
     "data": {
      "text/html": [
       "<div>\n",
       "<style scoped>\n",
       "    .dataframe tbody tr th:only-of-type {\n",
       "        vertical-align: middle;\n",
       "    }\n",
       "\n",
       "    .dataframe tbody tr th {\n",
       "        vertical-align: top;\n",
       "    }\n",
       "\n",
       "    .dataframe thead th {\n",
       "        text-align: right;\n",
       "    }\n",
       "</style>\n",
       "<table border=\"1\" class=\"dataframe\">\n",
       "  <thead>\n",
       "    <tr style=\"text-align: right;\">\n",
       "      <th></th>\n",
       "      <th>calories</th>\n",
       "      <th>duration</th>\n",
       "    </tr>\n",
       "  </thead>\n",
       "  <tbody>\n",
       "    <tr>\n",
       "      <th>day1</th>\n",
       "      <td>420</td>\n",
       "      <td>50</td>\n",
       "    </tr>\n",
       "    <tr>\n",
       "      <th>day2</th>\n",
       "      <td>380</td>\n",
       "      <td>40</td>\n",
       "    </tr>\n",
       "    <tr>\n",
       "      <th>day3</th>\n",
       "      <td>390</td>\n",
       "      <td>45</td>\n",
       "    </tr>\n",
       "  </tbody>\n",
       "</table>\n",
       "</div>"
      ],
      "text/plain": [
       "      calories  duration\n",
       "day1       420        50\n",
       "day2       380        40\n",
       "day3       390        45"
      ]
     },
     "execution_count": 30,
     "metadata": {},
     "output_type": "execute_result"
    }
   ],
   "source": [
    "new=pd.DataFrame(data=exercise_data,index=['day1', 'day2', 'day3'] )\n",
    "new"
   ]
  },
  {
   "cell_type": "code",
   "execution_count": 31,
   "id": "4a1eafc6",
   "metadata": {},
   "outputs": [
    {
     "name": "stdout",
     "output_type": "stream",
     "text": [
      "calories    390\n",
      "duration     45\n",
      "Name: day3, dtype: int64\n"
     ]
    }
   ],
   "source": [
    "print(new.loc['day3'])"
   ]
  },
  {
   "cell_type": "markdown",
   "id": "1e7f1afc",
   "metadata": {},
   "source": [
    "### Creating a dataframe from csv"
   ]
  },
  {
   "cell_type": "markdown",
   "id": "0becb0c6",
   "metadata": {},
   "source": [
    "This is a functionality that we use a lot, for readin in our own datasets."
   ]
  },
  {
   "cell_type": "code",
   "execution_count": 32,
   "id": "bbe2e47d",
   "metadata": {},
   "outputs": [
    {
     "data": {
      "text/html": [
       "<div>\n",
       "<style scoped>\n",
       "    .dataframe tbody tr th:only-of-type {\n",
       "        vertical-align: middle;\n",
       "    }\n",
       "\n",
       "    .dataframe tbody tr th {\n",
       "        vertical-align: top;\n",
       "    }\n",
       "\n",
       "    .dataframe thead th {\n",
       "        text-align: right;\n",
       "    }\n",
       "</style>\n",
       "<table border=\"1\" class=\"dataframe\">\n",
       "  <thead>\n",
       "    <tr style=\"text-align: right;\">\n",
       "      <th></th>\n",
       "      <th>Title</th>\n",
       "      <th>Year</th>\n",
       "      <th>Rating</th>\n",
       "      <th>Votes:</th>\n",
       "      <th>Time</th>\n",
       "      <th>Genre</th>\n",
       "      <th>Stars</th>\n",
       "      <th>Short Story</th>\n",
       "    </tr>\n",
       "  </thead>\n",
       "  <tbody>\n",
       "    <tr>\n",
       "      <th>0</th>\n",
       "      <td>Hellbound</td>\n",
       "      <td>(2021– )</td>\n",
       "      <td>6.7</td>\n",
       "      <td>14,032</td>\n",
       "      <td>150 min</td>\n",
       "      <td>Crime, Drama, Fantasy</td>\n",
       "      <td>Yoo Ah-in, Kim Hyun-joo, Jeong Min Park, Jin-a...</td>\n",
       "      <td>\\nPeople hear predictions on when they will di...</td>\n",
       "    </tr>\n",
       "    <tr>\n",
       "      <th>1</th>\n",
       "      <td>Squid Game</td>\n",
       "      <td>(2021– )</td>\n",
       "      <td>8.1</td>\n",
       "      <td>339,931</td>\n",
       "      <td>55 min</td>\n",
       "      <td>Action, Drama, Mystery</td>\n",
       "      <td>Lee Jung-jae, Park Hae-soo, Wi Ha-Joon, Jung H...</td>\n",
       "      <td>\\nHundreds of cash-strapped players accept a s...</td>\n",
       "    </tr>\n",
       "    <tr>\n",
       "      <th>2</th>\n",
       "      <td>My Name</td>\n",
       "      <td>(2021– )</td>\n",
       "      <td>7.9</td>\n",
       "      <td>12,877</td>\n",
       "      <td>50 min</td>\n",
       "      <td>Action, Crime, Drama</td>\n",
       "      <td>Hee-soon Park, Ahn Bo-Hyun, Han So-hee, Kim Sa...</td>\n",
       "      <td>\\nThe story about a woman who joins an organiz...</td>\n",
       "    </tr>\n",
       "    <tr>\n",
       "      <th>3</th>\n",
       "      <td>Miraculous: Tales of Ladybug &amp; Cat Noir</td>\n",
       "      <td>(2015– )</td>\n",
       "      <td>7.7</td>\n",
       "      <td>9,439</td>\n",
       "      <td>20 min</td>\n",
       "      <td>Animation, Action, Adventure</td>\n",
       "      <td>Cristina Valenzuela, Bryce Papenbrook, Keith S...</td>\n",
       "      <td>\\nMarinette and Adrien, two normal teens, tran...</td>\n",
       "    </tr>\n",
       "    <tr>\n",
       "      <th>4</th>\n",
       "      <td>Happiness</td>\n",
       "      <td>(2021– )</td>\n",
       "      <td>8.6</td>\n",
       "      <td>921</td>\n",
       "      <td>-</td>\n",
       "      <td>Action, Fantasy, Thriller</td>\n",
       "      <td>Han Hyo-joo, Park Hyung-Sik, Woo-jin Jo, Lee J...</td>\n",
       "      <td>\\nAn apocalyptic thriller that takes place in ...</td>\n",
       "    </tr>\n",
       "    <tr>\n",
       "      <th>...</th>\n",
       "      <td>...</td>\n",
       "      <td>...</td>\n",
       "      <td>...</td>\n",
       "      <td>...</td>\n",
       "      <td>...</td>\n",
       "      <td>...</td>\n",
       "      <td>...</td>\n",
       "      <td>...</td>\n",
       "    </tr>\n",
       "    <tr>\n",
       "      <th>1984</th>\n",
       "      <td>Untitled K-Pop Latin American Project</td>\n",
       "      <td>NaN</td>\n",
       "      <td>-</td>\n",
       "      <td>-</td>\n",
       "      <td>-</td>\n",
       "      <td>Reality-TV</td>\n",
       "      <td>-</td>\n",
       "      <td>\\nYoung men from Latin America audition for an...</td>\n",
       "    </tr>\n",
       "    <tr>\n",
       "      <th>1985</th>\n",
       "      <td>Bite Sisters</td>\n",
       "      <td>(2021)</td>\n",
       "      <td>7.4</td>\n",
       "      <td>5</td>\n",
       "      <td>-</td>\n",
       "      <td>Fantasy, Romance</td>\n",
       "      <td>Kang Han-na, Kim Yeong-Ah, Yu-hwa Choi, Lee Si...</td>\n",
       "      <td>\\nThis story follows Han Yi Na a vampire who s...</td>\n",
       "    </tr>\n",
       "    <tr>\n",
       "      <th>1986</th>\n",
       "      <td>Adult Trainee</td>\n",
       "      <td>(2021– )</td>\n",
       "      <td>7.1</td>\n",
       "      <td>10</td>\n",
       "      <td>-</td>\n",
       "      <td>Comedy, Romance</td>\n",
       "      <td>Mi-Yeon Cho, Ryu Eui-Hyun, Lee Chan Hyung, Yoo...</td>\n",
       "      <td>\\nAdd a Plot\\n</td>\n",
       "    </tr>\n",
       "    <tr>\n",
       "      <th>1987</th>\n",
       "      <td>A good supper</td>\n",
       "      <td>(2021)</td>\n",
       "      <td>-</td>\n",
       "      <td>-</td>\n",
       "      <td>-</td>\n",
       "      <td>Romance</td>\n",
       "      <td>-</td>\n",
       "      <td>\\nAdd a Plot\\n</td>\n",
       "    </tr>\n",
       "    <tr>\n",
       "      <th>1988</th>\n",
       "      <td>User Not Found</td>\n",
       "      <td>(2021– )</td>\n",
       "      <td>-</td>\n",
       "      <td>-</td>\n",
       "      <td>-</td>\n",
       "      <td>Drama, Romance</td>\n",
       "      <td>-</td>\n",
       "      <td>\\nAdd a Plot\\n</td>\n",
       "    </tr>\n",
       "  </tbody>\n",
       "</table>\n",
       "<p>1989 rows × 8 columns</p>\n",
       "</div>"
      ],
      "text/plain": [
       "                                        Title      Year Rating   Votes:  \\\n",
       "0                                   Hellbound  (2021– )    6.7   14,032   \n",
       "1                                  Squid Game  (2021– )    8.1  339,931   \n",
       "2                                     My Name  (2021– )    7.9   12,877   \n",
       "3     Miraculous: Tales of Ladybug & Cat Noir  (2015– )    7.7    9,439   \n",
       "4                                   Happiness  (2021– )    8.6      921   \n",
       "...                                       ...       ...    ...      ...   \n",
       "1984    Untitled K-Pop Latin American Project       NaN      -        -   \n",
       "1985                             Bite Sisters    (2021)    7.4        5   \n",
       "1986                            Adult Trainee  (2021– )    7.1       10   \n",
       "1987                            A good supper    (2021)      -        -   \n",
       "1988                           User Not Found  (2021– )      -        -   \n",
       "\n",
       "         Time                         Genre  \\\n",
       "0     150 min         Crime, Drama, Fantasy   \n",
       "1      55 min        Action, Drama, Mystery   \n",
       "2      50 min          Action, Crime, Drama   \n",
       "3      20 min  Animation, Action, Adventure   \n",
       "4           -     Action, Fantasy, Thriller   \n",
       "...       ...                           ...   \n",
       "1984        -                    Reality-TV   \n",
       "1985        -              Fantasy, Romance   \n",
       "1986        -               Comedy, Romance   \n",
       "1987        -                       Romance   \n",
       "1988        -                Drama, Romance   \n",
       "\n",
       "                                                  Stars  \\\n",
       "0     Yoo Ah-in, Kim Hyun-joo, Jeong Min Park, Jin-a...   \n",
       "1     Lee Jung-jae, Park Hae-soo, Wi Ha-Joon, Jung H...   \n",
       "2     Hee-soon Park, Ahn Bo-Hyun, Han So-hee, Kim Sa...   \n",
       "3     Cristina Valenzuela, Bryce Papenbrook, Keith S...   \n",
       "4     Han Hyo-joo, Park Hyung-Sik, Woo-jin Jo, Lee J...   \n",
       "...                                                 ...   \n",
       "1984                                                  -   \n",
       "1985  Kang Han-na, Kim Yeong-Ah, Yu-hwa Choi, Lee Si...   \n",
       "1986  Mi-Yeon Cho, Ryu Eui-Hyun, Lee Chan Hyung, Yoo...   \n",
       "1987                                                  -   \n",
       "1988                                                  -   \n",
       "\n",
       "                                            Short Story  \n",
       "0     \\nPeople hear predictions on when they will di...  \n",
       "1     \\nHundreds of cash-strapped players accept a s...  \n",
       "2     \\nThe story about a woman who joins an organiz...  \n",
       "3     \\nMarinette and Adrien, two normal teens, tran...  \n",
       "4     \\nAn apocalyptic thriller that takes place in ...  \n",
       "...                                                 ...  \n",
       "1984  \\nYoung men from Latin America audition for an...  \n",
       "1985  \\nThis story follows Han Yi Na a vampire who s...  \n",
       "1986                                     \\nAdd a Plot\\n  \n",
       "1987                                     \\nAdd a Plot\\n  \n",
       "1988                                     \\nAdd a Plot\\n  \n",
       "\n",
       "[1989 rows x 8 columns]"
      ]
     },
     "execution_count": 32,
     "metadata": {},
     "output_type": "execute_result"
    }
   ],
   "source": [
    "df = pd.read_csv('../data/koreanTV.csv')\n",
    "df"
   ]
  },
  {
   "cell_type": "code",
   "execution_count": 33,
   "id": "e47a4564",
   "metadata": {},
   "outputs": [
    {
     "data": {
      "text/plain": [
       "(1989, 8)"
      ]
     },
     "execution_count": 33,
     "metadata": {},
     "output_type": "execute_result"
    }
   ],
   "source": [
    "df.shape\n"
   ]
  },
  {
   "cell_type": "markdown",
   "id": "05faf3dd",
   "metadata": {},
   "source": [
    "We can also preview the DataFrame data using the head function. The head function display the first five rows of records in the Pandas DataFrame.\n",
    "\n"
   ]
  },
  {
   "cell_type": "code",
   "execution_count": 34,
   "id": "3bec8df7",
   "metadata": {},
   "outputs": [
    {
     "data": {
      "text/html": [
       "<div>\n",
       "<style scoped>\n",
       "    .dataframe tbody tr th:only-of-type {\n",
       "        vertical-align: middle;\n",
       "    }\n",
       "\n",
       "    .dataframe tbody tr th {\n",
       "        vertical-align: top;\n",
       "    }\n",
       "\n",
       "    .dataframe thead th {\n",
       "        text-align: right;\n",
       "    }\n",
       "</style>\n",
       "<table border=\"1\" class=\"dataframe\">\n",
       "  <thead>\n",
       "    <tr style=\"text-align: right;\">\n",
       "      <th></th>\n",
       "      <th>Title</th>\n",
       "      <th>Year</th>\n",
       "      <th>Rating</th>\n",
       "      <th>Votes:</th>\n",
       "      <th>Time</th>\n",
       "      <th>Genre</th>\n",
       "      <th>Stars</th>\n",
       "      <th>Short Story</th>\n",
       "    </tr>\n",
       "  </thead>\n",
       "  <tbody>\n",
       "    <tr>\n",
       "      <th>0</th>\n",
       "      <td>Hellbound</td>\n",
       "      <td>(2021– )</td>\n",
       "      <td>6.7</td>\n",
       "      <td>14,032</td>\n",
       "      <td>150 min</td>\n",
       "      <td>Crime, Drama, Fantasy</td>\n",
       "      <td>Yoo Ah-in, Kim Hyun-joo, Jeong Min Park, Jin-a...</td>\n",
       "      <td>\\nPeople hear predictions on when they will di...</td>\n",
       "    </tr>\n",
       "    <tr>\n",
       "      <th>1</th>\n",
       "      <td>Squid Game</td>\n",
       "      <td>(2021– )</td>\n",
       "      <td>8.1</td>\n",
       "      <td>339,931</td>\n",
       "      <td>55 min</td>\n",
       "      <td>Action, Drama, Mystery</td>\n",
       "      <td>Lee Jung-jae, Park Hae-soo, Wi Ha-Joon, Jung H...</td>\n",
       "      <td>\\nHundreds of cash-strapped players accept a s...</td>\n",
       "    </tr>\n",
       "    <tr>\n",
       "      <th>2</th>\n",
       "      <td>My Name</td>\n",
       "      <td>(2021– )</td>\n",
       "      <td>7.9</td>\n",
       "      <td>12,877</td>\n",
       "      <td>50 min</td>\n",
       "      <td>Action, Crime, Drama</td>\n",
       "      <td>Hee-soon Park, Ahn Bo-Hyun, Han So-hee, Kim Sa...</td>\n",
       "      <td>\\nThe story about a woman who joins an organiz...</td>\n",
       "    </tr>\n",
       "    <tr>\n",
       "      <th>3</th>\n",
       "      <td>Miraculous: Tales of Ladybug &amp; Cat Noir</td>\n",
       "      <td>(2015– )</td>\n",
       "      <td>7.7</td>\n",
       "      <td>9,439</td>\n",
       "      <td>20 min</td>\n",
       "      <td>Animation, Action, Adventure</td>\n",
       "      <td>Cristina Valenzuela, Bryce Papenbrook, Keith S...</td>\n",
       "      <td>\\nMarinette and Adrien, two normal teens, tran...</td>\n",
       "    </tr>\n",
       "    <tr>\n",
       "      <th>4</th>\n",
       "      <td>Happiness</td>\n",
       "      <td>(2021– )</td>\n",
       "      <td>8.6</td>\n",
       "      <td>921</td>\n",
       "      <td>-</td>\n",
       "      <td>Action, Fantasy, Thriller</td>\n",
       "      <td>Han Hyo-joo, Park Hyung-Sik, Woo-jin Jo, Lee J...</td>\n",
       "      <td>\\nAn apocalyptic thriller that takes place in ...</td>\n",
       "    </tr>\n",
       "  </tbody>\n",
       "</table>\n",
       "</div>"
      ],
      "text/plain": [
       "                                     Title      Year Rating   Votes:     Time  \\\n",
       "0                                Hellbound  (2021– )    6.7   14,032  150 min   \n",
       "1                               Squid Game  (2021– )    8.1  339,931   55 min   \n",
       "2                                  My Name  (2021– )    7.9   12,877   50 min   \n",
       "3  Miraculous: Tales of Ladybug & Cat Noir  (2015– )    7.7    9,439   20 min   \n",
       "4                                Happiness  (2021– )    8.6      921        -   \n",
       "\n",
       "                          Genre  \\\n",
       "0         Crime, Drama, Fantasy   \n",
       "1        Action, Drama, Mystery   \n",
       "2          Action, Crime, Drama   \n",
       "3  Animation, Action, Adventure   \n",
       "4     Action, Fantasy, Thriller   \n",
       "\n",
       "                                               Stars  \\\n",
       "0  Yoo Ah-in, Kim Hyun-joo, Jeong Min Park, Jin-a...   \n",
       "1  Lee Jung-jae, Park Hae-soo, Wi Ha-Joon, Jung H...   \n",
       "2  Hee-soon Park, Ahn Bo-Hyun, Han So-hee, Kim Sa...   \n",
       "3  Cristina Valenzuela, Bryce Papenbrook, Keith S...   \n",
       "4  Han Hyo-joo, Park Hyung-Sik, Woo-jin Jo, Lee J...   \n",
       "\n",
       "                                         Short Story  \n",
       "0  \\nPeople hear predictions on when they will di...  \n",
       "1  \\nHundreds of cash-strapped players accept a s...  \n",
       "2  \\nThe story about a woman who joins an organiz...  \n",
       "3  \\nMarinette and Adrien, two normal teens, tran...  \n",
       "4  \\nAn apocalyptic thriller that takes place in ...  "
      ]
     },
     "execution_count": 34,
     "metadata": {},
     "output_type": "execute_result"
    }
   ],
   "source": [
    "df.head()"
   ]
  },
  {
   "cell_type": "markdown",
   "id": "4200a314",
   "metadata": {},
   "source": [
    "On another hand, we can also use the tail function to display the last five rows of records.\n",
    "\n"
   ]
  },
  {
   "cell_type": "code",
   "execution_count": 35,
   "id": "c8a4cb4e",
   "metadata": {},
   "outputs": [
    {
     "data": {
      "text/html": [
       "<div>\n",
       "<style scoped>\n",
       "    .dataframe tbody tr th:only-of-type {\n",
       "        vertical-align: middle;\n",
       "    }\n",
       "\n",
       "    .dataframe tbody tr th {\n",
       "        vertical-align: top;\n",
       "    }\n",
       "\n",
       "    .dataframe thead th {\n",
       "        text-align: right;\n",
       "    }\n",
       "</style>\n",
       "<table border=\"1\" class=\"dataframe\">\n",
       "  <thead>\n",
       "    <tr style=\"text-align: right;\">\n",
       "      <th></th>\n",
       "      <th>Title</th>\n",
       "      <th>Year</th>\n",
       "      <th>Rating</th>\n",
       "      <th>Votes:</th>\n",
       "      <th>Time</th>\n",
       "      <th>Genre</th>\n",
       "      <th>Stars</th>\n",
       "      <th>Short Story</th>\n",
       "    </tr>\n",
       "  </thead>\n",
       "  <tbody>\n",
       "    <tr>\n",
       "      <th>1984</th>\n",
       "      <td>Untitled K-Pop Latin American Project</td>\n",
       "      <td>NaN</td>\n",
       "      <td>-</td>\n",
       "      <td>-</td>\n",
       "      <td>-</td>\n",
       "      <td>Reality-TV</td>\n",
       "      <td>-</td>\n",
       "      <td>\\nYoung men from Latin America audition for an...</td>\n",
       "    </tr>\n",
       "    <tr>\n",
       "      <th>1985</th>\n",
       "      <td>Bite Sisters</td>\n",
       "      <td>(2021)</td>\n",
       "      <td>7.4</td>\n",
       "      <td>5</td>\n",
       "      <td>-</td>\n",
       "      <td>Fantasy, Romance</td>\n",
       "      <td>Kang Han-na, Kim Yeong-Ah, Yu-hwa Choi, Lee Si...</td>\n",
       "      <td>\\nThis story follows Han Yi Na a vampire who s...</td>\n",
       "    </tr>\n",
       "    <tr>\n",
       "      <th>1986</th>\n",
       "      <td>Adult Trainee</td>\n",
       "      <td>(2021– )</td>\n",
       "      <td>7.1</td>\n",
       "      <td>10</td>\n",
       "      <td>-</td>\n",
       "      <td>Comedy, Romance</td>\n",
       "      <td>Mi-Yeon Cho, Ryu Eui-Hyun, Lee Chan Hyung, Yoo...</td>\n",
       "      <td>\\nAdd a Plot\\n</td>\n",
       "    </tr>\n",
       "    <tr>\n",
       "      <th>1987</th>\n",
       "      <td>A good supper</td>\n",
       "      <td>(2021)</td>\n",
       "      <td>-</td>\n",
       "      <td>-</td>\n",
       "      <td>-</td>\n",
       "      <td>Romance</td>\n",
       "      <td>-</td>\n",
       "      <td>\\nAdd a Plot\\n</td>\n",
       "    </tr>\n",
       "    <tr>\n",
       "      <th>1988</th>\n",
       "      <td>User Not Found</td>\n",
       "      <td>(2021– )</td>\n",
       "      <td>-</td>\n",
       "      <td>-</td>\n",
       "      <td>-</td>\n",
       "      <td>Drama, Romance</td>\n",
       "      <td>-</td>\n",
       "      <td>\\nAdd a Plot\\n</td>\n",
       "    </tr>\n",
       "  </tbody>\n",
       "</table>\n",
       "</div>"
      ],
      "text/plain": [
       "                                      Title      Year Rating Votes: Time  \\\n",
       "1984  Untitled K-Pop Latin American Project       NaN      -      -    -   \n",
       "1985                           Bite Sisters    (2021)    7.4      5    -   \n",
       "1986                          Adult Trainee  (2021– )    7.1     10    -   \n",
       "1987                          A good supper    (2021)      -      -    -   \n",
       "1988                         User Not Found  (2021– )      -      -    -   \n",
       "\n",
       "                 Genre                                              Stars  \\\n",
       "1984        Reality-TV                                                  -   \n",
       "1985  Fantasy, Romance  Kang Han-na, Kim Yeong-Ah, Yu-hwa Choi, Lee Si...   \n",
       "1986   Comedy, Romance  Mi-Yeon Cho, Ryu Eui-Hyun, Lee Chan Hyung, Yoo...   \n",
       "1987           Romance                                                  -   \n",
       "1988    Drama, Romance                                                  -   \n",
       "\n",
       "                                            Short Story  \n",
       "1984  \\nYoung men from Latin America audition for an...  \n",
       "1985  \\nThis story follows Han Yi Na a vampire who s...  \n",
       "1986                                     \\nAdd a Plot\\n  \n",
       "1987                                     \\nAdd a Plot\\n  \n",
       "1988                                     \\nAdd a Plot\\n  "
      ]
     },
     "execution_count": 35,
     "metadata": {},
     "output_type": "execute_result"
    }
   ],
   "source": [
    "df.tail()\n"
   ]
  },
  {
   "cell_type": "markdown",
   "id": "6d0c9635",
   "metadata": {},
   "source": [
    "### Basic analysis of our data"
   ]
  },
  {
   "cell_type": "markdown",
   "id": "a8c00d0d",
   "metadata": {},
   "source": [
    "Many often not all the data in a Pandas DataFrame are relevant to our work. Fortunately, Pandas DataFrame allow us to selectively extract one or more columns of data and work with them.\n",
    "\n"
   ]
  },
  {
   "cell_type": "markdown",
   "id": "3731bda8",
   "metadata": {},
   "source": [
    "We can use a selected column name as the parameter to extract the data from that particular column.\n",
    "\n"
   ]
  },
  {
   "cell_type": "code",
   "execution_count": 36,
   "id": "1f3a5c81",
   "metadata": {},
   "outputs": [
    {
     "data": {
      "text/plain": [
       "0                                  Hellbound\n",
       "1                                 Squid Game\n",
       "2                                    My Name\n",
       "3    Miraculous: Tales of Ladybug & Cat Noir\n",
       "4                                  Happiness\n",
       "Name: Title, dtype: object"
      ]
     },
     "execution_count": 36,
     "metadata": {},
     "output_type": "execute_result"
    }
   ],
   "source": [
    "df['Title'].head()\n"
   ]
  },
  {
   "cell_type": "markdown",
   "id": "4ebc20b8",
   "metadata": {},
   "source": [
    "We can also select multiple columns by putting the target column names in a list.\n",
    "\n"
   ]
  },
  {
   "cell_type": "code",
   "execution_count": 37,
   "id": "25f266b2",
   "metadata": {},
   "outputs": [
    {
     "data": {
      "text/html": [
       "<div>\n",
       "<style scoped>\n",
       "    .dataframe tbody tr th:only-of-type {\n",
       "        vertical-align: middle;\n",
       "    }\n",
       "\n",
       "    .dataframe tbody tr th {\n",
       "        vertical-align: top;\n",
       "    }\n",
       "\n",
       "    .dataframe thead th {\n",
       "        text-align: right;\n",
       "    }\n",
       "</style>\n",
       "<table border=\"1\" class=\"dataframe\">\n",
       "  <thead>\n",
       "    <tr style=\"text-align: right;\">\n",
       "      <th></th>\n",
       "      <th>Title</th>\n",
       "      <th>Rating</th>\n",
       "    </tr>\n",
       "  </thead>\n",
       "  <tbody>\n",
       "    <tr>\n",
       "      <th>0</th>\n",
       "      <td>Hellbound</td>\n",
       "      <td>6.7</td>\n",
       "    </tr>\n",
       "    <tr>\n",
       "      <th>1</th>\n",
       "      <td>Squid Game</td>\n",
       "      <td>8.1</td>\n",
       "    </tr>\n",
       "    <tr>\n",
       "      <th>2</th>\n",
       "      <td>My Name</td>\n",
       "      <td>7.9</td>\n",
       "    </tr>\n",
       "    <tr>\n",
       "      <th>3</th>\n",
       "      <td>Miraculous: Tales of Ladybug &amp; Cat Noir</td>\n",
       "      <td>7.7</td>\n",
       "    </tr>\n",
       "    <tr>\n",
       "      <th>4</th>\n",
       "      <td>Happiness</td>\n",
       "      <td>8.6</td>\n",
       "    </tr>\n",
       "  </tbody>\n",
       "</table>\n",
       "</div>"
      ],
      "text/plain": [
       "                                     Title Rating\n",
       "0                                Hellbound    6.7\n",
       "1                               Squid Game    8.1\n",
       "2                                  My Name    7.9\n",
       "3  Miraculous: Tales of Ladybug & Cat Noir    7.7\n",
       "4                                Happiness    8.6"
      ]
     },
     "execution_count": 37,
     "metadata": {},
     "output_type": "execute_result"
    }
   ],
   "source": [
    "df[['Title', 'Rating']].head()\n"
   ]
  },
  {
   "cell_type": "markdown",
   "id": "69233609",
   "metadata": {},
   "source": [
    "If we really do not need a column we can always remove it. For that we use ```drop```"
   ]
  },
  {
   "cell_type": "code",
   "execution_count": 38,
   "id": "5bda019c",
   "metadata": {},
   "outputs": [
    {
     "data": {
      "text/html": [
       "<div>\n",
       "<style scoped>\n",
       "    .dataframe tbody tr th:only-of-type {\n",
       "        vertical-align: middle;\n",
       "    }\n",
       "\n",
       "    .dataframe tbody tr th {\n",
       "        vertical-align: top;\n",
       "    }\n",
       "\n",
       "    .dataframe thead th {\n",
       "        text-align: right;\n",
       "    }\n",
       "</style>\n",
       "<table border=\"1\" class=\"dataframe\">\n",
       "  <thead>\n",
       "    <tr style=\"text-align: right;\">\n",
       "      <th></th>\n",
       "      <th>Title</th>\n",
       "      <th>Year</th>\n",
       "      <th>Rating</th>\n",
       "      <th>Votes:</th>\n",
       "      <th>Time</th>\n",
       "      <th>Genre</th>\n",
       "      <th>Stars</th>\n",
       "    </tr>\n",
       "  </thead>\n",
       "  <tbody>\n",
       "    <tr>\n",
       "      <th>0</th>\n",
       "      <td>Hellbound</td>\n",
       "      <td>(2021– )</td>\n",
       "      <td>6.7</td>\n",
       "      <td>14,032</td>\n",
       "      <td>150 min</td>\n",
       "      <td>Crime, Drama, Fantasy</td>\n",
       "      <td>Yoo Ah-in, Kim Hyun-joo, Jeong Min Park, Jin-a...</td>\n",
       "    </tr>\n",
       "    <tr>\n",
       "      <th>1</th>\n",
       "      <td>Squid Game</td>\n",
       "      <td>(2021– )</td>\n",
       "      <td>8.1</td>\n",
       "      <td>339,931</td>\n",
       "      <td>55 min</td>\n",
       "      <td>Action, Drama, Mystery</td>\n",
       "      <td>Lee Jung-jae, Park Hae-soo, Wi Ha-Joon, Jung H...</td>\n",
       "    </tr>\n",
       "    <tr>\n",
       "      <th>2</th>\n",
       "      <td>My Name</td>\n",
       "      <td>(2021– )</td>\n",
       "      <td>7.9</td>\n",
       "      <td>12,877</td>\n",
       "      <td>50 min</td>\n",
       "      <td>Action, Crime, Drama</td>\n",
       "      <td>Hee-soon Park, Ahn Bo-Hyun, Han So-hee, Kim Sa...</td>\n",
       "    </tr>\n",
       "    <tr>\n",
       "      <th>3</th>\n",
       "      <td>Miraculous: Tales of Ladybug &amp; Cat Noir</td>\n",
       "      <td>(2015– )</td>\n",
       "      <td>7.7</td>\n",
       "      <td>9,439</td>\n",
       "      <td>20 min</td>\n",
       "      <td>Animation, Action, Adventure</td>\n",
       "      <td>Cristina Valenzuela, Bryce Papenbrook, Keith S...</td>\n",
       "    </tr>\n",
       "    <tr>\n",
       "      <th>4</th>\n",
       "      <td>Happiness</td>\n",
       "      <td>(2021– )</td>\n",
       "      <td>8.6</td>\n",
       "      <td>921</td>\n",
       "      <td>-</td>\n",
       "      <td>Action, Fantasy, Thriller</td>\n",
       "      <td>Han Hyo-joo, Park Hyung-Sik, Woo-jin Jo, Lee J...</td>\n",
       "    </tr>\n",
       "  </tbody>\n",
       "</table>\n",
       "</div>"
      ],
      "text/plain": [
       "                                     Title      Year Rating   Votes:     Time  \\\n",
       "0                                Hellbound  (2021– )    6.7   14,032  150 min   \n",
       "1                               Squid Game  (2021– )    8.1  339,931   55 min   \n",
       "2                                  My Name  (2021– )    7.9   12,877   50 min   \n",
       "3  Miraculous: Tales of Ladybug & Cat Noir  (2015– )    7.7    9,439   20 min   \n",
       "4                                Happiness  (2021– )    8.6      921        -   \n",
       "\n",
       "                          Genre  \\\n",
       "0         Crime, Drama, Fantasy   \n",
       "1        Action, Drama, Mystery   \n",
       "2          Action, Crime, Drama   \n",
       "3  Animation, Action, Adventure   \n",
       "4     Action, Fantasy, Thriller   \n",
       "\n",
       "                                               Stars  \n",
       "0  Yoo Ah-in, Kim Hyun-joo, Jeong Min Park, Jin-a...  \n",
       "1  Lee Jung-jae, Park Hae-soo, Wi Ha-Joon, Jung H...  \n",
       "2  Hee-soon Park, Ahn Bo-Hyun, Han So-hee, Kim Sa...  \n",
       "3  Cristina Valenzuela, Bryce Papenbrook, Keith S...  \n",
       "4  Han Hyo-joo, Park Hyung-Sik, Woo-jin Jo, Lee J...  "
      ]
     },
     "execution_count": 38,
     "metadata": {},
     "output_type": "execute_result"
    }
   ],
   "source": [
    "df = df.drop(\"Short Story\", axis=1)\n",
    "df.head()"
   ]
  },
  {
   "cell_type": "markdown",
   "id": "7b0e5b11",
   "metadata": {},
   "source": [
    "Use the drop function to remove the column “Short Story” from the DataFrame and shows the first five rows of records. The “axis=1” is to specify the current removal is for a column instead of a row."
   ]
  },
  {
   "cell_type": "markdown",
   "id": "7f2aec46",
   "metadata": {},
   "source": [
    "Now let's use our rows to navigate over the dataframe. We will first try with loc method. The loc method allow us to select a row from a DataFrame using a index label. For example, we can define the movie title as our index label in the DataFrame and use it to extract our target rows of data.\n",
    "\n"
   ]
  },
  {
   "cell_type": "code",
   "execution_count": 39,
   "id": "3e1cd9ad",
   "metadata": {},
   "outputs": [
    {
     "data": {
      "text/html": [
       "<div>\n",
       "<style scoped>\n",
       "    .dataframe tbody tr th:only-of-type {\n",
       "        vertical-align: middle;\n",
       "    }\n",
       "\n",
       "    .dataframe tbody tr th {\n",
       "        vertical-align: top;\n",
       "    }\n",
       "\n",
       "    .dataframe thead th {\n",
       "        text-align: right;\n",
       "    }\n",
       "</style>\n",
       "<table border=\"1\" class=\"dataframe\">\n",
       "  <thead>\n",
       "    <tr style=\"text-align: right;\">\n",
       "      <th></th>\n",
       "      <th>Year</th>\n",
       "      <th>Rating</th>\n",
       "      <th>Votes:</th>\n",
       "      <th>Time</th>\n",
       "      <th>Genre</th>\n",
       "      <th>Stars</th>\n",
       "    </tr>\n",
       "    <tr>\n",
       "      <th>Title</th>\n",
       "      <th></th>\n",
       "      <th></th>\n",
       "      <th></th>\n",
       "      <th></th>\n",
       "      <th></th>\n",
       "      <th></th>\n",
       "    </tr>\n",
       "  </thead>\n",
       "  <tbody>\n",
       "    <tr>\n",
       "      <th>Hellbound</th>\n",
       "      <td>(2021– )</td>\n",
       "      <td>6.7</td>\n",
       "      <td>14,032</td>\n",
       "      <td>150 min</td>\n",
       "      <td>Crime, Drama, Fantasy</td>\n",
       "      <td>Yoo Ah-in, Kim Hyun-joo, Jeong Min Park, Jin-a...</td>\n",
       "    </tr>\n",
       "    <tr>\n",
       "      <th>Squid Game</th>\n",
       "      <td>(2021– )</td>\n",
       "      <td>8.1</td>\n",
       "      <td>339,931</td>\n",
       "      <td>55 min</td>\n",
       "      <td>Action, Drama, Mystery</td>\n",
       "      <td>Lee Jung-jae, Park Hae-soo, Wi Ha-Joon, Jung H...</td>\n",
       "    </tr>\n",
       "    <tr>\n",
       "      <th>My Name</th>\n",
       "      <td>(2021– )</td>\n",
       "      <td>7.9</td>\n",
       "      <td>12,877</td>\n",
       "      <td>50 min</td>\n",
       "      <td>Action, Crime, Drama</td>\n",
       "      <td>Hee-soon Park, Ahn Bo-Hyun, Han So-hee, Kim Sa...</td>\n",
       "    </tr>\n",
       "    <tr>\n",
       "      <th>Miraculous: Tales of Ladybug &amp; Cat Noir</th>\n",
       "      <td>(2015– )</td>\n",
       "      <td>7.7</td>\n",
       "      <td>9,439</td>\n",
       "      <td>20 min</td>\n",
       "      <td>Animation, Action, Adventure</td>\n",
       "      <td>Cristina Valenzuela, Bryce Papenbrook, Keith S...</td>\n",
       "    </tr>\n",
       "    <tr>\n",
       "      <th>Happiness</th>\n",
       "      <td>(2021– )</td>\n",
       "      <td>8.6</td>\n",
       "      <td>921</td>\n",
       "      <td>-</td>\n",
       "      <td>Action, Fantasy, Thriller</td>\n",
       "      <td>Han Hyo-joo, Park Hyung-Sik, Woo-jin Jo, Lee J...</td>\n",
       "    </tr>\n",
       "  </tbody>\n",
       "</table>\n",
       "</div>"
      ],
      "text/plain": [
       "                                             Year Rating   Votes:     Time  \\\n",
       "Title                                                                        \n",
       "Hellbound                                (2021– )    6.7   14,032  150 min   \n",
       "Squid Game                               (2021– )    8.1  339,931   55 min   \n",
       "My Name                                  (2021– )    7.9   12,877   50 min   \n",
       "Miraculous: Tales of Ladybug & Cat Noir  (2015– )    7.7    9,439   20 min   \n",
       "Happiness                                (2021– )    8.6      921        -   \n",
       "\n",
       "                                                                Genre  \\\n",
       "Title                                                                   \n",
       "Hellbound                                       Crime, Drama, Fantasy   \n",
       "Squid Game                                     Action, Drama, Mystery   \n",
       "My Name                                          Action, Crime, Drama   \n",
       "Miraculous: Tales of Ladybug & Cat Noir  Animation, Action, Adventure   \n",
       "Happiness                                   Action, Fantasy, Thriller   \n",
       "\n",
       "                                                                                     Stars  \n",
       "Title                                                                                       \n",
       "Hellbound                                Yoo Ah-in, Kim Hyun-joo, Jeong Min Park, Jin-a...  \n",
       "Squid Game                               Lee Jung-jae, Park Hae-soo, Wi Ha-Joon, Jung H...  \n",
       "My Name                                  Hee-soon Park, Ahn Bo-Hyun, Han So-hee, Kim Sa...  \n",
       "Miraculous: Tales of Ladybug & Cat Noir  Cristina Valenzuela, Bryce Papenbrook, Keith S...  \n",
       "Happiness                                Han Hyo-joo, Park Hyung-Sik, Woo-jin Jo, Lee J...  "
      ]
     },
     "execution_count": 39,
     "metadata": {},
     "output_type": "execute_result"
    }
   ],
   "source": [
    "df = df.set_index('Title')\n",
    "df.head()\n"
   ]
  },
  {
   "cell_type": "code",
   "execution_count": 40,
   "id": "8b1467da",
   "metadata": {},
   "outputs": [
    {
     "data": {
      "text/plain": [
       "(1989, 6)"
      ]
     },
     "execution_count": 40,
     "metadata": {},
     "output_type": "execute_result"
    }
   ],
   "source": [
    "df.shape"
   ]
  },
  {
   "cell_type": "markdown",
   "id": "e723184b",
   "metadata": {},
   "source": [
    "The “Title” is removed from the column list of the DataFrame and is marked as an index label now.\n",
    "As we see by the number of the columns, we have removed one and set one as an index - now we have 6.\n",
    "\n",
    "We can make use of this movie name as an index label to extract the data from the DataFrame by row.\n",
    "\n"
   ]
  },
  {
   "cell_type": "code",
   "execution_count": 41,
   "id": "01fc5ecb",
   "metadata": {},
   "outputs": [
    {
     "data": {
      "text/plain": [
       "Year                                               (2021– )\n",
       "Rating                                                  8.1\n",
       "Votes:                                              339,931\n",
       "Time                                                 55 min\n",
       "Genre                                Action, Drama, Mystery\n",
       "Stars     Lee Jung-jae, Park Hae-soo, Wi Ha-Joon, Jung H...\n",
       "Name: Squid Game, dtype: object"
      ]
     },
     "execution_count": 41,
     "metadata": {},
     "output_type": "execute_result"
    }
   ],
   "source": [
    "df.loc['Squid Game']"
   ]
  },
  {
   "cell_type": "code",
   "execution_count": 42,
   "id": "a3fc2086",
   "metadata": {},
   "outputs": [
    {
     "data": {
      "text/html": [
       "<div>\n",
       "<style scoped>\n",
       "    .dataframe tbody tr th:only-of-type {\n",
       "        vertical-align: middle;\n",
       "    }\n",
       "\n",
       "    .dataframe tbody tr th {\n",
       "        vertical-align: top;\n",
       "    }\n",
       "\n",
       "    .dataframe thead th {\n",
       "        text-align: right;\n",
       "    }\n",
       "</style>\n",
       "<table border=\"1\" class=\"dataframe\">\n",
       "  <thead>\n",
       "    <tr style=\"text-align: right;\">\n",
       "      <th></th>\n",
       "      <th>Year</th>\n",
       "      <th>Rating</th>\n",
       "      <th>Votes:</th>\n",
       "      <th>Time</th>\n",
       "      <th>Genre</th>\n",
       "      <th>Stars</th>\n",
       "    </tr>\n",
       "    <tr>\n",
       "      <th>Title</th>\n",
       "      <th></th>\n",
       "      <th></th>\n",
       "      <th></th>\n",
       "      <th></th>\n",
       "      <th></th>\n",
       "      <th></th>\n",
       "    </tr>\n",
       "  </thead>\n",
       "  <tbody>\n",
       "    <tr>\n",
       "      <th>Squid Game</th>\n",
       "      <td>(2021– )</td>\n",
       "      <td>8.1</td>\n",
       "      <td>339,931</td>\n",
       "      <td>55 min</td>\n",
       "      <td>Action, Drama, Mystery</td>\n",
       "      <td>Lee Jung-jae, Park Hae-soo, Wi Ha-Joon, Jung H...</td>\n",
       "    </tr>\n",
       "    <tr>\n",
       "      <th>Happiness</th>\n",
       "      <td>(2021– )</td>\n",
       "      <td>8.6</td>\n",
       "      <td>921</td>\n",
       "      <td>-</td>\n",
       "      <td>Action, Fantasy, Thriller</td>\n",
       "      <td>Han Hyo-joo, Park Hyung-Sik, Woo-jin Jo, Lee J...</td>\n",
       "    </tr>\n",
       "  </tbody>\n",
       "</table>\n",
       "</div>"
      ],
      "text/plain": [
       "                Year Rating   Votes:    Time                      Genre  \\\n",
       "Title                                                                     \n",
       "Squid Game  (2021– )    8.1  339,931  55 min     Action, Drama, Mystery   \n",
       "Happiness   (2021– )    8.6      921       -  Action, Fantasy, Thriller   \n",
       "\n",
       "                                                        Stars  \n",
       "Title                                                          \n",
       "Squid Game  Lee Jung-jae, Park Hae-soo, Wi Ha-Joon, Jung H...  \n",
       "Happiness   Han Hyo-joo, Park Hyung-Sik, Woo-jin Jo, Lee J...  "
      ]
     },
     "execution_count": 42,
     "metadata": {},
     "output_type": "execute_result"
    }
   ],
   "source": [
    "df.loc[['Squid Game', 'Happiness']]"
   ]
  },
  {
   "cell_type": "markdown",
   "id": "091bf6c2",
   "metadata": {},
   "source": [
    "The second approach to work with Pandas DataFrame by row is using the iloc method.\n"
   ]
  },
  {
   "cell_type": "code",
   "execution_count": 43,
   "id": "c838fc90",
   "metadata": {},
   "outputs": [
    {
     "data": {
      "text/plain": [
       "Year                                               (2015– )\n",
       "Rating                                                  7.7\n",
       "Votes:                                                9,439\n",
       "Time                                                 20 min\n",
       "Genre                          Animation, Action, Adventure\n",
       "Stars     Cristina Valenzuela, Bryce Papenbrook, Keith S...\n",
       "Name: Miraculous: Tales of Ladybug & Cat Noir, dtype: object"
      ]
     },
     "execution_count": 43,
     "metadata": {},
     "output_type": "execute_result"
    }
   ],
   "source": [
    "df.iloc[3]"
   ]
  },
  {
   "cell_type": "code",
   "execution_count": 44,
   "id": "4ad135a8",
   "metadata": {},
   "outputs": [
    {
     "data": {
      "text/html": [
       "<div>\n",
       "<style scoped>\n",
       "    .dataframe tbody tr th:only-of-type {\n",
       "        vertical-align: middle;\n",
       "    }\n",
       "\n",
       "    .dataframe tbody tr th {\n",
       "        vertical-align: top;\n",
       "    }\n",
       "\n",
       "    .dataframe thead th {\n",
       "        text-align: right;\n",
       "    }\n",
       "</style>\n",
       "<table border=\"1\" class=\"dataframe\">\n",
       "  <thead>\n",
       "    <tr style=\"text-align: right;\">\n",
       "      <th></th>\n",
       "      <th>Year</th>\n",
       "      <th>Rating</th>\n",
       "      <th>Votes:</th>\n",
       "      <th>Time</th>\n",
       "      <th>Genre</th>\n",
       "      <th>Stars</th>\n",
       "    </tr>\n",
       "    <tr>\n",
       "      <th>Title</th>\n",
       "      <th></th>\n",
       "      <th></th>\n",
       "      <th></th>\n",
       "      <th></th>\n",
       "      <th></th>\n",
       "      <th></th>\n",
       "    </tr>\n",
       "  </thead>\n",
       "  <tbody>\n",
       "    <tr>\n",
       "      <th>My Name</th>\n",
       "      <td>(2021– )</td>\n",
       "      <td>7.9</td>\n",
       "      <td>12,877</td>\n",
       "      <td>50 min</td>\n",
       "      <td>Action, Crime, Drama</td>\n",
       "      <td>Hee-soon Park, Ahn Bo-Hyun, Han So-hee, Kim Sa...</td>\n",
       "    </tr>\n",
       "    <tr>\n",
       "      <th>Miraculous: Tales of Ladybug &amp; Cat Noir</th>\n",
       "      <td>(2015– )</td>\n",
       "      <td>7.7</td>\n",
       "      <td>9,439</td>\n",
       "      <td>20 min</td>\n",
       "      <td>Animation, Action, Adventure</td>\n",
       "      <td>Cristina Valenzuela, Bryce Papenbrook, Keith S...</td>\n",
       "    </tr>\n",
       "    <tr>\n",
       "      <th>Happiness</th>\n",
       "      <td>(2021– )</td>\n",
       "      <td>8.6</td>\n",
       "      <td>921</td>\n",
       "      <td>-</td>\n",
       "      <td>Action, Fantasy, Thriller</td>\n",
       "      <td>Han Hyo-joo, Park Hyung-Sik, Woo-jin Jo, Lee J...</td>\n",
       "    </tr>\n",
       "  </tbody>\n",
       "</table>\n",
       "</div>"
      ],
      "text/plain": [
       "                                             Year Rating  Votes:    Time  \\\n",
       "Title                                                                      \n",
       "My Name                                  (2021– )    7.9  12,877  50 min   \n",
       "Miraculous: Tales of Ladybug & Cat Noir  (2015– )    7.7   9,439  20 min   \n",
       "Happiness                                (2021– )    8.6     921       -   \n",
       "\n",
       "                                                                Genre  \\\n",
       "Title                                                                   \n",
       "My Name                                          Action, Crime, Drama   \n",
       "Miraculous: Tales of Ladybug & Cat Noir  Animation, Action, Adventure   \n",
       "Happiness                                   Action, Fantasy, Thriller   \n",
       "\n",
       "                                                                                     Stars  \n",
       "Title                                                                                       \n",
       "My Name                                  Hee-soon Park, Ahn Bo-Hyun, Han So-hee, Kim Sa...  \n",
       "Miraculous: Tales of Ladybug & Cat Noir  Cristina Valenzuela, Bryce Papenbrook, Keith S...  \n",
       "Happiness                                Han Hyo-joo, Park Hyung-Sik, Woo-jin Jo, Lee J...  "
      ]
     },
     "execution_count": 44,
     "metadata": {},
     "output_type": "execute_result"
    }
   ],
   "source": [
    "df.iloc[2:5]"
   ]
  },
  {
   "cell_type": "markdown",
   "id": "92eaa3fa",
   "metadata": {},
   "source": [
    "Let's now remove a row. As said before, we can use a movie name as index label to remove a particular row. In this case, the row with movie name, “My Name” will be removed from the DataFrame.\n"
   ]
  },
  {
   "cell_type": "code",
   "execution_count": 45,
   "id": "4c4452a8",
   "metadata": {},
   "outputs": [
    {
     "data": {
      "text/html": [
       "<div>\n",
       "<style scoped>\n",
       "    .dataframe tbody tr th:only-of-type {\n",
       "        vertical-align: middle;\n",
       "    }\n",
       "\n",
       "    .dataframe tbody tr th {\n",
       "        vertical-align: top;\n",
       "    }\n",
       "\n",
       "    .dataframe thead th {\n",
       "        text-align: right;\n",
       "    }\n",
       "</style>\n",
       "<table border=\"1\" class=\"dataframe\">\n",
       "  <thead>\n",
       "    <tr style=\"text-align: right;\">\n",
       "      <th></th>\n",
       "      <th>Year</th>\n",
       "      <th>Rating</th>\n",
       "      <th>Votes:</th>\n",
       "      <th>Time</th>\n",
       "      <th>Genre</th>\n",
       "      <th>Stars</th>\n",
       "    </tr>\n",
       "    <tr>\n",
       "      <th>Title</th>\n",
       "      <th></th>\n",
       "      <th></th>\n",
       "      <th></th>\n",
       "      <th></th>\n",
       "      <th></th>\n",
       "      <th></th>\n",
       "    </tr>\n",
       "  </thead>\n",
       "  <tbody>\n",
       "    <tr>\n",
       "      <th>Hellbound</th>\n",
       "      <td>(2021– )</td>\n",
       "      <td>6.7</td>\n",
       "      <td>14,032</td>\n",
       "      <td>150 min</td>\n",
       "      <td>Crime, Drama, Fantasy</td>\n",
       "      <td>Yoo Ah-in, Kim Hyun-joo, Jeong Min Park, Jin-a...</td>\n",
       "    </tr>\n",
       "    <tr>\n",
       "      <th>Squid Game</th>\n",
       "      <td>(2021– )</td>\n",
       "      <td>8.1</td>\n",
       "      <td>339,931</td>\n",
       "      <td>55 min</td>\n",
       "      <td>Action, Drama, Mystery</td>\n",
       "      <td>Lee Jung-jae, Park Hae-soo, Wi Ha-Joon, Jung H...</td>\n",
       "    </tr>\n",
       "    <tr>\n",
       "      <th>Miraculous: Tales of Ladybug &amp; Cat Noir</th>\n",
       "      <td>(2015– )</td>\n",
       "      <td>7.7</td>\n",
       "      <td>9,439</td>\n",
       "      <td>20 min</td>\n",
       "      <td>Animation, Action, Adventure</td>\n",
       "      <td>Cristina Valenzuela, Bryce Papenbrook, Keith S...</td>\n",
       "    </tr>\n",
       "    <tr>\n",
       "      <th>Happiness</th>\n",
       "      <td>(2021– )</td>\n",
       "      <td>8.6</td>\n",
       "      <td>921</td>\n",
       "      <td>-</td>\n",
       "      <td>Action, Fantasy, Thriller</td>\n",
       "      <td>Han Hyo-joo, Park Hyung-Sik, Woo-jin Jo, Lee J...</td>\n",
       "    </tr>\n",
       "    <tr>\n",
       "      <th>Dr. Brain</th>\n",
       "      <td>(2021– )</td>\n",
       "      <td>6.9</td>\n",
       "      <td>1,031</td>\n",
       "      <td>60 min</td>\n",
       "      <td>Drama, Mystery, Sci-Fi</td>\n",
       "      <td>Sun-kyun Lee, June Yoon, Yoo-Young Lee, Hee-so...</td>\n",
       "    </tr>\n",
       "  </tbody>\n",
       "</table>\n",
       "</div>"
      ],
      "text/plain": [
       "                                             Year Rating   Votes:     Time  \\\n",
       "Title                                                                        \n",
       "Hellbound                                (2021– )    6.7   14,032  150 min   \n",
       "Squid Game                               (2021– )    8.1  339,931   55 min   \n",
       "Miraculous: Tales of Ladybug & Cat Noir  (2015– )    7.7    9,439   20 min   \n",
       "Happiness                                (2021– )    8.6      921        -   \n",
       "Dr. Brain                                (2021– )    6.9    1,031   60 min   \n",
       "\n",
       "                                                                Genre  \\\n",
       "Title                                                                   \n",
       "Hellbound                                       Crime, Drama, Fantasy   \n",
       "Squid Game                                     Action, Drama, Mystery   \n",
       "Miraculous: Tales of Ladybug & Cat Noir  Animation, Action, Adventure   \n",
       "Happiness                                   Action, Fantasy, Thriller   \n",
       "Dr. Brain                                      Drama, Mystery, Sci-Fi   \n",
       "\n",
       "                                                                                     Stars  \n",
       "Title                                                                                       \n",
       "Hellbound                                Yoo Ah-in, Kim Hyun-joo, Jeong Min Park, Jin-a...  \n",
       "Squid Game                               Lee Jung-jae, Park Hae-soo, Wi Ha-Joon, Jung H...  \n",
       "Miraculous: Tales of Ladybug & Cat Noir  Cristina Valenzuela, Bryce Papenbrook, Keith S...  \n",
       "Happiness                                Han Hyo-joo, Park Hyung-Sik, Woo-jin Jo, Lee J...  \n",
       "Dr. Brain                                Sun-kyun Lee, June Yoon, Yoo-Young Lee, Hee-so...  "
      ]
     },
     "execution_count": 45,
     "metadata": {},
     "output_type": "execute_result"
    }
   ],
   "source": [
    "df = df.drop('My Name', axis=0)\n",
    "df.head()"
   ]
  },
  {
   "cell_type": "code",
   "execution_count": 46,
   "id": "e48541e0",
   "metadata": {},
   "outputs": [
    {
     "data": {
      "text/plain": [
       "(1988, 6)"
      ]
     },
     "execution_count": 46,
     "metadata": {},
     "output_type": "execute_result"
    }
   ],
   "source": [
    "df.shape"
   ]
  },
  {
   "cell_type": "markdown",
   "id": "37478e6d",
   "metadata": {},
   "source": [
    "<div class=\"alert alert-block alert-info\">\n",
    "<b>Exercise 3</b>\n",
    "    \n",
    "<p>\n",
    "    <li>Import housing.csv into a dataframe  </li>\n",
    "    <li>Preview the head of the data </li>\n",
    "    <li>Remove the latitude column </li>\n",
    "    <li>Set a condition to select data with the housing median age above 50</li>\n",
    "</p>\n",
    "</div>"
   ]
  },
  {
   "cell_type": "markdown",
   "id": "ed130248",
   "metadata": {},
   "source": [
    "### References and further reading:\n",
    "    \n",
    " * Python Data Science Handbook - https://jakevdp.github.io/PythonDataScienceHandbook/\n",
    " * https://www.w3schools.com/python/pandas/default.asp\n",
    " * https://www.geeksforgeeks.org/data-science-tutorial/\n",
    " * data taken from - https://github.com/teobeeguan/Python-For-Machine-Learning/tree/main/Pandas\n",
    " * tutorial -  https://medium.com/ds-notes/learning-python-pandas-in-minutes-part-1-basics-f24463da1a18\n",
    " "
   ]
  },
  {
   "cell_type": "code",
   "execution_count": 47,
   "id": "6ac7d3ea",
   "metadata": {},
   "outputs": [
    {
     "data": {
      "text/html": [
       "<div>\n",
       "<style scoped>\n",
       "    .dataframe tbody tr th:only-of-type {\n",
       "        vertical-align: middle;\n",
       "    }\n",
       "\n",
       "    .dataframe tbody tr th {\n",
       "        vertical-align: top;\n",
       "    }\n",
       "\n",
       "    .dataframe thead th {\n",
       "        text-align: right;\n",
       "    }\n",
       "</style>\n",
       "<table border=\"1\" class=\"dataframe\">\n",
       "  <thead>\n",
       "    <tr style=\"text-align: right;\">\n",
       "      <th></th>\n",
       "      <th>longitude</th>\n",
       "      <th>latitude</th>\n",
       "      <th>housing_median_age</th>\n",
       "      <th>total_rooms</th>\n",
       "      <th>total_bedrooms</th>\n",
       "      <th>population</th>\n",
       "      <th>households</th>\n",
       "      <th>median_income</th>\n",
       "      <th>median_house_value</th>\n",
       "      <th>ocean_proximity</th>\n",
       "    </tr>\n",
       "  </thead>\n",
       "  <tbody>\n",
       "    <tr>\n",
       "      <th>0</th>\n",
       "      <td>-122.23</td>\n",
       "      <td>37.88</td>\n",
       "      <td>41.0</td>\n",
       "      <td>880.0</td>\n",
       "      <td>129.0</td>\n",
       "      <td>322.0</td>\n",
       "      <td>126.0</td>\n",
       "      <td>8.3252</td>\n",
       "      <td>452600.0</td>\n",
       "      <td>NEAR BAY</td>\n",
       "    </tr>\n",
       "    <tr>\n",
       "      <th>1</th>\n",
       "      <td>-122.22</td>\n",
       "      <td>37.86</td>\n",
       "      <td>21.0</td>\n",
       "      <td>7099.0</td>\n",
       "      <td>1106.0</td>\n",
       "      <td>2401.0</td>\n",
       "      <td>1138.0</td>\n",
       "      <td>8.3014</td>\n",
       "      <td>358500.0</td>\n",
       "      <td>NEAR BAY</td>\n",
       "    </tr>\n",
       "    <tr>\n",
       "      <th>2</th>\n",
       "      <td>-122.24</td>\n",
       "      <td>37.85</td>\n",
       "      <td>52.0</td>\n",
       "      <td>1467.0</td>\n",
       "      <td>190.0</td>\n",
       "      <td>496.0</td>\n",
       "      <td>177.0</td>\n",
       "      <td>7.2574</td>\n",
       "      <td>352100.0</td>\n",
       "      <td>NEAR BAY</td>\n",
       "    </tr>\n",
       "    <tr>\n",
       "      <th>3</th>\n",
       "      <td>-122.25</td>\n",
       "      <td>37.85</td>\n",
       "      <td>52.0</td>\n",
       "      <td>1274.0</td>\n",
       "      <td>235.0</td>\n",
       "      <td>558.0</td>\n",
       "      <td>219.0</td>\n",
       "      <td>5.6431</td>\n",
       "      <td>341300.0</td>\n",
       "      <td>NEAR BAY</td>\n",
       "    </tr>\n",
       "    <tr>\n",
       "      <th>4</th>\n",
       "      <td>-122.25</td>\n",
       "      <td>37.85</td>\n",
       "      <td>52.0</td>\n",
       "      <td>1627.0</td>\n",
       "      <td>280.0</td>\n",
       "      <td>565.0</td>\n",
       "      <td>259.0</td>\n",
       "      <td>3.8462</td>\n",
       "      <td>342200.0</td>\n",
       "      <td>NEAR BAY</td>\n",
       "    </tr>\n",
       "    <tr>\n",
       "      <th>...</th>\n",
       "      <td>...</td>\n",
       "      <td>...</td>\n",
       "      <td>...</td>\n",
       "      <td>...</td>\n",
       "      <td>...</td>\n",
       "      <td>...</td>\n",
       "      <td>...</td>\n",
       "      <td>...</td>\n",
       "      <td>...</td>\n",
       "      <td>...</td>\n",
       "    </tr>\n",
       "    <tr>\n",
       "      <th>20635</th>\n",
       "      <td>-121.09</td>\n",
       "      <td>39.48</td>\n",
       "      <td>25.0</td>\n",
       "      <td>1665.0</td>\n",
       "      <td>374.0</td>\n",
       "      <td>845.0</td>\n",
       "      <td>330.0</td>\n",
       "      <td>1.5603</td>\n",
       "      <td>78100.0</td>\n",
       "      <td>INLAND</td>\n",
       "    </tr>\n",
       "    <tr>\n",
       "      <th>20636</th>\n",
       "      <td>-121.21</td>\n",
       "      <td>39.49</td>\n",
       "      <td>18.0</td>\n",
       "      <td>697.0</td>\n",
       "      <td>150.0</td>\n",
       "      <td>356.0</td>\n",
       "      <td>114.0</td>\n",
       "      <td>2.5568</td>\n",
       "      <td>77100.0</td>\n",
       "      <td>INLAND</td>\n",
       "    </tr>\n",
       "    <tr>\n",
       "      <th>20637</th>\n",
       "      <td>-121.22</td>\n",
       "      <td>39.43</td>\n",
       "      <td>17.0</td>\n",
       "      <td>2254.0</td>\n",
       "      <td>485.0</td>\n",
       "      <td>1007.0</td>\n",
       "      <td>433.0</td>\n",
       "      <td>1.7000</td>\n",
       "      <td>92300.0</td>\n",
       "      <td>INLAND</td>\n",
       "    </tr>\n",
       "    <tr>\n",
       "      <th>20638</th>\n",
       "      <td>-121.32</td>\n",
       "      <td>39.43</td>\n",
       "      <td>18.0</td>\n",
       "      <td>1860.0</td>\n",
       "      <td>409.0</td>\n",
       "      <td>741.0</td>\n",
       "      <td>349.0</td>\n",
       "      <td>1.8672</td>\n",
       "      <td>84700.0</td>\n",
       "      <td>INLAND</td>\n",
       "    </tr>\n",
       "    <tr>\n",
       "      <th>20639</th>\n",
       "      <td>-121.24</td>\n",
       "      <td>39.37</td>\n",
       "      <td>16.0</td>\n",
       "      <td>2785.0</td>\n",
       "      <td>616.0</td>\n",
       "      <td>1387.0</td>\n",
       "      <td>530.0</td>\n",
       "      <td>2.3886</td>\n",
       "      <td>89400.0</td>\n",
       "      <td>INLAND</td>\n",
       "    </tr>\n",
       "  </tbody>\n",
       "</table>\n",
       "<p>20640 rows × 10 columns</p>\n",
       "</div>"
      ],
      "text/plain": [
       "       longitude  latitude  housing_median_age  total_rooms  total_bedrooms  \\\n",
       "0        -122.23     37.88                41.0        880.0           129.0   \n",
       "1        -122.22     37.86                21.0       7099.0          1106.0   \n",
       "2        -122.24     37.85                52.0       1467.0           190.0   \n",
       "3        -122.25     37.85                52.0       1274.0           235.0   \n",
       "4        -122.25     37.85                52.0       1627.0           280.0   \n",
       "...          ...       ...                 ...          ...             ...   \n",
       "20635    -121.09     39.48                25.0       1665.0           374.0   \n",
       "20636    -121.21     39.49                18.0        697.0           150.0   \n",
       "20637    -121.22     39.43                17.0       2254.0           485.0   \n",
       "20638    -121.32     39.43                18.0       1860.0           409.0   \n",
       "20639    -121.24     39.37                16.0       2785.0           616.0   \n",
       "\n",
       "       population  households  median_income  median_house_value  \\\n",
       "0           322.0       126.0         8.3252            452600.0   \n",
       "1          2401.0      1138.0         8.3014            358500.0   \n",
       "2           496.0       177.0         7.2574            352100.0   \n",
       "3           558.0       219.0         5.6431            341300.0   \n",
       "4           565.0       259.0         3.8462            342200.0   \n",
       "...           ...         ...            ...                 ...   \n",
       "20635       845.0       330.0         1.5603             78100.0   \n",
       "20636       356.0       114.0         2.5568             77100.0   \n",
       "20637      1007.0       433.0         1.7000             92300.0   \n",
       "20638       741.0       349.0         1.8672             84700.0   \n",
       "20639      1387.0       530.0         2.3886             89400.0   \n",
       "\n",
       "      ocean_proximity  \n",
       "0            NEAR BAY  \n",
       "1            NEAR BAY  \n",
       "2            NEAR BAY  \n",
       "3            NEAR BAY  \n",
       "4            NEAR BAY  \n",
       "...               ...  \n",
       "20635          INLAND  \n",
       "20636          INLAND  \n",
       "20637          INLAND  \n",
       "20638          INLAND  \n",
       "20639          INLAND  \n",
       "\n",
       "[20640 rows x 10 columns]"
      ]
     },
     "execution_count": 47,
     "metadata": {},
     "output_type": "execute_result"
    }
   ],
   "source": [
    "df = pd.read_csv('../data/housing.csv')\n",
    "\n",
    "df"
   ]
  },
  {
   "cell_type": "code",
   "execution_count": 48,
   "id": "7fe8891f",
   "metadata": {},
   "outputs": [
    {
     "data": {
      "text/html": [
       "<div>\n",
       "<style scoped>\n",
       "    .dataframe tbody tr th:only-of-type {\n",
       "        vertical-align: middle;\n",
       "    }\n",
       "\n",
       "    .dataframe tbody tr th {\n",
       "        vertical-align: top;\n",
       "    }\n",
       "\n",
       "    .dataframe thead th {\n",
       "        text-align: right;\n",
       "    }\n",
       "</style>\n",
       "<table border=\"1\" class=\"dataframe\">\n",
       "  <thead>\n",
       "    <tr style=\"text-align: right;\">\n",
       "      <th></th>\n",
       "      <th>longitude</th>\n",
       "      <th>latitude</th>\n",
       "      <th>housing_median_age</th>\n",
       "      <th>total_rooms</th>\n",
       "      <th>total_bedrooms</th>\n",
       "      <th>population</th>\n",
       "      <th>households</th>\n",
       "      <th>median_income</th>\n",
       "      <th>median_house_value</th>\n",
       "      <th>ocean_proximity</th>\n",
       "    </tr>\n",
       "  </thead>\n",
       "  <tbody>\n",
       "    <tr>\n",
       "      <th>0</th>\n",
       "      <td>-122.23</td>\n",
       "      <td>37.88</td>\n",
       "      <td>41.0</td>\n",
       "      <td>880.0</td>\n",
       "      <td>129.0</td>\n",
       "      <td>322.0</td>\n",
       "      <td>126.0</td>\n",
       "      <td>8.3252</td>\n",
       "      <td>452600.0</td>\n",
       "      <td>NEAR BAY</td>\n",
       "    </tr>\n",
       "    <tr>\n",
       "      <th>1</th>\n",
       "      <td>-122.22</td>\n",
       "      <td>37.86</td>\n",
       "      <td>21.0</td>\n",
       "      <td>7099.0</td>\n",
       "      <td>1106.0</td>\n",
       "      <td>2401.0</td>\n",
       "      <td>1138.0</td>\n",
       "      <td>8.3014</td>\n",
       "      <td>358500.0</td>\n",
       "      <td>NEAR BAY</td>\n",
       "    </tr>\n",
       "    <tr>\n",
       "      <th>2</th>\n",
       "      <td>-122.24</td>\n",
       "      <td>37.85</td>\n",
       "      <td>52.0</td>\n",
       "      <td>1467.0</td>\n",
       "      <td>190.0</td>\n",
       "      <td>496.0</td>\n",
       "      <td>177.0</td>\n",
       "      <td>7.2574</td>\n",
       "      <td>352100.0</td>\n",
       "      <td>NEAR BAY</td>\n",
       "    </tr>\n",
       "    <tr>\n",
       "      <th>3</th>\n",
       "      <td>-122.25</td>\n",
       "      <td>37.85</td>\n",
       "      <td>52.0</td>\n",
       "      <td>1274.0</td>\n",
       "      <td>235.0</td>\n",
       "      <td>558.0</td>\n",
       "      <td>219.0</td>\n",
       "      <td>5.6431</td>\n",
       "      <td>341300.0</td>\n",
       "      <td>NEAR BAY</td>\n",
       "    </tr>\n",
       "    <tr>\n",
       "      <th>4</th>\n",
       "      <td>-122.25</td>\n",
       "      <td>37.85</td>\n",
       "      <td>52.0</td>\n",
       "      <td>1627.0</td>\n",
       "      <td>280.0</td>\n",
       "      <td>565.0</td>\n",
       "      <td>259.0</td>\n",
       "      <td>3.8462</td>\n",
       "      <td>342200.0</td>\n",
       "      <td>NEAR BAY</td>\n",
       "    </tr>\n",
       "  </tbody>\n",
       "</table>\n",
       "</div>"
      ],
      "text/plain": [
       "   longitude  latitude  housing_median_age  total_rooms  total_bedrooms  \\\n",
       "0    -122.23     37.88                41.0        880.0           129.0   \n",
       "1    -122.22     37.86                21.0       7099.0          1106.0   \n",
       "2    -122.24     37.85                52.0       1467.0           190.0   \n",
       "3    -122.25     37.85                52.0       1274.0           235.0   \n",
       "4    -122.25     37.85                52.0       1627.0           280.0   \n",
       "\n",
       "   population  households  median_income  median_house_value ocean_proximity  \n",
       "0       322.0       126.0         8.3252            452600.0        NEAR BAY  \n",
       "1      2401.0      1138.0         8.3014            358500.0        NEAR BAY  \n",
       "2       496.0       177.0         7.2574            352100.0        NEAR BAY  \n",
       "3       558.0       219.0         5.6431            341300.0        NEAR BAY  \n",
       "4       565.0       259.0         3.8462            342200.0        NEAR BAY  "
      ]
     },
     "execution_count": 48,
     "metadata": {},
     "output_type": "execute_result"
    }
   ],
   "source": [
    "df.head()"
   ]
  },
  {
   "cell_type": "code",
   "execution_count": 49,
   "id": "b54bde3e",
   "metadata": {},
   "outputs": [
    {
     "data": {
      "text/html": [
       "<div>\n",
       "<style scoped>\n",
       "    .dataframe tbody tr th:only-of-type {\n",
       "        vertical-align: middle;\n",
       "    }\n",
       "\n",
       "    .dataframe tbody tr th {\n",
       "        vertical-align: top;\n",
       "    }\n",
       "\n",
       "    .dataframe thead th {\n",
       "        text-align: right;\n",
       "    }\n",
       "</style>\n",
       "<table border=\"1\" class=\"dataframe\">\n",
       "  <thead>\n",
       "    <tr style=\"text-align: right;\">\n",
       "      <th></th>\n",
       "      <th>longitude</th>\n",
       "      <th>housing_median_age</th>\n",
       "      <th>total_rooms</th>\n",
       "      <th>total_bedrooms</th>\n",
       "      <th>population</th>\n",
       "      <th>households</th>\n",
       "      <th>median_income</th>\n",
       "      <th>median_house_value</th>\n",
       "      <th>ocean_proximity</th>\n",
       "    </tr>\n",
       "  </thead>\n",
       "  <tbody>\n",
       "    <tr>\n",
       "      <th>0</th>\n",
       "      <td>-122.23</td>\n",
       "      <td>41.0</td>\n",
       "      <td>880.0</td>\n",
       "      <td>129.0</td>\n",
       "      <td>322.0</td>\n",
       "      <td>126.0</td>\n",
       "      <td>8.3252</td>\n",
       "      <td>452600.0</td>\n",
       "      <td>NEAR BAY</td>\n",
       "    </tr>\n",
       "    <tr>\n",
       "      <th>1</th>\n",
       "      <td>-122.22</td>\n",
       "      <td>21.0</td>\n",
       "      <td>7099.0</td>\n",
       "      <td>1106.0</td>\n",
       "      <td>2401.0</td>\n",
       "      <td>1138.0</td>\n",
       "      <td>8.3014</td>\n",
       "      <td>358500.0</td>\n",
       "      <td>NEAR BAY</td>\n",
       "    </tr>\n",
       "    <tr>\n",
       "      <th>2</th>\n",
       "      <td>-122.24</td>\n",
       "      <td>52.0</td>\n",
       "      <td>1467.0</td>\n",
       "      <td>190.0</td>\n",
       "      <td>496.0</td>\n",
       "      <td>177.0</td>\n",
       "      <td>7.2574</td>\n",
       "      <td>352100.0</td>\n",
       "      <td>NEAR BAY</td>\n",
       "    </tr>\n",
       "    <tr>\n",
       "      <th>3</th>\n",
       "      <td>-122.25</td>\n",
       "      <td>52.0</td>\n",
       "      <td>1274.0</td>\n",
       "      <td>235.0</td>\n",
       "      <td>558.0</td>\n",
       "      <td>219.0</td>\n",
       "      <td>5.6431</td>\n",
       "      <td>341300.0</td>\n",
       "      <td>NEAR BAY</td>\n",
       "    </tr>\n",
       "    <tr>\n",
       "      <th>4</th>\n",
       "      <td>-122.25</td>\n",
       "      <td>52.0</td>\n",
       "      <td>1627.0</td>\n",
       "      <td>280.0</td>\n",
       "      <td>565.0</td>\n",
       "      <td>259.0</td>\n",
       "      <td>3.8462</td>\n",
       "      <td>342200.0</td>\n",
       "      <td>NEAR BAY</td>\n",
       "    </tr>\n",
       "    <tr>\n",
       "      <th>...</th>\n",
       "      <td>...</td>\n",
       "      <td>...</td>\n",
       "      <td>...</td>\n",
       "      <td>...</td>\n",
       "      <td>...</td>\n",
       "      <td>...</td>\n",
       "      <td>...</td>\n",
       "      <td>...</td>\n",
       "      <td>...</td>\n",
       "    </tr>\n",
       "    <tr>\n",
       "      <th>20635</th>\n",
       "      <td>-121.09</td>\n",
       "      <td>25.0</td>\n",
       "      <td>1665.0</td>\n",
       "      <td>374.0</td>\n",
       "      <td>845.0</td>\n",
       "      <td>330.0</td>\n",
       "      <td>1.5603</td>\n",
       "      <td>78100.0</td>\n",
       "      <td>INLAND</td>\n",
       "    </tr>\n",
       "    <tr>\n",
       "      <th>20636</th>\n",
       "      <td>-121.21</td>\n",
       "      <td>18.0</td>\n",
       "      <td>697.0</td>\n",
       "      <td>150.0</td>\n",
       "      <td>356.0</td>\n",
       "      <td>114.0</td>\n",
       "      <td>2.5568</td>\n",
       "      <td>77100.0</td>\n",
       "      <td>INLAND</td>\n",
       "    </tr>\n",
       "    <tr>\n",
       "      <th>20637</th>\n",
       "      <td>-121.22</td>\n",
       "      <td>17.0</td>\n",
       "      <td>2254.0</td>\n",
       "      <td>485.0</td>\n",
       "      <td>1007.0</td>\n",
       "      <td>433.0</td>\n",
       "      <td>1.7000</td>\n",
       "      <td>92300.0</td>\n",
       "      <td>INLAND</td>\n",
       "    </tr>\n",
       "    <tr>\n",
       "      <th>20638</th>\n",
       "      <td>-121.32</td>\n",
       "      <td>18.0</td>\n",
       "      <td>1860.0</td>\n",
       "      <td>409.0</td>\n",
       "      <td>741.0</td>\n",
       "      <td>349.0</td>\n",
       "      <td>1.8672</td>\n",
       "      <td>84700.0</td>\n",
       "      <td>INLAND</td>\n",
       "    </tr>\n",
       "    <tr>\n",
       "      <th>20639</th>\n",
       "      <td>-121.24</td>\n",
       "      <td>16.0</td>\n",
       "      <td>2785.0</td>\n",
       "      <td>616.0</td>\n",
       "      <td>1387.0</td>\n",
       "      <td>530.0</td>\n",
       "      <td>2.3886</td>\n",
       "      <td>89400.0</td>\n",
       "      <td>INLAND</td>\n",
       "    </tr>\n",
       "  </tbody>\n",
       "</table>\n",
       "<p>20640 rows × 9 columns</p>\n",
       "</div>"
      ],
      "text/plain": [
       "       longitude  housing_median_age  total_rooms  total_bedrooms  population  \\\n",
       "0        -122.23                41.0        880.0           129.0       322.0   \n",
       "1        -122.22                21.0       7099.0          1106.0      2401.0   \n",
       "2        -122.24                52.0       1467.0           190.0       496.0   \n",
       "3        -122.25                52.0       1274.0           235.0       558.0   \n",
       "4        -122.25                52.0       1627.0           280.0       565.0   \n",
       "...          ...                 ...          ...             ...         ...   \n",
       "20635    -121.09                25.0       1665.0           374.0       845.0   \n",
       "20636    -121.21                18.0        697.0           150.0       356.0   \n",
       "20637    -121.22                17.0       2254.0           485.0      1007.0   \n",
       "20638    -121.32                18.0       1860.0           409.0       741.0   \n",
       "20639    -121.24                16.0       2785.0           616.0      1387.0   \n",
       "\n",
       "       households  median_income  median_house_value ocean_proximity  \n",
       "0           126.0         8.3252            452600.0        NEAR BAY  \n",
       "1          1138.0         8.3014            358500.0        NEAR BAY  \n",
       "2           177.0         7.2574            352100.0        NEAR BAY  \n",
       "3           219.0         5.6431            341300.0        NEAR BAY  \n",
       "4           259.0         3.8462            342200.0        NEAR BAY  \n",
       "...           ...            ...                 ...             ...  \n",
       "20635       330.0         1.5603             78100.0          INLAND  \n",
       "20636       114.0         2.5568             77100.0          INLAND  \n",
       "20637       433.0         1.7000             92300.0          INLAND  \n",
       "20638       349.0         1.8672             84700.0          INLAND  \n",
       "20639       530.0         2.3886             89400.0          INLAND  \n",
       "\n",
       "[20640 rows x 9 columns]"
      ]
     },
     "execution_count": 49,
     "metadata": {},
     "output_type": "execute_result"
    }
   ],
   "source": [
    "df = df.drop(\"latitude\", axis=1)\n",
    "\n",
    "df"
   ]
  },
  {
   "cell_type": "code",
   "execution_count": 50,
   "id": "80392721",
   "metadata": {},
   "outputs": [
    {
     "data": {
      "text/html": [
       "<div>\n",
       "<style scoped>\n",
       "    .dataframe tbody tr th:only-of-type {\n",
       "        vertical-align: middle;\n",
       "    }\n",
       "\n",
       "    .dataframe tbody tr th {\n",
       "        vertical-align: top;\n",
       "    }\n",
       "\n",
       "    .dataframe thead th {\n",
       "        text-align: right;\n",
       "    }\n",
       "</style>\n",
       "<table border=\"1\" class=\"dataframe\">\n",
       "  <thead>\n",
       "    <tr style=\"text-align: right;\">\n",
       "      <th></th>\n",
       "      <th>longitude</th>\n",
       "      <th>housing_median_age</th>\n",
       "      <th>total_rooms</th>\n",
       "      <th>total_bedrooms</th>\n",
       "      <th>population</th>\n",
       "      <th>households</th>\n",
       "      <th>median_income</th>\n",
       "      <th>median_house_value</th>\n",
       "      <th>ocean_proximity</th>\n",
       "    </tr>\n",
       "  </thead>\n",
       "  <tbody>\n",
       "    <tr>\n",
       "      <th>2</th>\n",
       "      <td>-122.24</td>\n",
       "      <td>52.0</td>\n",
       "      <td>1467.0</td>\n",
       "      <td>190.0</td>\n",
       "      <td>496.0</td>\n",
       "      <td>177.0</td>\n",
       "      <td>7.2574</td>\n",
       "      <td>352100.0</td>\n",
       "      <td>NEAR BAY</td>\n",
       "    </tr>\n",
       "    <tr>\n",
       "      <th>3</th>\n",
       "      <td>-122.25</td>\n",
       "      <td>52.0</td>\n",
       "      <td>1274.0</td>\n",
       "      <td>235.0</td>\n",
       "      <td>558.0</td>\n",
       "      <td>219.0</td>\n",
       "      <td>5.6431</td>\n",
       "      <td>341300.0</td>\n",
       "      <td>NEAR BAY</td>\n",
       "    </tr>\n",
       "    <tr>\n",
       "      <th>4</th>\n",
       "      <td>-122.25</td>\n",
       "      <td>52.0</td>\n",
       "      <td>1627.0</td>\n",
       "      <td>280.0</td>\n",
       "      <td>565.0</td>\n",
       "      <td>259.0</td>\n",
       "      <td>3.8462</td>\n",
       "      <td>342200.0</td>\n",
       "      <td>NEAR BAY</td>\n",
       "    </tr>\n",
       "    <tr>\n",
       "      <th>5</th>\n",
       "      <td>-122.25</td>\n",
       "      <td>52.0</td>\n",
       "      <td>919.0</td>\n",
       "      <td>213.0</td>\n",
       "      <td>413.0</td>\n",
       "      <td>193.0</td>\n",
       "      <td>4.0368</td>\n",
       "      <td>269700.0</td>\n",
       "      <td>NEAR BAY</td>\n",
       "    </tr>\n",
       "    <tr>\n",
       "      <th>6</th>\n",
       "      <td>-122.25</td>\n",
       "      <td>52.0</td>\n",
       "      <td>2535.0</td>\n",
       "      <td>489.0</td>\n",
       "      <td>1094.0</td>\n",
       "      <td>514.0</td>\n",
       "      <td>3.6591</td>\n",
       "      <td>299200.0</td>\n",
       "      <td>NEAR BAY</td>\n",
       "    </tr>\n",
       "    <tr>\n",
       "      <th>...</th>\n",
       "      <td>...</td>\n",
       "      <td>...</td>\n",
       "      <td>...</td>\n",
       "      <td>...</td>\n",
       "      <td>...</td>\n",
       "      <td>...</td>\n",
       "      <td>...</td>\n",
       "      <td>...</td>\n",
       "      <td>...</td>\n",
       "    </tr>\n",
       "    <tr>\n",
       "      <th>20142</th>\n",
       "      <td>-119.06</td>\n",
       "      <td>52.0</td>\n",
       "      <td>1239.0</td>\n",
       "      <td>320.0</td>\n",
       "      <td>934.0</td>\n",
       "      <td>298.0</td>\n",
       "      <td>1.8618</td>\n",
       "      <td>183300.0</td>\n",
       "      <td>&lt;1H OCEAN</td>\n",
       "    </tr>\n",
       "    <tr>\n",
       "      <th>20220</th>\n",
       "      <td>-119.27</td>\n",
       "      <td>52.0</td>\n",
       "      <td>2239.0</td>\n",
       "      <td>420.0</td>\n",
       "      <td>941.0</td>\n",
       "      <td>397.0</td>\n",
       "      <td>4.1250</td>\n",
       "      <td>349000.0</td>\n",
       "      <td>NEAR OCEAN</td>\n",
       "    </tr>\n",
       "    <tr>\n",
       "      <th>20236</th>\n",
       "      <td>-119.27</td>\n",
       "      <td>52.0</td>\n",
       "      <td>459.0</td>\n",
       "      <td>112.0</td>\n",
       "      <td>276.0</td>\n",
       "      <td>107.0</td>\n",
       "      <td>2.3750</td>\n",
       "      <td>198400.0</td>\n",
       "      <td>NEAR OCEAN</td>\n",
       "    </tr>\n",
       "    <tr>\n",
       "      <th>20237</th>\n",
       "      <td>-119.27</td>\n",
       "      <td>52.0</td>\n",
       "      <td>1577.0</td>\n",
       "      <td>343.0</td>\n",
       "      <td>836.0</td>\n",
       "      <td>335.0</td>\n",
       "      <td>3.5893</td>\n",
       "      <td>206600.0</td>\n",
       "      <td>NEAR OCEAN</td>\n",
       "    </tr>\n",
       "    <tr>\n",
       "      <th>20592</th>\n",
       "      <td>-121.58</td>\n",
       "      <td>52.0</td>\n",
       "      <td>662.0</td>\n",
       "      <td>160.0</td>\n",
       "      <td>520.0</td>\n",
       "      <td>149.0</td>\n",
       "      <td>0.8928</td>\n",
       "      <td>55000.0</td>\n",
       "      <td>INLAND</td>\n",
       "    </tr>\n",
       "  </tbody>\n",
       "</table>\n",
       "<p>1321 rows × 9 columns</p>\n",
       "</div>"
      ],
      "text/plain": [
       "       longitude  housing_median_age  total_rooms  total_bedrooms  population  \\\n",
       "2        -122.24                52.0       1467.0           190.0       496.0   \n",
       "3        -122.25                52.0       1274.0           235.0       558.0   \n",
       "4        -122.25                52.0       1627.0           280.0       565.0   \n",
       "5        -122.25                52.0        919.0           213.0       413.0   \n",
       "6        -122.25                52.0       2535.0           489.0      1094.0   \n",
       "...          ...                 ...          ...             ...         ...   \n",
       "20142    -119.06                52.0       1239.0           320.0       934.0   \n",
       "20220    -119.27                52.0       2239.0           420.0       941.0   \n",
       "20236    -119.27                52.0        459.0           112.0       276.0   \n",
       "20237    -119.27                52.0       1577.0           343.0       836.0   \n",
       "20592    -121.58                52.0        662.0           160.0       520.0   \n",
       "\n",
       "       households  median_income  median_house_value ocean_proximity  \n",
       "2           177.0         7.2574            352100.0        NEAR BAY  \n",
       "3           219.0         5.6431            341300.0        NEAR BAY  \n",
       "4           259.0         3.8462            342200.0        NEAR BAY  \n",
       "5           193.0         4.0368            269700.0        NEAR BAY  \n",
       "6           514.0         3.6591            299200.0        NEAR BAY  \n",
       "...           ...            ...                 ...             ...  \n",
       "20142       298.0         1.8618            183300.0       <1H OCEAN  \n",
       "20220       397.0         4.1250            349000.0      NEAR OCEAN  \n",
       "20236       107.0         2.3750            198400.0      NEAR OCEAN  \n",
       "20237       335.0         3.5893            206600.0      NEAR OCEAN  \n",
       "20592       149.0         0.8928             55000.0          INLAND  \n",
       "\n",
       "[1321 rows x 9 columns]"
      ]
     },
     "execution_count": 50,
     "metadata": {},
     "output_type": "execute_result"
    }
   ],
   "source": [
    "df[df.housing_median_age > 50]"
   ]
  }
 ],
 "metadata": {
  "kernelspec": {
   "display_name": "Python 3 (ipykernel)",
   "language": "python",
   "name": "python3"
  },
  "language_info": {
   "codemirror_mode": {
    "name": "ipython",
    "version": 3
   },
   "file_extension": ".py",
   "mimetype": "text/x-python",
   "name": "python",
   "nbconvert_exporter": "python",
   "pygments_lexer": "ipython3",
   "version": "3.9.13"
  }
 },
 "nbformat": 4,
 "nbformat_minor": 5
}
