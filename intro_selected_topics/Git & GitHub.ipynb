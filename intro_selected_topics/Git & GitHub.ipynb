{
 "cells": [
  {
   "cell_type": "markdown",
   "id": "7113dac3",
   "metadata": {},
   "source": [
    "# Introduction to Git \n"
   ]
  },
  {
   "cell_type": "code",
   "execution_count": 1,
   "id": "c4a9534a",
   "metadata": {},
   "outputs": [],
   "source": [
    "from IPython.display import Image\n",
    "from IPython.core.display import HTML "
   ]
  },
  {
   "cell_type": "markdown",
   "id": "c5da8e83",
   "metadata": {},
   "source": [
    "<b>Git</b> is a version control system that allows you to track changes in your code over time.\n",
    "* it helps us keep track code changes\n",
    "* the authors of the changes\n",
    "* it also helps us collaborate on code\n",
    "\n",
    "Git is currently by far the most popular software repository. It is primarily used for\n",
    "software development, but you can version all kinds of data with it."
   ]
  },
  {
   "cell_type": "markdown",
   "id": "0b9513c4",
   "metadata": {},
   "source": [
    "## What does Git do?\n",
    "\n",
    "* it allows us to manage projects with <b> Repositories </b>\n",
    "* it allows us to <b> clone </b> a project to work on a local copy\n",
    "* it allows us to track changes through <b> staging </b> and <b> commiting </b>\n",
    "* <b> branch </b> and <b> merge </b> to allow for wotk on different parts and versions of the project\n",
    "* <b> pull </b> the latest version of the project to a local (on your pc) copy\n",
    "* <b> push </b> local updates to the main project"
   ]
  },
  {
   "cell_type": "code",
   "execution_count": 2,
   "id": "228144dd",
   "metadata": {},
   "outputs": [
    {
     "data": {
      "text/html": [
       "<img src=\"../img/git1.png\" width=\"400\" height=\"1200\"/>"
      ],
      "text/plain": [
       "<IPython.core.display.Image object>"
      ]
     },
     "execution_count": 2,
     "metadata": {},
     "output_type": "execute_result"
    }
   ],
   "source": [
    "Image(url= \"../img/git1.png\", width=400, height=1200)"
   ]
  },
  {
   "cell_type": "markdown",
   "id": "664e1a66",
   "metadata": {},
   "source": [
    "## Version control"
   ]
  },
  {
   "cell_type": "markdown",
   "id": "4d201c10",
   "metadata": {},
   "source": [
    "When more than one person (or even just a single person) works on some program\n",
    "program (or data in the broadest sense), there is a danger of quickly creating a chaos of versions.\n",
    "\n",
    "Version management programs (code repositories), such as Git, attempt to\n",
    "solve this problem\n",
    "- by storing the individual versions, documenting them and making them retrievable\n",
    "- try to make changes visible and automatically merge them if necessary"
   ]
  },
  {
   "cell_type": "code",
   "execution_count": 3,
   "id": "94e021b5",
   "metadata": {},
   "outputs": [
    {
     "data": {
      "text/html": [
       "<img src=\"../img/git2.png\" width=\"400\" height=\"1200\"/>"
      ],
      "text/plain": [
       "<IPython.core.display.Image object>"
      ]
     },
     "execution_count": 3,
     "metadata": {},
     "output_type": "execute_result"
    }
   ],
   "source": [
    "Image(url= \"../img/git2.png\", width=400, height=1200)"
   ]
  },
  {
   "cell_type": "markdown",
   "id": "5b880c88",
   "metadata": {},
   "source": [
    "## Basic Git commands"
   ]
  },
  {
   "cell_type": "markdown",
   "id": "98a955e4",
   "metadata": {},
   "source": [
    "| Command   | Purpose    |\n",
    "|-------------:|:-----------|\n",
    "| ``` git init ``` | initializes a new Git repository in the current directory|\n",
    "| ``` git add <file> ```  | adds a file to the staging area | \n",
    "| ``` git commit -m \"<message>\": ``` | commits the changes in the staging area with a message describing the changes | \n",
    "| ``` git status ``` | shows the current status of the repository | \n",
    "| ``` git log ``` | shows the commit history of the repository | \n",
    "| ``` git <command> help ``` | gives help on specific options for commands | \n"
   ]
  },
  {
   "cell_type": "markdown",
   "id": "90832f91",
   "metadata": {},
   "source": [
    "### Let's get started"
   ]
  },
  {
   "cell_type": "markdown",
   "id": "f54c615d",
   "metadata": {},
   "source": [
    "To start using Git, we are first going to open up our Command shell.\n",
    "\n",
    "For Windows, you can use Git bash, which comes included in Git for Windows. For Mac and Linux you can use the built-in terminal.\n",
    "\n",
    "The first thing we need to do, is to check if Git is properly installed:\n",
    "\n"
   ]
  },
  {
   "cell_type": "code",
   "execution_count": 4,
   "id": "28d703e2",
   "metadata": {},
   "outputs": [
    {
     "data": {
      "text/html": [
       "<img src=\"../img/git3.png\"/>"
      ],
      "text/plain": [
       "<IPython.core.display.Image object>"
      ]
     },
     "execution_count": 4,
     "metadata": {},
     "output_type": "execute_result"
    }
   ],
   "source": [
    "Image(url= \"../img/git3.png\")"
   ]
  },
  {
   "cell_type": "markdown",
   "id": "14095b7b",
   "metadata": {},
   "source": [
    "If Git is installed, it should show something like git version X.Y\n",
    "\n"
   ]
  },
  {
   "cell_type": "markdown",
   "id": "c7a73478",
   "metadata": {},
   "source": [
    "Now let Git know who you are. This is important for version control systems, as each Git commit uses this information:\n",
    "\n"
   ]
  },
  {
   "cell_type": "markdown",
   "id": "f513f74e",
   "metadata": {},
   "source": [
    "```\n",
    "$ git config --global user.name \"lucijakrusic\"\n",
    "\n",
    "$ git config --global user.email \"lucija.krusic1@gmail.com\"\n",
    "\n",
    "```"
   ]
  },
  {
   "cell_type": "markdown",
   "id": "86c0f284",
   "metadata": {},
   "source": [
    "We can also use:\n",
    "    \n",
    "```\n",
    "$ git config --list\n",
    "```\n",
    "    \n",
    "to list out all the configuration settings available. Exit by pressing ```q```."
   ]
  },
  {
   "cell_type": "markdown",
   "id": "776fb8e2",
   "metadata": {},
   "source": [
    "We can e.g. set up a text editor to configure git. To do that use:\n",
    " ``` \n",
    " $ git config --global core.editor (editor_path)\n",
    " ```\n",
    " \n",
    " such as\n",
    " \n",
    " ```\n",
    " $ git config --global core.editor C:\\WINDOWS\\system32\\notepad.exe\n",
    " ```"
   ]
  },
  {
   "cell_type": "markdown",
   "id": "a3e53634",
   "metadata": {},
   "source": [
    "### Making a git folder"
   ]
  },
  {
   "cell_type": "markdown",
   "id": "e88af19f",
   "metadata": {},
   "source": [
    "Let's make a new folder in the command line:\n",
    "* ``mkdir`` makes a new directory\n",
    "* we use ``cd`` to change the directory we're currently in"
   ]
  },
  {
   "cell_type": "markdown",
   "id": "974b3c36",
   "metadata": {},
   "source": [
    "```\n",
    "mkdir myproject\n",
    "cd myproject\n",
    "\n",
    "```"
   ]
  },
  {
   "cell_type": "markdown",
   "id": "2a9687ee",
   "metadata": {},
   "source": [
    "<u> Note:</u> If you already have a folder/directory you would like to use for Git:\n",
    "\n",
    "Navigate to it in command line, or open it in your file explorer, right-click and select \"Git Bash here\"\n",
    "\n"
   ]
  },
  {
   "cell_type": "markdown",
   "id": "e4c69743",
   "metadata": {},
   "source": [
    "Once we have navigated to the correct folder, we initialize git by:"
   ]
  },
  {
   "cell_type": "markdown",
   "id": "d2653552",
   "metadata": {},
   "source": [
    "```\n",
    "$ git init\n",
    "```"
   ]
  },
  {
   "cell_type": "markdown",
   "id": "0295ee8c",
   "metadata": {},
   "source": [
    "And we get a message such as:"
   ]
  },
  {
   "cell_type": "markdown",
   "id": "991d8003",
   "metadata": {},
   "source": [
    "```\n",
    "Initialized empty Git repository in C:/Users/krusic/Documents/GitHub/test/.git/\n",
    "\n",
    "```"
   ]
  },
  {
   "cell_type": "markdown",
   "id": "a3c627d5",
   "metadata": {},
   "source": [
    "### Adding a file"
   ]
  },
  {
   "cell_type": "markdown",
   "id": "7ee1918a",
   "metadata": {},
   "source": [
    "You just created your first local Git rep, but right now it's empty.\n",
    "\n",
    "So let's add some files, or create a new file called ```test.txt``` using your favourite text editor. Add some text, then save or move it to the folder you just created.\n",
    "\n",
    "We can test the status of the repo after we do thet.\n",
    "\n",
    "So,\n",
    "\n",
    "```\n",
    "$ git status\n",
    "\n",
    "```\n",
    "\n",
    "should yield something like:\n"
   ]
  },
  {
   "cell_type": "code",
   "execution_count": 5,
   "id": "a01cd48b",
   "metadata": {},
   "outputs": [
    {
     "data": {
      "text/html": [
       "<img src=\"../img/git4.png\"/>"
      ],
      "text/plain": [
       "<IPython.core.display.Image object>"
      ]
     },
     "execution_count": 5,
     "metadata": {},
     "output_type": "execute_result"
    }
   ],
   "source": [
    "Image(url= \"../img/git4.png\")"
   ]
  },
  {
   "cell_type": "markdown",
   "id": "1931de34",
   "metadata": {},
   "source": [
    "### Git staging environment"
   ]
  },
  {
   "cell_type": "markdown",
   "id": "2fa78036",
   "metadata": {},
   "source": [
    "One of the core functions of Git is the concepts of the <b>Staging Environment</b>, and the <b>Commit</b>.\n",
    "\n",
    "As you are working, you may be adding, editing and removing files. But whenever you hit a milestone or finish a part of the work, you should add the files to a Staging Environment.\n",
    "\n",
    "Staged files are files that are ready to be committed to the repository you are working on. \n",
    "For now, we're done with ```test.txt ```, so let's add it to a staging environment.\n",
    "\n",
    "\n"
   ]
  },
  {
   "cell_type": "markdown",
   "id": "4f01face",
   "metadata": {},
   "source": [
    "\n",
    "\n",
    "```\n",
    "$git add \"test.txt\"\n",
    "\n",
    "```"
   ]
  },
  {
   "cell_type": "markdown",
   "id": "af7c6510",
   "metadata": {},
   "source": [
    "The file should now be staged. let's check the status:"
   ]
  },
  {
   "cell_type": "markdown",
   "id": "1563715b",
   "metadata": {},
   "source": [
    "``` \n",
    "$ git status\n",
    "\n",
    "```"
   ]
  },
  {
   "cell_type": "code",
   "execution_count": 6,
   "id": "a2935682",
   "metadata": {},
   "outputs": [
    {
     "data": {
      "text/html": [
       "<img src=\"../img/git5.png\"/>"
      ],
      "text/plain": [
       "<IPython.core.display.Image object>"
      ]
     },
     "execution_count": 6,
     "metadata": {},
     "output_type": "execute_result"
    }
   ],
   "source": [
    "Image(url= \"../img/git5.png\")"
   ]
  },
  {
   "cell_type": "markdown",
   "id": "0123e9af",
   "metadata": {},
   "source": [
    "We can also add multiple files at once to the staging environment.\n",
    "We do that using ```git add --all``` or ``` git add -A ``` or ``` git add *```.\n",
    "\n",
    "\n",
    "Using --all instead of individual filenames will stage all changes (new, modified, and deleted) files.\n",
    "\n"
   ]
  },
  {
   "cell_type": "markdown",
   "id": "677b5f50",
   "metadata": {},
   "source": [
    "### Git commit"
   ]
  },
  {
   "cell_type": "markdown",
   "id": "d6546f79",
   "metadata": {},
   "source": [
    "Since we have finished our work, let's commit it.\n",
    "\n",
    "Adding commits keep track of our progress and changes as we work. Git considers each commit change point or \"save point\". It is a point in the project you can go back to if you find a bug, or want to make a change.\n",
    "\n",
    "When we commit, we should always include a message explaining what the newly commited change was.\n",
    "\n",
    "By adding clear messages to each commit, it is easy for yourself (and others) to see what has changed and when.\n",
    "\n"
   ]
  },
  {
   "cell_type": "markdown",
   "id": "368a8b6d",
   "metadata": {},
   "source": [
    "```\n",
    "$git commit -m \"First release of the file test.txt\"\n",
    "\n",
    "```"
   ]
  },
  {
   "cell_type": "markdown",
   "id": "484e0739",
   "metadata": {},
   "source": [
    "where ```commit``` performs the commit and ```-m``` stands for \"message\". This should give us a result looking like:"
   ]
  },
  {
   "cell_type": "code",
   "execution_count": 7,
   "id": "2aa9e2d5",
   "metadata": {},
   "outputs": [
    {
     "data": {
      "text/html": [
       "<img src=\"../img/git6.png\"/>"
      ],
      "text/plain": [
       "<IPython.core.display.Image object>"
      ]
     },
     "execution_count": 7,
     "metadata": {},
     "output_type": "execute_result"
    }
   ],
   "source": [
    "Image(url= \"../img/git6.png\")"
   ]
  },
  {
   "cell_type": "markdown",
   "id": "b291068d",
   "metadata": {},
   "source": [
    "#### Git status"
   ]
  },
  {
   "cell_type": "markdown",
   "id": "6cddd75f",
   "metadata": {},
   "source": [
    "We might also want to commit without staging (if we make very small changes, where staging isn't neccessary). \n",
    "Let's do a small update to \"test.txt\" by adding a new line.\n",
    "\n",
    "Now, let's check the status of our repo, by using the ```--short``` option to see the changes more compactly."
   ]
  },
  {
   "cell_type": "code",
   "execution_count": 8,
   "id": "1e28d0e2",
   "metadata": {},
   "outputs": [
    {
     "data": {
      "text/html": [
       "<img src=\"../img/git7.png\"/>"
      ],
      "text/plain": [
       "<IPython.core.display.Image object>"
      ]
     },
     "execution_count": 8,
     "metadata": {},
     "output_type": "execute_result"
    }
   ],
   "source": [
    "Image(url= \"../img/git7.png\")"
   ]
  },
  {
   "cell_type": "markdown",
   "id": "2f139a09",
   "metadata": {},
   "source": [
    "Here, the ```M``` stands for ```modified```, meaning that git knows we've changed a file.\n",
    "\n",
    "\n",
    "| Flag   | mening    |\n",
    "|-------------:|:-----------|\n",
    "| ``` M ``` | modified files |\n",
    "| ``` ?? ```  | untracked files | \n",
    "| ``` A ``` | files added to stage |\n",
    "\n",
    "Let's now commit directly by:\n",
    "\n",
    "```\n",
    "$ git commit -a -m \"updated 'test.txt' by adding a new line\"\n",
    "\n",
    "```"
   ]
  },
  {
   "cell_type": "markdown",
   "id": "31475d5a",
   "metadata": {},
   "source": [
    "#### Git log"
   ]
  },
  {
   "cell_type": "markdown",
   "id": "18db4761",
   "metadata": {},
   "source": [
    "To view the history of commits for a repository, you can use the ```log``` command:\n",
    "\n"
   ]
  },
  {
   "cell_type": "code",
   "execution_count": 9,
   "id": "dcc78db8",
   "metadata": {},
   "outputs": [
    {
     "data": {
      "text/html": [
       "<img src=\"../img/git8.png\"/>"
      ],
      "text/plain": [
       "<IPython.core.display.Image object>"
      ]
     },
     "execution_count": 9,
     "metadata": {},
     "output_type": "execute_result"
    }
   ],
   "source": [
    "Image(url= \"../img/git8.png\")"
   ]
  },
  {
   "cell_type": "markdown",
   "id": "60be8bee",
   "metadata": {},
   "source": [
    "#### Git undo commands"
   ]
  },
  {
   "cell_type": "markdown",
   "id": "42ec47d6",
   "metadata": {},
   "source": [
    "| Command   | Purpose    |\n",
    "|-------------:|:-----------|\n",
    "| ``` git revert  ``` | we want to take a previous commit and add it as a new commit, keeping the log intact|\n",
    "| ``` git reset ```  |  we want to move the repository back to a previous commit, discarding any changes made after that commit | \n",
    "| ``` git commit --ammend``` | is used to modify the most recent commit. | \n"
   ]
  },
  {
   "cell_type": "markdown",
   "id": "c21ddc67",
   "metadata": {},
   "source": [
    "#### Git help"
   ]
  },
  {
   "cell_type": "markdown",
   "id": "35a172a8",
   "metadata": {},
   "source": [
    "If we need help remembering options for a specific command, we can always use ``` git <command> -help```, e.g.\n",
    "\n",
    "```\n",
    " git commit -help\n",
    "\n",
    "```\n",
    "\n",
    "And to list all possible commands we use\n",
    "\n",
    "```\n",
    "\n",
    "git help -all\n",
    "\n",
    "```"
   ]
  },
  {
   "cell_type": "markdown",
   "id": "bc983f5f",
   "metadata": {},
   "source": [
    "in the end, the whole process of us working on a particular project is:\n",
    "\n",
    "``` \n",
    "hack hack hack -> git status -> git add -> git commit -> hack hack hack\n",
    "\n",
    "```"
   ]
  },
  {
   "cell_type": "markdown",
   "id": "ea8e71a3",
   "metadata": {},
   "source": [
    "<div class=\"alert alert-block alert-info\">\n",
    "<b>Exercise 1</b>\n",
    "    \n",
    "<p>\n",
    "    <li>Create two more files and add them to the staging environment </li>\n",
    "    <li> commit your files </li>\n",
    " \n",
    "</p>\n",
    "</div>"
   ]
  },
  {
   "cell_type": "markdown",
   "id": "bd92cd98",
   "metadata": {},
   "source": [
    "### Additional commands"
   ]
  },
  {
   "cell_type": "markdown",
   "id": "8c9db840",
   "metadata": {},
   "source": [
    "When working with Git (or any other repository), you should never rename or delete files and directories directly (e.g. in Windows Explorer), because Git will not notice this and chaos can result.\n",
    "Instead, use the Git commands mv (move, rename) and rm (remove). This will also document in the \n",
    "repository that the deletion or renaming has taken place.\n",
    "\n",
    "Renaming a file:\n",
    "\n",
    "```\n",
    "$ git mv new_file.txt new.txt\n",
    "\n",
    "```\n",
    "\n",
    "Moving a file:\n",
    "\n",
    "```\n",
    "$ git mv new.txt src\n",
    "\n",
    "```\n",
    "\n",
    "Deleting a file:\n",
    "\n",
    "\n",
    "```\n",
    "$ git rm new.txt\n",
    "\n",
    "```\n",
    "\n"
   ]
  },
  {
   "cell_type": "markdown",
   "id": "2a4270f5",
   "metadata": {},
   "source": [
    "Let's add a new line to test.txt and see the difference since our last commit by using:\n",
    "\n",
    "```\n",
    "$git diff test.txt\n",
    "\n",
    "```"
   ]
  },
  {
   "cell_type": "code",
   "execution_count": 10,
   "id": "019567f2",
   "metadata": {},
   "outputs": [
    {
     "data": {
      "text/html": [
       "<img src=\"../img/git9.png\"/>"
      ],
      "text/plain": [
       "<IPython.core.display.Image object>"
      ]
     },
     "execution_count": 10,
     "metadata": {},
     "output_type": "execute_result"
    }
   ],
   "source": [
    "Image(url= \"../img/git9.png\")"
   ]
  },
  {
   "cell_type": "markdown",
   "id": "36a5516d",
   "metadata": {},
   "source": [
    "## Branching and merging"
   ]
  },
  {
   "cell_type": "markdown",
   "id": "e1c5773d",
   "metadata": {},
   "source": [
    "In Git a branch is a new or a separate version of the main repository. A branch branches off at a certain point from the main branch abd from there, the development is <i> basically </i> independent. The branches share history though and are aware of it - which enables subsequent merging."
   ]
  },
  {
   "cell_type": "code",
   "execution_count": 11,
   "id": "06ce3104",
   "metadata": {},
   "outputs": [
    {
     "data": {
      "text/html": [
       "<img src=\"../img/git10.png\"/>"
      ],
      "text/plain": [
       "<IPython.core.display.Image object>"
      ]
     },
     "execution_count": 11,
     "metadata": {},
     "output_type": "execute_result"
    }
   ],
   "source": [
    "Image(url= \"../img/git10.png\")"
   ]
  },
  {
   "cell_type": "markdown",
   "id": "a32124ed",
   "metadata": {},
   "source": [
    "Git uses this feature excessively. This is facilitated by the fact that the repository is repository is available locally on the computer, and switching back and forth between branches takes only a fraction of a second. \n",
    "\n",
    "Switching from one branch to another is therefore extremely fast, even for large projects. This is why branches are omnipresent in Git. Over time, various models have emerged for the effective\n",
    "use of branches have emerged, such as the following one:\n",
    "\n",
    "\n",
    "This model provides for two basic branches:\n",
    "- ```master``` - the traditional name for the first branch created by Git itself. The master branch represents the official version of the project. Recently, the more more neutral ```main``` is preferred.\n",
    "- ```develop``` - this is the development branch of the project which, when a milestone is reached - is merged back into the master branch.\n",
    "\n",
    "In addition there are so called ```feature branches```, in which a new feature is created and if necessary further branches (release branches, hotfix branches, etc.).\n",
    "\n",
    "\n"
   ]
  },
  {
   "cell_type": "code",
   "execution_count": 12,
   "id": "42ca3578",
   "metadata": {},
   "outputs": [
    {
     "data": {
      "text/html": [
       "<img src=\"../img/git11.png\"/>"
      ],
      "text/plain": [
       "<IPython.core.display.Image object>"
      ]
     },
     "execution_count": 12,
     "metadata": {},
     "output_type": "execute_result"
    }
   ],
   "source": [
    "Image(url= \"../img/git11.png\")"
   ]
  },
  {
   "cell_type": "markdown",
   "id": "68067061",
   "metadata": {},
   "source": [
    "\n",
    "A repository with several branches could look like this:\n",
    "- Parallel to the master branch, there is the develop branch.\n",
    "- Branching off from the develop branch there are feature branches, here e.g. input_valitationand core_algorithm. Such branches are only created to develop a new feature.\n",
    "- When the feature has been transferred back to the develop branch,\n",
    "feature branches are usually deleted.\n",
    "- alternative_algorithm is an example of an ad-hoc branch, where you quickly try something out. If the idea works, you move the code to the branch from which it was forked. If it doesn't work, the branch is simply deleted.\n",
    "- The release branch contains only released versions.\n",
    "- A hotfix branch becomes necessary when a dangerous bug is found in a released version. The fix, i.e. the code that corrects the error, must be returned to the master as soon as possible and leads to another release. Often it has to be incorporated into the develop branch.\n"
   ]
  },
  {
   "cell_type": "markdown",
   "id": "dc564110",
   "metadata": {},
   "source": [
    "### Commands dealing with branches"
   ]
  },
  {
   "cell_type": "markdown",
   "id": "5a401ef9",
   "metadata": {},
   "source": [
    "| Command   | Purpose    |\n",
    "|-------------:|:-----------|\n",
    "| ``` git branch ``` | lists all branches in the repository|\n",
    "| ``` git branch <branch-name>``` | creates a branch|\n",
    "| ``` git checkout <branch>```  | switches to the specified branch| \n",
    "| ``` git merge <branch> ``` | merges the specified branch into the current branch | \n",
    "| ``` git branch -m old-name new-name ``` | renaming a branch | \n",
    "| ``` git branch -d <branch>``` | deleting a branch | \n"
   ]
  },
  {
   "cell_type": "markdown",
   "id": "46fae91e",
   "metadata": {},
   "source": [
    "In our repo, we are currently in the master branch. We know that also because it says so:"
   ]
  },
  {
   "cell_type": "code",
   "execution_count": 13,
   "id": "f6e8db4a",
   "metadata": {},
   "outputs": [
    {
     "data": {
      "text/html": [
       "<img src=\"../img/git12.png\"/>"
      ],
      "text/plain": [
       "<IPython.core.display.Image object>"
      ]
     },
     "execution_count": 13,
     "metadata": {},
     "output_type": "execute_result"
    }
   ],
   "source": [
    "Image(url= \"../img/git12.png\")"
   ]
  },
  {
   "cell_type": "markdown",
   "id": "0a91a019",
   "metadata": {},
   "source": [
    "Let's make a new branch called ```develop```:\n",
    "\n",
    "\n",
    "```\n",
    "$git branch develop\n",
    "\n",
    "```"
   ]
  },
  {
   "cell_type": "markdown",
   "id": "c645da77",
   "metadata": {},
   "source": [
    "To confirm we have actually created a new branch:\n",
    "    \n",
    " ```\n",
    "$ git branch\n",
    "    \n",
    " ```"
   ]
  },
  {
   "cell_type": "code",
   "execution_count": 14,
   "id": "f69710f3",
   "metadata": {},
   "outputs": [
    {
     "data": {
      "text/html": [
       "<img src=\"../img/git13.png\"/>"
      ],
      "text/plain": [
       "<IPython.core.display.Image object>"
      ]
     },
     "execution_count": 14,
     "metadata": {},
     "output_type": "execute_result"
    }
   ],
   "source": [
    "Image(url= \"../img/git13.png\")"
   ]
  },
  {
   "cell_type": "markdown",
   "id": "86451be4",
   "metadata": {},
   "source": [
    "The asterisk next to the name ```master``` tells us which branch we're using. Let's now switch to our ```develop``` branch:"
   ]
  },
  {
   "cell_type": "markdown",
   "id": "d913d872",
   "metadata": {},
   "source": [
    " ```\n",
    "$ git checkout develop\n",
    "    \n",
    " ```"
   ]
  },
  {
   "cell_type": "markdown",
   "id": "958db38e",
   "metadata": {},
   "source": [
    "And we get a note that says \"Switched to branch 'develop'\". Now, let's make some changes to the files, the test.txt file, and e.g.  save our exercise.py here (from our last session). After that, we check out the status of our branch by using the ``` git status``` command:"
   ]
  },
  {
   "cell_type": "code",
   "execution_count": 15,
   "id": "6959ca76",
   "metadata": {},
   "outputs": [
    {
     "data": {
      "text/html": [
       "<img src=\"../img/git14.png\"/>"
      ],
      "text/plain": [
       "<IPython.core.display.Image object>"
      ]
     },
     "execution_count": 15,
     "metadata": {},
     "output_type": "execute_result"
    }
   ],
   "source": [
    "Image(url= \"../img/git14.png\")"
   ]
  },
  {
   "cell_type": "markdown",
   "id": "d220df61",
   "metadata": {},
   "source": [
    "So, we have some changes not added to the commit  - an untracked file and a modified file. Let's do our add and commit routine. Let's see what is the content of our ```develop``` branch now:"
   ]
  },
  {
   "cell_type": "code",
   "execution_count": 16,
   "id": "c7f1e077",
   "metadata": {},
   "outputs": [
    {
     "data": {
      "text/html": [
       "<img src=\"../img/git15.png\"/>"
      ],
      "text/plain": [
       "<IPython.core.display.Image object>"
      ]
     },
     "execution_count": 16,
     "metadata": {},
     "output_type": "execute_result"
    }
   ],
   "source": [
    "Image(url= \"../img/git15.png\")"
   ]
  },
  {
   "cell_type": "markdown",
   "id": "9f4c7bf1",
   "metadata": {},
   "source": [
    "Now, let's switch branches using ```$git checkout master``` and check the contents of our ``` master``` branch."
   ]
  },
  {
   "cell_type": "code",
   "execution_count": 17,
   "id": "aee2b906",
   "metadata": {},
   "outputs": [
    {
     "data": {
      "text/html": [
       "<img src=\"../img/git16.png\"/>"
      ],
      "text/plain": [
       "<IPython.core.display.Image object>"
      ]
     },
     "execution_count": 17,
     "metadata": {},
     "output_type": "execute_result"
    }
   ],
   "source": [
    "Image(url= \"../img/git16.png\")"
   ]
  },
  {
   "cell_type": "markdown",
   "id": "14ed880f",
   "metadata": {},
   "source": [
    "On the master branch, we do not have the 'exercise.py' file, because iwe added it on our ```develop``` branch. We can also checkout the differences between the two branches by using ```git diff master...develop```. When we're in the master branch we can also say ```git diff ...develop```. And when we want to look at a single file, we would use ```git diff ...develop test.txt```"
   ]
  },
  {
   "cell_type": "markdown",
   "id": "e6d0c384",
   "metadata": {},
   "source": [
    "### Merging and merge conflicts"
   ]
  },
  {
   "cell_type": "markdown",
   "id": "89d565ec",
   "metadata": {},
   "source": [
    "To apply the changes in develop to master, we have to merge the two branches. Git tries to merge the changes automatically.\n",
    "First, we need to change to the master branch and then use ``` git merge develop```\n",
    "\n"
   ]
  },
  {
   "cell_type": "markdown",
   "id": "ebae8d32",
   "metadata": {},
   "source": [
    "<div class=\"alert alert-block alert-info\">\n",
    "<b>Exercise 2</b>\n",
    "    \n",
    "<p>\n",
    "    <li>make a new branch called \"emergency-fix\"  </li>\n",
    "    <li>change some stuff in the 'test.txt' in this branch and commit the stuff </li>\n",
    "    <li>check the differences between the two branches </li>\n",
    "    <li> go back to the master branch and change some stuff there </li>\n",
    "    <li> merge the two branches </li>\n",
    " \n",
    "</p>\n",
    "</div>"
   ]
  },
  {
   "cell_type": "code",
   "execution_count": 18,
   "id": "cfb70f44",
   "metadata": {},
   "outputs": [
    {
     "data": {
      "text/html": [
       "<img src=\"../img/git20.png\"/>"
      ],
      "text/plain": [
       "<IPython.core.display.Image object>"
      ]
     },
     "execution_count": 18,
     "metadata": {},
     "output_type": "execute_result"
    }
   ],
   "source": [
    "Image(url= \"../img/git20.png\")"
   ]
  },
  {
   "cell_type": "markdown",
   "id": "318d71ef",
   "metadata": {},
   "source": [
    "Git is surprisingly good at resolving merge situations automatically, but it reaches its limits when the same\n",
    "its limits when the same line has been modified in both branches, because it can't decide\n",
    "what that line should look like after the merge. In such a case\n",
    "Git reports a conflict."
   ]
  },
  {
   "cell_type": "markdown",
   "id": "db37d6b7",
   "metadata": {},
   "source": [
    "### Merge conflicts"
   ]
  },
  {
   "cell_type": "markdown",
   "id": "33e2c8f7",
   "metadata": {},
   "source": [
    "The merge failed, as there is conflict between the versions for test.txt. Let us check the status and then use the mergetool to check and correct the differences. \n",
    "There's multiple mergetools available to us,  if we type \n",
    "\n",
    "\n",
    "```\n",
    "$ git mergetool --tool-help\n",
    "\n",
    "\n",
    "```\n",
    "\n",
    "you can get a list of preinstalled ones. Other than that, I would reccommend installing meld (https://meldmerge.org/)."
   ]
  },
  {
   "cell_type": "markdown",
   "id": "976e5f54",
   "metadata": {},
   "source": [
    "Let's open a mergetool ``` git mergetool -t vimdiff```"
   ]
  },
  {
   "cell_type": "code",
   "execution_count": 19,
   "id": "e516d34b",
   "metadata": {},
   "outputs": [
    {
     "data": {
      "text/html": [
       "<img src=\"../img/git18.png\"/>"
      ],
      "text/plain": [
       "<IPython.core.display.Image object>"
      ]
     },
     "execution_count": 19,
     "metadata": {},
     "output_type": "execute_result"
    }
   ],
   "source": [
    "Image(url= \"../img/git18.png\")"
   ]
  },
  {
   "cell_type": "markdown",
   "id": "b08f7237",
   "metadata": {},
   "source": [
    "This is the standard vimdiff interface. In the three columns above, we see the master file, the original and the emergency-fix files. In the bottom half we see the merges that git reccommends. Navigation through vimdiff is a bit difficult (which is why you might be better of using meld or some other editor if you're not used to it).\n",
    "\n",
    "Some commands:\n",
    "- do - get changes from other window to current window\n",
    "- dp - put the changes from current window to other window\n",
    "- :q! = ZQ: quit without writing the changes\n",
    "- :wq = ZZ: write current file and quit\n",
    "- :q: close/quit current file, split or tab\n",
    "- :w[rite]: write current file\n",
    "- and more (https://gist.github.com/azadkuh/5d223d46a8c269dadfe4)"
   ]
  },
  {
   "cell_type": "markdown",
   "id": "bd01a2ae",
   "metadata": {},
   "source": [
    "After we have modified what we need to, of course we need to make a commit to save the merge."
   ]
  },
  {
   "cell_type": "markdown",
   "id": "8282bbe8",
   "metadata": {},
   "source": [
    "### The Git sledgehammer"
   ]
  },
  {
   "cell_type": "markdown",
   "id": "c811f9da",
   "metadata": {},
   "source": [
    "In most cases, the method presented above is recommended for conflict resolution,\n",
    "because here you operate with the fine blade.\n",
    "If you are absolutely sure that only the version of master should be used and that all\n",
    "and that all changes from develop should be discarded, you can use this command\n",
    "to resolve the conflict:"
   ]
  },
  {
   "cell_type": "markdown",
   "id": "5d6e5c8a",
   "metadata": {},
   "source": [
    "```$ git checkout --ours test.txt```\n",
    "Similarly, we can also use the version from develop, which means that any\n",
    "changes in master will be overwritten silently:\n",
    "\n",
    "```$ git checkout --theirs test.txt```\n",
    "In both cases, we should be aware that this may cause important changes to be lost\n",
    "can be lost unnoticed and irreversibly."
   ]
  },
  {
   "cell_type": "markdown",
   "id": "bccd1c61",
   "metadata": {},
   "source": [
    "## Remote repositories\n",
    "\n",
    "To be able to use a foreign branch, we need a so-called remote, that allows interaction with the foreign repository.\n",
    "If we have cloned a repository with ```git clone```, git has automatically created a remote for us, which is called origin by default. Clone a repository (either from another directory or from a server. Go to the\n",
    "directory where your clone exists and enter this command:\n",
    "\n",
    "```\n",
    "$ git remote -v\n",
    "\n",
    "```"
   ]
  },
  {
   "cell_type": "markdown",
   "id": "ab5d6be6",
   "metadata": {},
   "source": [
    "And what we'll see is the remote origin that we cloned from."
   ]
  },
  {
   "cell_type": "markdown",
   "id": "bebe5146",
   "metadata": {},
   "source": [
    "But, let's go back to the most important commands that deal with GitHub:\n",
    "- ```push``` - after commiting our changes in the repo locally we can push them to the remote repository\n",
    "- ```pull``` - basically getting a local copy of the latest version of the repo (we already know how to use this one)"
   ]
  },
  {
   "cell_type": "markdown",
   "id": "b92f02ff",
   "metadata": {},
   "source": [
    "### Fetch and pull"
   ]
  },
  {
   "cell_type": "markdown",
   "id": "5f926fcd",
   "metadata": {},
   "source": [
    "Imagine you are working in a team that is collaborating on software (or\n",
    "on data or whatever). Everyone in the team has their own Git respository,\n",
    "probably there is also a central respository, e.g. on GitHub.\n",
    "Of course it is important for you to notice when colleagues make changes. You probably also want to merge these changes into your codebase. Equally important, of course, that you can share your changes with others in the team.\n",
    "\n",
    "To do this, the easiest way (assuming you have write permission to the central repository),is for each team member to clone the central repository. As we have seen when cloning, the origin remote is automatically created and tracked.\n",
    "Now, to apply changes to the central repository to your repository (and immediately to your working copy)\n",
    "you only need to enter this command:"
   ]
  },
  {
   "cell_type": "markdown",
   "id": "44666321",
   "metadata": {},
   "source": [
    "```$git pull origin ```"
   ]
  },
  {
   "cell_type": "markdown",
   "id": "392b709c",
   "metadata": {},
   "source": [
    "In many cases, git pull is the easiest solution to update your data. Usually\n",
    "recommended to do this in two steps, i.e. first get only the changed data into your into your new repository:"
   ]
  },
  {
   "cell_type": "markdown",
   "id": "44fbaec7",
   "metadata": {},
   "source": [
    "```$git fetch origin ```"
   ]
  },
  {
   "cell_type": "markdown",
   "id": "aa817511",
   "metadata": {},
   "source": [
    "With this, your branch origin/master (or whatever it is called) is up to date with the remote\n",
    "branch, i.e. you have fetched the changes (if you don't remember what your\n",
    "remote branch is called, type git branch -r).\n",
    "The remote branch can now be used like a normal local branch. To\n",
    "find out how your working copy differs from the remote branch, type this command:"
   ]
  },
  {
   "cell_type": "markdown",
   "id": "6866ff85",
   "metadata": {},
   "source": [
    "```$git diff <local branch> <remote>/<remote branch>```"
   ]
  },
  {
   "cell_type": "markdown",
   "id": "9455ee15",
   "metadata": {},
   "source": [
    "Of course, you can also check out the remote branch to have a look around or to run tests. When you are finished, simply checkout the previously checkedout branch (e.g. git checkout develop).\n",
    "If you want to apply the changes to your local branch afterwards, merge it with the remote branch."
   ]
  },
  {
   "cell_type": "markdown",
   "id": "0b98a9af",
   "metadata": {},
   "source": [
    "``` $git merge origin/aRemoteBranch```\n"
   ]
  },
  {
   "cell_type": "markdown",
   "id": "68ea1a88",
   "metadata": {},
   "source": [
    "So the difference between git pull and git merge is that a git pull pulls the changes from the remote\n",
    "from the remote branch and merges them unseen into your working copy, while after a git fetch you can view the changes beforehand and initiate the merge yourself. This is something to think about when using our class repository.\n"
   ]
  },
  {
   "cell_type": "markdown",
   "id": "3bf7e433",
   "metadata": {},
   "source": [
    "### Push"
   ]
  },
  {
   "cell_type": "markdown",
   "id": "9cbd21a6",
   "metadata": {},
   "source": [
    "If you have committed changes in your repository, you can push them to the remote repository using a\n",
    "```git push```. \n",
    "\n",
    "```git push``` updates the remote branch with local commits. It is one of the four commands in Git that prompts interaction with the remote repository. You can also think of git push as update or publish.\n",
    "\n",
    "By default, ```git push``` only updates the corresponding branch on the remote. So, if you are checked out to the main branch when you execute ```git push```, then only the main branch will be updated. It's always a good idea to use```git status``` to see what branch you are on before pushing to the remote.\n",
    "\n",
    "\n",
    "However, this requires that you have writing rights to the \n",
    "remote repository. It also means that your changes will be\n",
    "will flow into the remote repository unchecked. Therefore, in collaborative scenarios\n",
    "another approach (pull request workflow) is often preferred."
   ]
  },
  {
   "cell_type": "markdown",
   "id": "75d10262",
   "metadata": {},
   "source": [
    "```$ git push <remote > <branch>```\n",
    "\n",
    "or more concretly\n",
    "\n",
    "```$ git push origin develop```"
   ]
  },
  {
   "cell_type": "markdown",
   "id": "a979ac0f",
   "metadata": {},
   "source": [
    "### The Pull Request Workflow\n",
    "The pull request workflow is often preferred because it allows better control over \n",
    "which changes flow back into a repository.\n",
    "\n",
    "Example with GitHub:\n",
    "1. user A creates a repository on GitHub.\n",
    "2. user B forks this repository to GitHub. A fork is a kind of clone (read:Copy) that semantically corresponds to a project fork. Thus user B becomes owner of the forked project in their space on GitHub.\n",
    "3. User B now clones their fork from GitHub onto her local computer and programs e.g. a bugfix or an extension.\n",
    "4. When she is done, she pushes the change back to her fork on the GitHub server.\n",
    "5. after that, they can make a pull request in the GitHub web interface. User A is notified of this and can review proposed changes and either  add them to his repository or reject them. In both cases User B will be notified, and if they rejects the changes, they can fix them and submit another pull request.\n"
   ]
  },
  {
   "cell_type": "markdown",
   "id": "939c821c",
   "metadata": {},
   "source": [
    "## Github"
   ]
  },
  {
   "cell_type": "markdown",
   "id": "16818566",
   "metadata": {},
   "source": [
    "In practice collaboration often requires a central repository on an always available server, which is accessible from everywhere, and where one can e.g. can also set up user management and automatic backups.\n",
    "\n",
    "Since individuals usually neither have their own server, nor do they have to\n",
    "with the administration of such a server, there are providers that offer such\n",
    "services (and additional features like bugtracker).\n",
    "\n",
    "In a basic versionthe repositories are free of charge, but there are also paid versions. The best known\n",
    "Git services are:\n",
    "- GitHub (https://github.com/)\n",
    "- Bitbucket (https://bitbucket.org/)\n",
    "- GitLab (https://gitlab.com/)"
   ]
  },
  {
   "cell_type": "markdown",
   "id": "40a1f6db",
   "metadata": {},
   "source": [
    "* <b>GitHub</b> is a web-based hosting service for Git repositories. It offers collaboration and management features for projects hosted on its platform.\n",
    "* Together, Git and GitHub are powerful tools for managing code and collaborating with others.\n",
    "* GitHub and Git are not the same - GitHub basically makes tools that use Git\n",
    "* it is a host of source code (actually the largest in the world) and is owned by Microsoft"
   ]
  },
  {
   "cell_type": "markdown",
   "id": "863cece1",
   "metadata": {},
   "source": [
    "You're already familiar with GitHub since all of our materials are hosted there. Considering that you all also have a GitHub account (or should have it, like we spoke about last time), you'll now be making your own new repository."
   ]
  },
  {
   "cell_type": "code",
   "execution_count": 20,
   "id": "0fea6d44",
   "metadata": {},
   "outputs": [
    {
     "data": {
      "text/html": [
       "<img src=\"../img/git21.png\"/>"
      ],
      "text/plain": [
       "<IPython.core.display.Image object>"
      ]
     },
     "execution_count": 20,
     "metadata": {},
     "output_type": "execute_result"
    }
   ],
   "source": [
    "Image(url= \"../img/git21.png\")"
   ]
  },
  {
   "cell_type": "code",
   "execution_count": 21,
   "id": "ae81892a",
   "metadata": {},
   "outputs": [
    {
     "data": {
      "text/html": [
       "<img src=\"../img/git22.png\"/>"
      ],
      "text/plain": [
       "<IPython.core.display.Image object>"
      ]
     },
     "execution_count": 21,
     "metadata": {},
     "output_type": "execute_result"
    }
   ],
   "source": [
    "Image(url= \"../img/git22.png\")"
   ]
  },
  {
   "cell_type": "code",
   "execution_count": 22,
   "id": "48172223",
   "metadata": {},
   "outputs": [
    {
     "data": {
      "text/html": [
       "<img src=\"../img/git23.png\"/>"
      ],
      "text/plain": [
       "<IPython.core.display.Image object>"
      ]
     },
     "execution_count": 22,
     "metadata": {},
     "output_type": "execute_result"
    }
   ],
   "source": [
    "Image(url= \"../img/git23.png\")"
   ]
  },
  {
   "cell_type": "markdown",
   "id": "8a2e6834",
   "metadata": {},
   "source": [
    "Here you can name you repo, set it to public so that people can see it or private. You can add a readme file with a short description of the repository and a .gitignore file. This file is basically a textual file in which you can add  parts of your project that ypou don't want to share with others (e.g. log files, personal files, hidden files, etc.). Editing and commiting is also possible in GitHub:"
   ]
  },
  {
   "cell_type": "code",
   "execution_count": 23,
   "id": "076a0ea3",
   "metadata": {},
   "outputs": [
    {
     "data": {
      "text/html": [
       "<img src=\"../img/git24.png\"/>"
      ],
      "text/plain": [
       "<IPython.core.display.Image object>"
      ]
     },
     "execution_count": 23,
     "metadata": {},
     "output_type": "execute_result"
    }
   ],
   "source": [
    "Image(url= \"../img/git24.png\")"
   ]
  },
  {
   "cell_type": "markdown",
   "id": "22e3fa62",
   "metadata": {},
   "source": [
    "Since we have already set up a toy local Git repo, let's push that to GitHub. "
   ]
  },
  {
   "cell_type": "code",
   "execution_count": 24,
   "id": "fdf554d8",
   "metadata": {},
   "outputs": [
    {
     "data": {
      "text/html": [
       "<img src=\"../img/git25.png\"/>"
      ],
      "text/plain": [
       "<IPython.core.display.Image object>"
      ]
     },
     "execution_count": 24,
     "metadata": {},
     "output_type": "execute_result"
    }
   ],
   "source": [
    "Image(url= \"../img/git25.png\")"
   ]
  },
  {
   "cell_type": "markdown",
   "id": "fd64f4dd",
   "metadata": {},
   "source": [
    "Copy the URL, or click the clipboard marked in the image above. \n",
    "\n",
    "Now paste it the following command:\n",
    "    \n",
    "```\n",
    " $ git remote add origin https://github.com/<username>/test.git\n",
    " ```\n",
    " \n",
    " Now we are going to push our master branch to the origin url, and set it as the default remote branch:\n",
    " \n",
    " ```\n",
    " $git push --set-upstream origin main\n",
    "\n",
    " \n",
    " ```\n",
    " \n",
    " Now, go back into GitHub and see that the repository has been updated:\n",
    "\n"
   ]
  },
  {
   "cell_type": "code",
   "execution_count": 25,
   "id": "47710aca",
   "metadata": {},
   "outputs": [
    {
     "data": {
      "text/html": [
       "<img src=\"../img/git26.png\"/>"
      ],
      "text/plain": [
       "<IPython.core.display.Image object>"
      ]
     },
     "execution_count": 25,
     "metadata": {},
     "output_type": "execute_result"
    }
   ],
   "source": [
    "Image(url= \"../img/git26.png\")"
   ]
  },
  {
   "cell_type": "markdown",
   "id": "64c210be",
   "metadata": {},
   "source": [
    "## Collaborating with Github"
   ]
  },
  {
   "cell_type": "markdown",
   "id": "f475d715",
   "metadata": {},
   "source": [
    "* Forking: Creating a copy of a repository on your GitHub account.\n",
    "* Cloning: Downloading a copy of a repository to your local machine.\n",
    "* Pull Requests: Proposing changes to a repository by submitting a pull request on GitHub.\n",
    "* Issues: Creating and tracking issues or bugs in a repository on GitHub.\n"
   ]
  },
  {
   "cell_type": "markdown",
   "id": "acb093f0",
   "metadata": {},
   "source": [
    "A ```fork``` is a copy of a repository. This is useful when you want to contribute to someone else's project or start your own project based on theirs.\n",
    "\n",
    "```fork``` is not a command in Git, but something offered in GitHub and other repository hosts.\n",
    "\n"
   ]
  },
  {
   "cell_type": "markdown",
   "id": "8ff5d538",
   "metadata": {},
   "source": [
    "<div class=\"alert alert-block alert-info\">\n",
    "<b>Exercise 3</b>\n",
    "    \n",
    "<p>\n",
    "     <li>Fork a repository from the person sitting next to you </li>\n",
    "    <li> follow these (https://www.w3schools.com/git/git_clone.asp?remote=github )instructions to: </li>\n",
    "    <li> clone the original repository locally </li>\n",
    "    <li>configure the remotes</li>\n",
    "    <li> make some changes and push them to our GitHub fork and commit the changes </li>\n",
    "    <li> in the end create a pull request (https://www.w3schools.com/git/git_remote_send_pull_request.asp?remote=github)\n",
    " \n",
    "</p>\n",
    "</div>"
   ]
  },
  {
   "cell_type": "markdown",
   "id": "dd57cd31",
   "metadata": {},
   "source": [
    "## GitHub Pages"
   ]
  },
  {
   "cell_type": "markdown",
   "id": "f6360bd5",
   "metadata": {},
   "source": [
    "With GitHub pages, GitHub allows you to host a webpage from your repository. This is particularly useful for let's say portfolios or cvs.  \n",
    "\n",
    "You can get a really good walktrrough on the official GitHub pages site:\n",
    "- https://pages.github.com/\n",
    "- https://github.com/skills/github-pages\n",
    "- https://docs.github.com/en/pages/quickstart\n",
    "\n",
    "But some of the tutorials that I like:\n",
    "- https://www.youtube.com/watch?v=QyFcl_Fba-k&ab_channel=TheNetNinja\n",
    "- https://www.youtube.com/watch?v=XGcuxuhV-Jg&ab_channel=Covalence\n",
    "- https://www.youtube.com/watch?v=o5g-lUuFgpg&ab_channel=TonyTeachesTech\n",
    "- https://cplmakerlab.github.io/guide/how-to-make-a-website-with-github-pages/\n",
    "\n",
    "\n",
    "\n"
   ]
  },
  {
   "cell_type": "markdown",
   "id": "f826f1d3",
   "metadata": {},
   "source": [
    "<div class=\"alert alert-block alert-info\">\n",
    "<b>Homework - GitHub Portfolio</b>\n",
    " <p>\n",
    "     \n",
    " <i> Requirements </i>\n",
    "     <li> GitHub account </li>\n",
    "     <li> basic knowledge of markdown/html/css </li>\n",
    "     <li> Create an index.html file in the root directory of the cloned repository, add some html and css to create a simple homepage for your portfolio </li>\n",
    "     <li> a text editor </li>\n",
    "     \n",
    " </p>  \n",
    "<p>\n",
    "  <i> Instructions </i>\n",
    "     \n",
    "   <li>Step 1: Create a GitHub Repository with your username as its name. Make it publically visible and add a readme</li>\n",
    "   <li> Step 2: clone it to your machine , enter GitHub username and password when prompted) </li>\n",
    "   <li> Create a README.md file in the root directory of the cloned repository and add a short description of your portfolio website and a list of the projects you will be showcasing on the website using Markdown syntax.</li>\n",
    "    <li> commit and push your changes to the GitHub repository.</li>\n",
    "    <li> publish the website  </li>\n",
    "    <li> Go to the repository settings page, scroll down to the \"GitHub Pages\" section, select \"main\" as the branch and  as the folder, save it and wait a few minutes for GitHub to generate your website</li>\n",
    "   <li> Visit https://your-username.github.io in your web browser to view your website and submit the link in Moodle </li>\n",
    "     \n",
    " \n",
    "</p>\n",
    "</div>"
   ]
  },
  {
   "cell_type": "markdown",
   "id": "e003ef9f",
   "metadata": {},
   "source": [
    "## GitHub desktop"
   ]
  },
  {
   "cell_type": "markdown",
   "id": "275860c0",
   "metadata": {},
   "source": [
    "To make things a bit easier, we can use GitHub desktop (https://desktop.github.com/) to  help interact with GitHub using a GUI instead of the command line. There's more instructions on how to us it in our Moodle (https://moodle.uni-graz.at/mod/folder/view.php?id=1296003)"
   ]
  },
  {
   "cell_type": "markdown",
   "id": "b3e5bc77",
   "metadata": {},
   "source": [
    "## GitHub Wiki"
   ]
  },
  {
   "cell_type": "markdown",
   "id": "5a381b49",
   "metadata": {},
   "source": [
    "Wikis are used for project documentation - to share detailed information about your project. Every repository on GitHub.com comes equipped with a section for hosting documentation, called a wiki.\n",
    "\n",
    "You can find more information on this (and a guide) in our Moodle (https://moodle.uni-graz.at/mod/folder/view.php?id=1296003) and GitHub documentation (https://docs.github.com/en/communities/documenting-your-project-with-wikis/about-wikis)."
   ]
  },
  {
   "cell_type": "markdown",
   "id": "8220e434",
   "metadata": {},
   "source": [
    "## Best Practices\n"
   ]
  },
  {
   "cell_type": "markdown",
   "id": "dc423318",
   "metadata": {},
   "source": [
    "* Commit regularly and write clear commit messages.\n",
    "* Use branches to work on new features or bug fixes.\n",
    "* Pull changes from the remote repository frequently to avoid conflicts.\n",
    "* Keep your repository organized and maintain a clear directory structure.\n",
    "* Use pull requests and code reviews to ensure high-quality code."
   ]
  }
 ],
 "metadata": {
  "kernelspec": {
   "display_name": "Python 3 (ipykernel)",
   "language": "python",
   "name": "python3"
  },
  "language_info": {
   "codemirror_mode": {
    "name": "ipython",
    "version": 3
   },
   "file_extension": ".py",
   "mimetype": "text/x-python",
   "name": "python",
   "nbconvert_exporter": "python",
   "pygments_lexer": "ipython3",
   "version": "3.9.13"
  }
 },
 "nbformat": 4,
 "nbformat_minor": 5
}
