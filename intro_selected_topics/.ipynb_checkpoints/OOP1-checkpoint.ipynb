{
 "cells": [
  {
   "cell_type": "markdown",
   "id": "caedc869",
   "metadata": {},
   "source": [
    "# Object-oriented programming (basics)"
   ]
  },
  {
   "cell_type": "markdown",
   "id": "8da48cf0",
   "metadata": {},
   "source": [
    "### What is object oriented programming (OOP)?"
   ]
  },
  {
   "cell_type": "markdown",
   "id": "9ecbae68",
   "metadata": {},
   "source": [
    "The basic idea of object-oriented programming is to divide the functions and data required in the program into logically\n",
    "in the program into logically related units as objects in order to reduce the complexity of the program (e.g. repeat stuff less).\n",
    "\n",
    "We no longer have a large program, but rather many small, manageable programs (objects) which interact.\n",
    "\n",
    "\n",
    "An object is thus a \"thing\", which\n",
    "\n",
    "1. is able to hold (store) data, which describe this \"thing\"\n",
    "  (properties)\n",
    "2. provides functionality (\"methods\"), over which\n",
    "\n",
    "    * change its own properties (data)\n",
    "    * the thing can interact with other \"things\" (objects).\n",
    "\n",
    "\n",
    "If we remember the concept of modelling (e.g. car model, house model - concrete, real world things require a model), OOP is just an approach to modelling. Objects can describe concrete entities, such as an thing or a person, but also abstract things, such as a process or a concept. Moreover, with OOP we can model behaviours of those entities and relationships between them, e.g. in the case of a company and employees or a university and students.\n"
   ]
  },
  {
   "cell_type": "markdown",
   "id": "948813ba",
   "metadata": {},
   "source": [
    "### Example for objects"
   ]
  },
  {
   "cell_type": "code",
   "execution_count": 1,
   "id": "80852b6c",
   "metadata": {},
   "outputs": [
    {
     "name": "stdout",
     "output_type": "stream",
     "text": [
      "<class 'int'>\n",
      "<class 'str'>\n"
     ]
    }
   ],
   "source": [
    "x = 5\n",
    "y = 'string '\n",
    "print(type(x))\n",
    "print(type(y))"
   ]
  },
  {
   "cell_type": "markdown",
   "id": "ed9ef153",
   "metadata": {},
   "source": [
    "In Python, everything is an object, that's why we call it an OOP language. We see that when we create a variable, essentially we are automatically creating an instance of an object. \n",
    "\n",
    "We can also say (for the previous examples) that x is an <b>instance</b> of the int <b>class</b> and it's value is 5, while y is an instance of the str class and it's value is 'string'.\n",
    "\n",
    "We can also do various things with these instances <b> because </b> of them belonging to a class. e.g.:\n"
   ]
  },
  {
   "cell_type": "code",
   "execution_count": 2,
   "id": "8016e50d",
   "metadata": {},
   "outputs": [
    {
     "name": "stdout",
     "output_type": "stream",
     "text": [
      "3\n"
     ]
    }
   ],
   "source": [
    "calculation = x - 2\n",
    "print(calculation)"
   ]
  },
  {
   "cell_type": "code",
   "execution_count": 3,
   "id": "acd1a5cc",
   "metadata": {},
   "outputs": [
    {
     "data": {
      "text/plain": [
       "'string'"
      ]
     },
     "execution_count": 3,
     "metadata": {},
     "output_type": "execute_result"
    }
   ],
   "source": [
    "y.strip()"
   ]
  },
  {
   "cell_type": "markdown",
   "id": "9e81a9ab",
   "metadata": {},
   "source": [
    "Someone created these functionalities for us, that are built in a class."
   ]
  },
  {
   "cell_type": "code",
   "execution_count": 4,
   "id": "72ba2dda",
   "metadata": {},
   "outputs": [
    {
     "name": "stdout",
     "output_type": "stream",
     "text": [
      "Help on class int in module builtins:\n",
      "\n",
      "class int(object)\n",
      " |  int([x]) -> integer\n",
      " |  int(x, base=10) -> integer\n",
      " |  \n",
      " |  Convert a number or string to an integer, or return 0 if no arguments\n",
      " |  are given.  If x is a number, return x.__int__().  For floating point\n",
      " |  numbers, this truncates towards zero.\n",
      " |  \n",
      " |  If x is not a number or if base is given, then x must be a string,\n",
      " |  bytes, or bytearray instance representing an integer literal in the\n",
      " |  given base.  The literal can be preceded by '+' or '-' and be surrounded\n",
      " |  by whitespace.  The base defaults to 10.  Valid bases are 0 and 2-36.\n",
      " |  Base 0 means to interpret the base from the string as an integer literal.\n",
      " |  >>> int('0b100', base=0)\n",
      " |  4\n",
      " |  \n",
      " |  Built-in subclasses:\n",
      " |      bool\n",
      " |  \n",
      " |  Methods defined here:\n",
      " |  \n",
      " |  __abs__(self, /)\n",
      " |      abs(self)\n",
      " |  \n",
      " |  __add__(self, value, /)\n",
      " |      Return self+value.\n",
      " |  \n",
      " |  __and__(self, value, /)\n",
      " |      Return self&value.\n",
      " |  \n",
      " |  __bool__(self, /)\n",
      " |      True if self else False\n",
      " |  \n",
      " |  __ceil__(...)\n",
      " |      Ceiling of an Integral returns itself.\n",
      " |  \n",
      " |  __divmod__(self, value, /)\n",
      " |      Return divmod(self, value).\n",
      " |  \n",
      " |  __eq__(self, value, /)\n",
      " |      Return self==value.\n",
      " |  \n",
      " |  __float__(self, /)\n",
      " |      float(self)\n",
      " |  \n",
      " |  __floor__(...)\n",
      " |      Flooring an Integral returns itself.\n",
      " |  \n",
      " |  __floordiv__(self, value, /)\n",
      " |      Return self//value.\n",
      " |  \n",
      " |  __format__(self, format_spec, /)\n",
      " |      Default object formatter.\n",
      " |  \n",
      " |  __ge__(self, value, /)\n",
      " |      Return self>=value.\n",
      " |  \n",
      " |  __getattribute__(self, name, /)\n",
      " |      Return getattr(self, name).\n",
      " |  \n",
      " |  __getnewargs__(self, /)\n",
      " |  \n",
      " |  __gt__(self, value, /)\n",
      " |      Return self>value.\n",
      " |  \n",
      " |  __hash__(self, /)\n",
      " |      Return hash(self).\n",
      " |  \n",
      " |  __index__(self, /)\n",
      " |      Return self converted to an integer, if self is suitable for use as an index into a list.\n",
      " |  \n",
      " |  __int__(self, /)\n",
      " |      int(self)\n",
      " |  \n",
      " |  __invert__(self, /)\n",
      " |      ~self\n",
      " |  \n",
      " |  __le__(self, value, /)\n",
      " |      Return self<=value.\n",
      " |  \n",
      " |  __lshift__(self, value, /)\n",
      " |      Return self<<value.\n",
      " |  \n",
      " |  __lt__(self, value, /)\n",
      " |      Return self<value.\n",
      " |  \n",
      " |  __mod__(self, value, /)\n",
      " |      Return self%value.\n",
      " |  \n",
      " |  __mul__(self, value, /)\n",
      " |      Return self*value.\n",
      " |  \n",
      " |  __ne__(self, value, /)\n",
      " |      Return self!=value.\n",
      " |  \n",
      " |  __neg__(self, /)\n",
      " |      -self\n",
      " |  \n",
      " |  __or__(self, value, /)\n",
      " |      Return self|value.\n",
      " |  \n",
      " |  __pos__(self, /)\n",
      " |      +self\n",
      " |  \n",
      " |  __pow__(self, value, mod=None, /)\n",
      " |      Return pow(self, value, mod).\n",
      " |  \n",
      " |  __radd__(self, value, /)\n",
      " |      Return value+self.\n",
      " |  \n",
      " |  __rand__(self, value, /)\n",
      " |      Return value&self.\n",
      " |  \n",
      " |  __rdivmod__(self, value, /)\n",
      " |      Return divmod(value, self).\n",
      " |  \n",
      " |  __repr__(self, /)\n",
      " |      Return repr(self).\n",
      " |  \n",
      " |  __rfloordiv__(self, value, /)\n",
      " |      Return value//self.\n",
      " |  \n",
      " |  __rlshift__(self, value, /)\n",
      " |      Return value<<self.\n",
      " |  \n",
      " |  __rmod__(self, value, /)\n",
      " |      Return value%self.\n",
      " |  \n",
      " |  __rmul__(self, value, /)\n",
      " |      Return value*self.\n",
      " |  \n",
      " |  __ror__(self, value, /)\n",
      " |      Return value|self.\n",
      " |  \n",
      " |  __round__(...)\n",
      " |      Rounding an Integral returns itself.\n",
      " |      Rounding with an ndigits argument also returns an integer.\n",
      " |  \n",
      " |  __rpow__(self, value, mod=None, /)\n",
      " |      Return pow(value, self, mod).\n",
      " |  \n",
      " |  __rrshift__(self, value, /)\n",
      " |      Return value>>self.\n",
      " |  \n",
      " |  __rshift__(self, value, /)\n",
      " |      Return self>>value.\n",
      " |  \n",
      " |  __rsub__(self, value, /)\n",
      " |      Return value-self.\n",
      " |  \n",
      " |  __rtruediv__(self, value, /)\n",
      " |      Return value/self.\n",
      " |  \n",
      " |  __rxor__(self, value, /)\n",
      " |      Return value^self.\n",
      " |  \n",
      " |  __sizeof__(self, /)\n",
      " |      Returns size in memory, in bytes.\n",
      " |  \n",
      " |  __sub__(self, value, /)\n",
      " |      Return self-value.\n",
      " |  \n",
      " |  __truediv__(self, value, /)\n",
      " |      Return self/value.\n",
      " |  \n",
      " |  __trunc__(...)\n",
      " |      Truncating an Integral returns itself.\n",
      " |  \n",
      " |  __xor__(self, value, /)\n",
      " |      Return self^value.\n",
      " |  \n",
      " |  as_integer_ratio(self, /)\n",
      " |      Return integer ratio.\n",
      " |      \n",
      " |      Return a pair of integers, whose ratio is exactly equal to the original int\n",
      " |      and with a positive denominator.\n",
      " |      \n",
      " |      >>> (10).as_integer_ratio()\n",
      " |      (10, 1)\n",
      " |      >>> (-10).as_integer_ratio()\n",
      " |      (-10, 1)\n",
      " |      >>> (0).as_integer_ratio()\n",
      " |      (0, 1)\n",
      " |  \n",
      " |  bit_length(self, /)\n",
      " |      Number of bits necessary to represent self in binary.\n",
      " |      \n",
      " |      >>> bin(37)\n",
      " |      '0b100101'\n",
      " |      >>> (37).bit_length()\n",
      " |      6\n",
      " |  \n",
      " |  conjugate(...)\n",
      " |      Returns self, the complex conjugate of any int.\n",
      " |  \n",
      " |  to_bytes(self, /, length, byteorder, *, signed=False)\n",
      " |      Return an array of bytes representing an integer.\n",
      " |      \n",
      " |      length\n",
      " |        Length of bytes object to use.  An OverflowError is raised if the\n",
      " |        integer is not representable with the given number of bytes.\n",
      " |      byteorder\n",
      " |        The byte order used to represent the integer.  If byteorder is 'big',\n",
      " |        the most significant byte is at the beginning of the byte array.  If\n",
      " |        byteorder is 'little', the most significant byte is at the end of the\n",
      " |        byte array.  To request the native byte order of the host system, use\n",
      " |        `sys.byteorder' as the byte order value.\n",
      " |      signed\n",
      " |        Determines whether two's complement is used to represent the integer.\n",
      " |        If signed is False and a negative integer is given, an OverflowError\n",
      " |        is raised.\n",
      " |  \n",
      " |  ----------------------------------------------------------------------\n",
      " |  Class methods defined here:\n",
      " |  \n",
      " |  from_bytes(bytes, byteorder, *, signed=False) from builtins.type\n",
      " |      Return the integer represented by the given array of bytes.\n",
      " |      \n",
      " |      bytes\n",
      " |        Holds the array of bytes to convert.  The argument must either\n",
      " |        support the buffer protocol or be an iterable object producing bytes.\n",
      " |        Bytes and bytearray are examples of built-in objects that support the\n",
      " |        buffer protocol.\n",
      " |      byteorder\n",
      " |        The byte order used to represent the integer.  If byteorder is 'big',\n",
      " |        the most significant byte is at the beginning of the byte array.  If\n",
      " |        byteorder is 'little', the most significant byte is at the end of the\n",
      " |        byte array.  To request the native byte order of the host system, use\n",
      " |        `sys.byteorder' as the byte order value.\n",
      " |      signed\n",
      " |        Indicates whether two's complement is used to represent the integer.\n",
      " |  \n",
      " |  ----------------------------------------------------------------------\n",
      " |  Static methods defined here:\n",
      " |  \n",
      " |  __new__(*args, **kwargs) from builtins.type\n",
      " |      Create and return a new object.  See help(type) for accurate signature.\n",
      " |  \n",
      " |  ----------------------------------------------------------------------\n",
      " |  Data descriptors defined here:\n",
      " |  \n",
      " |  denominator\n",
      " |      the denominator of a rational number in lowest terms\n",
      " |  \n",
      " |  imag\n",
      " |      the imaginary part of a complex number\n",
      " |  \n",
      " |  numerator\n",
      " |      the numerator of a rational number in lowest terms\n",
      " |  \n",
      " |  real\n",
      " |      the real part of a complex number\n",
      "\n"
     ]
    }
   ],
   "source": [
    "help(int)"
   ]
  },
  {
   "cell_type": "markdown",
   "id": "dc1f1d4e",
   "metadata": {},
   "source": [
    "We can see in the top that it says class int of type object. Whenever we create an integer (e.g. x =5), it defaults that this x is of the type int. It also states all the methods that we can use on the class int."
   ]
  },
  {
   "cell_type": "markdown",
   "id": "026760c4",
   "metadata": {},
   "source": [
    "## Your own class"
   ]
  },
  {
   "cell_type": "markdown",
   "id": "b9584258",
   "metadata": {},
   "source": [
    "You can easily make your own class. It's as simple as:"
   ]
  },
  {
   "cell_type": "code",
   "execution_count": 5,
   "id": "ac67f86b",
   "metadata": {},
   "outputs": [],
   "source": [
    "class Student:\n",
    "    pass"
   ]
  },
  {
   "cell_type": "markdown",
   "id": "525fba72",
   "metadata": {},
   "source": [
    "Since now we have a class, we can also create some new objects from it:"
   ]
  },
  {
   "cell_type": "code",
   "execution_count": 6,
   "id": "b141e9b6",
   "metadata": {},
   "outputs": [],
   "source": [
    "anna = Student()\n",
    "bunny = Student()"
   ]
  },
  {
   "cell_type": "markdown",
   "id": "92266fc6",
   "metadata": {},
   "source": [
    "So, a Student is a class in the same way int is a class, and ```anna``` and ```bunny``` are instances of the class Student, in the same way that ```x``` which has a value of 5 is an instance of the class int. "
   ]
  },
  {
   "cell_type": "markdown",
   "id": "562b60f1",
   "metadata": {},
   "source": [
    "### Difference between methods and functions"
   ]
  },
  {
   "cell_type": "code",
   "execution_count": 7,
   "id": "06d1d292",
   "metadata": {},
   "outputs": [],
   "source": [
    "def func(x):\n",
    "    return x + 1\n"
   ]
  },
  {
   "cell_type": "code",
   "execution_count": 8,
   "id": "c35da46e",
   "metadata": {},
   "outputs": [
    {
     "name": "stdout",
     "output_type": "stream",
     "text": [
      "3\n"
     ]
    }
   ],
   "source": [
    "print(func(2))"
   ]
  },
  {
   "cell_type": "markdown",
   "id": "68c61cc7",
   "metadata": {},
   "source": [
    "Thex're very similar, but the difference is the fact that methods we call on an object, while functions we call and have to pass an object to it."
   ]
  },
  {
   "cell_type": "markdown",
   "id": "a55ff553",
   "metadata": {},
   "source": [
    "### Properties of an object"
   ]
  },
  {
   "cell_type": "markdown",
   "id": "796a6dfa",
   "metadata": {},
   "source": [
    "\n",
    "As we have already heard, an object combines properties and methods. Let's start with the properties.\n",
    "In Python (note: this does not apply to all object-oriented languages!), we can subsequently assign properties to an already created object that are not provided for in the class:"
   ]
  },
  {
   "cell_type": "code",
   "execution_count": 9,
   "id": "556a41ae",
   "metadata": {},
   "outputs": [],
   "source": [
    "anna.lastname = 'Smith'\n",
    "bunny.firstname = 'Bunny'"
   ]
  },
  {
   "cell_type": "code",
   "execution_count": 11,
   "id": "c188b022",
   "metadata": {},
   "outputs": [
    {
     "ename": "AttributeError",
     "evalue": "'Student' object has no attribute 'firstname'",
     "output_type": "error",
     "traceback": [
      "\u001b[1;31m---------------------------------------------------------------------------\u001b[0m",
      "\u001b[1;31mAttributeError\u001b[0m                            Traceback (most recent call last)",
      "\u001b[1;32m~\\AppData\\Local\\Temp\\ipykernel_45116\\2870126143.py\u001b[0m in \u001b[0;36m<module>\u001b[1;34m\u001b[0m\n\u001b[1;32m----> 1\u001b[1;33m \u001b[0manna\u001b[0m\u001b[1;33m.\u001b[0m\u001b[0mfirstname\u001b[0m\u001b[1;33m\u001b[0m\u001b[1;33m\u001b[0m\u001b[0m\n\u001b[0m",
      "\u001b[1;31mAttributeError\u001b[0m: 'Student' object has no attribute 'firstname'"
     ]
    }
   ],
   "source": [
    "anna.firstname"
   ]
  },
  {
   "cell_type": "code",
   "execution_count": 12,
   "id": "7c27b7cb",
   "metadata": {},
   "outputs": [
    {
     "data": {
      "text/plain": [
       "'Smith'"
      ]
     },
     "execution_count": 12,
     "metadata": {},
     "output_type": "execute_result"
    }
   ],
   "source": [
    "anna.lastname"
   ]
  },
  {
   "cell_type": "markdown",
   "id": "9bdc8d67",
   "metadata": {},
   "source": [
    "Here we can already see that freely assigning properties to existing objects is not entirely unproblematic, because this gives us objects of the same type that may carry different properties, which sabotages the concept of a type. We should therefore better use the class (rather than the instance) to specify all the properties we need."
   ]
  },
  {
   "cell_type": "markdown",
   "id": "3c6805ed",
   "metadata": {},
   "source": [
    "### The __init__() method"
   ]
  },
  {
   "cell_type": "markdown",
   "id": "49967d7d",
   "metadata": {},
   "source": [
    "`__init__()` is a special method which, if defined in a class, is automatically called immediately after the object is created. The  `__init__()` is also known the **constructor** of the class or the constructor method.\n",
    "\n",
    "This means that the __init__() needs to be in almost every class, if we want anything to happen when we create a class.  Whenever we create a new instance of our class, the constructor method is going to set off and automatically do what it does (we don't need to call it).\n",
    "\n",
    "Example:"
   ]
  },
  {
   "cell_type": "code",
   "execution_count": 13,
   "id": "d4905a39",
   "metadata": {},
   "outputs": [],
   "source": [
    "class Student:\n",
    "    \n",
    "    def __init__(self, firstname, lastname):\n",
    "        self.firstname = firstname\n",
    "        self.lastname = lastname"
   ]
  },
  {
   "cell_type": "markdown",
   "id": "4ea83d22",
   "metadata": {},
   "source": [
    "Inside the `__init__()` method we assign the passed parameter values to the object (referenced by the name `self`) as properties. Thus the values become property values of the object (i.e. are automatically linked to every instance we create). So now, there is no way that one of our student instances (such as anna or bunny) will not have a property firstname or lastname."
   ]
  },
  {
   "cell_type": "code",
   "execution_count": 14,
   "id": "f34ac6f1",
   "metadata": {},
   "outputs": [],
   "source": [
    "bunny = Student('Easter', 'Bunny')\n"
   ]
  },
  {
   "cell_type": "code",
   "execution_count": 15,
   "id": "48f450e4",
   "metadata": {},
   "outputs": [
    {
     "data": {
      "text/plain": [
       "'Easter'"
      ]
     },
     "execution_count": 15,
     "metadata": {},
     "output_type": "execute_result"
    }
   ],
   "source": [
    "bunny.firstname"
   ]
  },
  {
   "cell_type": "code",
   "execution_count": 16,
   "id": "02a301ce",
   "metadata": {},
   "outputs": [
    {
     "data": {
      "text/plain": [
       "'Bunny'"
      ]
     },
     "execution_count": 16,
     "metadata": {},
     "output_type": "execute_result"
    }
   ],
   "source": [
    "bunny.lastname"
   ]
  },
  {
   "cell_type": "markdown",
   "id": "a8ba62da",
   "metadata": {},
   "source": [
    "A method we can define as a function assigned to an object. Since the `__init__()` method is a function assigned to the object, everything we have already learned about functions applies here. So you can define default values, for example:"
   ]
  },
  {
   "cell_type": "code",
   "execution_count": 17,
   "id": "375aadd5",
   "metadata": {},
   "outputs": [],
   "source": [
    "import random\n",
    "\n",
    "class Student:\n",
    "    \n",
    "    def __init__(self, firstname, lastname, matr_nr=None):\n",
    "        self.firstname = firstname\n",
    "        self.lastname = lastname\n",
    "        # if matr_nr is None, generate it randomly\n",
    "        if matr_nr is None:\n",
    "            self.matr_nr = '{}'.format(random.randint(100000, 999999))\n",
    "        else:\n",
    "            self.matr_nr = matr_nr"
   ]
  },
  {
   "cell_type": "code",
   "execution_count": 18,
   "id": "e7c5a5a1",
   "metadata": {},
   "outputs": [],
   "source": [
    "bunny = Student('easter', 'bunny', '017542345')"
   ]
  },
  {
   "cell_type": "code",
   "execution_count": 19,
   "id": "880d3f81",
   "metadata": {},
   "outputs": [
    {
     "data": {
      "text/plain": [
       "'017542345'"
      ]
     },
     "execution_count": 19,
     "metadata": {},
     "output_type": "execute_result"
    }
   ],
   "source": [
    "bunny.matr_nr"
   ]
  },
  {
   "cell_type": "markdown",
   "id": "d0f630a7",
   "metadata": {},
   "source": [
    "## Methods"
   ]
  },
  {
   "cell_type": "markdown",
   "id": "6094b2dd",
   "metadata": {},
   "source": [
    "As said above, methods are basically functions assigned to an object. BUT they are only available in the context of an object, unlike functions - which we can pass any object to as a parameter. The biggest difference between method and function is basically the way we call it."
   ]
  },
  {
   "cell_type": "code",
   "execution_count": 20,
   "id": "7047884a",
   "metadata": {},
   "outputs": [],
   "source": [
    "class Cat(object):\n",
    "    def __init__(self, name, age, color):\n",
    "        self.name = name\n",
    "        self.age = age\n",
    "        self.color = color\n",
    "\n",
    "    def change_age(self, age):\n",
    "        self.age = age\n",
    "        \n",
    "    def speak(self):\n",
    "        print(f'Hi, I\\'m {self.name} and I am {self.age} years old!') "
   ]
  },
  {
   "cell_type": "code",
   "execution_count": 21,
   "id": "f30a5fb0",
   "metadata": {},
   "outputs": [],
   "source": [
    "tom = Cat('Tom', 90, 'blue')\n",
    "tom.change_age(5)\n",
    "garfield = Cat('Garfield', 45, 'orange')"
   ]
  },
  {
   "cell_type": "code",
   "execution_count": 22,
   "id": "3c4fad40",
   "metadata": {},
   "outputs": [
    {
     "name": "stdout",
     "output_type": "stream",
     "text": [
      "Hi, I'm Tom and I am 5 years old!\n"
     ]
    }
   ],
   "source": [
    "tom.speak()"
   ]
  },
  {
   "cell_type": "markdown",
   "id": "44fefcfb",
   "metadata": {},
   "source": [
    "Here, a name is actually an <b> attribute </b> that belongs to the class Cat and to the object tom. Attributes are more or less variables that belong to a certain object.\n",
    "The method is defined using ```def``` like a function, but it's not available in other parts of our program (globally).\n",
    "\n",
    "It's only available in the context of an object of this class (which is tom, in this case).\n"
   ]
  },
  {
   "cell_type": "markdown",
   "id": "cd9dd393",
   "metadata": {},
   "source": [
    "<div class=\"alert alert-block alert-info\">\n",
    "<b>Exercise 1</b>\n",
    "<p>\n",
    "   <li>Add another attribute to the class Cat, called color. Also add a method called change_age() and change Tom's age to 5.\n",
    "    <li> Make another instance of the class Cat, call it 'garfield'. Garfield is 45 this year.\n",
    "    \n",
    "</p>\n",
    "</div>\n"
   ]
  },
  {
   "cell_type": "markdown",
   "id": "e65052c4",
   "metadata": {},
   "source": [
    "### self\n",
    "You have probably wondered what this `self` is all about, which is defined as the first parameter of every method, but which is apparently not specified when the method is called:\n",
    "\n",
    "~~~\n",
    "    def speak(self):\n",
    "        print(f'Hi, I\\'m {self.name}!') \n",
    "~~~"
   ]
  },
  {
   "cell_type": "markdown",
   "id": "a5f06f91",
   "metadata": {},
   "source": [
    "`self` is nothing else than the reference to the respective object. In the method definition, the `self` means that the method is to be assigned to the respective object, just as with the properties (`self.name`, `self.age`) a value is assigned to the respective object via the `self` reference."
   ]
  },
  {
   "cell_type": "markdown",
   "id": "5a8fe98c",
   "metadata": {},
   "source": [
    "### In the end, what's all this for?"
   ]
  },
  {
   "cell_type": "code",
   "execution_count": 23,
   "id": "f0b644ab",
   "metadata": {},
   "outputs": [],
   "source": [
    "cat1name = 'Tom'\n",
    "cat1age = 90\n",
    "cat2name = 'Garfield'\n",
    "cat2name = 45"
   ]
  },
  {
   "cell_type": "markdown",
   "id": "e74324c6",
   "metadata": {},
   "source": [
    "If we didn't have OOP, here's what we would have to do to have two cats and their names and ages:"
   ]
  },
  {
   "cell_type": "markdown",
   "id": "9d4dd80a",
   "metadata": {},
   "source": [
    "Classes allow us to make infinite number of objects of that class, and have them all share properties of that class (such as name and age). Saves time and space, right?"
   ]
  },
  {
   "cell_type": "markdown",
   "id": "71e9ec7e",
   "metadata": {},
   "source": [
    "## Inheritance"
   ]
  },
  {
   "cell_type": "markdown",
   "id": "ba790a93",
   "metadata": {},
   "source": [
    "Let's forget about cats and go back to our student and expand it a bit.."
   ]
  },
  {
   "cell_type": "code",
   "execution_count": 24,
   "id": "6fe5e624",
   "metadata": {},
   "outputs": [],
   "source": [
    "class Student:\n",
    "    \n",
    "    def __init__(self, firstname, lastname, matr_nr):\n",
    "        self.firstname = firstname\n",
    "        self.lastname = lastname\n",
    "        self.matr_nr = matr_nr\n",
    "        self.grades = []\n",
    "        \n",
    "    def add_grade(self, grade):\n",
    "        if grade >= 1 and grade <= 5:\n",
    "            self.grades.append(grade)\n",
    "        else:\n",
    "            raise ValueError(f'Not a valid grade: {grade}')\n",
    "            \n",
    "    def compute_final_grade(self):\n",
    "        if not self.grades:\n",
    "            return 0\n",
    "        return round(sum(self.grades) / len(self.grades))\n"
   ]
  },
  {
   "cell_type": "markdown",
   "id": "f58aa7ae",
   "metadata": {},
   "source": [
    "The class now has two additional methods - we can add grades and comoute the final grade from our list of grades."
   ]
  },
  {
   "cell_type": "code",
   "execution_count": 25,
   "id": "f53141ed",
   "metadata": {},
   "outputs": [
    {
     "data": {
      "text/plain": [
       "0"
      ]
     },
     "execution_count": 25,
     "metadata": {},
     "output_type": "execute_result"
    }
   ],
   "source": [
    "bunny = Student('Easter', 'Bunny', '017542345')\n",
    "bunny.compute_final_grade()"
   ]
  },
  {
   "cell_type": "markdown",
   "id": "b5a14679",
   "metadata": {},
   "source": [
    "As we see, no final grade can be calculated, since we haven't actually gradded bunny at all yet. Let's assign them some names."
   ]
  },
  {
   "cell_type": "code",
   "execution_count": 26,
   "id": "74b41929",
   "metadata": {},
   "outputs": [],
   "source": [
    "bunny.add_grade(3)\n",
    "bunny.add_grade(2)\n",
    "bunny.add_grade(1)\n",
    "bunny.add_grade(1)\n",
    "bunny.add_grade(4)"
   ]
  },
  {
   "cell_type": "code",
   "execution_count": 27,
   "id": "fb4d45e3",
   "metadata": {},
   "outputs": [
    {
     "data": {
      "text/plain": [
       "2"
      ]
     },
     "execution_count": 27,
     "metadata": {},
     "output_type": "execute_result"
    }
   ],
   "source": [
    "bunny.compute_final_grade()"
   ]
  },
  {
   "cell_type": "markdown",
   "id": "70345df8",
   "metadata": {},
   "source": [
    "Now - inheritance. We can always derive specialized classes from existing classes. This procedure is called inheritance, because the derived class *inherits* all the properties and methods of the base class.\n",
    "\n",
    "As a simple example, we could derive from `Student` a specialized class `GuestStudent`, which differs from Student only in that it does not allow grading:"
   ]
  },
  {
   "cell_type": "code",
   "execution_count": 28,
   "id": "d09c475d",
   "metadata": {},
   "outputs": [],
   "source": [
    "class GuestStudent(Student):\n",
    "    \n",
    "    def add_grade(self, grade):\n",
    "        print('Warning: Guest students cannot be graded!')"
   ]
  },
  {
   "cell_type": "code",
   "execution_count": 29,
   "id": "0436b797",
   "metadata": {},
   "outputs": [
    {
     "name": "stdout",
     "output_type": "stream",
     "text": [
      "Warning: Guest students cannot be graded!\n"
     ]
    },
    {
     "data": {
      "text/plain": [
       "0"
      ]
     },
     "execution_count": 29,
     "metadata": {},
     "output_type": "execute_result"
    }
   ],
   "source": [
    "fairy = GuestStudent('Tooth', 'Fairy', '1234567')\n",
    "fairy.add_grade(4)\n",
    "\n",
    "fairy.compute_final_grade()"
   ]
  },
  {
   "cell_type": "markdown",
   "id": "7a159b5c",
   "metadata": {},
   "source": [
    "So `GuestStudent` is a `Student` which differs from the base object only in a few properties and/or methods: When we call add_grade(), the grade is not set, but a warning is issued.\n",
    "\n",
    "Python knows that there is a specialization here and we can even query that:"
   ]
  },
  {
   "cell_type": "code",
   "execution_count": 30,
   "id": "0968fbec",
   "metadata": {},
   "outputs": [
    {
     "name": "stdout",
     "output_type": "stream",
     "text": [
      "Bunny:  <class '__main__.Student'>\n",
      "Fairy:  <class '__main__.GuestStudent'>\n",
      "Is Claus a student? -> True\n",
      "Is Fairy a student? -> True\n"
     ]
    }
   ],
   "source": [
    "bunny = Student('Easter', 'Bunny', '017542345')\n",
    "fairy = GuestStudent('Tooth', 'Fairy', '1234567')\n",
    "print('Bunny: ', type(bunny))\n",
    "print('Fairy: ', type(fairy))\n",
    "\n",
    "print(f'Is Claus a student? -> {isinstance(bunny, Student)}')\n",
    "print(f'Is Fairy a student? -> {isinstance(fairy, Student)}')"
   ]
  },
  {
   "cell_type": "markdown",
   "id": "9c135665",
   "metadata": {},
   "source": [
    "<div class=\"alert alert-block alert-info\">\n",
    "<b>Exercise 2</b>\n",
    "<p>\n",
    "<li> Create a class called Pet. Every pet should have a name and an age. Create a method called show(), taht will print out 'I am <i>name</i> and I am <i> age </i> years old.\n",
    "<li> create classes Cat and Dog. Both Cat and Dog inherit from the class Pet and they both have a method called speak(), except that the Cat says 'meow', while the dog says 'woof'.\n",
    " <li> make an instance of the class Cat and call the show() method on it.\n",
    "  <li> make an instance of the class Dog and call the speak() method on both the instance of the cat and instance of the dog.\n",
    "</p>\n",
    "</div>"
   ]
  },
  {
   "cell_type": "code",
   "execution_count": 31,
   "id": "abffe2b7",
   "metadata": {},
   "outputs": [
    {
     "name": "stdout",
     "output_type": "stream",
     "text": [
      "meow\n"
     ]
    }
   ],
   "source": [
    "class Pet:\n",
    "    \n",
    "    def __init__(self, name, age):\n",
    "        self.name=name\n",
    "        self.age=age\n",
    "    def show(self):\n",
    "        print(f'I am {self.name} and I am {self.age} years old.')\n",
    "\n",
    "class Cat(Pet):\n",
    "    def speak(self):\n",
    "        print('meow')\n",
    "        \n",
    "class Dog(Pet):\n",
    "    def speak(self):\n",
    "        print('woof')\n",
    "\n",
    "Cindy= Cat('Cindy', '5')\n",
    "Cindy.speak()"
   ]
  },
  {
   "cell_type": "markdown",
   "id": "341b21dc",
   "metadata": {},
   "source": [
    "## Static methods"
   ]
  },
  {
   "cell_type": "markdown",
   "id": "3e2e2779",
   "metadata": {},
   "source": [
    "Whenever in doubt whether you should use classes and such - if you have a lot of functions in your code,  that you can group, the answer is yes let's organize them in a class. We can then move all these classes together into a module and continue to use them. In this, a static method is a useful thing. \n",
    "\n",
    "If we make a class in which we define some methods that we can use, but that are NOT specific to an instance. We don't e.g. want to make an instance of the class, but still be able to use it.\n",
    "\n",
    "Therefore, we use a static method. The word itself tells us - static - not changeable, because these methods do not have access to an instance (like a class method), and therefore they can <b>DO</b> something but not <b>CHANGE</b> anything (like an instance)."
   ]
  },
  {
   "cell_type": "code",
   "execution_count": 32,
   "id": "99a0e9f1",
   "metadata": {},
   "outputs": [],
   "source": [
    "class Math:\n",
    "    @staticmethod\n",
    "    def add5(x):\n",
    "        return x + 5\n"
   ]
  },
  {
   "cell_type": "code",
   "execution_count": 33,
   "id": "153d674d",
   "metadata": {},
   "outputs": [
    {
     "name": "stdout",
     "output_type": "stream",
     "text": [
      "10\n"
     ]
    }
   ],
   "source": [
    "print(Math.add5(5))"
   ]
  },
  {
   "cell_type": "markdown",
   "id": "be2d0372",
   "metadata": {},
   "source": [
    "The method thus doesn't need anything - doesn't need an instance, but we can just call it from the class. "
   ]
  }
 ],
 "metadata": {
  "kernelspec": {
   "display_name": "Python 3 (ipykernel)",
   "language": "python",
   "name": "python3"
  },
  "language_info": {
   "codemirror_mode": {
    "name": "ipython",
    "version": 3
   },
   "file_extension": ".py",
   "mimetype": "text/x-python",
   "name": "python",
   "nbconvert_exporter": "python",
   "pygments_lexer": "ipython3",
   "version": "3.9.13"
  }
 },
 "nbformat": 4,
 "nbformat_minor": 5
}
