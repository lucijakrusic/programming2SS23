{
 "cells": [
  {
   "cell_type": "markdown",
   "id": "228e1957",
   "metadata": {},
   "source": [
    "## How to set up projects"
   ]
  },
  {
   "cell_type": "markdown",
   "id": "1aa6c04c",
   "metadata": {},
   "source": [
    "Best practices have evolved over time and are used on a broad basis. Here is a short\n",
    "summary.\n"
   ]
  },
  {
   "cell_type": "markdown",
   "id": "8c7c6afd",
   "metadata": {},
   "source": [
    "When we're creating a project, it is advisable to create your own virtual environment. This offers several advantages, such as:\n",
    "* the project is isolated from the \"standard\" PYthon on the computer\n",
    "* in virtual environments, libraries with different versions can coexist\n",
    "* you can use e.g. pip freeze or pip list to easily determine dependencies for a specific project"
   ]
  },
  {
   "cell_type": "markdown",
   "id": "fec6c34b",
   "metadata": {},
   "source": [
    "#### What are dependencies? \n",
    "Dependencies are all of the software components required by your project in order for it to work as intended and avoid runtime errors."
   ]
  },
  {
   "cell_type": "markdown",
   "id": "2d8dcdf3",
   "metadata": {},
   "source": [
    "### Directory layout for projects"
   ]
  },
  {
   "cell_type": "markdown",
   "id": "baa8b932",
   "metadata": {},
   "source": [
    "If a project is planned for the long term or consists of more than one module, it is advisable\n",
    "to create a separate directory for the project with the following directory structure:"
   ]
  },
  {
   "cell_type": "markdown",
   "id": "b3170aff",
   "metadata": {},
   "source": [
    "project_name <br>\n",
    "|-- packagename/<br>\n",
    "&emsp;|-- __ init __.py<br>\n",
    "&emsp;|--module_a.py<br>\n",
    "&emsp;|--module_b.py<br>\n",
    "|--README.md<br>\n",
    "|--requirements.txt<br>\n",
    "|--tests/<br>"
   ]
  },
  {
   "cell_type": "markdown",
   "id": "87d39442",
   "metadata": {},
   "source": [
    "* project_name is the name of the directory in which the project will live with all its files and directories\n",
    "* packagename is the name od the package, i.e. the name under which you would like to distribue the project later\n",
    "* Project name and package name can be (almost) any name. The same name is often used here.\n",
    "* README.md contains an overview of the project, installation and usage instructions etc. and should actually always be present \n",
    "* requirements.txt contains all required libraries and their dependencies. This file can be created and updated at any time with the following command: pip freeze > requirements.txt (automatically generated). The required packages are installed with pip install -r requirements.txt . \n",
    "\n"
   ]
  },
  {
   "cell_type": "markdown",
   "id": "f3fcace1",
   "metadata": {},
   "source": [
    "### Other directories /files"
   ]
  },
  {
   "cell_type": "markdown",
   "id": "ae65e845",
   "metadata": {},
   "source": [
    "* .gitignore (Files/directories not to be commited - will be covered later)\n",
    "* bin - some projects need executable files\n",
    "* docs/ - this directory contains documentation files\n"
   ]
  },
  {
   "cell_type": "markdown",
   "id": "7d6f0c30",
   "metadata": {},
   "source": [
    "### Other  useful tools\n",
    "\n",
    "* testing - pytest\n",
    "* code formatting - pep8, black\n",
    "* linters (programs that preform source code analysis - if questionable code is found, it complains) - pylint, flake8, pyflakes"
   ]
  },
  {
   "cell_type": "markdown",
   "id": "0c55b326",
   "metadata": {},
   "source": [
    "## venv"
   ]
  },
  {
   "cell_type": "markdown",
   "id": "0f2437be",
   "metadata": {},
   "source": [
    "If you work alternately on several projects or use foreign Python programs, it makes sense to create a separate virtual environment for each project to avoid the different projects getting in each other's way.\n",
    "\n",
    "A virtual environment isolates Python to a large extent from the system-wide installed\n",
    "Python. Although the environment uses one of the system-wide installed\n",
    "Python interpreter, but all additional packages and modules installed are specific to this one\n",
    "for this one virtual environment. This makes it possible to install certain modules only for a specific project or to use one module in different versions for different projects.\n",
    "\n",
    "Last but not least, virtual environments are handy for experimenting with an additional module without having to install the module system-wide.\n",
    "\n",
    "Python3 provides **venv** in the standard library for this purpose. Alternative solutions are the\n",
    "proven virtualenv , and for Conda installations (anaconda, miniconda) `conda create`.\n",
    "\n",
    "This last solution is briefly described below."
   ]
  },
  {
   "cell_type": "markdown",
   "id": "1e4cd7ae",
   "metadata": {},
   "source": [
    "\n",
    "\n",
    "Since version 3.3 Python comes with this program, which allows in a simple way,\n",
    "to manage separate Python virtual environments.\n",
    "If you use Debian/Ubuntu/Mint as your Linux distribution, you have to run this command first.\n",
    "run this command first, because `venv` has to be installed separately:\n",
    "\n",
    "```\n",
    "apt install python3-venv\n",
    "```\n",
    "\n",
    "For other distributions and operating systems, `venv` should already be installed.\n",
    "\n",
    "### Creating a venv\n",
    "\n",
    "The safest way to create a new environment is to do so:\n",
    "\n",
    "```\n",
    "python3 -m venv /path/where/that/venv/will/be installed\n",
    "```\n",
    "\n",
    "If you have more than one Python version installed, and want to test your program with e.g.\n",
    "with different Python versions, you can specify a specific version when creating the virtual\n",
    "environment, e.g. on Linux like this:\n",
    "\n",
    "```\n",
    "/usr/bin/python3.6 -m venv ~/venvs/myproject/py3.6\n",
    "```\n",
    "\n",
    "It is important to specify the correct Python version at the beginning of the command\n",
    "(``/usr/bin/python3.6``), which of course must be present at the given path.\n",
    "\n",
    "If you want to update an existing *virtual environment* to a newer Python version\n",
    "it works like this:\n",
    "\n",
    "```\n",
    "/path/to/new/python -m venv -- upgrade /path/to/existing/venv\n",
    "```"
   ]
  },
  {
   "cell_type": "markdown",
   "id": "37e7925f",
   "metadata": {},
   "source": [
    "### Working with virtual environments\n",
    "\n",
    "**Important note**: Virtual environments cannot be activated from a notebook! If you need a specific virtual environment in your notebook, you must activate it before starting Jupyter. "
   ]
  },
  {
   "cell_type": "markdown",
   "id": "4d287844",
   "metadata": {},
   "source": [
    "### Activate the venv\n",
    "\n",
    "Before you can work with a virtual environment, you have to activate it.\n",
    "\n",
    "Here we have to distinguish between Windows on the one hand and Linux/OSX on the other hand.\n",
    "\n",
    "#### Windows\n",
    "\n",
    "In the command line:\n",
    "\n",
    "```\n",
    "<path_to_venv>\\Scripts\\activate\n",
    "```\n",
    "\n",
    "so e.g. like this (`myvenv` is the name of the virtual environment):\n",
    "\n",
    "```\n",
    "myvenv\\Scripts\\activate\n",
    "```\n",
    "\n",
    "or in a Powershell :\n",
    "\n",
    "```\n",
    "<path_to_venv>\\Scripts\\activate.ps1\n",
    "```\n",
    "\n",
    "#### OSX and Linux\n",
    "\n",
    "```\n",
    "source <path_to_venv>/bin/activate\n",
    "```\n",
    "\n",
    "so for example (`myvenv` is the name of the virtual environment):\n",
    "\n",
    "```\n",
    "source myvenv_bin/activate\n",
    "```\n",
    "\n",
    "After that, the name of your virtual environment should be in brackets at the beginning of the\n",
    "input line:\n",
    "\n",
    "```\n",
    "(myenv) username:~$\n",
    "```\n",
    "\n",
    "If the virtual environment is active, you will not notice any difference at first, except that the\n",
    "except that the ``python`` command calls exactly the Python version for which you created the\n",
    "for which you have created the *virtual environment* (e.g. on a Linux system it is no longer necessary to enter\n",
    "necessary to enter python3). \n",
    "\n",
    "However, if you install additional packages\n",
    "they will now only be installed for the active environment (i.e. not for your normal Python),\n",
    "which is good because it gives you environments that are isolated from each other.\n",
    "Here is an example:\n",
    "\n",
    "```\n",
    "(myenv) username :~ $pip install requests\n",
    "```"
   ]
  },
  {
   "cell_type": "markdown",
   "id": "a0051401",
   "metadata": {},
   "source": [
    "### Deactivate a virtual environment\n",
    "\n",
    "With `deactivate` you can deactivate the virtual environment again. The name\n",
    "then disappears from the prompt again."
   ]
  },
  {
   "cell_type": "markdown",
   "id": "97b320a5",
   "metadata": {},
   "source": [
    "### Backing up a virtual environment\n",
    "\n",
    "Packages installed with pip can be documented in a simple way with the respective versions\n",
    "documented:\n",
    "\n",
    "```\n",
    "pip freeze > requirements.txt\n",
    "```\n",
    "\n",
    "The file `requirements.txt` now contains information about all installed additional modules\n",
    "including version information:\n",
    "\n",
    "```\n",
    "certifi==2018.11.29\n",
    "chardet==3.0.4\n",
    "idna==2.7\n",
    "pkg-resources==0.0.0\n",
    "requests==2.20.1\n",
    "urllib3==1.24.1\n",
    "```\n",
    "\n",
    "To install exactly these add-on modules with the respective version in a new virtual\n",
    "environment (e.g. on another computer), this command is sufficient:\n",
    "\n",
    "```\n",
    "pip install -r requirements.txt\n",
    "```"
   ]
  },
  {
   "cell_type": "markdown",
   "id": "f601ef5d",
   "metadata": {},
   "source": [
    "## Virtual environments with conda\n",
    "\n",
    "Conda can create virtual environments by itself. These are, if you use Anaconda or\n",
    "Miniconda, it is preferable to use them.\n",
    "\n",
    "### Creating an environment\n",
    "\n",
    "A new environment is created with ``conda create``:\n",
    "\n",
    "```\n",
    "conda create --name <name_of_environment>\n",
    "```\n",
    "\n",
    "This creates a virtual environment underneath ``envs/``. It will \n",
    "the currently active Python version is used by default. If you want to use another \n",
    "Python version in the environment, this can be specified:\n",
    "\n",
    "```\n",
    "conda create python=3.6 --name <name_of_environment>\n",
    "```\n",
    "\n",
    "Alternatively, virtual environments can also be created with the graphical interface of\n",
    "Anaconda (Anaconda Navigator) to create, activate and deactivate virtual environments. Select\n",
    "To do this, select the menu item Environments . Further information can be found here: \n",
    "\n",
    "https://docs.anaconda.com/anaconda/navigator/tutorials/manage-environments/\n",
    "\n",
    "### Working in the Environment\n",
    "\n",
    "#### Under Windows\n",
    "\n",
    "```\n",
    "activate <name_of_environment>\n",
    "\n",
    "```\n",
    "#### Anywhere else\n",
    "\n",
    "```\n",
    "source activate <name_of_environments>\n",
    "```\n",
    "\n",
    "After that the environment is active and you can install packages as usual with conda \n",
    "to install packages:\n",
    "\n",
    "```\n",
    "conda install <package_name>\n",
    "```"
   ]
  }
 ],
 "metadata": {
  "kernelspec": {
   "display_name": "Python 3 (ipykernel)",
   "language": "python",
   "name": "python3"
  },
  "language_info": {
   "codemirror_mode": {
    "name": "ipython",
    "version": 3
   },
   "file_extension": ".py",
   "mimetype": "text/x-python",
   "name": "python",
   "nbconvert_exporter": "python",
   "pygments_lexer": "ipython3",
   "version": "3.9.13"
  }
 },
 "nbformat": 4,
 "nbformat_minor": 5
}
