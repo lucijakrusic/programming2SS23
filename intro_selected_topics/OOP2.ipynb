{
 "cells": [
  {
   "cell_type": "markdown",
   "id": "9281f64d",
   "metadata": {},
   "source": [
    "Here we're going to deepen our knowledge of OOP even more, and learn some new concepts.\n",
    "Such as : encapsulation."
   ]
  },
  {
   "cell_type": "markdown",
   "id": "cdf3ea0d",
   "metadata": {},
   "source": [
    "## Protected variables and methods (encapsulation)\n",
    "\n",
    "\n",
    "One of the main advantages of object orientation is data encapsulation (data hiding). \n",
    "By this we mean that access to properties and methods can be restricted. \n",
    "\n",
    "Some programming languages, such as Java, explicitly mark these access rights and are very strict in their interpretation. The following variable declaration in Java restricts access to the variable ``score`` to the class itself because it sets the visibility of the variable to ``private``.\n",
    "\n",
    "~~~\n",
    "private int score = 0;\n",
    "~~~\n",
    "\n",
    "This allows the value of `score` to be read or modified only from within the class.\n",
    "\n",
    "\n",
    "The following code, on the other hand, allows unrestricted access to the `username` property:\n",
    "\n",
    "~~~\n",
    "public String username;\n",
    "~~~\n",
    "\n",
    "A similar mechanism exists in Python. However, things are done in a more relaxed way here: An underline (``_``) placed in front of a variable name or a method name means that this part of the object should not be used, especially not changed, from outside the object."
   ]
  },
  {
   "cell_type": "code",
   "execution_count": 2,
   "id": "9c279cea",
   "metadata": {},
   "outputs": [
    {
     "data": {
      "text/plain": [
       "27"
      ]
     },
     "execution_count": 2,
     "metadata": {},
     "output_type": "execute_result"
    }
   ],
   "source": [
    "class MyClass:\n",
    "    \n",
    "    def __init__(self, val):\n",
    "        self.set_val(val)\n",
    "        \n",
    "    def get_val(self):\n",
    "        return self._val\n",
    "        \n",
    "    def set_val(self, val):\n",
    "        if val > 0:\n",
    "            self._val = val\n",
    "        else:\n",
    "            raise ValueError('val must be greater 0')\n",
    "        \n",
    "myclass = MyClass(27)        \n",
    "myclass._val"
   ]
  },
  {
   "cell_type": "markdown",
   "id": "17b93f1b",
   "metadata": {},
   "source": [
    "As we can see, the `_val` property is available from outside. However, the underline signals that the programmer of the class does not intend this value to be used directly (but only via the `get_val()` and `set_val()` methods, for example). If another programmer thinks that he needs direct access to the `_val` property, this is his responsibility (but is not prevented by Python). This is called *protection by convention*. Python programmers usually follow this convention, which is why this kind of \"protection\" is widely used. \n",
    "\n",
    "One advantage of this approach is, for example, that such elements can be tested more easily because a test can access them directly; whether this outweighs the disadvantage that the element is only protected by convention and not by the language itself must be judged by the requirements of a project."
   ]
  },
  {
   "cell_type": "markdown",
   "id": "bb456407",
   "metadata": {},
   "source": [
    "### Invisible properties and methods\n",
    "For paranoid programmers, Python offers the possibility to completely prevent access from outside the object by putting two underscores in front of the name instead of one."
   ]
  },
  {
   "cell_type": "markdown",
   "id": "93e24c1d",
   "metadata": {},
   "source": [
    "Let's go back to our dear Student class and let's change it a bit."
   ]
  },
  {
   "cell_type": "code",
   "execution_count": 6,
   "id": "d3f3decc",
   "metadata": {},
   "outputs": [],
   "source": [
    "class Student:\n",
    "    def __init__(self, name, age, matr_nr):\n",
    "        self.__name = name\n",
    "        self.__age = age\n",
    "        self.__matr_nr = matr_nr\n",
    "        "
   ]
  },
  {
   "cell_type": "markdown",
   "id": "5f7f3c34",
   "metadata": {},
   "source": [
    "In this case, we have set all of our attributes to private, which meansss..."
   ]
  },
  {
   "cell_type": "code",
   "execution_count": 7,
   "id": "6bdda8ca",
   "metadata": {},
   "outputs": [],
   "source": [
    "student = Student('Moody', 28, 1234567)\n"
   ]
  },
  {
   "cell_type": "code",
   "execution_count": 8,
   "id": "9e7896db",
   "metadata": {},
   "outputs": [
    {
     "data": {
      "text/plain": [
       "'Moody'"
      ]
     },
     "execution_count": 8,
     "metadata": {},
     "output_type": "execute_result"
    }
   ],
   "source": [
    "student.__name"
   ]
  },
  {
   "cell_type": "markdown",
   "id": "f41299f2",
   "metadata": {},
   "source": [
    "As you see, we get a NameError, because  that the property `__name` is not visible at all from outside the class and thus cannot be changed. Inside the class, however, it is normally available:"
   ]
  },
  {
   "cell_type": "code",
   "execution_count": null,
   "id": "2b1475ee",
   "metadata": {},
   "outputs": [],
   "source": [
    "class Student:\n",
    "    def __init__(self, name, age, matr_nr):\n",
    "        self.__name = name\n",
    "        self.__age = age\n",
    "        self.__matr_nr = matr_nr\n",
    "    \n",
    "    def get_name(self):\n",
    "        return self.__name       "
   ]
  },
  {
   "cell_type": "code",
   "execution_count": null,
   "id": "378fe05f",
   "metadata": {},
   "outputs": [],
   "source": [
    "student = Student('Moody', 28, 1234567)\n",
    "student.get_name()"
   ]
  },
  {
   "cell_type": "markdown",
   "id": "3b218a8b",
   "metadata": {},
   "source": [
    "### Data encapsulation with properties\n",
    "As we have seen, for accessing protected properties, separate <b>getter</b> and <b>setter</b> methods are written, through which the value of a property can be changed in a controlled manner. \n",
    " \n",
    " Let's rewrite the `Student` class and add the student a grade. To control access to this property, we write a setter and a getter method."
   ]
  },
  {
   "cell_type": "code",
   "execution_count": 9,
   "id": "9a2b9862",
   "metadata": {},
   "outputs": [],
   "source": [
    "class GradingError(Exception): pass\n",
    "\n",
    "\n",
    "class Student:\n",
    "    \n",
    "    def __init__(self, matr_nr):\n",
    "        self.matr_nr = matr_nr\n",
    "        self._grade = 0\n",
    "        \n",
    "    def set_grade(self, grade):\n",
    "        if grade > 0 and grade < 6:\n",
    "            self._grade = grade\n",
    "        else:\n",
    "            raise ValueError('Grade must be between 1 and 5!')\n",
    "            \n",
    "    def get_grade(self):\n",
    "        if self._grade > 0:\n",
    "            return self._grade\n",
    "        raise GradingError('Not yet graded!')"
   ]
  },
  {
   "cell_type": "markdown",
   "id": "17af4eff",
   "metadata": {},
   "source": [
    "We can now set the grade and read it out:"
   ]
  },
  {
   "cell_type": "code",
   "execution_count": 10,
   "id": "40131024",
   "metadata": {},
   "outputs": [
    {
     "ename": "ValueError",
     "evalue": "Grade must be between 1 and 5!",
     "output_type": "error",
     "traceback": [
      "\u001b[1;31m---------------------------------------------------------------------------\u001b[0m",
      "\u001b[1;31mValueError\u001b[0m                                Traceback (most recent call last)",
      "\u001b[1;32m~\\AppData\\Local\\Temp\\ipykernel_26500\\1232008802.py\u001b[0m in \u001b[0;36m<module>\u001b[1;34m\u001b[0m\n\u001b[0;32m      1\u001b[0m \u001b[0manna\u001b[0m \u001b[1;33m=\u001b[0m \u001b[0mStudent\u001b[0m\u001b[1;33m(\u001b[0m\u001b[1;34m'01754645'\u001b[0m\u001b[1;33m)\u001b[0m\u001b[1;33m\u001b[0m\u001b[1;33m\u001b[0m\u001b[0m\n\u001b[1;32m----> 2\u001b[1;33m \u001b[0manna\u001b[0m\u001b[1;33m.\u001b[0m\u001b[0mset_grade\u001b[0m\u001b[1;33m(\u001b[0m\u001b[1;36m6\u001b[0m\u001b[1;33m)\u001b[0m\u001b[1;33m\u001b[0m\u001b[1;33m\u001b[0m\u001b[0m\n\u001b[0m",
      "\u001b[1;32m~\\AppData\\Local\\Temp\\ipykernel_26500\\31499221.py\u001b[0m in \u001b[0;36mset_grade\u001b[1;34m(self, grade)\u001b[0m\n\u001b[0;32m     12\u001b[0m             \u001b[0mself\u001b[0m\u001b[1;33m.\u001b[0m\u001b[0m_grade\u001b[0m \u001b[1;33m=\u001b[0m \u001b[0mgrade\u001b[0m\u001b[1;33m\u001b[0m\u001b[1;33m\u001b[0m\u001b[0m\n\u001b[0;32m     13\u001b[0m         \u001b[1;32melse\u001b[0m\u001b[1;33m:\u001b[0m\u001b[1;33m\u001b[0m\u001b[1;33m\u001b[0m\u001b[0m\n\u001b[1;32m---> 14\u001b[1;33m             \u001b[1;32mraise\u001b[0m \u001b[0mValueError\u001b[0m\u001b[1;33m(\u001b[0m\u001b[1;34m'Grade must be between 1 and 5!'\u001b[0m\u001b[1;33m)\u001b[0m\u001b[1;33m\u001b[0m\u001b[1;33m\u001b[0m\u001b[0m\n\u001b[0m\u001b[0;32m     15\u001b[0m \u001b[1;33m\u001b[0m\u001b[0m\n\u001b[0;32m     16\u001b[0m     \u001b[1;32mdef\u001b[0m \u001b[0mget_grade\u001b[0m\u001b[1;33m(\u001b[0m\u001b[0mself\u001b[0m\u001b[1;33m)\u001b[0m\u001b[1;33m:\u001b[0m\u001b[1;33m\u001b[0m\u001b[1;33m\u001b[0m\u001b[0m\n",
      "\u001b[1;31mValueError\u001b[0m: Grade must be between 1 and 5!"
     ]
    }
   ],
   "source": [
    "anna = Student('01754645')\n",
    "anna.set_grade(6)"
   ]
  },
  {
   "cell_type": "code",
   "execution_count": 11,
   "id": "de45f0d0",
   "metadata": {},
   "outputs": [
    {
     "data": {
      "text/plain": [
       "2"
      ]
     },
     "execution_count": 11,
     "metadata": {},
     "output_type": "execute_result"
    }
   ],
   "source": [
    "anna.set_grade(2)\n",
    "anna.get_grade()"
   ]
  },
  {
   "cell_type": "markdown",
   "id": "4573aa54",
   "metadata": {},
   "source": [
    "However, direct access to 'grade' is still possible:"
   ]
  },
  {
   "cell_type": "code",
   "execution_count": 12,
   "id": "4f0ef780",
   "metadata": {},
   "outputs": [
    {
     "data": {
      "text/plain": [
       "2"
      ]
     },
     "execution_count": 12,
     "metadata": {},
     "output_type": "execute_result"
    }
   ],
   "source": [
    "anna._grade"
   ]
  },
  {
   "cell_type": "code",
   "execution_count": 13,
   "id": "caef334d",
   "metadata": {},
   "outputs": [
    {
     "data": {
      "text/plain": [
       "6"
      ]
     },
     "execution_count": 13,
     "metadata": {},
     "output_type": "execute_result"
    }
   ],
   "source": [
    "anna._grade = 6\n",
    "anna._grade"
   ]
  },
  {
   "cell_type": "markdown",
   "id": "800e1016",
   "metadata": {},
   "source": [
    "As we have already seen, we can prevent this by renaming the `grade` property to `__grade`. "
   ]
  },
  {
   "cell_type": "markdown",
   "id": "421faf7f",
   "metadata": {},
   "source": [
    "## Set properties via getter and setter \n",
    "Python provides a way to automatically direct the setting and reading of object properties through methods. To do this, the getter and setter are passed to the `poperty` function (last line of the class)."
   ]
  },
  {
   "cell_type": "code",
   "execution_count": 14,
   "id": "c6191f0f",
   "metadata": {},
   "outputs": [],
   "source": [
    "class Student:\n",
    "    \n",
    "    def __init__(self, matrikelnr):\n",
    "        self.matrikelnr = matrikelnr\n",
    "        self.__grade = 0\n",
    "        \n",
    "    def set_grade(self, grade):\n",
    "        if grade > 0 and grade < 6:\n",
    "            self.__grade = grade\n",
    "        else:\n",
    "            raise ValueError('Grade must be between 1 and 5!')\n",
    "            \n",
    "    def get_grade(self):\n",
    "        if self.__grade > 0:\n",
    "            return self.__grade\n",
    "        raise GradingError('Noch nicht benotet!')\n",
    "        \n",
    "    grade = property(get_grade, set_grade)\n",
    "    \n",
    "otto = Student('01745646465')    \n",
    "otto.grade = 5"
   ]
  },
  {
   "cell_type": "markdown",
   "id": "7dc20d83",
   "metadata": {},
   "source": [
    "As we can see, we can set and read the property of the object directly, but the access is routed by Python through the setter and getter respectively."
   ]
  },
  {
   "cell_type": "markdown",
   "id": "46547e60",
   "metadata": {},
   "source": [
    "If we pass only one method (the getter) as an argument to the property() function, we have a property that can only be read, but not changed."
   ]
  },
  {
   "cell_type": "code",
   "execution_count": 15,
   "id": "6e06335c",
   "metadata": {},
   "outputs": [
    {
     "data": {
      "text/plain": [
       "5"
      ]
     },
     "execution_count": 15,
     "metadata": {},
     "output_type": "execute_result"
    }
   ],
   "source": [
    "class Student:\n",
    "    \n",
    "    def __init__(self, matrikelnr, grade):\n",
    "        self.matrikelnr = matrikelnr\n",
    "        self.__grade = grade\n",
    "                \n",
    "    def get_grade(self):\n",
    "        if self.__grade > 0:\n",
    "            return self.__grade\n",
    "        raise GradingError('Not yet graded!')\n",
    "        \n",
    "    grade = property(get_grade)\n",
    "    \n",
    "harry = Student('0157897846546', 5)    \n",
    "harry.grade"
   ]
  },
  {
   "cell_type": "markdown",
   "id": "f41535c3",
   "metadata": {},
   "source": [
    "So we can access our properties defined via property(). However, we cannot use `grade`,\n",
    "to change the property:"
   ]
  },
  {
   "cell_type": "code",
   "execution_count": 16,
   "id": "34b9473e",
   "metadata": {},
   "outputs": [
    {
     "ename": "AttributeError",
     "evalue": "can't set attribute",
     "output_type": "error",
     "traceback": [
      "\u001b[1;31m---------------------------------------------------------------------------\u001b[0m",
      "\u001b[1;31mAttributeError\u001b[0m                            Traceback (most recent call last)",
      "\u001b[1;32m~\\AppData\\Local\\Temp\\ipykernel_26500\\4285937623.py\u001b[0m in \u001b[0;36m<module>\u001b[1;34m\u001b[0m\n\u001b[1;32m----> 1\u001b[1;33m \u001b[0mharry\u001b[0m\u001b[1;33m.\u001b[0m\u001b[0mgrade\u001b[0m \u001b[1;33m=\u001b[0m \u001b[1;36m1\u001b[0m\u001b[1;33m\u001b[0m\u001b[1;33m\u001b[0m\u001b[0m\n\u001b[0m",
      "\u001b[1;31mAttributeError\u001b[0m: can't set attribute"
     ]
    }
   ],
   "source": [
    "harry.grade = 1"
   ]
  },
  {
   "cell_type": "markdown",
   "id": "4b6c166e",
   "metadata": {},
   "source": [
    "<div class=\"alert alert-block alert-info\">\n",
    "<b>Exercise 3</b>\n",
    "<p>\n",
    "<li> Create a class called Person. Give this person a name, age and gender. Make all those attributes private.\n",
    "<li> Set the name as a property (with the decorator) and write a setter method\n",
    "<li> create a person instance and print out the person's name \n",
    "<li> create a static method that just prints out ('Hi everyone')\n",
    "</p>\n",
    "</div>"
   ]
  },
  {
   "cell_type": "code",
   "execution_count": 35,
   "id": "2e435590",
   "metadata": {},
   "outputs": [
    {
     "name": "stdout",
     "output_type": "stream",
     "text": [
      "Hi everyone\n"
     ]
    }
   ],
   "source": [
    "class Person:\n",
    "        def __init__(self, name, age, gender):\n",
    "            self.__name = name\n",
    "            self.__age = age\n",
    "            self.__gender = gender\n",
    "        @property\n",
    "        def name(self):\n",
    "            return self.__name\n",
    "        \n",
    "        @name.setter\n",
    "        def name(self, new_name):\n",
    "            self.__name =new_name\n",
    "            \n",
    "        @staticmethod\n",
    "        def print_hi():\n",
    "            print('Hi everyone')\n",
    "            \n",
    "tobias = Person('Tobias',29,'male')\n",
    "\n",
    "tobias.name = 'peter'\n",
    "tobias.name\n",
    "Person.print_hi()"
   ]
  },
  {
   "cell_type": "code",
   "execution_count": 17,
   "id": "59a86d27",
   "metadata": {},
   "outputs": [],
   "source": [
    "class Person:\n",
    "        def __init__(self, name, age, gender):\n",
    "            self.__name = name\n",
    "            self.__age = age\n",
    "            self.__gender = gender\n",
    "        \n",
    "        def get_name(self):\n",
    "            name = self.__name\n",
    "            return name\n",
    "        \n",
    "        def set_name(self, new_name):\n",
    "            self.__name = new_name\n",
    "            \n",
    "        name = property(get_name, set_name)\n"
   ]
  },
  {
   "cell_type": "code",
   "execution_count": 20,
   "id": "709f32be",
   "metadata": {},
   "outputs": [
    {
     "data": {
      "text/plain": [
       "'Loony Major'"
      ]
     },
     "execution_count": 20,
     "metadata": {},
     "output_type": "execute_result"
    }
   ],
   "source": [
    "loony  = Person('Loony', 5, 'diverse')    \n",
    "loony.name\n",
    "loony.name = 'Loony Major'\n",
    "loony.name"
   ]
  },
  {
   "cell_type": "markdown",
   "id": "f030eee4",
   "metadata": {},
   "source": [
    "### The @property decorator\n",
    "\n",
    "Decorators dynamically extend the functionality of functions by wrapping them (in the background) in another function. Using a decorator is simple: you just write it in front of the function definition.\n",
    "Python comes with a number of decorators, but you can also write your own decorators, which is not covered here.\n",
    "The `@property` decorator built into Python objects is an alternative to the `property()` function presented above:"
   ]
  },
  {
   "cell_type": "code",
   "execution_count": 28,
   "id": "1adc4375",
   "metadata": {},
   "outputs": [],
   "source": [
    "class Student:\n",
    "    \n",
    "    def __init__(self, matrikelnr):\n",
    "        self.matrikelnr = matrikelnr\n",
    "        self.__grade = 0\n",
    "            \n",
    "    @property\n",
    "    def grade(self):\n",
    "        if self.__grade > 0:\n",
    "            return self.__grade\n",
    "        raise GradingError('Noch nicht benotet!')\n",
    "   \n",
    "        \n",
    "    @grade.setter     \n",
    "    def grade(self, grade):\n",
    "        if grade > 0 and grade < 6:\n",
    "            self.__grade = grade\n",
    "        else:\n",
    "            raise ValueError('Grade must be between 1 and 5!')\n",
    "        \n",
    "    \n",
    "\n",
    "hugo = Student('0176464645454')    "
   ]
  },
  {
   "cell_type": "code",
   "execution_count": 29,
   "id": "cf13ce08",
   "metadata": {},
   "outputs": [],
   "source": [
    "hugo.grade = 5"
   ]
  },
  {
   "cell_type": "code",
   "execution_count": 32,
   "id": "dc741cdb",
   "metadata": {},
   "outputs": [
    {
     "data": {
      "text/plain": [
       "2"
      ]
     },
     "execution_count": 32,
     "metadata": {},
     "output_type": "execute_result"
    }
   ],
   "source": [
    "hugo.grade"
   ]
  },
  {
   "cell_type": "code",
   "execution_count": 33,
   "id": "339493a5",
   "metadata": {},
   "outputs": [
    {
     "data": {
      "text/plain": [
       "2"
      ]
     },
     "execution_count": 33,
     "metadata": {},
     "output_type": "execute_result"
    }
   ],
   "source": [
    "hugo.grade = 2\n",
    "hugo.grade"
   ]
  },
  {
   "cell_type": "markdown",
   "id": "9ad13b25",
   "metadata": {},
   "source": [
    "## Class variables (Static members)\n",
    "\n",
    "We have learned that classes set properties and methods of objects. However (and this can be a bit confusing at first), classes themselves are also objects that have properties and methods. \n",
    "\n",
    "In Python, class variables are also known as static members, which are variables that are shared among all instances of a class. These variables are defined inside a class, but outside of any methods, and they can be accessed through the class name or any instance of the class.\n",
    "\n",
    "Here's an example of how to define and use class variables in Python:\n"
   ]
  },
  {
   "cell_type": "code",
   "execution_count": 36,
   "id": "bbe0089a",
   "metadata": {},
   "outputs": [
    {
     "data": {
      "text/plain": [
       "42"
      ]
     },
     "execution_count": 36,
     "metadata": {},
     "output_type": "execute_result"
    }
   ],
   "source": [
    "class MyClass:\n",
    "    \n",
    "    the_answer = 42\n",
    "    \n",
    "    def __init__(self, val):\n",
    "        self.the_answer = val\n",
    "        \n",
    "MyClass.the_answer       "
   ]
  },
  {
   "cell_type": "code",
   "execution_count": 37,
   "id": "75f7c1da",
   "metadata": {},
   "outputs": [
    {
     "name": "stdout",
     "output_type": "stream",
     "text": [
      "Object properties: 17\n",
      "Class properties: 42\n"
     ]
    }
   ],
   "source": [
    "mc = MyClass(17)\n",
    "print('Object properties:', mc.the_answer)\n",
    "print('Class properties:', MyClass.the_answer)"
   ]
  },
  {
   "cell_type": "markdown",
   "id": "9bf0ef4d",
   "metadata": {},
   "source": [
    "So one property is attached to the class object, the other to the object created from the class. Such class properties can be useful because they are available in all objects created from the class (even via `self` as long as the object itself does not have a property of the same name):"
   ]
  },
  {
   "cell_type": "code",
   "execution_count": 38,
   "id": "e365ce0d",
   "metadata": {},
   "outputs": [
    {
     "name": "stdout",
     "output_type": "stream",
     "text": [
      "I am the  1. object\n",
      "I am the  2. object\n"
     ]
    }
   ],
   "source": [
    "class MyClass:\n",
    "    instance_counter = 0\n",
    "    \n",
    "    def __init__(self):\n",
    "        MyClass.instance_counter += 1\n",
    "        print('I am the  {}. object'.format(MyClass.instance_counter))\n",
    "        \n",
    "a = MyClass()\n",
    "b = MyClass()"
   ]
  },
  {
   "cell_type": "code",
   "execution_count": 39,
   "id": "9ed429a5",
   "metadata": {},
   "outputs": [
    {
     "name": "stdout",
     "output_type": "stream",
     "text": [
      "I am the  3. object\n",
      "I am the  4. object\n"
     ]
    }
   ],
   "source": [
    "# Attention: this code probably does not do what you expected,\n",
    "# because in the __init__() code of the base class, this (i.e. MyClass) is directly \n",
    "# referenced (and not MyOtherClass).\n",
    "\n",
    "class MyOtherClass(MyClass):\n",
    "    instance_counter = 0\n",
    "\n",
    "a = MyOtherClass()\n",
    "b = MyOtherClass()"
   ]
  },
  {
   "cell_type": "markdown",
   "id": "89471432",
   "metadata": {},
   "source": [
    "You can also write it this way, which makes the counter work for subclasses as well:"
   ]
  },
  {
   "cell_type": "code",
   "execution_count": 10,
   "id": "099a0517",
   "metadata": {},
   "outputs": [
    {
     "name": "stdout",
     "output_type": "stream",
     "text": [
      "I am the 1. object\n",
      "I am the 2. object\n"
     ]
    }
   ],
   "source": [
    "class MyClass:\n",
    "    instance_counter = 0\n",
    "    \n",
    "    def __init__(self):\n",
    "        self.__class__.instance_counter += 1\n",
    "        # self.__class__ referenziert auf die eigene Klasse des Objekts\n",
    "        print('I am the {}. object'.format(self.__class__.instance_counter))\n",
    "        \n",
    "a = MyClass()\n",
    "b = MyClass()"
   ]
  },
  {
   "cell_type": "code",
   "execution_count": 11,
   "id": "1da09936",
   "metadata": {},
   "outputs": [
    {
     "name": "stdout",
     "output_type": "stream",
     "text": [
      "I am the 1. object\n",
      "I am the 2. object\n"
     ]
    }
   ],
   "source": [
    "class MyOtherClass(MyClass):\n",
    "    instance_counter = 0\n",
    "\n",
    "a = MyOtherClass()\n",
    "b = MyOtherClass()"
   ]
  },
  {
   "cell_type": "markdown",
   "id": "6e6fb788",
   "metadata": {},
   "source": [
    "Another example of class variables:"
   ]
  },
  {
   "cell_type": "code",
   "execution_count": 40,
   "id": "8108c058",
   "metadata": {},
   "outputs": [
    {
     "name": "stdout",
     "output_type": "stream",
     "text": [
      "4\n",
      "4\n",
      "3\n",
      "3\n",
      "3\n",
      "This Ford Mustang has 3 wheels.\n"
     ]
    }
   ],
   "source": [
    "class Car:\n",
    "    # class variable\n",
    "    wheels = 4\n",
    "\n",
    "    def __init__(self, make, model):\n",
    "        self.make = make\n",
    "        self.model = model\n",
    "\n",
    "    def description(self):\n",
    "        return f\"This {self.make} {self.model} has {Car.wheels} wheels.\"\n",
    "\n",
    "# create instances of Car class\n",
    "car1 = Car(\"Ford\", \"Mustang\")\n",
    "car2 = Car(\"Tesla\", \"Model S\")\n",
    "\n",
    "# access class variable through the class name\n",
    "print(Car.wheels)  # output: 4\n",
    "\n",
    "# access class variable through an instance of the class\n",
    "print(car1.wheels)  # output: 4\n",
    "\n",
    "# change the value of the class variable\n",
    "Car.wheels = 3\n",
    "\n",
    "# access class variable through the class name and instances of the class\n",
    "print(Car.wheels)  # output: 3\n",
    "print(car1.wheels)  # output: 3\n",
    "print(car2.wheels)  # output: 3\n",
    "\n",
    "# calling the method of the instance\n",
    "print(car1.description())  # output: This Ford Mustang has 3 wheels.\n"
   ]
  },
  {
   "cell_type": "markdown",
   "id": "a387fdda",
   "metadata": {},
   "source": [
    "In the above example, wheels is a class variable that is defined inside the Car class. It is accessed through the class name Car and all instances of the class. The description() method of the class also uses the class variable to describe the number of wheels the car has.\n",
    "\n",
    "By changing the value of the class variable, it affects all instances of the class, as shown when we change the value of wheels from 4 to 3. This is because the class variable is shared among all instances of the class.\n",
    "\n",
    "\n",
    "\n"
   ]
  },
  {
   "cell_type": "markdown",
   "id": "ffd47586",
   "metadata": {},
   "source": [
    "<div class=\"alert alert-block alert-info\">\n",
    "<b>Exercise 4</b>\n",
    "<p>\n",
    "<li> Let's build on our Person class. Create ```count``` a class variable that keeps track of the number of instances of the Person class.\n",
    "\n",
    "<li> create ```display_count()``` a class method that displays the value of the class variable ```count```\n",
    "<li> create  display_person(self) - an instance method that displays the name and age of the person.\n",
    "\n",
    "</p>\n",
    "</div>"
   ]
  },
  {
   "cell_type": "code",
   "execution_count": 42,
   "id": "d4268cde",
   "metadata": {},
   "outputs": [
    {
     "name": "stdout",
     "output_type": "stream",
     "text": [
      "Total number of persons : 2\n"
     ]
    }
   ],
   "source": [
    "class Person:\n",
    "    \n",
    "        count = 0\n",
    "        \n",
    "        def __init__(self, name, age, gender):\n",
    "            self.__name = name\n",
    "            self.__age = age\n",
    "            self.__gender = gender\n",
    "            Person.count += 1\n",
    "            \n",
    "        @property\n",
    "        def name(self):\n",
    "            return self.__name\n",
    "        \n",
    "        @name.setter\n",
    "        def name(self, new_name):\n",
    "            self.__name =new_name\n",
    "            \n",
    "        @staticmethod\n",
    "        def print_hi():\n",
    "            print('Hi everyone')\n",
    "        \n",
    "        def display_count():\n",
    "            print(f'Total number of persons : {Person.count}')\n",
    "            \n",
    "tobias = Person('Tobias',29,'male')\n",
    "loony  = Person('Loony', 5, 'diverse')    \n",
    "Person.display_count()"
   ]
  },
  {
   "cell_type": "markdown",
   "id": "e1af2fbc",
   "metadata": {},
   "source": [
    "## Overloading operators (Polymorphism)"
   ]
  },
  {
   "cell_type": "markdown",
   "id": "12a7aba5",
   "metadata": {},
   "source": [
    "The word polymorphism means having many forms (and comes from Greek). In programming, polymorphism means the same function name (but different signatures) being used for different types. The key difference is the data types and number of arguments used in function.\n",
    "\n",
    "Buuut, let's take a step back.\n",
    "\n"
   ]
  },
  {
   "cell_type": "markdown",
   "id": "386899a1",
   "metadata": {},
   "source": [
    "### Operators"
   ]
  },
  {
   "cell_type": "code",
   "execution_count": 12,
   "id": "a29484ba",
   "metadata": {},
   "outputs": [
    {
     "data": {
      "text/plain": [
       "10"
      ]
     },
     "execution_count": 12,
     "metadata": {},
     "output_type": "execute_result"
    }
   ],
   "source": [
    "5 + 5 # plus is the operator, 5 and 6 are the operands"
   ]
  },
  {
   "cell_type": "code",
   "execution_count": 13,
   "id": "337fe2c4",
   "metadata": {},
   "outputs": [
    {
     "data": {
      "text/plain": [
       "'HelloWorld'"
      ]
     },
     "execution_count": 13,
     "metadata": {},
     "output_type": "execute_result"
    }
   ],
   "source": [
    "'Hello' + 'World'"
   ]
  },
  {
   "cell_type": "code",
   "execution_count": 14,
   "id": "f418a800",
   "metadata": {},
   "outputs": [
    {
     "ename": "TypeError",
     "evalue": "unsupported operand type(s) for +: 'int' and 'str'",
     "output_type": "error",
     "traceback": [
      "\u001b[1;31m---------------------------------------------------------------------------\u001b[0m",
      "\u001b[1;31mTypeError\u001b[0m                                 Traceback (most recent call last)",
      "\u001b[1;32m~\\AppData\\Local\\Temp\\ipykernel_23904\\2025004899.py\u001b[0m in \u001b[0;36m<module>\u001b[1;34m\u001b[0m\n\u001b[0;32m      2\u001b[0m \u001b[0mb\u001b[0m \u001b[1;33m=\u001b[0m \u001b[1;34m'World'\u001b[0m\u001b[1;33m\u001b[0m\u001b[1;33m\u001b[0m\u001b[0m\n\u001b[0;32m      3\u001b[0m \u001b[1;33m\u001b[0m\u001b[0m\n\u001b[1;32m----> 4\u001b[1;33m \u001b[0mprint\u001b[0m\u001b[1;33m(\u001b[0m\u001b[0ma\u001b[0m \u001b[1;33m+\u001b[0m \u001b[0mb\u001b[0m\u001b[1;33m)\u001b[0m\u001b[1;33m\u001b[0m\u001b[1;33m\u001b[0m\u001b[0m\n\u001b[0m",
      "\u001b[1;31mTypeError\u001b[0m: unsupported operand type(s) for +: 'int' and 'str'"
     ]
    }
   ],
   "source": [
    "a = 5\n",
    "b = 'World'\n",
    "\n",
    "print(a + b)"
   ]
  },
  {
   "cell_type": "markdown",
   "id": "0f795472",
   "metadata": {},
   "source": [
    "We get an error, because int and string are unsupported for the operand +. But what is actually happening behind the scenes when we add two numbers? "
   ]
  },
  {
   "cell_type": "code",
   "execution_count": null,
   "id": "547cd4eb",
   "metadata": {},
   "outputs": [],
   "source": [
    "a = 5\n",
    "b = 5\n",
    "print(a + b) # is essentially the same as\n",
    "print(int.__add__(a,b)) "
   ]
  },
  {
   "cell_type": "markdown",
   "id": "7b06189d",
   "metadata": {},
   "source": [
    "__add__ is nothing but a method of the int class and behind the scenes, even if you say a + b, this is what is being called in the background.\n",
    "\n",
    "The str class also has an __add__ method, but it works only for the same datatypes (strings)."
   ]
  },
  {
   "cell_type": "code",
   "execution_count": null,
   "id": "db7540e5",
   "metadata": {},
   "outputs": [],
   "source": [
    "'cat' + 'dog'"
   ]
  },
  {
   "cell_type": "markdown",
   "id": "feb1d58b",
   "metadata": {},
   "source": [
    "The moment we switch it up, it doesn't work anymore."
   ]
  },
  {
   "cell_type": "markdown",
   "id": "2cbc494c",
   "metadata": {},
   "source": [
    "### Which operators can be overloaded?"
   ]
  },
  {
   "cell_type": "markdown",
   "id": "5018b43a",
   "metadata": {},
   "source": [
    "Python allows a variety of operators to be overloaded. So that objects of self-created data types (classes) can be compared, added, multiplied, etc., it is up to the programmer to implement the appropriate operators for this. This includes, for example, the following operators (for a complete list see: [Python Documentation, Special Method Names](https://docs.python.org/3/reference/datamodel.html#special-method-names))"
   ]
  },
  {
   "cell_type": "markdown",
   "id": "071ad411",
   "metadata": {},
   "source": [
    "| method name | operator | meaning |\n",
    "|:---|---|---|\n",
    "|\\__add__() | + | addition |\n",
    "|\\__eq__() | == | equality |\n",
    "|\\__hash__() | | calculation of the hash value |\n",
    "|\\__le__() | <= | less than or equal to |\n",
    "|\\__lt__() | < | less than |\n",
    "|\\__mul__() | * | multiplication |\n",
    "|\\__repr__() | | representation as string |\n",
    "|\\__str__() | | representation as string |\n",
    "|\\__sub__() | - | subtraction |"
   ]
  },
  {
   "cell_type": "markdown",
   "id": "cf445e5e",
   "metadata": {},
   "source": [
    "### An example: back to the student"
   ]
  },
  {
   "cell_type": "code",
   "execution_count": 43,
   "id": "a118c1d5",
   "metadata": {},
   "outputs": [],
   "source": [
    "class Student:\n",
    "    def __init__(self, task1, task2):\n",
    "        self.task1 = task1\n",
    "        self.task2 = task2\n",
    "        \n",
    "s1 = Student (1, 3)\n",
    "s2 = Student (2, 4)"
   ]
  },
  {
   "cell_type": "markdown",
   "id": "42757096",
   "metadata": {},
   "source": [
    "We know that + is adding things, so let's see if we can actually merge these two students' marks into one student (let's say we accidentally made two)."
   ]
  },
  {
   "cell_type": "code",
   "execution_count": 44,
   "id": "cdfae765",
   "metadata": {},
   "outputs": [
    {
     "ename": "TypeError",
     "evalue": "unsupported operand type(s) for +: 'Student' and 'Student'",
     "output_type": "error",
     "traceback": [
      "\u001b[1;31m---------------------------------------------------------------------------\u001b[0m",
      "\u001b[1;31mTypeError\u001b[0m                                 Traceback (most recent call last)",
      "\u001b[1;32m~\\AppData\\Local\\Temp\\ipykernel_26500\\502979719.py\u001b[0m in \u001b[0;36m<module>\u001b[1;34m\u001b[0m\n\u001b[1;32m----> 1\u001b[1;33m \u001b[0ms3\u001b[0m \u001b[1;33m=\u001b[0m \u001b[0ms1\u001b[0m \u001b[1;33m+\u001b[0m \u001b[0ms2\u001b[0m\u001b[1;33m\u001b[0m\u001b[1;33m\u001b[0m\u001b[0m\n\u001b[0m",
      "\u001b[1;31mTypeError\u001b[0m: unsupported operand type(s) for +: 'Student' and 'Student'"
     ]
    }
   ],
   "source": [
    "s3 = s1 + s2"
   ]
  },
  {
   "cell_type": "markdown",
   "id": "acc2674d",
   "metadata": {},
   "source": [
    "Is it possible to use the + operator with the student class? We see that we get an error. \n",
    "Why?\n",
    "Because when we use the + , in the background we're actually are calling the __ add __ method. \n",
    "But, our class has no __ add __ method, does it?"
   ]
  },
  {
   "cell_type": "markdown",
   "id": "e157d99d",
   "metadata": {},
   "source": [
    "### Overloading operators"
   ]
  },
  {
   "cell_type": "markdown",
   "id": "c57f4d96",
   "metadata": {},
   "source": [
    "Is essentially, changing the definition for the operator and defining what we want from it."
   ]
  },
  {
   "cell_type": "code",
   "execution_count": 45,
   "id": "b2de131f",
   "metadata": {},
   "outputs": [],
   "source": [
    "class Student:\n",
    "    def __init__(self, task1, task2):\n",
    "        self.task1 = task1\n",
    "        self.task2 = task2\n",
    "        \n",
    "    def __add__(self, other):\n",
    "        task1 = self.task1 + other.task1\n",
    "        task2 = self.task2 + other.task2\n",
    "        task3 = Student(task1,task2)\n",
    "        \n",
    "        return task3\n",
    "        \n",
    "s1 = Student (1, 3)\n",
    "s2 = Student (2, 4)"
   ]
  },
  {
   "cell_type": "code",
   "execution_count": 47,
   "id": "1a7ba5c0",
   "metadata": {},
   "outputs": [
    {
     "name": "stdout",
     "output_type": "stream",
     "text": [
      "7\n"
     ]
    }
   ],
   "source": [
    "s3 = s1 + s2\n",
    "print(s3.task2)"
   ]
  },
  {
   "cell_type": "markdown",
   "id": "6dd135d3",
   "metadata": {},
   "source": [
    "<div class=\"alert alert-block alert-info\">\n",
    "<b>Exercise 4</b>\n",
    "<p>\n",
    "<li> Create a class called TodoList. Give this TodoList an attribute todos.\n",
    "<li> Overload the __str__ method to present your todos - have your __str__ method return \"Todos: (a list of todos)\"\n",
    "<li> create an instance of the class and print it\n",
    "<li> add an item to the todo list class, like such: todo_list = todo_list + \"Read book\"\n",
    "<li> overload the __add__ method to make it work\n",
    "    \n",
    "</p>"
   ]
  },
  {
   "cell_type": "code",
   "execution_count": null,
   "id": "43ced594",
   "metadata": {},
   "outputs": [],
   "source": []
  }
 ],
 "metadata": {
  "kernelspec": {
   "display_name": "Python 3 (ipykernel)",
   "language": "python",
   "name": "python3"
  },
  "language_info": {
   "codemirror_mode": {
    "name": "ipython",
    "version": 3
   },
   "file_extension": ".py",
   "mimetype": "text/x-python",
   "name": "python",
   "nbconvert_exporter": "python",
   "pygments_lexer": "ipython3",
   "version": "3.9.13"
  },
  "vscode": {
   "interpreter": {
    "hash": "6d2a54ae7edc1237aedf8c39487b114f87d1a4ea2b46e75dbe07aa65709a6754"
   }
  }
 },
 "nbformat": 4,
 "nbformat_minor": 5
}
