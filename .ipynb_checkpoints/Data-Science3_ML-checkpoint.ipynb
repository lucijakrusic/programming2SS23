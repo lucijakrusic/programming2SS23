{
 "cells": [
  {
   "cell_type": "markdown",
   "id": "85307c76",
   "metadata": {},
   "source": [
    "# Basic ML algorithms for classification and prediction"
   ]
  },
  {
   "cell_type": "markdown",
   "id": "3d2bba15",
   "metadata": {},
   "source": [
    "In this notebook, we're going to try out two of the most basic ML algorithms for prediction and classification - linear and logistic regression.\n",
    "\n",
    "We're also going to be learning about the process of preparing our data for ML, variables, vectors, matrices, the train/test split and evaluation methods.\n",
    "\n",
    "We  will use the scikit-learn library (which you hopefully have installed since last week) to create our two basic models. When coding, this library is written as sklearn."
   ]
  },
  {
   "cell_type": "code",
   "execution_count": null,
   "id": "b754524f",
   "metadata": {},
   "outputs": [],
   "source": [
    "from IPython.display import Image\n",
    "from IPython.core.display import HTML "
   ]
  },
  {
   "cell_type": "markdown",
   "id": "3e366e73",
   "metadata": {},
   "source": [
    " We are importing pandas as well as seaborn for the graphs and sklearn.\n",
    "Froms sklearn we're importing two models that we'll use - Linear and Logistic Regression as well as some metrics that we will use to evaluate our models."
   ]
  },
  {
   "cell_type": "code",
   "execution_count": null,
   "id": "4ee22f57",
   "metadata": {},
   "outputs": [],
   "source": [
    "import pandas as pd\n",
    "import seaborn as sns\n",
    "import matplotlib.pyplot as plt\n",
    "from sklearn.metrics import mean_absolute_error"
   ]
  },
  {
   "cell_type": "code",
   "execution_count": null,
   "id": "4759ef2b",
   "metadata": {},
   "outputs": [],
   "source": [
    "from sklearn.linear_model import LinearRegression\n",
    "from sklearn.metrics import mean_absolute_error, r2_score\n"
   ]
  },
  {
   "cell_type": "code",
   "execution_count": null,
   "id": "40287134",
   "metadata": {},
   "outputs": [],
   "source": [
    "from sklearn.model_selection import train_test_split\n",
    "from sklearn.linear_model import LogisticRegression\n",
    "from sklearn.metrics import accuracy_score, f1_score\n",
    "from sklearn.metrics import confusion_matrix, classification_report"
   ]
  },
  {
   "cell_type": "markdown",
   "id": "21c0c86e",
   "metadata": {},
   "source": [
    "In this Notebook we're dealing with two supervised Machine Learning models, one for classification and one for regression.\n",
    "\n",
    "\n",
    "Classification algorithm:\n",
    "- logistic regression\n",
    "\n",
    "\n",
    "Regression algorithm:\n",
    "- linear regression"
   ]
  },
  {
   "cell_type": "markdown",
   "id": "6bdeb26b",
   "metadata": {},
   "source": [
    "### Building a model"
   ]
  },
  {
   "cell_type": "markdown",
   "id": "de50066a",
   "metadata": {},
   "source": [
    "The steps to building and using a model are:\n",
    "\n",
    "1. Define: What type of model will it be? \n",
    "2. Fit: Capture patterns from provided data. This is the heart of modeling.\n",
    "3. Classify/Predict: Just what it sounds like\n",
    "4. Evaluate: Determine how accurate the model's predictions are.\n"
   ]
  },
  {
   "cell_type": "markdown",
   "id": "10a02671",
   "metadata": {},
   "source": [
    "### Data for Machine learning tasks"
   ]
  },
  {
   "cell_type": "markdown",
   "id": "aa9c58cf",
   "metadata": {},
   "source": [
    "- data can as we know be structured or unstructured (tables and databases vs novels or text messages)\n",
    "- for basic ML it's best if data is structured\n",
    "- tabular based dataset contains data organized in rows and columns\n",
    "- every column contains a feature, which is also known as a variable, a dimension or an attribute\n",
    "- each column is known as a vector\n",
    "\n"
   ]
  },
  {
   "cell_type": "code",
   "execution_count": null,
   "id": "50173597",
   "metadata": {},
   "outputs": [],
   "source": [
    "Image(url= \"img/data.png\",width=500, height=1500)\n",
    "# source: Machine Learning for Absolute Beginners, Oliver Theobald"
   ]
  },
  {
   "cell_type": "markdown",
   "id": "01455ad8",
   "metadata": {},
   "source": [
    "### Variables\n",
    "\n",
    "- in machine learning, the terms <b>\"dependent variable\"</b> and <b>\"independent variable\"</b> are used to describe the relationship between features (inputs) and targets (outputs) in a dataset. These variables play crucial roles in training and building machine learning models.\n",
    "\n",
    "<u>Dependent Variable: Also known as the \"target variable\" or \"output variable\" </u>:\n",
    "\n",
    "   - the dependent variable is the variable that we want to predict or understand based on the input features. In supervised learning, the model learns to make predictions or infer patterns in the dependent variable based on the independent variables\n",
    "   - The dependent variable is typically denoted as \"y\" and represents the outcome or the variable of interest in the problem.\n",
    "   - Example: If we are building a model to predict housing prices, the dependent variable would be the actual prices of             the houses."
   ]
  },
  {
   "cell_type": "code",
   "execution_count": null,
   "id": "c19aca40",
   "metadata": {},
   "outputs": [],
   "source": [
    "Image(url= \"img/variables.png\",width=500, height=1500)\n",
    "# source: https://prowritingaid.com/dependent-variable, Krystal Craiker"
   ]
  },
  {
   "cell_type": "markdown",
   "id": "770e1fd7",
   "metadata": {},
   "source": [
    "<u>Independent Variables: Also known as \"predictor variables\" or \"input features\" </u>:\n",
    "\n",
    "   * independent variables are the variables that are used to predict or explain the dependent variable\n",
    "   * the features or attributes that provide information to the model for making predictions. Independent variables are denoted as \"X\" and represent the input data or the set of features used in the model\n",
    "   * Example: In the housing price prediction example, the independent variables could be features such as the size of the house, number of bedrooms, location, etc.\n",
    "\n",
    "The relationship between the dependent and independent variables forms the basis of machine learning models. The goal is to find patterns, relationships, or dependencies between the independent variables and the dependent variable so that the model can generalize and make accurate predictions on unseen data.\n",
    "\n"
   ]
  },
  {
   "cell_type": "markdown",
   "id": "cac2675e",
   "metadata": {},
   "source": [
    "## How to find the variables in our table/dataset?\n",
    "\n",
    "- vectors store the X and y values and multiple vectors (columns) are referred to as matrices\n",
    "- in the case of the supervised learning the dependent variable (y) will already be in the table and be used to identify patterns in relation to the independent variable (X)\n",
    "- the y value is often but not always represented in the final column"
   ]
  },
  {
   "cell_type": "markdown",
   "id": "4e3757ab",
   "metadata": {},
   "source": [
    "# Prediction - Linear regression \n",
    "- simple technique for predicting an unknown variable using the result that you know\n",
    "\n",
    "\n",
    "We can imagine a simple example of number of viewers depending on the season of a tv show (1-9) as shown on the plot below:\n",
    "\n",
    "- the X axis (the independent variable) is the number of seasons, while the y axis is the number of viewers per season\n",
    "- we want to predict the number of viewers for the tents seasons\n",
    "- the line in linear regression is also called a <b> hyperplane </b>\n",
    "\n",
    "- the goal is to figure out where to place the hyperplane so that the distance between it to the datapoints is smallest possible"
   ]
  },
  {
   "cell_type": "code",
   "execution_count": null,
   "id": "175e4d51",
   "metadata": {},
   "outputs": [],
   "source": [
    "Image(url= \"img/linear_r.png\",width=500, height=1500)\n",
    "# source: Machine Learning for Absolute Beginners, Oliver Theobald"
   ]
  },
  {
   "cell_type": "markdown",
   "id": "f522087b",
   "metadata": {},
   "source": [
    "- by calculating the linear regression, we actually calculate the slope of the hyperplane\n",
    "\n",
    "\n",
    "<u>For those who want to know more: </u>\n",
    "\n",
    "- formula for linear regression:\n",
    "```\n",
    "y = bx + a\n",
    "\n",
    "```\n",
    "\n",
    "- in which y is the dependent variable, x the independent one\n",
    "- a is the point where the hyperplane crosses the y-axis or the value of y when x=0\n",
    "- b discates the steepenes of the slope and explains relationship between x and y\n",
    "- read more about this in Machine Learning for Absolute Beginners by Oliver Theobald, page 57\n"
   ]
  },
  {
   "cell_type": "code",
   "execution_count": null,
   "id": "11733925",
   "metadata": {},
   "outputs": [],
   "source": [
    "Image(url= \"img/linear2.png\",width=500, height=1500)\n",
    "# source: Machine Learning for Absolute Beginners, Oliver Theobald"
   ]
  },
  {
   "cell_type": "markdown",
   "id": "65589358",
   "metadata": {},
   "source": [
    "The first step (as always) is to clean our data. In this case, we have already done a lot of data cleaning in the previous notebook. What we still need to do is adjust some of our data to the algorithm that we're using.\n"
   ]
  },
  {
   "cell_type": "markdown",
   "id": "39cd9f40",
   "metadata": {},
   "source": [
    "### Data cleaning (scrubbing)\n",
    "\n",
    "- modifying and removing incomplete, incorrectly formatted, irrelevant or duplicated data\n",
    "- converting text based data to numeric values\n",
    "- redesigning features\n",
    "\n"
   ]
  },
  {
   "cell_type": "markdown",
   "id": "aa5fb13a",
   "metadata": {},
   "source": [
    "Let's read in our pickle file for the sales dataframe that we previously worked on."
   ]
  },
  {
   "cell_type": "code",
   "execution_count": null,
   "id": "7899b237",
   "metadata": {},
   "outputs": [],
   "source": [
    "sales  = pd.read_pickle('sales.pkl')\n",
    "sales.head()"
   ]
  },
  {
   "cell_type": "markdown",
   "id": "960abdca",
   "metadata": {},
   "source": [
    "We see that our dataframe was perfectly preserved through the pickling process."
   ]
  },
  {
   "cell_type": "code",
   "execution_count": null,
   "id": "ef07f4a9",
   "metadata": {},
   "outputs": [],
   "source": [
    "sales = sales.drop('gross margin percentage', axis = 1)"
   ]
  },
  {
   "cell_type": "code",
   "execution_count": null,
   "id": "59717e6e",
   "metadata": {},
   "outputs": [],
   "source": [
    "sales.head(10)"
   ]
  },
  {
   "cell_type": "markdown",
   "id": "f8e31fa9",
   "metadata": {},
   "source": [
    "### Feature selection\n",
    "- identifying variables most relevant to our hypothesis, preserving features unnecessary to the output may manipulate and derail the models accuracy\n",
    "- it means selecting the columns that we need for our analysis, otherwise our results might become skewed\n",
    "- one thing that can help us choose the data is correlation\n"
   ]
  },
  {
   "cell_type": "markdown",
   "id": "2aeebbb3",
   "metadata": {},
   "source": [
    "### Digression - correlation\n",
    "\n",
    "\n",
    "\"In statistics, correlation or dependence is any statistical relationship, whether causal or not, between two random variables or bivariate data. Although in the broadest sense, \"correlation\" may indicate any type of association, in statistics it usually refers to the degree to which a pair of variables are linearly related\" - Wikipedia, Correlation"
   ]
  },
  {
   "cell_type": "markdown",
   "id": "d05e0f39",
   "metadata": {},
   "source": [
    "To establish what we can predict in a dataset, we first need to see which variables are linearly related (e.g. if one goes up so does the other).\n",
    "\n",
    "We can use a heatmap for that - we see that e.g. Tax and Total have a high correlation, but that Unit price and Rating do not.\n",
    "\n",
    "That means that in our dataset, using Unit price to predict the Rating will not be useful, while using e.g. Quantity and Tax to predict the Total, might be."
   ]
  },
  {
   "cell_type": "code",
   "execution_count": null,
   "id": "89b8cebf",
   "metadata": {},
   "outputs": [],
   "source": [
    "sales_corr = sales.corr()\n",
    "# dataframe.corr() is used to find the pairwise correlation of all columns in the Pandas Dataframe in Python\n",
    "# Any NaN values are automatically excluded. Any non-numeric data type or columns in the Dataframe, it is ignored.\n",
    "sns.heatmap(sales_corr,annot=True,cmap='coolwarm')"
   ]
  },
  {
   "cell_type": "markdown",
   "id": "a4d539d3",
   "metadata": {},
   "source": [
    "### One- hot encoding\n",
    "- converting text-based values in columns into numeric values (binary form)\n",
    "- we need to do this for linear regression, e.g. because simply some algorithms require numerical data \n",
    "- 0 represents False, 1 represent True\n",
    "- numerical values in our datasets should not contain commas or fullstops\n"
   ]
  },
  {
   "cell_type": "code",
   "execution_count": null,
   "id": "f36a96cf",
   "metadata": {},
   "outputs": [],
   "source": [
    "sales = pd.get_dummies(sales, columns = ['City','Customer type', 'Customer type', 'Gender', 'Payment', 'Product line', 'Branch'])"
   ]
  },
  {
   "cell_type": "code",
   "execution_count": null,
   "id": "3e9a1816",
   "metadata": {},
   "outputs": [],
   "source": [
    "correlation = sales['Quantity'].corr(sales['Unit price'])\n",
    "print(\"Correlation coefficient:\", correlation)"
   ]
  },
  {
   "cell_type": "markdown",
   "id": "102fb10d",
   "metadata": {},
   "source": [
    "With linear regression models, we want our independent variables to have a high correlation to the dependent variable, but not to have a high correlation to each other."
   ]
  },
  {
   "cell_type": "code",
   "execution_count": null,
   "id": "a52d07f2",
   "metadata": {},
   "outputs": [],
   "source": [
    "correlation = sales['Quantity'].corr(sales['gross income'])\n",
    "print(\"Correlation coefficient:\", correlation)"
   ]
  },
  {
   "cell_type": "code",
   "execution_count": null,
   "id": "bbf1175e",
   "metadata": {},
   "outputs": [],
   "source": [
    "correlation = sales['Unit price'].corr(sales['gross income'])\n",
    "print(\"Correlation coefficient:\", correlation)"
   ]
  },
  {
   "cell_type": "code",
   "execution_count": null,
   "id": "c51ba084",
   "metadata": {},
   "outputs": [],
   "source": [
    "sales_corr = sales.corr()\n",
    "sales_corr"
   ]
  },
  {
   "cell_type": "markdown",
   "id": "f78aec27",
   "metadata": {},
   "source": [
    "### Row compression and variable  creation\n",
    "- reducing the number of rows and thus compressing he number of data points\n",
    "- numeric variables are easier to aggregate (mean, mode)\n"
   ]
  },
  {
   "cell_type": "markdown",
   "id": "dcf57f39",
   "metadata": {},
   "source": [
    "In this step, we will create a DataFrame called `X` holding the predictive features. We're also creating a second dataframe, `y`, that holds the vavriable that we want to predict."
   ]
  },
  {
   "cell_type": "code",
   "execution_count": null,
   "id": "36de84e7",
   "metadata": {},
   "outputs": [],
   "source": [
    "X = sales[['Quantity', 'Unit price']]\n",
    "y = sales['gross income']\n",
    "print(f'{X}, {y}')"
   ]
  },
  {
   "cell_type": "markdown",
   "id": "eea862e4",
   "metadata": {},
   "source": [
    "### Train/Test split\n",
    "- in ML, input data is split into train and test\n",
    "- the first split is the training data, which is the initial reserve of data used to develop th the model (e.g. when building an email spam detector, then from the training data, false positives can be detected and also e.g.email notifications can be excluded)\n",
    "- when a model is developed based on patterns extracted from the training dana and we are satisfied with the performance of the model and the accuracy of its prediction, we can test the model on the remaining data (the test data)\n",
    "- if we are satisfied with the model’s performance on the test data, than the model is ready set go\n",
    "- the ratio is usually 80/20, unless if we have a large dataset then 90/10 is good\n",
    "- before we split the data, we need to randomize the order (shuffling) to avoid potential bias in th data (ordered by date or alphabetically)\n",
    "- random_state = can be any int value, ensures reproducibility of results on many runs (if you keep the number the same, but can be any). It will  ensure that the initial weights and biases of the model are initialized in the same way every time you train the model with the same dataset."
   ]
  },
  {
   "cell_type": "code",
   "execution_count": null,
   "id": "7d989d5b",
   "metadata": {},
   "outputs": [],
   "source": [
    "# Split data into test/train set (80/20 split) and shuffle\n",
    "X_train, X_test, y_train, y_test = train_test_split(X, y, test_size=0.2, random_state=42, shuffle=True)\n"
   ]
  },
  {
   "cell_type": "code",
   "execution_count": null,
   "id": "f7729bf0",
   "metadata": {},
   "outputs": [],
   "source": [
    "model = LinearRegression()\n",
    "model.fit(X_train, y_train)\n"
   ]
  },
  {
   "cell_type": "code",
   "execution_count": null,
   "id": "18fd15ac",
   "metadata": {},
   "outputs": [],
   "source": [
    "print(X)"
   ]
  },
  {
   "cell_type": "code",
   "execution_count": null,
   "id": "904bc742",
   "metadata": {},
   "outputs": [],
   "source": [
    "y_pred = model.predict(X_test)\n",
    "print(y_pred)"
   ]
  },
  {
   "cell_type": "markdown",
   "id": "c7591b20",
   "metadata": {},
   "source": [
    "### Evaluation for regression\n",
    "\n",
    "\n",
    "1) MAE measures the average of the errors in a set of predictions, i.e. how far the regression line is to the actual data points.The MAE measures the average absolute difference between the predicted and actual values in a regression problem.\n",
    "\n",
    "2) R-squared Score: The R-squared score, also known as the coefficient of determination, represents the proportion of the variance in the target variable that can be explained by the regression model. The R-squared value ranges from 0 to 1, of 1 indicates that the model perfectly explains the variance in the target variable."
   ]
  },
  {
   "cell_type": "code",
   "execution_count": null,
   "id": "a87ad78b",
   "metadata": {},
   "outputs": [],
   "source": [
    "mae = mean_absolute_error(y_test, y_pred)\n",
    "r2 = r2_score(y_test, y_pred)\n",
    "print('Mean Absolute Error:', mae)\n",
    "print('R-squared Score:', r2)\n"
   ]
  },
  {
   "cell_type": "markdown",
   "id": "483d1006",
   "metadata": {},
   "source": [
    "The MAE value of 2.927885650956976 represents the average magnitude of errors between the predicted and actual values. A lower MAE indicates better model performance. In this case, a MAE of 2.93 suggests that, on average, the predicted gross income differs from the actual gross income by approximately $2.93. However, without additional context, it is difficult to assess whether this MAE value is good or bad. It is recommended to compare it with other models or benchmarks in the same domain to determine its adequacy.\n",
    "\n",
    "The R-squared score of 0.8881180842629107 measures the proportion of the variance in the gross income that can be explained by the Quantity and Unit Price variables. It ranges from 0 to 1, with 1 indicating a perfect fit. In this case, an R-squared value of 0.8881 suggests that approximately 88.81% of the variability in the gross income can be explained by the Quantity and Unit Price variables. Generally, a higher R-squared value is considered better, but the interpretation depends on the specific context and the available benchmarks."
   ]
  },
  {
   "cell_type": "code",
   "execution_count": null,
   "id": "884b9cfd",
   "metadata": {},
   "outputs": [],
   "source": [
    "invoice = [\n",
    "   7, #quantity\n",
    "   15.28, #unit price\n",
    "]\n",
    "\n",
    "# Make prediction\n",
    "invoice = model.predict([invoice])\n",
    "invoice"
   ]
  },
  {
   "cell_type": "markdown",
   "id": "af74f5d6",
   "metadata": {},
   "source": [
    "<div class=\"alert alert-block alert-info\">\n",
    "<b>Exercise 1 Linear Regression</b>\n",
    "<p>\n",
    "Which variable would be the dependent variable for the following model?\n",
    "    <li>size </li>\n",
    "     <li> total_bill and tip</li>\n",
    "     <li> total_bill</li>\n",
    "    <li> tip </li>\n",
    "\n",
    "</p>\n",
    "  \n",
    "</div>"
   ]
  },
  {
   "cell_type": "markdown",
   "id": "ebe7e3be",
   "metadata": {},
   "source": [
    "<div class=\"alert alert-block alert-info\">\n",
    "<b>Exercise 2 Linear Regression</b>\n",
    "<p>\n",
    "From looking only at the data preview below, which variable(s) appear to have a linear relationship with total_bill?\n",
    "    <li>smoker </li>\n",
    "     <li> total_bill and size</li>\n",
    "     <li> time</li>\n",
    "    <li> sex </li>\n",
    "\n",
    "</p>\n",
    "  \n",
    "</div>"
   ]
  },
  {
   "cell_type": "markdown",
   "id": "7a007601",
   "metadata": {},
   "source": [
    "<div class=\"alert alert-block alert-info\">\n",
    "<b>Exercise 3 Linear Regression</b>\n",
    "<p>\n",
    "It's important for the independent variable to be strongly correlated with the dependent variable and one or more of the other independent variables. True or False?\n",
    "</p>\n",
    "  \n",
    "</div>"
   ]
  },
  {
   "cell_type": "code",
   "execution_count": null,
   "id": "8e675546",
   "metadata": {},
   "outputs": [],
   "source": [
    "Image(url= \"img/table1.png\",width=500, height=1500)\n",
    "# source: Machine Learning for Absolute Beginners, Oliver Theobald"
   ]
  },
  {
   "cell_type": "markdown",
   "id": "97c935db",
   "metadata": {},
   "source": [
    "# Classification - Logistic regression \n",
    "\n",
    "- since it is classification, the dependent variable is  a discrete categorical one (e.g. if we want to predict a new customer vs returning one)\n",
    "- this algorithm is often used to predict between two discrete classes, e.g. pregnant and not pregnant\n",
    "- used in fraud detection, disease diagnosis, emergency detection, loan detection, identification of spam email etc.\n",
    "\n"
   ]
  },
  {
   "cell_type": "code",
   "execution_count": null,
   "id": "d617a570",
   "metadata": {},
   "outputs": [],
   "source": [
    "Image(url= \"img/logistic.png\",width=500, height=1500)\n",
    "# source: Machine Learning for Absolute Beginners, Oliver Theobald"
   ]
  },
  {
   "cell_type": "markdown",
   "id": "676ae041",
   "metadata": {},
   "source": [
    "To predict the type of payment used (the dependent variable),we might consider the Total amount of the invoice and the quantity of items purchased (the independent variables)."
   ]
  },
  {
   "cell_type": "code",
   "execution_count": null,
   "id": "4393c782",
   "metadata": {},
   "outputs": [],
   "source": [
    "X = sales[['Product line', 'Quantity']]\n",
    "y = sales['Payment']\n",
    "\n",
    "# Convert non-numeric data using one-hot encoding\n",
    "X = pd.get_dummies(X, drop_first=True)\n",
    "print(X)"
   ]
  },
  {
   "cell_type": "markdown",
   "id": "dd46b67c",
   "metadata": {},
   "source": [
    "- after the split we can design the model and apply it to the training data\n",
    "- the 20 or 30 percent we left for testing is the part that we’re not allowed to train on, otherwise our model will incorrectly be really accurate\n",
    "- there are a range of metrics for evaluation and choosing the right one depends on the application of the model\n"
   ]
  },
  {
   "cell_type": "code",
   "execution_count": null,
   "id": "5a054de4",
   "metadata": {},
   "outputs": [],
   "source": [
    "X_train, X_test, y_train, y_test = train_test_split(X, y, test_size=0.2, random_state=42, shuffle=True)\n"
   ]
  },
  {
   "cell_type": "code",
   "execution_count": null,
   "id": "bd63ee85",
   "metadata": {},
   "outputs": [],
   "source": [
    "# Assign algorithm\n",
    "model = LogisticRegression(max_iter=10000)\n",
    "\n",
    "# Link algorithm to X and y variables\n",
    "model.fit(X_train, y_train)"
   ]
  },
  {
   "cell_type": "code",
   "execution_count": null,
   "id": "db1cb949",
   "metadata": {},
   "outputs": [],
   "source": [
    "# Run algorithm on test data to make predictions\n",
    "y_pred = model.predict(X_test)"
   ]
  },
  {
   "cell_type": "markdown",
   "id": "276c76f8",
   "metadata": {},
   "source": [
    "### Evaluation for classification\n",
    "\n",
    "\n",
    "1) Accuracy: Accuracy measures the overall correctness of the model's predictions by calculating the ratio of correctly classified samples to the total number of samples. It provides a general measure of the model's performance but may not be suitable for imbalanced datasets.\n",
    "\n",
    "\n",
    "2) Precision: Precision measures the proportion of true positive predictions (correctly predicted positive instances) out of all positive predictions made by the model. It focuses on the accuracy of positive predictions and is useful when the cost of false positives is high.\n",
    "\n",
    "3) Recall (Sensitivity/True Positive Rate): Recall calculates the proportion of true positive predictions out of all actual positive instances in the dataset. It is a measure of the model's ability to correctly identify positive instances and is useful when the cost of false negatives is high.\n",
    "\n",
    "4) F1-Score: The F1-score is the harmonic mean of precision and recall. It provides a balanced evaluation of the model's performance, taking into account both precision and recall. F1-score is a commonly used metric when the dataset is imbalanced or when you want to strike a balance between precision and recall."
   ]
  },
  {
   "cell_type": "code",
   "execution_count": null,
   "id": "2a2e7a40",
   "metadata": {},
   "outputs": [],
   "source": [
    "accuracy = accuracy_score(y_test, y_pred)\n",
    "f1 = f1_score(y_test, y_pred, average='weighted')\n",
    "print('Accuracy:', accuracy)\n",
    "print('F1-score:', f1)\n"
   ]
  },
  {
   "cell_type": "code",
   "execution_count": null,
   "id": "bf08133f",
   "metadata": {},
   "outputs": [],
   "source": [
    "# Make prediction\n",
    "invoice = [\n",
    "  3, #Quantity\n",
    "  0, #Product line_Fashion accessories\n",
    "  0, #Product line_Food and beverages\n",
    "  1, #Product line_Health and beauty\n",
    "  0, #Product line_Home and lifestyle\n",
    "  1, #Product line_Sports and travel\n",
    "\n",
    "\n",
    "\n",
    "]\n",
    "\n",
    "# Make prediction\n",
    "invoice = model.predict([invoice])\n",
    "invoice"
   ]
  },
  {
   "cell_type": "markdown",
   "id": "45d34e9f",
   "metadata": {},
   "source": [
    "<div class=\"alert alert-block alert-info\">\n",
    "<b>Exercise 1 Logistic Regression</b>\n",
    "<p>\n",
    "Which three variables (in their current form) could we use as the dependent variable to classify penguins?\n",
    "\n",
    "</p>\n",
    "  \n",
    "</div>"
   ]
  },
  {
   "cell_type": "markdown",
   "id": "177718be",
   "metadata": {},
   "source": [
    "<div class=\"alert alert-block alert-info\">\n",
    "<b>Exercise 2 Logistic Regression</b>\n",
    "<p>\n",
    "Which row(s) contain missing values?\n",
    "\n",
    "</p>\n",
    "  \n",
    "</div>"
   ]
  },
  {
   "cell_type": "markdown",
   "id": "2bdf0d64",
   "metadata": {},
   "source": [
    "<div class=\"alert alert-block alert-info\">\n",
    "<b>Exercise 3 Logistic Regression</b>\n",
    "<p>\n",
    "Which variable is binary?\n",
    "\n",
    "</p>\n",
    "  \n",
    "</div>"
   ]
  },
  {
   "cell_type": "code",
   "execution_count": null,
   "id": "902cedd8",
   "metadata": {},
   "outputs": [],
   "source": [
    "Image(url= \"img/table2.png\")\n",
    "# source: Machine Learning for Absolute Beginners, Oliver Theobald"
   ]
  },
  {
   "cell_type": "markdown",
   "id": "a3fa6653",
   "metadata": {},
   "source": [
    "## Literature, tutorials\n",
    "\n",
    "* Exercises taken from - Machine Learning for Absolute Beginners, Oliver Theobald (https://www.amazon.de/gp/product/B08RWBSKQB/ref=ppx_yo_dt_b_d_asin_title_o00?ie=UTF8&psc=1) (https://bmansoori.ir/book/Machine%20Learning%20For%20Absolute%20Beginners.pdf)\n",
    "* Tutorial accompanying the book -https://scatterplotpress.teachable.com/courses/enrolled/1247161\n",
    "* Good tutorial on Kaggle -  https://www.kaggle.com/learn/intro-to-machine-learning"
   ]
  }
 ],
 "metadata": {
  "kernelspec": {
   "display_name": "Python 3 (ipykernel)",
   "language": "python",
   "name": "python3"
  },
  "language_info": {
   "codemirror_mode": {
    "name": "ipython",
    "version": 3
   },
   "file_extension": ".py",
   "mimetype": "text/x-python",
   "name": "python",
   "nbconvert_exporter": "python",
   "pygments_lexer": "ipython3",
   "version": "3.9.13"
  }
 },
 "nbformat": 4,
 "nbformat_minor": 5
}
