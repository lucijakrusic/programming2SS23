{
 "cells": [
  {
   "cell_type": "code",
   "execution_count": null,
   "id": "8c6a4909",
   "metadata": {},
   "outputs": [],
   "source": [
    "from IPython.display import Image\n",
    "from IPython.core.display import HTML "
   ]
  },
  {
   "cell_type": "markdown",
   "id": "df130eaf",
   "metadata": {},
   "source": [
    "## Where to find data?\n",
    "- in the wild (scraping websites, Twitter, GAMS, etc)\n",
    "- for practice - Kaggle (https://www.kaggle.com/datasets)\n",
    "\n",
    "Kaggle is a really useful service where you can find data to play with and Notebooks to take inspiration and learn from. \n",
    "It also offers ML models you can try out and a community of people with data science interests.\n",
    "\n",
    "You can also form groups and solve dataset issues to win competitions (sometimes with cash prizes) - https://www.kaggle.com/competitions.\n",
    "\n",
    "Let's try out one of the intro-level challenges that already has a bunch of submissions - the Titanic dataset challenge (https://www.kaggle.com/competitions/titanic/overview/description). Kaggle has its own API that you can use to easily download the data.\n",
    "\n",
    "Let's install the Kaggle library. People who have Anaconda can do it easily through the naviagtor, otherwise:\n",
    "\n",
    "```\n",
    "$pip install kaggle\n",
    "\n",
    "```\n",
    "\n",
    "or \n",
    "\n",
    "```\n",
    "conda install -c conda-forge kaggle\n",
    "\n",
    "\n",
    "```\n",
    "\n",
    "Documentation:\n",
    "- https://github.com/Kaggle/kaggle-api\n",
    "- https://anaconda.org/conda-forge/kaggle\n"
   ]
  },
  {
   "cell_type": "code",
   "execution_count": null,
   "id": "35809305",
   "metadata": {},
   "outputs": [],
   "source": [
    "import kaggle\n"
   ]
  },
  {
   "cell_type": "markdown",
   "id": "be46d6ef",
   "metadata": {},
   "source": [
    "To be able to import this libary, you also need to create a user account, get your 'kaggle.json' file and place it under C:/Users/{username}/.kaggle.\n",
    "\n",
    "More on how to do that here: https://github.com/Kaggle/kaggle-api"
   ]
  },
  {
   "cell_type": "code",
   "execution_count": null,
   "id": "411b1b03",
   "metadata": {},
   "outputs": [],
   "source": [
    " ! kaggle datasets list"
   ]
  },
  {
   "cell_type": "code",
   "execution_count": null,
   "id": "6ae327a7",
   "metadata": {},
   "outputs": [],
   "source": [
    "import os\n"
   ]
  },
  {
   "cell_type": "code",
   "execution_count": null,
   "id": "8ac7cd22",
   "metadata": {},
   "outputs": [],
   "source": [
    "%cd data\n"
   ]
  },
  {
   "cell_type": "code",
   "execution_count": null,
   "id": "075c1652",
   "metadata": {},
   "outputs": [],
   "source": [
    "%mkdir Titanic"
   ]
  },
  {
   "cell_type": "code",
   "execution_count": null,
   "id": "046e0305",
   "metadata": {},
   "outputs": [],
   "source": [
    "%cd Titanic"
   ]
  },
  {
   "cell_type": "code",
   "execution_count": null,
   "id": "2c143055",
   "metadata": {},
   "outputs": [],
   "source": [
    "! kaggle competitions download -c titanic"
   ]
  },
  {
   "cell_type": "markdown",
   "id": "d71d85dd",
   "metadata": {},
   "source": [
    "Now we have our data, let's unzip it and check what is there. There should be a train and test set which we will use to build our models on. \n",
    "\n",
    "The train set (the ground truth set) contains the outcome for each passender of the titanic (whether they survived or not) and has features such as gender and passenger class. For the test set, it' s our job to build a model to predict whether they survived or died on the Titanic.\n",
    "\n",
    "The gender_submissions.csv is a set of predictions that serves an example of what the competition submission file should look like. More info on: https://www.kaggle.com/competitions/titanic/data"
   ]
  },
  {
   "cell_type": "code",
   "execution_count": null,
   "id": "94c0eb7f",
   "metadata": {},
   "outputs": [],
   "source": [
    "import pandas as pd\n",
    "import numpy as np\n",
    "import sklearn\n",
    "\n",
    "from sklearn.preprocessing import StandardScaler, MinMaxScaler, LabelBinarizer\n",
    "from sklearn.svm import SVC\n",
    "from sklearn.preprocessing import OneHotEncoder, LabelEncoder\n"
   ]
  },
  {
   "cell_type": "code",
   "execution_count": null,
   "id": "4bee8372",
   "metadata": {},
   "outputs": [],
   "source": [
    "import plotly.graph_objects as go\n",
    "import plotly.express as px\n",
    "import matplotlib.pyplot as plt\n",
    "\n",
    "import seaborn as sns"
   ]
  },
  {
   "cell_type": "code",
   "execution_count": null,
   "id": "8357b773",
   "metadata": {},
   "outputs": [],
   "source": [
    "train_data = pd.read_csv(\"titanic/train.csv\")\n",
    "train_data.head()"
   ]
  },
  {
   "cell_type": "code",
   "execution_count": null,
   "id": "78b22ac8",
   "metadata": {},
   "outputs": [],
   "source": [
    "train_data.shape"
   ]
  },
  {
   "cell_type": "code",
   "execution_count": null,
   "id": "27bef898",
   "metadata": {},
   "outputs": [],
   "source": [
    "test_data = pd.read_csv(\"titanic/test.csv\")\n",
    "test_data.head(10)"
   ]
  },
  {
   "cell_type": "code",
   "execution_count": null,
   "id": "121c2f51",
   "metadata": {},
   "outputs": [],
   "source": [
    "test_data.shape"
   ]
  },
  {
   "cell_type": "markdown",
   "id": "85600d40",
   "metadata": {},
   "source": [
    "## EDA (Exploratory data analysis)"
   ]
  },
  {
   "cell_type": "markdown",
   "id": "f821b30c",
   "metadata": {},
   "source": [
    "The Titanic competition also has a data dictionary, which explains the columns that make up the data set. Below are the descriptions contained in that data dictionary:\n"
   ]
  },
  {
   "cell_type": "markdown",
   "id": "d0e39679",
   "metadata": {},
   "source": [
    "\n",
    "| Column      | Description                                                                               |\n",
    "|-------------|-------------------------------------------------------------------------------------------|\n",
    "| PassengerID | A column added by Kaggle to identify each row and make submissions easier                 |\n",
    "| Survived    | Whether the passenger survived or not and the value we are predicting (0=No, 1=Yes)       |\n",
    "| Pclass      | The class of the ticket the passenger purchased (1=1st, 2=2nd, 3=3rd)                     |\n",
    "| Sex         | The passenger's sex                                                                       |\n",
    "| Age         | The passenger's age in years                                                              |\n",
    "| SibSp       | The number of siblings or spouses the passenger had aboard the Titanic                    |\n",
    "| Parch       | The number of parents or children the passenger had aboard the Titanic                    |\n",
    "| Ticket      | The passenger's ticket number                                                             |\n",
    "| Fare        | The fare the passenger paid                                                               |\n",
    "| Cabin       | The passenger's cabin number                                                              |\n",
    "| Embarked    | The port where the passenger embarked (C=Cherbourg, Q=Queenstown, S=Southampton)          |\n",
    "\n"
   ]
  },
  {
   "cell_type": "markdown",
   "id": "ad9877a4",
   "metadata": {},
   "source": [
    "#### How many null values?"
   ]
  },
  {
   "cell_type": "code",
   "execution_count": null,
   "id": "cb05e8b5",
   "metadata": {},
   "outputs": [],
   "source": [
    "train_data.isnull().sum()"
   ]
  },
  {
   "cell_type": "code",
   "execution_count": null,
   "id": "bad5b873",
   "metadata": {},
   "outputs": [],
   "source": [
    "test_data.isnull().sum()"
   ]
  },
  {
   "cell_type": "markdown",
   "id": "1e0ece54",
   "metadata": {},
   "source": [
    "#### Data types?"
   ]
  },
  {
   "cell_type": "code",
   "execution_count": null,
   "id": "e6313970",
   "metadata": {},
   "outputs": [],
   "source": [
    "train_data.dtypes"
   ]
  },
  {
   "cell_type": "code",
   "execution_count": null,
   "id": "87de2e3e",
   "metadata": {},
   "outputs": [],
   "source": [
    "train_data.describe()"
   ]
  },
  {
   "cell_type": "markdown",
   "id": "db758998",
   "metadata": {},
   "source": [
    "### How many people survived?"
   ]
  },
  {
   "cell_type": "code",
   "execution_count": null,
   "id": "09e8898e",
   "metadata": {},
   "outputs": [],
   "source": [
    "train_data['Survived'].value_counts().plot(kind='pie')"
   ]
  },
  {
   "cell_type": "markdown",
   "id": "04ae05db",
   "metadata": {},
   "source": [
    "### How many people is there per class?"
   ]
  },
  {
   "cell_type": "code",
   "execution_count": null,
   "id": "f070b9b7",
   "metadata": {},
   "outputs": [],
   "source": [
    "train_data['Pclass'].value_counts().plot(kind='pie')"
   ]
  },
  {
   "cell_type": "markdown",
   "id": "9192a9fe",
   "metadata": {},
   "source": [
    "### How many women survived and how many men survived in our training set?"
   ]
  },
  {
   "cell_type": "code",
   "execution_count": null,
   "id": "0a95828d",
   "metadata": {},
   "outputs": [],
   "source": [
    "sex_survived = train_data.groupby(['Sex','Survived'])['Survived'].count()\n",
    "sex_survived"
   ]
  },
  {
   "cell_type": "code",
   "execution_count": null,
   "id": "3b6f61bf",
   "metadata": {},
   "outputs": [],
   "source": [
    "sex_survived.plot(kind=\"bar\")"
   ]
  },
  {
   "cell_type": "markdown",
   "id": "42a27133",
   "metadata": {},
   "source": [
    "### How many people from different classes survived? (Did the wealthy have a higher chance of survival?)\n"
   ]
  },
  {
   "cell_type": "code",
   "execution_count": null,
   "id": "0c066a52",
   "metadata": {},
   "outputs": [],
   "source": [
    "pd.crosstab([train_data.Sex,train_data.Survived],train_data.Pclass,margins=True).style.background_gradient(cmap='summer_r')\n"
   ]
  },
  {
   "cell_type": "markdown",
   "id": "0185fb2b",
   "metadata": {},
   "source": [
    "### How many prople survived depending on age?\n"
   ]
  },
  {
   "cell_type": "code",
   "execution_count": null,
   "id": "52d9e731",
   "metadata": {},
   "outputs": [],
   "source": [
    "print('Oldest Passenger was of:',train_data['Age'].max(),'Years')\n",
    "print('Youngest Passenger was of:',train_data['Age'].min(),'Years')\n",
    "print('Average Age on the ship:',train_data['Age'].mean(),'Years')\n"
   ]
  },
  {
   "cell_type": "code",
   "execution_count": null,
   "id": "f69ea4fa",
   "metadata": {},
   "outputs": [],
   "source": [
    "df = px.data.tips()\n",
    "fig = px.violin(train_data, y=\"Age\", x=\"Survived\", color=\"Sex\", box=True, points=\"all\",\n",
    "          hover_data=train_data.columns)\n",
    "fig.show()"
   ]
  },
  {
   "cell_type": "markdown",
   "id": "260bbe4b",
   "metadata": {},
   "source": [
    "### Correlations?"
   ]
  },
  {
   "cell_type": "code",
   "execution_count": null,
   "id": "78ffb2bb",
   "metadata": {},
   "outputs": [],
   "source": [
    "# look at numeric and categorical values separately \n",
    "train_num = train_data[['Age','SibSp','Parch','Fare']]\n",
    "train_cat = train_data[['Survived','Pclass','Sex','Ticket','Cabin','Embarked']]"
   ]
  },
  {
   "cell_type": "code",
   "execution_count": null,
   "id": "9d5ea425",
   "metadata": {},
   "outputs": [],
   "source": [
    "print(train_num.corr())\n",
    "sns.heatmap(train_num.corr(),annot=True)"
   ]
  },
  {
   "cell_type": "markdown",
   "id": "db70823e",
   "metadata": {},
   "source": [
    "## Predict who's going to survive the Titanic disaster"
   ]
  },
  {
   "cell_type": "markdown",
   "id": "57a595b1",
   "metadata": {},
   "source": [
    "In this tutorial, we're going to use two algorithms. One that we already know (Linear Regression) and one that we're going to learn about now."
   ]
  },
  {
   "cell_type": "markdown",
   "id": "0e9c0f4b",
   "metadata": {},
   "source": [
    "## Clean data (NaN values)"
   ]
  },
  {
   "cell_type": "markdown",
   "id": "732eefc6",
   "metadata": {},
   "source": [
    "We have a lot of Nans in the Ticket and Cabin columns, and By dropping features we are dealing with fewer data points. Speeds up our notebook and eases the analysis.\n"
   ]
  },
  {
   "cell_type": "code",
   "execution_count": null,
   "id": "051c7c6d",
   "metadata": {},
   "outputs": [],
   "source": [
    "train_data = train_data.drop(['Ticket', 'Cabin'], axis=1)\n",
    "test_data = test_data.drop(['Ticket', 'Cabin'], axis=1)\n"
   ]
  },
  {
   "cell_type": "code",
   "execution_count": null,
   "id": "c8b75723",
   "metadata": {},
   "outputs": [],
   "source": [
    "train_data['Age'].fillna(train_data['Age'].median(), inplace = True)\n",
    "test_data['Age'].fillna(test_data['Age'].median(), inplace = True)"
   ]
  },
  {
   "cell_type": "code",
   "execution_count": null,
   "id": "2c8ec4dd",
   "metadata": {},
   "outputs": [],
   "source": [
    "train_data['Embarked'].fillna(train_data['Embarked'].mode()[0], inplace = True)\n",
    "test_data['Embarked'].fillna(test_data['Embarked'].mode()[0], inplace = True)\n"
   ]
  },
  {
   "cell_type": "code",
   "execution_count": null,
   "id": "7160b497",
   "metadata": {},
   "outputs": [],
   "source": [
    "train_data['Fare'].fillna(train_data['Fare'].median(), inplace = True)\n",
    "test_data['Fare'].fillna(test_data['Fare'].median(), inplace = True)\n"
   ]
  },
  {
   "cell_type": "markdown",
   "id": "18604eb5",
   "metadata": {},
   "source": [
    "### Feature Engineering\n",
    "Here we will try to make new features by analysing the existing features. This will increase our model efficiency and performance.\n",
    "\n"
   ]
  },
  {
   "cell_type": "code",
   "execution_count": null,
   "id": "def23a78",
   "metadata": {},
   "outputs": [],
   "source": [
    "# Here the train and test dataset are stored in a list so that we dont have to manipulate both one by one\n",
    "data_cleaner = [train_data, test_data]\n"
   ]
  },
  {
   "cell_type": "code",
   "execution_count": null,
   "id": "d3c1f5e0",
   "metadata": {},
   "outputs": [],
   "source": [
    "###CREATE: Feature Engineering for train and test/validation dataset\n",
    "for dataset in data_cleaner:    \n",
    "        \n",
    "    \n",
    "    #Discrete variables - creates a family size with no. of siblings , spouse , parents or children.\n",
    "    dataset['FamilySize'] = dataset ['SibSp'] + dataset['Parch'] + 1\n",
    "\n",
    "    dataset['IsAlone'] = 1 #initialize to yes/1 is alone\n",
    "    dataset['IsAlone'].loc[dataset['FamilySize'] > 1] = 0 # now update to no/0 if family size is greater than 1\n",
    "\n",
    "    #quick and dirty code split title from name: http://www.pythonforbeginners.com/dictionary/python-split\n",
    "    #This will store the title of each person from its 'Name'.\n",
    "    dataset['Title'] = dataset['Name'].str.split(\", \", expand=True)[1].str.split(\".\", expand=True)[0]\n",
    "\n",
    "\n",
    "    #Continuous variable bins; qcut vs cut: https://stackoverflow.com/questions/30211923/what-is-the-difference-between-pandas-qcut-and-pandas-cut\n",
    "    #Fare Bins/Buckets using qcut or frequency bins: https://pandas.pydata.org/pandas-docs/stable/generated/pandas.qcut.html\n",
    "    #This will create a Fare Slab according to no. provided. In our case we want '4' Fare Slab.\n",
    "    dataset['FareBin'] = pd.qcut(dataset['Fare'], 4)\n",
    "\n",
    "    \n",
    "    #Age Bins/Buckets using cut or value bins: https://pandas.pydata.org/pandas-docs/stable/generated/pandas.cut.html\n",
    "    #Same goes with here, we will have 6 Age categories.\n",
    "    dataset['AgeBin'] = pd.cut(dataset['Age'].astype(int), 6)\n",
    "\n"
   ]
  },
  {
   "cell_type": "code",
   "execution_count": null,
   "id": "ba459717",
   "metadata": {},
   "outputs": [],
   "source": [
    "train_data.head()"
   ]
  },
  {
   "cell_type": "code",
   "execution_count": null,
   "id": "1ae42261",
   "metadata": {},
   "outputs": [],
   "source": [
    "\n",
    "print(test_data['Title'].value_counts())\n"
   ]
  },
  {
   "cell_type": "markdown",
   "id": "4956bd16",
   "metadata": {},
   "source": [
    "This will make a group of those titles which are less than 10 as 'Misc' column.\n",
    "\n"
   ]
  },
  {
   "cell_type": "code",
   "execution_count": null,
   "id": "0ee66452",
   "metadata": {},
   "outputs": [],
   "source": [
    "#cleanup rare title names\n",
    "#print(data1['Title'].value_counts())\n",
    "stat_min = 10 #while small is arbitrary, we'll use the common minimum in statistics: http://nicholasjjackson.com/2012/03/08/sample-size-is-10-a-magic-number/\n",
    "title_names = (train_data['Title'].value_counts() < stat_min) #this will create a true false series with title name as index\n",
    "\n",
    "#apply and lambda functions are quick and dirty code to find and replace with fewer lines of code: https://community.modeanalytics.com/python/tutorial/pandas-groupby-and-python-lambda-functions/\n",
    "train_data['Title'] = train_data['Title'].apply(lambda x: 'Misc' if title_names.loc[x] == True else x)\n",
    "print(train_data['Title'].value_counts())\n",
    "\n",
    "title_namest = (test_data['Title'].value_counts() < stat_min)\n",
    "test_data['Title'] = test_data['Title'].apply(lambda x: 'Misc' if title_namest.loc[x] == True else x)"
   ]
  },
  {
   "cell_type": "markdown",
   "id": "d0a6fe83",
   "metadata": {},
   "source": [
    "### Label Encoding\n",
    "It is used to transform non-numerical labels to numerical labels (or nominal categorical variables). Numerical labels are always between 0 and n_classes-1.\n",
    "\n",
    "Below code will create two column 'AgeBin_Code' and 'FareBin_Code' and convert the bins( ex: AgeBin has {1-16},{16-24} ) to numeric value and label them according to the bins.\n",
    "\n"
   ]
  },
  {
   "cell_type": "code",
   "execution_count": null,
   "id": "4f8ccc44",
   "metadata": {},
   "outputs": [],
   "source": [
    "label = LabelEncoder()\n",
    "for dataset in data_cleaner:\n",
    "    dataset['AgeBin_Code'] = label.fit_transform(dataset['AgeBin'])\n",
    "    dataset['FareBin_Code'] = label.fit_transform(dataset['FareBin'])\n",
    "    \n",
    "print(train_data.columns)\n",
    "train_data.head()"
   ]
  },
  {
   "cell_type": "markdown",
   "id": "ff77a4b9",
   "metadata": {},
   "source": [
    "### Correlation between features\n"
   ]
  },
  {
   "cell_type": "code",
   "execution_count": null,
   "id": "81eef64a",
   "metadata": {},
   "outputs": [],
   "source": [
    "sns.heatmap(train_data.corr(),annot=True,cmap='RdYlGn',linewidths=0.2) \n"
   ]
  },
  {
   "cell_type": "markdown",
   "id": "b828a4e1",
   "metadata": {},
   "source": [
    "We will select the features we want to include in our model\n",
    "\n"
   ]
  },
  {
   "cell_type": "code",
   "execution_count": null,
   "id": "65aad392",
   "metadata": {},
   "outputs": [],
   "source": [
    "features_col=['Pclass','Sex','Embarked','IsAlone','Title','AgeBin_Code','FamilySize','FareBin_Code']\n",
    "train_ds = train_data[features_col]\n",
    "test_ds = test_data[features_col]\n",
    "train_label = train_data['Survived']\n",
    "print(train_ds.columns)\n",
    "train_ds.head()"
   ]
  },
  {
   "cell_type": "markdown",
   "id": "c8ea68a2",
   "metadata": {},
   "source": [
    "## One Hot Encoding\n",
    "One hot encoding is a process by which categorical variables are converted into a form that could be provided to ML algorithms to do a better job in prediction.\n",
    "\n",
    "Suppose we have Sex classes as 'male' and 'female'. One hot encoding will create two columns 'Sex_male' and 'Sex_female' and store the values as binary.\n",
    "\n"
   ]
  },
  {
   "cell_type": "code",
   "execution_count": null,
   "id": "79b1ad24",
   "metadata": {},
   "outputs": [],
   "source": [
    "one_hot_encoded_training_predictors = pd.get_dummies(train_ds)\n",
    "one_hot_encoded_testing_predictors = pd.get_dummies(test_ds)\n"
   ]
  },
  {
   "cell_type": "code",
   "execution_count": null,
   "id": "b9a3b9e1",
   "metadata": {},
   "outputs": [],
   "source": [
    "sns.heatmap(one_hot_encoded_training_predictors.corr(),annot=True,cmap='RdYlGn',linewidths=0.2) #data.corr()-->correlation matrix\n",
    "fig=plt.gcf()\n",
    "fig.set_size_inches(10,8)\n",
    "plt.show()\n"
   ]
  },
  {
   "cell_type": "markdown",
   "id": "75b3f7ec",
   "metadata": {},
   "source": [
    "Most Correlating features are (Sex_male,Title_Mr) , (Sex_female,Title_Miss) So , chances are they might have redundant data. Its better to remove one of the feature.\n",
    "\n"
   ]
  },
  {
   "cell_type": "code",
   "execution_count": null,
   "id": "3dec2a32",
   "metadata": {},
   "outputs": [],
   "source": [
    "# Remove the correlated feature to reduce redundancy in model.\n",
    "corln_col=['Title_Miss','Sex_male']\n",
    "one_hot_encoded_training_predictors = one_hot_encoded_training_predictors.drop(corln_col,axis=1)\n",
    "one_hot_encoded_testing_predictors = one_hot_encoded_testing_predictors.drop(corln_col,axis=1)\n"
   ]
  },
  {
   "cell_type": "markdown",
   "id": "adc02df9",
   "metadata": {},
   "source": [
    "### Predictive Modeling\n"
   ]
  },
  {
   "cell_type": "markdown",
   "id": "08aa8fab",
   "metadata": {},
   "source": [
    "So now we will predict the whether the Passenger will survive or not using some great Classification Algorithms.Following are the algorithms I will use to make the model:\n",
    "\n",
    "* Logistic Regression\n",
    "\n",
    "* Support Vector Machines\n",
    "\n",
    "* K-Nearest Neighbours\n",
    "\n",
    "\n",
    "\n"
   ]
  },
  {
   "cell_type": "code",
   "execution_count": null,
   "id": "909da635",
   "metadata": {},
   "outputs": [],
   "source": [
    "from sklearn.svm import SVC, LinearSVC\n",
    "from sklearn.linear_model import LogisticRegression\n",
    "from sklearn.neighbors import KNeighborsClassifier\n",
    "from sklearn.metrics import make_scorer, accuracy_score\n",
    "from sklearn import svm #support vector Machine\n",
    "from sklearn import metrics #accuracy measure\n",
    "from sklearn.metrics import confusion_matrix #for confusion matrix\n"
   ]
  },
  {
   "cell_type": "markdown",
   "id": "32fca985",
   "metadata": {},
   "source": [
    "### Train- test split\n"
   ]
  },
  {
   "cell_type": "markdown",
   "id": "9ffccafb",
   "metadata": {},
   "source": [
    "The data we use is usually split into training data and test data. The training set contains a known output and the model learns on this data in order to be generalized to other data later on. We have the test dataset (or subset) in order to test our model’s prediction on this subset.\n",
    "\n",
    "The test_size=0.20 inside the function indicates the percentage of the data that should be held over for testing. It’s usually around 80/20 or 70/30.\n",
    "\n"
   ]
  },
  {
   "cell_type": "code",
   "execution_count": null,
   "id": "8b8254dd",
   "metadata": {},
   "outputs": [],
   "source": [
    "from sklearn.model_selection import train_test_split\n",
    "\n",
    "train_X, test_X, train_y, test_y = train_test_split(one_hot_encoded_training_predictors, train_label, test_size=0.20)\n"
   ]
  },
  {
   "cell_type": "markdown",
   "id": "7a95dc7c",
   "metadata": {},
   "source": [
    "### Logistic Regression\n"
   ]
  },
  {
   "cell_type": "code",
   "execution_count": null,
   "id": "73e5f4bb",
   "metadata": {},
   "outputs": [],
   "source": [
    "logreg_clf = LogisticRegression()\n",
    "logreg_clf.fit(train_X, train_y)\n",
    "pred_logreg = logreg_clf.predict(test_X)\n",
    "acc_logreg = accuracy_score(test_y, pred_logreg)\n",
    "\n",
    "print(acc_logreg)\n"
   ]
  },
  {
   "cell_type": "markdown",
   "id": "9b269416",
   "metadata": {},
   "source": [
    "### K-Nearest Neighbours(KNN)"
   ]
  },
  {
   "cell_type": "code",
   "execution_count": null,
   "id": "1e667ad6",
   "metadata": {},
   "outputs": [],
   "source": [
    "Image(url= \"img/knn.png\")\n",
    "# source: Machine Learning for Absolute Beginners, Oliver Theobald"
   ]
  },
  {
   "cell_type": "markdown",
   "id": "c430b36a",
   "metadata": {},
   "source": [
    "- k-NN classifies new data points based on their position to nearby data points\n",
    "- using k-NN we can predict the category of the new data point based on its position regarding the other data points \n",
    "- we need to set k in order to determine how many data points we want to use to classify the new data point (e.g. if we set it to 3, k-NN will analyze it in respect to the 3 nearest data points, neighbours)\n",
    "- default is 5\n",
    "- it is useful to test numerous k combinations to find the best fit and avoid setting k to low or high\n",
    "- too low - bias, to high - more computationally expensive\n",
    "- this algorithm works best with continuous variables\n",
    "- binary variables should be used only when critical for the model’s accuracy\n"
   ]
  },
  {
   "cell_type": "code",
   "execution_count": null,
   "id": "6b3a5fac",
   "metadata": {},
   "outputs": [],
   "source": [
    "knn_clf = KNeighborsClassifier()\n",
    "knn_clf.fit(train_X, train_y)\n",
    "pred_knn = knn_clf.predict(test_X)\n",
    "acc_knn = accuracy_score(test_y, pred_knn)\n",
    "\n",
    "print(acc_knn)"
   ]
  },
  {
   "cell_type": "markdown",
   "id": "ff6d45e6",
   "metadata": {},
   "source": [
    "### Linear Support Vector Machines\n"
   ]
  },
  {
   "cell_type": "code",
   "execution_count": null,
   "id": "1182d35a",
   "metadata": {},
   "outputs": [],
   "source": [
    "Image(url= \"img/svm.png\")\n",
    "# source: Machine Learning for Absolute Beginners, Oliver Theobald"
   ]
  },
  {
   "cell_type": "markdown",
   "id": "88577abe",
   "metadata": {},
   "source": [
    "- useful to mitigate outliers and complex relationships\n",
    "- wide margin - more mistakes, narrow margin - fewer mistakes, the goal is to strike balance\n",
    "- you can use the hyperparameter C to make the margin softer/harder, e.g. \n",
    "- svm not recommended for low feature to row ratio (low nr of features relative to rows) \n",
    "- works well at untangling outliers from complex small and medium datasets and managing high dimensional data\n",
    "- regularization and standardization are data scrubbing (used often with this algorithm)\n"
   ]
  },
  {
   "cell_type": "code",
   "execution_count": null,
   "id": "39388084",
   "metadata": {},
   "outputs": [],
   "source": [
    "linsvc_clf = LinearSVC(dual=False)\n",
    "linsvc_clf.fit(train_X, train_y)\n",
    "pred_linsvc = linsvc_clf.predict(test_X)\n",
    "acc_linsvc = accuracy_score(test_y, pred_linsvc)\n",
    "\n",
    "print(acc_linsvc)"
   ]
  },
  {
   "cell_type": "code",
   "execution_count": null,
   "id": "c3ff9b26",
   "metadata": {},
   "outputs": [],
   "source": [
    "#Compare all model performance.\n",
    "model_performance = pd.DataFrame({\n",
    "    'Model': [ 'Linear SVM', \n",
    "              'Logistic Regression', 'K Nearest Neighbors'],\n",
    "    'Accuracy': [ acc_linsvc, \n",
    "              acc_logreg, acc_knn]\n",
    "})\n",
    "\n",
    "model_performance.sort_values(by='Accuracy', ascending=False)"
   ]
  },
  {
   "cell_type": "markdown",
   "id": "5eb1bdc0",
   "metadata": {},
   "source": [
    "## Choosing the right estimator\n"
   ]
  },
  {
   "cell_type": "markdown",
   "id": "0ca0cd64",
   "metadata": {},
   "source": [
    "https://scikit-learn.org/stable/tutorial/machine_learning_map/index.html"
   ]
  },
  {
   "cell_type": "code",
   "execution_count": null,
   "id": "218de315",
   "metadata": {},
   "outputs": [],
   "source": [
    "Image(url= \"img/sklearn.png\")\n",
    "# source: https://scikit-learn.org/stable/tutorial/machine_learning_map/index.html"
   ]
  },
  {
   "cell_type": "markdown",
   "id": "a6aa7623",
   "metadata": {},
   "source": [
    "## Literature, tutorials\n",
    "\n",
    "* Exercises taken from - Machine Learning for Absolute Beginners, Oliver Theobald (https://www.amazon.de/gp/product/B08RWBSKQB/ref=ppx_yo_dt_b_d_asin_title_o00?ie=UTF8&psc=1) (https://bmansoori.ir/book/Machine%20Learning%20For%20Absolute%20Beginners.pdf)\n",
    "* Tutorial accompanying the book -https://scatterplotpress.teachable.com/courses/enrolled/1247161\n",
    "* Good tutorial on Kaggle -  https://www.kaggle.com/learn/intro-to-machine-learning\n",
    "* Titanic notebook - https://www.kaggle.com/code/vjgupta/titanic-simple-model-beginners\n",
    "* Titanic dataset -https://www.kaggle.com/competitions/titanic\n",
    "* SKLearn tutorial - https://scikit-learn.org/stable/index.html"
   ]
  },
  {
   "cell_type": "code",
   "execution_count": null,
   "id": "529875a1",
   "metadata": {},
   "outputs": [],
   "source": []
  }
 ],
 "metadata": {
  "kernelspec": {
   "display_name": "Python 3 (ipykernel)",
   "language": "python",
   "name": "python3"
  },
  "language_info": {
   "codemirror_mode": {
    "name": "ipython",
    "version": 3
   },
   "file_extension": ".py",
   "mimetype": "text/x-python",
   "name": "python",
   "nbconvert_exporter": "python",
   "pygments_lexer": "ipython3",
   "version": "3.9.13"
  }
 },
 "nbformat": 4,
 "nbformat_minor": 5
}
