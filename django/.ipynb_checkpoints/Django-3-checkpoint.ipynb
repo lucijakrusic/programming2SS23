{
 "cells": [
  {
   "cell_type": "markdown",
   "id": "53b19ca9",
   "metadata": {},
   "source": [
    "Let's continue where we left of...\n",
    "\n",
    "Our tasks:\n",
    "    \n",
    "#### 1. Pagination\n",
    "\n",
    "\n",
    "#### 2. Adding Topics to Blog Posts\n",
    "\n",
    "\n",
    "#### 3. Multiple users"
   ]
  },
  {
   "cell_type": "code",
   "execution_count": 2,
   "id": "3d0d505e",
   "metadata": {},
   "outputs": [],
   "source": [
    "from IPython.display import Image\n",
    "from IPython.core.display import HTML "
   ]
  },
  {
   "cell_type": "markdown",
   "id": "c29a5e2a",
   "metadata": {},
   "source": [
    "# 1. Pagination"
   ]
  },
  {
   "cell_type": "markdown",
   "id": "3be86035",
   "metadata": {},
   "source": [
    "To implement pagination in your Django blog site, you can utilize Django's built-in pagination feature. Here's how to do it:\n",
    "\n",
    "### Step 1: Update the View\n",
    "\n",
    "- open the views.py file.\n",
    "- import the Paginator class from django.core.paginator.\n",
    "- modify the home view to include pagination logic:\n"
   ]
  },
  {
   "cell_type": "markdown",
   "id": "3d438f30",
   "metadata": {},
   "source": [
    "```\n",
    "\n",
    "from django.core.paginator import Paginator\n",
    "\n",
    "def home(request):\n",
    "    post_list = Post.objects.all().order_by('-date_posted')\n",
    "    paginator = Paginator(post_list, 10)  # Change the number per page as desired\n",
    "\n",
    "    page_number = request.GET.get('page')\n",
    "    page_obj = paginator.get_page(page_number)\n",
    "\n",
    "    return render(request, 'blog/home.html', {'page_obj': page_obj})\n",
    "\n",
    "\n",
    "\n",
    "\n",
    "```\n"
   ]
  },
  {
   "cell_type": "markdown",
   "id": "a96ca3bd",
   "metadata": {},
   "source": [
    "### Step 2: Update the Template\n",
    "\n",
    "Open the home.html template.\n",
    "Replace the {% for post in posts %} loop with the following code:\n"
   ]
  },
  {
   "cell_type": "markdown",
   "id": "6116fc9c",
   "metadata": {},
   "source": [
    "```\n",
    "\n",
    "{% extends \"blog/base.html\" %}\n",
    "\n",
    "{% block content %}\n",
    "{% for post in page_obj %}\n",
    "  <!-- Display the post content -->\n",
    "  <div class=\"card my-3\">\n",
    "    <div class=\"card-body\">\n",
    "      <h5 class=\"card-title\">{{ post.title }}</h5>\n",
    "      <h6 class=\"card-subtitle mb-2 text-muted\">{{ post.author.username }}</h6>\n",
    "      <p class=\"card-text\">{{ post.content }}</p>\n",
    "    </div>\n",
    "  </div>\n",
    "{% endfor %}\n",
    "\n",
    "<div class=\"pagination\">\n",
    "  {% if page_obj.has_previous %}\n",
    "    <a href=\"?page={{ page_obj.previous_page_number }}\" class=\"page-link\">Previous</a>\n",
    "  {% endif %}\n",
    "  <span class=\"page-current\">{{ page_obj.number }}</span>\n",
    "  {% if page_obj.has_next %}\n",
    "    <a href=\"?page={{ page_obj.next_page_number }}\" class=\"page-link\">Next</a>\n",
    "  {% endif %}\n",
    "\n",
    "    \n",
    "{% endblock content %}\n",
    "\n",
    "\n",
    "\n",
    "```"
   ]
  },
  {
   "cell_type": "markdown",
   "id": "a66afbe2",
   "metadata": {},
   "source": [
    "By using Django's Paginator class, we can split the list of all posts into multiple pages with a specified number of posts per page. The Paginator takes two arguments: the list of objects to paginate (all_posts) and the number of objects to display per page (5 in this example). approach. We then pass the page_number query parameter to paginator.get_page() to get the corresponding page object.\n",
    "\n",
    "\n",
    "\n",
    "In the home.html template, we iterate over the page_obj to display the posts. The pagination links are updated to use the page_obj.previous_page_number and page_obj.next_page_number attributes for the previous and next page URLs, respectively.\n",
    "\n",
    "\n",
    "We also add pagination links at the bottom of the page to navigate between different pages. The links are conditionally displayed based on whether there are previous or next pages available.\n",
    "\n",
    "Make sure to add another home URL in your urls.py file to include the necessary query parameter for page number     ```path('home/', views.home, name='home-with-pagination')```.\n",
    "\n",
    "\n"
   ]
  },
  {
   "cell_type": "code",
   "execution_count": 4,
   "id": "f38f13be",
   "metadata": {},
   "outputs": [
    {
     "data": {
      "text/html": [
       "<img src=\"../img/pagination.png\"/>"
      ],
      "text/plain": [
       "<IPython.core.display.Image object>"
      ]
     },
     "execution_count": 4,
     "metadata": {},
     "output_type": "execute_result"
    }
   ],
   "source": [
    "Image(url= \"../img/pagination.png\")\n"
   ]
  },
  {
   "cell_type": "markdown",
   "id": "f7fbaf87",
   "metadata": {},
   "source": [
    "# 2. Adding Topics to Blog Posts\n"
   ]
  },
  {
   "cell_type": "markdown",
   "id": "95c71b25",
   "metadata": {},
   "source": [
    "To categorize and organize our blog posts into topics, you can introduce a Topic model and establish a many-to-many relationship with the Post model. Here's how to implement it:\n",
    "\n"
   ]
  },
  {
   "cell_type": "markdown",
   "id": "adbb0afb",
   "metadata": {},
   "source": [
    "### Step 1: Create the Topic Model\n",
    "\n",
    "- open the models.py file\n",
    "- add the following code to create the Topic model:\n"
   ]
  },
  {
   "cell_type": "markdown",
   "id": "5baa638b",
   "metadata": {},
   "source": [
    "```\n",
    "class Topic(models.Model):\n",
    "    name = models.CharField(max_length=100)\n",
    "\n",
    "    def __str__(self):\n",
    "        return str(self.name)\n",
    "\n",
    "\n",
    "```"
   ]
  },
  {
   "cell_type": "markdown",
   "id": "3bad1108",
   "metadata": {},
   "source": [
    "### Step 2: Update the Post Model\n",
    "\n",
    "In the Post model, add a topics field to establish the many-to-many relationship with the Topic model (a post can have many topics and a topic can be related to many posts):\n",
    "\n"
   ]
  },
  {
   "cell_type": "markdown",
   "id": "ae6248f8",
   "metadata": {},
   "source": [
    "```\n",
    "topics = models.ManyToManyField(Topic)\n",
    "```"
   ]
  },
  {
   "cell_type": "markdown",
   "id": "4b3998ca",
   "metadata": {},
   "source": [
    "### Step 3: Display Topics in the Post Detail Template\n",
    "- onpen the post_detail.html template\n",
    "- add the following code (below the 'Add a comment') to display the topics of the post:\n"
   ]
  },
  {
   "cell_type": "markdown",
   "id": "026a1aca",
   "metadata": {},
   "source": [
    "```\n",
    "<h5>Topics:</h5>\n",
    "<ul>\n",
    "  {% for topic in post.topics.all %}\n",
    "    <li>{{ topic.name }}</li>\n",
    "  {% endfor %}\n",
    "</ul>\n",
    "```"
   ]
  },
  {
   "cell_type": "markdown",
   "id": "bace3931",
   "metadata": {},
   "source": [
    "### Step 3: Registration of a new model in admin.py\n"
   ]
  },
  {
   "cell_type": "markdown",
   "id": "93899906",
   "metadata": {},
   "source": [
    "Open your admin.py file and ensure that you have the following code:\n"
   ]
  },
  {
   "cell_type": "markdown",
   "id": "e86d4721",
   "metadata": {},
   "source": [
    "```\n",
    "\n",
    "from .models import Topic\n",
    "\n",
    "admin.site.register(Topic)\n",
    "```"
   ]
  },
  {
   "cell_type": "markdown",
   "id": "b3dc2a1a",
   "metadata": {},
   "source": [
    "This will ensure that we see the topic in the admin site."
   ]
  },
  {
   "cell_type": "markdown",
   "id": "ac8d65bb",
   "metadata": {},
   "source": [
    "Because we added a new model, we need to make migrations. They don't need t be made when were doing minor changes for thme to take effect, but we made pretty large chanages by adding another model.\n",
    "\n",
    "\n",
    "So,in the terminal:\n",
    "\n",
    "```\n",
    "python manage.py makemigrations\n",
    "python manage.py migrate\n",
    "\n",
    "```"
   ]
  },
  {
   "cell_type": "markdown",
   "id": "7498a6a3",
   "metadata": {},
   "source": [
    "Now, go to the  Django admin, create some topics and associate them with the relevant posts. (we need to run the server beforehand, just a reminder :) )\n"
   ]
  },
  {
   "cell_type": "markdown",
   "id": "f260ea38",
   "metadata": {},
   "source": [
    "By introducing the Topic model and establishing a many-to-many relationship with the Post model, you can categorize your blog posts into different topics. Each post can have multiple topics associated with it.\n",
    "\n",
    "In the post detail template, the topics of the post are displayed in an unordered list ```(<ul>)```. We iterate over the topics using the post.topics.all queryset and display the name of each topic.\n",
    "\n",
    "With this implementation, you can organize and display topics alongside your blog posts, allowing users to easily find posts of their interest.\n",
    "\n"
   ]
  },
  {
   "cell_type": "code",
   "execution_count": 5,
   "id": "77f87a9d",
   "metadata": {},
   "outputs": [
    {
     "data": {
      "text/html": [
       "<img src=\"../img/topic1.png\"/>"
      ],
      "text/plain": [
       "<IPython.core.display.Image object>"
      ]
     },
     "execution_count": 5,
     "metadata": {},
     "output_type": "execute_result"
    }
   ],
   "source": [
    "Image(url= \"../img/topic1.png\")\n",
    "# adding a new topic to the django admin"
   ]
  },
  {
   "cell_type": "code",
   "execution_count": 7,
   "id": "99868d52",
   "metadata": {},
   "outputs": [
    {
     "data": {
      "text/html": [
       "<img src=\"../img/topic2.png\"/>"
      ],
      "text/plain": [
       "<IPython.core.display.Image object>"
      ]
     },
     "execution_count": 7,
     "metadata": {},
     "output_type": "execute_result"
    }
   ],
   "source": [
    "Image(url= \"../img/topic2.png\")\n",
    "# adding a new topic to a post"
   ]
  },
  {
   "cell_type": "markdown",
   "id": "09b5b0ce",
   "metadata": {},
   "source": [
    "# 3. Adding additional users\n"
   ]
  },
  {
   "cell_type": "markdown",
   "id": "48c750a7",
   "metadata": {},
   "source": [
    "### Step 1: Update settings.py\n",
    "\n",
    "Open your project's settings.py file.\n",
    "Make sure the following configurations are in place:\n"
   ]
  },
  {
   "cell_type": "markdown",
   "id": "f7b756bd",
   "metadata": {},
   "source": [
    "```\n",
    "# Add the following imports\n",
    "from django.contrib.auth import get_user_model\n",
    "from django.urls import reverse_lazy\n",
    "\n",
    "# Update the AUTH_USER_MODEL setting\n",
    "AUTH_USER_MODEL = 'blog.CustomUser'\n",
    "\n",
    "# Set the LOGIN_URL and LOGIN_REDIRECT_URL settings\n",
    "LOGIN_URL = reverse_lazy('login')\n",
    "LOGIN_REDIRECT_URL = reverse_lazy('home')\n",
    "\n",
    "# Optionally, set the LOGOUT_REDIRECT_URL setting\n",
    "LOGOUT_REDIRECT_URL = reverse_lazy('home')\n",
    "```"
   ]
  },
  {
   "cell_type": "code",
   "execution_count": 3,
   "id": "70f2fee4",
   "metadata": {},
   "outputs": [
    {
     "data": {
      "text/html": [
       "<img src=\"../img/construction.jpg\"/>"
      ],
      "text/plain": [
       "<IPython.core.display.Image object>"
      ]
     },
     "execution_count": 3,
     "metadata": {},
     "output_type": "execute_result"
    }
   ],
   "source": [
    "Image(url= \"../img/construction.jpg\")\n",
    "# https://www.vecteezy.com/vector-art/1970338-building-under-construction-site"
   ]
  },
  {
   "cell_type": "code",
   "execution_count": null,
   "id": "63cbe872",
   "metadata": {},
   "outputs": [],
   "source": []
  }
 ],
 "metadata": {
  "kernelspec": {
   "display_name": "Python 3 (ipykernel)",
   "language": "python",
   "name": "python3"
  },
  "language_info": {
   "codemirror_mode": {
    "name": "ipython",
    "version": 3
   },
   "file_extension": ".py",
   "mimetype": "text/x-python",
   "name": "python",
   "nbconvert_exporter": "python",
   "pygments_lexer": "ipython3",
   "version": "3.9.13"
  }
 },
 "nbformat": 4,
 "nbformat_minor": 5
}
