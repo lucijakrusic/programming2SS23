{
 "cells": [
  {
   "cell_type": "markdown",
   "id": "53b19ca9",
   "metadata": {},
   "source": [
    "Let's continue where we left of...\n",
    "\n",
    "Our tasks:\n",
    "    \n",
    "#### 1. Pagination\n",
    "\n",
    "\n",
    "#### 2. Adding Topics to Blog Posts\n",
    "\n",
    "\n",
    "#### 3. Multiple users"
   ]
  },
  {
   "cell_type": "code",
   "execution_count": 8,
   "id": "3d0d505e",
   "metadata": {},
   "outputs": [],
   "source": [
    "from IPython.display import Image\n",
    "from IPython.core.display import HTML "
   ]
  },
  {
   "cell_type": "markdown",
   "id": "c29a5e2a",
   "metadata": {},
   "source": [
    "# 1. Pagination"
   ]
  },
  {
   "cell_type": "markdown",
   "id": "3be86035",
   "metadata": {},
   "source": [
    "To implement pagination in your Django blog site, you can utilize Django's built-in pagination feature. Here's how to do it:\n",
    "\n",
    "### Step 1: Update the View\n",
    "\n",
    "- open the views.py file.\n",
    "- import the Paginator class from django.core.paginator.\n",
    "- modify the home view to include pagination logic:\n"
   ]
  },
  {
   "cell_type": "markdown",
   "id": "3d438f30",
   "metadata": {},
   "source": [
    "```\n",
    "\n",
    "from django.core.paginator import Paginator\n",
    "\n",
    "def home(request):\n",
    "    post_list = Post.objects.all().order_by('-date_posted')\n",
    "    paginator = Paginator(post_list, 10)  # Change the number per page as desired\n",
    "\n",
    "    page_number = request.GET.get('page')\n",
    "    page_obj = paginator.get_page(page_number)\n",
    "\n",
    "    return render(request, 'blog/home.html', {'page_obj': page_obj})\n",
    "\n",
    "\n",
    "\n",
    "\n",
    "```\n"
   ]
  },
  {
   "cell_type": "markdown",
   "id": "a96ca3bd",
   "metadata": {},
   "source": [
    "### Step 2: Update the Template\n",
    "\n",
    "Open the home.html template.\n",
    "Replace the {% for post in posts %} loop with the following code:\n"
   ]
  },
  {
   "cell_type": "markdown",
   "id": "6116fc9c",
   "metadata": {},
   "source": [
    "```\n",
    "\n",
    "{% extends \"blog/base.html\" %}\n",
    "\n",
    "{% block content %}\n",
    "{% for post in page_obj %}\n",
    "  <!-- Display the post content -->\n",
    "  <div class=\"card my-3\">\n",
    "    <div class=\"card-body\">\n",
    "      <h5 class=\"card-title\">{{ post.title }}</h5>\n",
    "      <h6 class=\"card-subtitle mb-2 text-muted\">{{ post.author.username }}</h6>\n",
    "      <p class=\"card-text\">{{ post.content }}</p>\n",
    "    </div>\n",
    "  </div>\n",
    "{% endfor %}\n",
    "\n",
    "<div class=\"pagination\">\n",
    "  {% if page_obj.has_previous %}\n",
    "    <a href=\"?page={{ page_obj.previous_page_number }}\" class=\"page-link\">Previous</a>\n",
    "  {% endif %}\n",
    "  <span class=\"page-current\">{{ page_obj.number }}</span>\n",
    "  {% if page_obj.has_next %}\n",
    "    <a href=\"?page={{ page_obj.next_page_number }}\" class=\"page-link\">Next</a>\n",
    "  {% endif %}\n",
    "\n",
    "    \n",
    "{% endblock content %}\n",
    "\n",
    "\n",
    "\n",
    "```"
   ]
  },
  {
   "cell_type": "markdown",
   "id": "a66afbe2",
   "metadata": {},
   "source": [
    "By using Django's Paginator class, we can split the list of all posts into multiple pages with a specified number of posts per page. The Paginator takes two arguments: the list of objects to paginate (all_posts) and the number of objects to display per page (5 in this example). approach. We then pass the page_number query parameter to paginator.get_page() to get the corresponding page object.\n",
    "\n",
    "\n",
    "\n",
    "In the home.html template, we iterate over the page_obj to display the posts. The pagination links are updated to use the page_obj.previous_page_number and page_obj.next_page_number attributes for the previous and next page URLs, respectively.\n",
    "\n",
    "\n",
    "We also add pagination links at the bottom of the page to navigate between different pages. The links are conditionally displayed based on whether there are previous or next pages available.\n",
    "\n",
    "Make sure to add another home URL in your urls.py file to include the necessary query parameter for page number     ```path('home/', views.home, name='home-with-pagination')```.\n",
    "\n",
    "\n"
   ]
  },
  {
   "cell_type": "code",
   "execution_count": 4,
   "id": "f38f13be",
   "metadata": {},
   "outputs": [
    {
     "data": {
      "text/html": [
       "<img src=\"../img/pagination.png\"/>"
      ],
      "text/plain": [
       "<IPython.core.display.Image object>"
      ]
     },
     "execution_count": 4,
     "metadata": {},
     "output_type": "execute_result"
    }
   ],
   "source": [
    "Image(url= \"../img/pagination.png\")\n"
   ]
  },
  {
   "cell_type": "markdown",
   "id": "f7fbaf87",
   "metadata": {},
   "source": [
    "# 2. Adding Topics to Blog Posts\n"
   ]
  },
  {
   "cell_type": "markdown",
   "id": "95c71b25",
   "metadata": {},
   "source": [
    "To categorize and organize our blog posts into topics, you can introduce a Topic model and establish a many-to-many relationship with the Post model. Here's how to implement it:\n",
    "\n"
   ]
  },
  {
   "cell_type": "markdown",
   "id": "adbb0afb",
   "metadata": {},
   "source": [
    "### Step 1: Create the Topic Model\n",
    "\n",
    "- open the models.py file\n",
    "- add the following code to create the Topic model:\n"
   ]
  },
  {
   "cell_type": "markdown",
   "id": "5baa638b",
   "metadata": {},
   "source": [
    "```\n",
    "class Topic(models.Model):\n",
    "    name = models.CharField(max_length=100)\n",
    "\n",
    "    def __str__(self):\n",
    "        return str(self.name)\n",
    "\n",
    "\n",
    "```"
   ]
  },
  {
   "cell_type": "markdown",
   "id": "3bad1108",
   "metadata": {},
   "source": [
    "### Step 2: Update the Post Model\n",
    "\n",
    "In the Post model, add a topics field to establish the many-to-many relationship with the Topic model (a post can have many topics and a topic can be related to many posts):\n",
    "\n"
   ]
  },
  {
   "cell_type": "markdown",
   "id": "ae6248f8",
   "metadata": {},
   "source": [
    "```\n",
    "topics = models.ManyToManyField(Topic)\n",
    "```"
   ]
  },
  {
   "cell_type": "markdown",
   "id": "4b3998ca",
   "metadata": {},
   "source": [
    "### Step 3: Display Topics in the Post Detail Template\n",
    "- onpen the post_detail.html template\n",
    "- add the following code (below the 'Add a comment') to display the topics of the post:\n"
   ]
  },
  {
   "cell_type": "markdown",
   "id": "026a1aca",
   "metadata": {},
   "source": [
    "```\n",
    "<h5>Topics:</h5>\n",
    "<ul>\n",
    "  {% for topic in post.topics.all %}\n",
    "    <li>{{ topic.name }}</li>\n",
    "  {% endfor %}\n",
    "</ul>\n",
    "```"
   ]
  },
  {
   "cell_type": "markdown",
   "id": "bace3931",
   "metadata": {},
   "source": [
    "### Step 3: Registration of a new model in admin.py\n"
   ]
  },
  {
   "cell_type": "markdown",
   "id": "93899906",
   "metadata": {},
   "source": [
    "Open your admin.py file and ensure that you have the following code:\n"
   ]
  },
  {
   "cell_type": "markdown",
   "id": "e86d4721",
   "metadata": {},
   "source": [
    "```\n",
    "\n",
    "from .models import Topic\n",
    "\n",
    "admin.site.register(Topic)\n",
    "```"
   ]
  },
  {
   "cell_type": "markdown",
   "id": "b3dc2a1a",
   "metadata": {},
   "source": [
    "This will ensure that we see the topic in the admin site."
   ]
  },
  {
   "cell_type": "markdown",
   "id": "ac8d65bb",
   "metadata": {},
   "source": [
    "Because we added a new model, we need to make migrations. They don't need t be made when were doing minor changes for thme to take effect, but we made pretty large chanages by adding another model.\n",
    "\n",
    "\n",
    "So,in the terminal:\n",
    "\n",
    "```\n",
    "python manage.py makemigrations\n",
    "python manage.py migrate\n",
    "\n",
    "```"
   ]
  },
  {
   "cell_type": "markdown",
   "id": "7498a6a3",
   "metadata": {},
   "source": [
    "Now, go to the  Django admin, create some topics and associate them with the relevant posts. (we need to run the server beforehand, just a reminder :) )\n"
   ]
  },
  {
   "cell_type": "markdown",
   "id": "f260ea38",
   "metadata": {},
   "source": [
    "By introducing the Topic model and establishing a many-to-many relationship with the Post model, you can categorize your blog posts into different topics. Each post can have multiple topics associated with it.\n",
    "\n",
    "In the post detail template, the topics of the post are displayed in an unordered list ```(<ul>)```. We iterate over the topics using the post.topics.all queryset and display the name of each topic.\n",
    "\n",
    "With this implementation, you can organize and display topics alongside your blog posts, allowing users to easily find posts of their interest.\n",
    "\n"
   ]
  },
  {
   "cell_type": "code",
   "execution_count": 5,
   "id": "77f87a9d",
   "metadata": {},
   "outputs": [
    {
     "data": {
      "text/html": [
       "<img src=\"../img/topic1.png\"/>"
      ],
      "text/plain": [
       "<IPython.core.display.Image object>"
      ]
     },
     "execution_count": 5,
     "metadata": {},
     "output_type": "execute_result"
    }
   ],
   "source": [
    "Image(url= \"../img/topic1.png\")\n",
    "# adding a new topic to the django admin"
   ]
  },
  {
   "cell_type": "code",
   "execution_count": 7,
   "id": "99868d52",
   "metadata": {},
   "outputs": [
    {
     "data": {
      "text/html": [
       "<img src=\"../img/topic2.png\"/>"
      ],
      "text/plain": [
       "<IPython.core.display.Image object>"
      ]
     },
     "execution_count": 7,
     "metadata": {},
     "output_type": "execute_result"
    }
   ],
   "source": [
    "Image(url= \"../img/topic2.png\")\n",
    "# adding a new topic to a post"
   ]
  },
  {
   "cell_type": "markdown",
   "id": "09b5b0ce",
   "metadata": {},
   "source": [
    "# 3. Adding additional users\n"
   ]
  },
  {
   "cell_type": "markdown",
   "id": "c5bd6526",
   "metadata": {},
   "source": [
    "## 3.1 Add post\n"
   ]
  },
  {
   "cell_type": "markdown",
   "id": "ba5c2845",
   "metadata": {},
   "source": [
    "What if we were e.g. building a blog site with our coworkers or friends and wanted to be able to all participate in writing and sharing posts. At this point, we can only post the posts through the admin site, but it would be much more useful if we had a dedicated page in which we could write the posts. If we had multiple users, we would have to account for the loggin in as well, because we don't want just anyone to be able to write a post on our blog."
   ]
  },
  {
   "cell_type": "markdown",
   "id": "a57f4400",
   "metadata": {},
   "source": [
    "Let's make the functionality to add the post from the site:\n",
    "\n",
    "\n",
    "### 1. FORMS.PY\n",
    "\n",
    "\n",
    "```\n",
    "from blog.models import Post, Comment\n",
    "\n",
    "\n",
    "class PostForm(forms.ModelForm):\n",
    "    class Meta:\n",
    "        model = Post\n",
    "        fields = ['title', 'content', 'topics']\n",
    "\n",
    "\n",
    "```"
   ]
  },
  {
   "cell_type": "markdown",
   "id": "891b99e5",
   "metadata": {},
   "source": [
    "We add a basic form that has the following fields - tittle, content and topics."
   ]
  },
  {
   "cell_type": "markdown",
   "id": "ccc1dcf5",
   "metadata": {},
   "source": [
    "\n",
    "### 2. views.py\n",
    "\n",
    "\n",
    "```\n",
    "from .forms import CommentForm, PostForm\n",
    "\n",
    "\n",
    "@login_required\n",
    "def add_post(request):\n",
    "    if request.method == 'POST':\n",
    "        form = PostForm(request.POST)\n",
    "        if form.is_valid():\n",
    "            post = form.save(commit=False)\n",
    "            post.author = request.user\n",
    "            post.save()\n",
    "            return redirect('blog-home')  # replace with the name of the url where you want to redirect after a successful save\n",
    "    else:\n",
    "        form = PostForm()\n",
    "\n",
    "    return render(request, 'blog/add_post.html', {'form': form})\n",
    "\n",
    "\n",
    "\n",
    "```"
   ]
  },
  {
   "cell_type": "markdown",
   "id": "ad189dae",
   "metadata": {},
   "source": [
    "We create functionality to add the post. If the form is valid (satisfies the requirements of each field) it is saved and we are redirected to our homepage. Otherwise, the same page is rendered.\n",
    "\n",
    "The @login_required is setting the stage for only registered users to be able to post."
   ]
  },
  {
   "cell_type": "markdown",
   "id": "a24eed0a",
   "metadata": {},
   "source": [
    "### 3. add_post.html\n",
    "\n",
    "\n",
    "```\n",
    "{% extends \"blog/base.html\" %}\n",
    "<br> <br>\n",
    "{% block content %}\n",
    "<form method=\"post\">\n",
    "    {% csrf_token %}\n",
    "    {{ form.as_p }}\n",
    "    <button type=\"submit\">Submit</button>\n",
    "</form>\n",
    "{% endblock content %}\n",
    "\n",
    "\n",
    "\n",
    "```"
   ]
  },
  {
   "cell_type": "markdown",
   "id": "91156871",
   "metadata": {},
   "source": [
    "We add a basic add_post.html to out templates. The form method is post and we have a submit button. This invokes the form we made in forms.py"
   ]
  },
  {
   "cell_type": "markdown",
   "id": "d30f4b0f",
   "metadata": {},
   "source": [
    "### 4. urls.py\n",
    "\n",
    "\n",
    "```\n",
    "    path('add-post/', views.add_post, name='add_post'),\n",
    "```\n",
    "\n",
    "\n",
    "We always need to make sure to add the url to our templates. Make sure the url matches the one set in your view."
   ]
  },
  {
   "cell_type": "markdown",
   "id": "a2e2242a",
   "metadata": {},
   "source": [
    "## 3.2 user authentification\n"
   ]
  },
  {
   "cell_type": "markdown",
   "id": "ca549127",
   "metadata": {},
   "source": [
    "### 1. FORMS.PY\n",
    "\n",
    "Let's start with the forms. You can use Django's built-in forms for user creation and authentication. Let's update forms.py:\n",
    "\n",
    "\n",
    "\n",
    "```\n",
    "from django.contrib.auth.models import User\n",
    "from django.contrib.auth.forms import UserCreationForm, AuthenticationForm\n",
    "\n",
    "class NewUserForm(UserCreationForm):\n",
    "    email = forms.EmailField(required=True)\n",
    "\n",
    "    class Meta:\n",
    "        model = User\n",
    "        fields = (\"username\", \"email\", \"password1\", \"password2\")\n",
    "\n",
    "    def save(self, commit=True):\n",
    "        user = super(NewUserForm, self).save(commit=False)\n",
    "        user.email = self.cleaned_data['email']\n",
    "        if commit:\n",
    "            user.save()\n",
    "        return user\n",
    "\n",
    "```"
   ]
  },
  {
   "cell_type": "markdown",
   "id": "d6c54bd2",
   "metadata": {},
   "source": [
    "### 2. Views.py\n",
    "\n",
    "\n",
    "```\n",
    "\n",
    "from django.shortcuts import render, get_object_or_404, redirect\n",
    "from .models import Post, Comment\n",
    "from .forms import CommentForm, PostForm, NewUserForm\n",
    "from django.contrib.auth.forms import AuthenticationForm\n",
    "from django.core.paginator import Paginator\n",
    "from django.contrib.auth import authenticate, login, logout\n",
    "from django.contrib.auth.decorators import login_required\n",
    "\n",
    "def register_request(request):\n",
    "    if request.method == \"POST\":\n",
    "        form = NewUserForm(request.POST)\n",
    "        if form.is_valid():\n",
    "            user = form.save()\n",
    "            login(request, user)\n",
    "            return redirect(\"blog-home\")\n",
    "        else:\n",
    "            for msg in form.error_messages:\n",
    "                print(form.error_messages[msg])\n",
    "\n",
    "    form = NewUserForm()\n",
    "    return render(request=request, template_name=\"blog/register.html\", context={\"register_form\":form})\n",
    "\n",
    "def login_request(request):\n",
    "    if request.method == \"POST\":\n",
    "        form = AuthenticationForm(request, data=request.POST)\n",
    "        if form.is_valid():\n",
    "            username = form.cleaned_data.get('username')\n",
    "            password = form.cleaned_data.get('password')\n",
    "            user = authenticate(username=username, password=password)\n",
    "            if user is not None:\n",
    "                login(request, user)\n",
    "                return redirect(\"blog-home\")\n",
    "\n",
    "    form = AuthenticationForm()\n",
    "    return render(request=request, template_name=\"blog/login.html\", context={\"login_form\":form})\n",
    "\n",
    "\n",
    "def logout_request(request):\n",
    "    logout(request)\n",
    "    return redirect(\"blog-home\") # or your homepage\n",
    "\n",
    "```"
   ]
  },
  {
   "cell_type": "markdown",
   "id": "6936f2ad",
   "metadata": {},
   "source": [
    "This is now our full views.py that includes logging in, logging out and registering. We are using built in forms as said before, because Django already has a great authentication system. Our login view makes sure that if the request method is post (the button is clicked) the username is authenticated and if rught, it redirects to home. "
   ]
  },
  {
   "cell_type": "markdown",
   "id": "651133ff",
   "metadata": {},
   "source": [
    "### 3. URLS.py\n",
    "\n",
    "in our urls, we add three paths:\n",
    "\n",
    "```\n",
    "\n",
    "path('login/', views.login_request, name='login'),\n",
    "path('logout/', views.logout_request, name='logout'),\n",
    "path('register/', views.register_request, name='register'),\n",
    "\n",
    "\n",
    "```"
   ]
  },
  {
   "cell_type": "markdown",
   "id": "7a6f928c",
   "metadata": {},
   "source": [
    "### 4. Templates"
   ]
  },
  {
   "cell_type": "markdown",
   "id": "b2e2336e",
   "metadata": {},
   "source": [
    "We now need to actually create templates for logging in and registering. Here are snippets for basic versions of that:"
   ]
  },
  {
   "cell_type": "markdown",
   "id": "ed10595e",
   "metadata": {},
   "source": [
    "### 4.1 login.html\n",
    "\n",
    "\n",
    "\n",
    "```\n",
    "\n",
    "\n",
    "{% extends \"blog/base.html\" %}\n",
    "\n",
    "{% block content %}\n",
    "<br> <br>\n",
    "    <div class=\"content-section\">\n",
    "        <form method=\"POST\">\n",
    "            {% csrf_token %}\n",
    "            \n",
    "\n",
    "            <div class=\"form-group\">\n",
    "                {{ form.as_p }}\n",
    "\n",
    "                <button class=\"btn btn-outline-info\" type=\"submit\">Login</button>\n",
    "            </div>\n",
    "        </form>\n",
    "        <div class=\"border-top pt-3\">\n",
    "            <small class=\"text-muted\">\n",
    "                Need an Account? <a class=\"ml-2\" href=\"{% url 'register' %}\">Sign Up Now</a>\n",
    "            </small>\n",
    "        </div>\n",
    "    </div>\n",
    "{% endblock content %}\n",
    "\n",
    "\n",
    "```"
   ]
  },
  {
   "cell_type": "markdown",
   "id": "ec6539e8",
   "metadata": {},
   "source": [
    "### 4.2 register.html\n",
    "\n",
    "\n",
    "\n",
    "```\n",
    "\n",
    "\n",
    "{% extends \"blog/base.html\" %}\n",
    "\n",
    "{% block content %}\n",
    "<form method=\"post\">\n",
    "    {% csrf_token %}\n",
    "    {{ form.errors}}\n",
    "    {{ register_form.as_p }}\n",
    "    <button type=\"submit\">Register</button>\n",
    "</form>\n",
    "   \n",
    "{% endblock content %}\n",
    "\n",
    "```"
   ]
  },
  {
   "cell_type": "markdown",
   "id": "e32c617a",
   "metadata": {},
   "source": [
    "And your base.html should also be adjusted, so that if logged in, we see the add_post button and if not, we see the login and register buttons. Here is the full code :"
   ]
  },
  {
   "cell_type": "markdown",
   "id": "e6624266",
   "metadata": {},
   "source": [
    "### 4.3 base.html\n",
    "\n",
    "\n",
    "\n",
    "```\n",
    "{% load static %}\n",
    "\n",
    "<!DOCTYPE html>\n",
    "<html lang=\"en\">\n",
    "    <div class=\"container\">\n",
    "        <head>\n",
    "            <meta charset=\"UTF-8\">\n",
    "            <meta name=\"viewport\" content=\"width=device-width, initial-scale=1, shrink-to-fit=no\">\n",
    "            <title>My Blog</title>\n",
    "            <!-- Bootstrap CSS -->\n",
    "            <link rel=\"stylesheet\" href=\"{% static 'blog/bootstrap.min.css' %}\">\n",
    "        </head>\n",
    "        <body>\n",
    "            <nav class=\"navbar navbar-expand-lg navbar-light bg-light\">\n",
    "                <a class=\"navbar-brand\" href=\"#\">My Blog</a>\n",
    "                <button class=\"navbar-toggler\" type=\"button\" data-toggle=\"collapse\" data-target=\"#navbarNav\" \n",
    "                        aria-controls=\"navbarNav\" aria-expanded=\"false\" aria-label=\"Toggle navigation\">\n",
    "                    <span class=\"navbar-toggler-icon\"></span>\n",
    "                </button>\n",
    "                <div class=\"collapse navbar-collapse\" id=\"navbarNav\">\n",
    "                    <ul class=\"navbar-nav\">\n",
    "                        <li class=\"nav-item\">\n",
    "                            <a class=\"nav-link\" href=\"{% url 'blog-home' %}\">Home</a>\n",
    "                        </li>\n",
    "                        <li class=\"nav-item\">\n",
    "                            <a class=\"nav-link\" href=\"{% url 'blog-about' %}\">About</a>\n",
    "                        </li>\n",
    "                        {% if user.is_authenticated %}\n",
    "                        <li class=\"nav-item\">\n",
    "                            <a class=\"nav-link\" href=\"{% url 'logout' %}\">Logout</a>\n",
    "                         </li>\n",
    "                         <li class=\"nav-item\">\n",
    "                            <a class=\"nav-link\" href=\"{% url 'add_post' %}\">Add a post</a>\n",
    "                         </li>\n",
    "                      {% else %}\n",
    "                         <li class=\"nav-item\">\n",
    "                            <a class=\"nav-link\" href=\"{% url 'login' %}\">Login</a>\n",
    "                         </li>\n",
    "                         <li class=\"nav-item\">\n",
    "                            <a class=\"nav-link\" href=\"{% url 'register' %}\">Register</a>\n",
    "                         </li>\n",
    "                      {% endif %}\n",
    "                 \n",
    "   \n",
    "\n",
    "\n",
    "                    </ul>\n",
    "                </div>\n",
    "            </nav>\n",
    "        \n",
    "            <main role=\"main\" class=\"container\">\n",
    "                <div class=\"row\">\n",
    "                    <div class=\"col-md-8\">\n",
    "                        {% block content %}{% endblock content %}\n",
    "                    </div>\n",
    "                </div>\n",
    "            </main>\n",
    "        </body>\n",
    "        \n",
    "    </div>\n",
    "    <!-- Optional JavaScript -->\n",
    "    <!-- jQuery first, then Popper.js, then Bootstrap JS -->\n",
    "    <script src=\"https://code.jquery.com/jquery-3.5.1.slim.min.js\"></script>\n",
    "    <script src=\"https://cdn.jsdelivr.net/npm/bootstrap@4.5.2/dist/js/bootstrap.min.js\"></script>\n",
    "\n",
    "</html>\n",
    "\n",
    "```"
   ]
  },
  {
   "cell_type": "markdown",
   "id": "312234a1",
   "metadata": {},
   "source": [
    "Take note of the navbar section!"
   ]
  },
  {
   "cell_type": "markdown",
   "id": "a65627ad",
   "metadata": {},
   "source": [
    "Finally, let's make changes to our settings.py. We haven't done this before but now it's necessary:\n"
   ]
  },
  {
   "cell_type": "markdown",
   "id": "66058204",
   "metadata": {},
   "source": [
    "### 5. settings.py"
   ]
  },
  {
   "cell_type": "markdown",
   "id": "1e84163d",
   "metadata": {},
   "source": [
    "We're adding the following three lines to the end of the file:\n",
    "\n",
    "```\n",
    "LOGIN_URL = 'login'\n",
    "LOGOUT_REDIRECT_URL = 'blog-home' # or your desired URL\n",
    "CRISPY_TEMPLATE_PACK = 'bootstrap4'\n",
    "```\n",
    "\n"
   ]
  },
  {
   "cell_type": "markdown",
   "id": "3d5b0682",
   "metadata": {},
   "source": [
    "Also, if not there, add this:\n",
    "    \n",
    "    \n",
    "    ```\n",
    "    \n",
    "    AUTH_PASSWORD_VALIDATORS = [\n",
    "    {\n",
    "        'NAME': 'django.contrib.auth.password_validation.UserAttributeSimilarityValidator',\n",
    "    },\n",
    "    {\n",
    "        'NAME': 'django.contrib.auth.password_validation.MinimumLengthValidator',\n",
    "    },\n",
    "    {\n",
    "        'NAME': 'django.contrib.auth.password_validation.CommonPasswordValidator',\n",
    "    },\n",
    "    {\n",
    "        'NAME': 'django.contrib.auth.password_validation.NumericPasswordValidator',\n",
    "    },\n",
    "]\n",
    "\n",
    "\n",
    "AUTHENTICATION_BACKENDS = [\n",
    "    'django.contrib.auth.backends.ModelBackend',\n",
    "]\n",
    "\n",
    "    \n",
    "    \n",
    "    ```"
   ]
  },
  {
   "cell_type": "markdown",
   "id": "1b7a1f12",
   "metadata": {},
   "source": [
    "And finally, we should be able to see something like this:"
   ]
  },
  {
   "cell_type": "code",
   "execution_count": 9,
   "id": "98faa936",
   "metadata": {},
   "outputs": [
    {
     "data": {
      "text/html": [
       "<img src=\"../img/blog1.png\"/>"
      ],
      "text/plain": [
       "<IPython.core.display.Image object>"
      ]
     },
     "execution_count": 9,
     "metadata": {},
     "output_type": "execute_result"
    }
   ],
   "source": [
    "Image(url= \"../img/blog1.png\")\n"
   ]
  },
  {
   "cell_type": "markdown",
   "id": "bf2ec3ef",
   "metadata": {},
   "source": [
    "And when we click on log out, we should see something like this:"
   ]
  },
  {
   "cell_type": "markdown",
   "id": "06d16c91",
   "metadata": {},
   "source": [
    "### Homepage"
   ]
  },
  {
   "cell_type": "code",
   "execution_count": 10,
   "id": "6d907106",
   "metadata": {},
   "outputs": [
    {
     "data": {
      "text/html": [
       "<img src=\"../img/blog2.png\"/>"
      ],
      "text/plain": [
       "<IPython.core.display.Image object>"
      ]
     },
     "execution_count": 10,
     "metadata": {},
     "output_type": "execute_result"
    }
   ],
   "source": [
    "Image(url= \"../img/blog2.png\")\n"
   ]
  },
  {
   "cell_type": "markdown",
   "id": "cab1641b",
   "metadata": {},
   "source": [
    "### Log in page"
   ]
  },
  {
   "cell_type": "code",
   "execution_count": 11,
   "id": "71e0a8bf",
   "metadata": {},
   "outputs": [
    {
     "data": {
      "text/html": [
       "<img src=\"../img/login.png\"/>"
      ],
      "text/plain": [
       "<IPython.core.display.Image object>"
      ]
     },
     "execution_count": 11,
     "metadata": {},
     "output_type": "execute_result"
    }
   ],
   "source": [
    "Image(url= \"../img/login.png\")\n"
   ]
  },
  {
   "cell_type": "markdown",
   "id": "8402cd9f",
   "metadata": {},
   "source": [
    "### Register page"
   ]
  },
  {
   "cell_type": "code",
   "execution_count": 12,
   "id": "36af2dbc",
   "metadata": {},
   "outputs": [
    {
     "data": {
      "text/html": [
       "<img src=\"../img/register.png\"/>"
      ],
      "text/plain": [
       "<IPython.core.display.Image object>"
      ]
     },
     "execution_count": 12,
     "metadata": {},
     "output_type": "execute_result"
    }
   ],
   "source": [
    "Image(url= \"../img/register.png\")\n"
   ]
  },
  {
   "cell_type": "markdown",
   "id": "bb8898a2",
   "metadata": {},
   "source": [
    "### Post detail page"
   ]
  },
  {
   "cell_type": "code",
   "execution_count": 13,
   "id": "120d745d",
   "metadata": {},
   "outputs": [
    {
     "data": {
      "text/html": [
       "<img src=\"../img/post-detail.png\"/>"
      ],
      "text/plain": [
       "<IPython.core.display.Image object>"
      ]
     },
     "execution_count": 13,
     "metadata": {},
     "output_type": "execute_result"
    }
   ],
   "source": [
    "Image(url= \"../img/post-detail.png\")\n"
   ]
  },
  {
   "cell_type": "markdown",
   "id": "8119a74c",
   "metadata": {},
   "source": [
    "Of cours,e this ois a very basic blog site. Many things can still be added and of course we could make it look waaaay nicer in our templates.\n",
    "We can also host it somewhere so that it's actually available on the web. Since we don't have much time left in our course I want to give you some practical info and tutorials where you can find more on these topics:"
   ]
  },
  {
   "cell_type": "markdown",
   "id": "699f0127",
   "metadata": {},
   "source": [
    "# What to do next"
   ]
  },
  {
   "cell_type": "markdown",
   "id": "2a62f895",
   "metadata": {},
   "source": [
    "- Blog tutorials:\n",
    "    * https://djangocentral.com/building-a-blog-application-with-django/\n",
    "    * Good YT series (extensive) :https://www.youtube.com/watch?v=B40bteAMM_M&list=PLCC34OHNcOtr025c1kHSPrnP18YPB-NFi&ab_channel=Codemy.com\n",
    "    * good Django tutorials -https://www.youtube.com/@DennisIvy\n",
    "    * https://medium.com/geekculture/create-a-blog-with-django-60f529f1d8b6\n",
    "    \n",
    "    \n",
    "- Authentification:\n",
    "  Really nice tutorials:\n",
    "  * https://www.youtube.com/watch?v=CTrVDi3tt8o&ab_channel=Codemy.com\n",
    "  * https://www.youtube.com/watch?v=WuyKxdLcw3w&ab_channel=TechWithTim\n",
    "  Documentation:\n",
    "  *https://docs.djangoproject.com/en/4.2/topics/auth/default/\n",
    "  \n",
    "- design\n",
    "\n",
    "* Bootstrap templates - https://www.w3schools.com/bootstrap/bootstrap_templates.asp\n",
    "* https://www.makeuseof.com/django-bootstrap-project/\n",
    "* https://https://www.creative-tim.com/templates/django-free\n",
    "* startbootstrap.com/themes\n",
    "* https://startbootstrap.com/themes?showPro=false\n",
    "\n",
    "\n",
    "- Hosting:\n",
    "* https://djangostars.com/blog/top-django-compatible-hosting-services/\n",
    "* https://www.youtube.com/watch?v=xtnUwvjOThg&ab_channel=CloudWithDjango\n",
    "* Railway - https://www.youtube.com/watch?v=do0otUW7454&t=568s&ab_channel=DennisIvy\n",
    "* vercel - https://www.youtube.com/watch?v=ZjVzHcXCeMU&ab_channel=CloudWithDjango"
   ]
  },
  {
   "cell_type": "markdown",
   "id": "7c63b4c7",
   "metadata": {},
   "source": [
    "## Hosting options:\n",
    "\n",
    "1. Self-Managed Server (AWS EC2, Google Cloud Compute Engine, etc.)\n",
    "Self-managed servers give you the highest level of control over your hosting environment. You can choose the OS, the software that runs on it, and have direct access to logs and configuration.\n",
    "\n",
    "### How to use:\n",
    "Launch a new instance (AWS EC2, Google Cloud Compute Engine, etc.).\n",
    "Install Python and Django.\n",
    "Use Git to clone your Django project onto the server.\n",
    "Use a WSGI server (like Gunicorn or uWSGI) to serve your application.\n",
    "Configure a reverse proxy (like Nginx or Apache) to handle static files and route traffic to the WSGI server.\n",
    "Set up a database server (like PostgreSQL or MySQL).\n",
    "\n",
    "<u>Pros</u>:\n",
    "Full control over the environment.\n",
    "Full access to server logs.\n",
    "Allows for complex architectures and bespoke solutions.\n",
    "\n",
    "<u>Cons</u>:\n",
    "Requires significant devOps knowledge and experience.\n",
    "Time-consuming to set up and maintain.\n",
    "You are responsible for managing and patching the server.\n",
    "\n",
    "\n",
    "2. Platform as a Service (PaaS) (Heroku, Google App Engine, etc.)\n",
    "Platforms as a Service (PaaS) are services that abstract away much of the complexity of server management, allowing you to focus on writing your application.\n",
    "\n",
    "### How to use:\n",
    "Create an account on the PaaS provider (Heroku, Google App Engine, etc.).\n",
    "Use Git to push your Django project to the platform.\n",
    "Configure the platform-specific settings, like environment variables or add-ons (such as a database or email service).\n",
    "\n",
    "<u>Pros:</u>\n",
    "Easier to deploy and manage than self-managed servers.\n",
    "Often provide additional features like managed databases, caching, etc.\n",
    "Some platforms offer free tiers, which can be useful for small projects or prototypes.\n",
    "\n",
    "<u>Cons</u>:\n",
    "Less control over the environment compared to self-managed servers.\n",
    "Can become expensive as your application scales.\n",
    "Platform lock-in: Switching providers may require significant changes to your application.\n",
    "\n",
    "\n",
    "3. Containerization (Docker, Kubernetes)\n",
    "Containerization allows you to package your application along with all of its dependencies, making it easier to deploy across various environments.\n",
    "\n",
    "### How to use:\n",
    "Install Docker on your local machine.\n",
    "Write a Dockerfile that defines how to build a Docker image of your application.\n",
    "Build the Docker image and test it locally.\n",
    "Push the Docker image to a Docker registry (like Docker Hub or Google Container Registry).\n",
    "Use a container orchestration platform (like Kubernetes, AWS ECS, Google Kubernetes Engine, etc.) to deploy your Docker image.\n",
    "\n",
    "\n",
    "<u>Pros</u>:\n",
    "Provides a consistent environment for your application, reducing the \"it works on my machine\" problem.\n",
    "Can be used with both self-managed servers and many PaaS providers.\n",
    "Containers can be easily scaled and replicated.\n",
    "\n",
    "<u>Cons</u>:\n",
    "Learning curve to understand and use effectively.\n",
    "Can be overkill for small, simple applications.\n",
    "Container orchestration can be complex to set up and manage."
   ]
  },
  {
   "cell_type": "code",
   "execution_count": null,
   "id": "69e72f66",
   "metadata": {},
   "outputs": [],
   "source": []
  }
 ],
 "metadata": {
  "kernelspec": {
   "display_name": "Python 3 (ipykernel)",
   "language": "python",
   "name": "python3"
  },
  "language_info": {
   "codemirror_mode": {
    "name": "ipython",
    "version": 3
   },
   "file_extension": ".py",
   "mimetype": "text/x-python",
   "name": "python",
   "nbconvert_exporter": "python",
   "pygments_lexer": "ipython3",
   "version": "3.9.13"
  }
 },
 "nbformat": 4,
 "nbformat_minor": 5
}
