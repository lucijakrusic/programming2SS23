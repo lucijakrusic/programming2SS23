{
 "cells": [
  {
   "cell_type": "code",
   "execution_count": 2,
   "id": "228e240c",
   "metadata": {},
   "outputs": [],
   "source": [
    "from IPython.display import Image\n",
    "from IPython.core.display import HTML "
   ]
  },
  {
   "cell_type": "markdown",
   "id": "0d135c90",
   "metadata": {},
   "source": [
    "## What was done in the previous notebook:\n",
    "\n",
    "- intro to Django\n",
    "- components of a Django application\n",
    "- creating a project and a blog app\n",
    "- urls and views\n",
    "- connecting our app urls with project urls\n",
    "- creating templates foor our home and about webpages\n",
    "- creating models for posts and comments\n",
    "- migrations (kind of like git commit)\n",
    "- Bootstrap\n",
    "- incorporating posts into views\n",
    "- making a post template\n",
    "- django admin"
   ]
  },
  {
   "cell_type": "markdown",
   "id": "23edf8e9",
   "metadata": {},
   "source": [
    "Let's first check where we left off with our site.\n",
    "Reopen the project and the folder. Restart your virtual environment by typing:\n",
    "\n",
    "```\n",
    "blog_venv/Scripts/activate\n",
    "\n",
    "```"
   ]
  },
  {
   "cell_type": "markdown",
   "id": "c7ee8d7b",
   "metadata": {},
   "source": [
    "Then, let's check the server - \n",
    "\n",
    "\n",
    "```\n",
    " python manage.py runserver\n",
    "\n",
    "```\n",
    "\n",
    "\n",
    "When the server is up and running you will check your home address:\n",
    "\n",
    "http://127.0.0.1:8000/"
   ]
  },
  {
   "cell_type": "markdown",
   "id": "f17851db",
   "metadata": {},
   "source": [
    "and ur home page should show something like:\n"
   ]
  },
  {
   "cell_type": "code",
   "execution_count": 5,
   "id": "7cc1388f",
   "metadata": {},
   "outputs": [
    {
     "data": {
      "text/html": [
       "<img src=\"../img/blog.png\"/>"
      ],
      "text/plain": [
       "<IPython.core.display.Image object>"
      ]
     },
     "execution_count": 5,
     "metadata": {},
     "output_type": "execute_result"
    }
   ],
   "source": [
    "Image(url= \"../img/blog.png\")\n"
   ]
  },
  {
   "cell_type": "markdown",
   "id": "c17d8c78",
   "metadata": {},
   "source": [
    "our about page should look like this:"
   ]
  },
  {
   "cell_type": "code",
   "execution_count": 8,
   "id": "a66e2338",
   "metadata": {},
   "outputs": [
    {
     "data": {
      "text/html": [
       "<img src=\"../img/about.png\"/>"
      ],
      "text/plain": [
       "<IPython.core.display.Image object>"
      ]
     },
     "execution_count": 8,
     "metadata": {},
     "output_type": "execute_result"
    }
   ],
   "source": [
    "Image(url= \"../img/about.png\")\n"
   ]
  },
  {
   "cell_type": "markdown",
   "id": "1ff4fb96",
   "metadata": {},
   "source": [
    "and our post detail page, should look something like this:"
   ]
  },
  {
   "cell_type": "code",
   "execution_count": 10,
   "id": "60b97be4",
   "metadata": {},
   "outputs": [
    {
     "data": {
      "text/html": [
       "<img src=\"../img/post_detail.png\"/>"
      ],
      "text/plain": [
       "<IPython.core.display.Image object>"
      ]
     },
     "execution_count": 10,
     "metadata": {},
     "output_type": "execute_result"
    }
   ],
   "source": [
    "Image(url= \"../img/post_detail.png\")\n"
   ]
  },
  {
   "cell_type": "markdown",
   "id": "f55b43eb",
   "metadata": {},
   "source": [
    "We know the urls, because we wrote them in our my-blog/blog/urls.py file:\n",
    "\n",
    "```\n",
    "\n",
    "urlpatterns = [\n",
    "    path('', views.home, name='blog-home'),\n",
    "    path('about/', views.about, name='blog-about'),\n",
    "    path('post/<int:pk>/', views.post_detail, name='post-detail'),\n",
    "\n",
    "]\n",
    "\n",
    "\n",
    "```\n",
    "\n",
    "meaning the path for home is  http://127.0.0.1:8000/, the path for about is  http://127.0.0.1:8000/about and the path for posts is  http://127.0.0.1:8000/post/<pk> and the pk, being the primary key is usually the number of the post, here:  http://127.0.0.1:8000/post/1. "
   ]
  },
  {
   "cell_type": "markdown",
   "id": "1447f6e3",
   "metadata": {},
   "source": [
    "If you do not have a blog post yet, log in with your credentials to http://127.0.0.1:8000/admin and create a post."
   ]
  },
  {
   "cell_type": "markdown",
   "id": "981b58ee",
   "metadata": {},
   "source": [
    "## Some changes in models. py (Updating the ```Comment``` model)"
   ]
  },
  {
   "cell_type": "markdown",
   "id": "b19cc4ed",
   "metadata": {},
   "source": [
    "To enable comment functionality on our blog, we need to update the Comment model in the models.py file. Open the file and add the following fields to the Comment model:\n",
    "\n",
    "- post: Represents the associated post using a foreign key relationship to the Post model.\n",
    "- author: Represents the author of the comment using a foreign key relationship to the User model.\n",
    "- content: Stores the content of the comment as a text field.\n",
    "- created_date: Stores the date and time when the comment was created using models.DateTimeField(default=timezone.now).\n",
    "\n",
    "\n",
    "These fields are crucial for capturing the necessary information about a comment.\n",
    "\n"
   ]
  },
  {
   "cell_type": "markdown",
   "id": "c80f910f",
   "metadata": {},
   "source": [
    "```\n",
    "\n",
    "class CommentManager(models.Manager):\n",
    "    pass\n",
    "\n",
    "\n",
    "class Comment(models.Model):\n",
    "    post = models.ForeignKey(Post, related_name='comments', on_delete=models.CASCADE)\n",
    "    author = models.ForeignKey(User, on_delete=models.CASCADE)\n",
    "    content = models.TextField()\n",
    "    created_date = models.DateTimeField(default=timezone.now)\n",
    "    objects = CommentManager()\n",
    "\n",
    "    \n",
    "\n",
    "```"
   ]
  },
  {
   "cell_type": "markdown",
   "id": "ccf4b0b2",
   "metadata": {},
   "source": [
    "In the ```models.py ``` file, we'll define a new class called  ```CommentManager```, which extends ```models.Manager```. This manager can be used to customize how queries are performed on the Comment model. For now, we won't add any custom methods to keep it simple and move on to the next steps.\n",
    "\n"
   ]
  },
  {
   "cell_type": "markdown",
   "id": "eef52b0a",
   "metadata": {},
   "source": [
    "Inside the Comment model class, add ```objects = CommentManager()```. This assigns the custom CommentManager to the objects attribute of the Comment model.\n",
    "\n"
   ]
  },
  {
   "cell_type": "markdown",
   "id": "958b1cfa",
   "metadata": {},
   "source": [
    "We'll implement the __str__ method in the Comment model. This method provides a string representation of a Comment object. Add the following code inside the Comment model class:\n",
    "\n",
    "````\n",
    "def __str__(self):\n",
    "    return str(self.content)\n",
    "\n",
    "\n",
    "````"
   ]
  },
  {
   "cell_type": "markdown",
   "id": "590ad202",
   "metadata": {},
   "source": [
    "Here, we return ```str(self.content)```, which represents the content of the comment.\n",
    "\n"
   ]
  },
  {
   "cell_type": "markdown",
   "id": "57209c61",
   "metadata": {},
   "source": [
    "### The things we need to  do:\n",
    "    \n",
    "#### 1. Create CommentForm: \n",
    "In our  forms.py file, we will a CommentForm using Django's ModelForm class. This form will allow users to input their comments.\n",
    "\n",
    "#### 2. Update Post Detail View:\n",
    "we will update the post_detail view in views.py to handle the rendering of individual post pages along with their associated comments\n",
    "\n",
    "#### 3. Display Comments in post_detail.html\n",
    "\n",
    "#### 4. Add Comment Submission Form: \n",
    "add the comment submission form to the post_detail.html template\n",
    "Render the CommentForm and include it in the HTML form. Upon form submission, handle the form data in the post_detail view to create and save the comment to the database.\n",
    "\n"
   ]
  },
  {
   "cell_type": "markdown",
   "id": "7c7a19ea",
   "metadata": {},
   "source": [
    "# Forms in general"
   ]
  },
  {
   "cell_type": "markdown",
   "id": "d7acfc63",
   "metadata": {},
   "source": [
    "In Django, forms are a powerful tool for handling user input, validating data, and rendering HTML forms. They provide an abstraction layer to simplify the process of creating, rendering, and processing forms."
   ]
  },
  {
   "cell_type": "markdown",
   "id": "f303c204",
   "metadata": {},
   "source": [
    "Django forms are defined as Python classes that inherit from the django.forms.Form or django.forms.ModelForm class. Let's explore both types of forms:\n",
    "\n",
    "1. Form Class (django.forms.Form):\n",
    "\n",
    "A Django form class (django.forms.Form) is used when you need to create a form that is not directly linked to a model(like an email contact would be).\n",
    "You define the form fields as class attributes, specifying the field type (CharField, EmailField, IntegerField, etc.) and any additional parameters or validators.\n",
    "\n",
    "e.g.\n",
    "```\n",
    "from django import forms\n",
    "\n",
    "\n",
    "class MyForm(forms.Form):\n",
    "    name = forms.CharField(max_length=100)\n",
    "    email = forms.EmailField()\n",
    "    age = forms.IntegerField()\n",
    "```\n",
    "\n",
    "2. ModelForm Class (django.forms.ModelForm):\n",
    "\n",
    "A Django model form class (django.forms.ModelForm) is used when you want to create a form based on a model (like our post or comment). It automatically generates form fields based on the model's fields.\n",
    "You define the form's Meta class within the form class, specifying the associated model and the fields you want to include in the form.\n",
    "\n",
    "\n",
    "e.g.\n",
    "\n",
    "```\n",
    "from django import forms\n",
    "from .models import MyModel\n",
    "\n",
    "class MyModelForm(forms.ModelForm):\n",
    "    class Meta:\n",
    "        model = MyModel\n",
    "        fields = ['field1', 'field2']\n",
    "```\n"
   ]
  },
  {
   "cell_type": "markdown",
   "id": "2125bb1c",
   "metadata": {},
   "source": [
    "## 1. Create CommentForm: "
   ]
  },
  {
   "cell_type": "markdown",
   "id": "76503815",
   "metadata": {},
   "source": [
    "Now let's create a new form in the forms.py file called CommentForm. We'ew defining the necessary field for the comment form -the  content.\n",
    "\n",
    "\n",
    "First create a ```forms.py``` file, inside the blog app, that is in my_blog/my_blog/blog.\n",
    "\n",
    "In your ```forms.py``` file , create a CommentForm using Django's ModelForm class(https://docs.djangoproject.com/en/4.2/topics/forms/modelforms/). This form will allow users to input their comments. \n",
    "\n",
    "\n",
    "The code:\n",
    "\n",
    "\n",
    "```\n",
    "from django import forms\n",
    "from .models import Comment\n",
    "\n",
    "class CommentForm(forms.ModelForm):\n",
    "    class Meta:\n",
    "        model = Comment\n",
    "        fields = ['content']\n",
    "\n",
    "\n",
    "```\n"
   ]
  },
  {
   "cell_type": "markdown",
   "id": "5a3c0927",
   "metadata": {},
   "source": [
    "Once you've defined our form class, we can use it in your views to render the form, validate user input, and process the form data.\n",
    "\n",
    "To render the form in your template, you pass an instance of the form class to the template context and use the form's properties and methods to render the form fields. e.g.:\n",
    "\n"
   ]
  },
  {
   "cell_type": "markdown",
   "id": "e73d33c9",
   "metadata": {},
   "source": [
    "## 2. Update Post Detail View:\n",
    "\n"
   ]
  },
  {
   "cell_type": "markdown",
   "id": "c1d31fe7",
   "metadata": {},
   "source": [
    "(or rendering the form)\n",
    "\n",
    "\n",
    "In your views.py file (inside the blog app), update the post_detail view to handle rendering individual post pages along with their associated comments.We need to add logic to handle the form submission when a user submits a comment. \n",
    "\n",
    "\n",
    "What we're doing in the following code is:\n",
    "- Checking if the request method is POST and validate the comment form. \n",
    "- If the form is valid, save the comment with the associated post and author, and redirect back to the post detail page.\n",
    "\n",
    " Code:\n",
    "\n",
    "\n",
    "```\n",
    "\n",
    "\n",
    "from django.shortcuts import render, get_object_or_404, redirect\n",
    "#  handles rendering templates and retrieving objects from the database.\n",
    "\n",
    "\n",
    "from .models import Post, Comment\n",
    "from .forms import CommentForm\n",
    "\n",
    "def post_detail(request, pk):\n",
    "    post = get_object_or_404(Post, pk=pk)\n",
    "    comments = Comment.objects.filter(post=post)\n",
    "    \n",
    "    if request.method == 'POST':\n",
    "        form = CommentForm(request.POST)\n",
    "        if form.is_valid():\n",
    "            comment = form.save(commit=False)\n",
    "            comment.post = post\n",
    "            comment.author = request.user\n",
    "            comment.save()\n",
    "            return redirect('post-detail', pk=pk)\n",
    "    else:\n",
    "        form = CommentForm()\n",
    "    \n",
    "    return render(request, 'blog/post_detail.html', {'post': post, 'comments': comments, 'form': form})\n",
    "\n",
    "\n",
    "```\n"
   ]
  },
  {
   "cell_type": "markdown",
   "id": "5f8aed5d",
   "metadata": {},
   "source": [
    "Here, we fetch the specific post based on its primary key ``` (pk)``` and retrieve the associated comments. We also create an instance of the CommentForm and pass it as context data to the template. If the form is submitted with valid data, we create a new comment, associate it with the post, save it, and redirect back to the post detail page.\n",
    "\n",
    "\n",
    "\n",
    "We define the post_detail view function, which takes a request object and a pk parameter representing the primary key of the post.\n",
    "\n",
    "- post = get_object_or_404(Post, pk=pk): Retrieves a Post object with the given primary key (pk) from the database. If the post doesn't exist, it raises a 404 error.\n",
    "\n",
    "- comments = Comment.objects.filter(post=post): Retrieves all Comment objects associated with the post using a query that filters the comments based on the post.\n",
    "\n",
    "- then we check if the request method is POST. This condition is used to differentiate between form submissions and initial GET requests.\n",
    "\n",
    "- form = CommentForm(request.POST): Creates an instance of the CommentForm with the POST data from the request. This binds the form with the submitted data.\n",
    "\n",
    "- if form.is_valid(): Validates the form, i.e. checks if the submitted data is valid according to the form's field validation rules\n",
    "\n",
    "- comment = form.save(commit=False): Creates a new Comment object using the form's data but doesn't save it to the database yet\n",
    "\n",
    "- comment.post = post: sssociates the comment with the post object retrieved earlier.\n",
    "\n",
    "- comment.author = request.user: Sets the author of the comment as the currently logged-in user (currently yourself - admin username)\n",
    "\n",
    "- return redirect('post-detail', pk=pk): Redirects the user back to the post detail page after successfully submitting the comment\n",
    "\n",
    "If the request method is not POST (e.g., it's a GET request), we create an instance of the CommentForm with no data. This renders an empty form.\n",
    "\n",
    "- the return render function : Renders the post_detail.html template, passing the post, comments, and form as context variables. These variables can be accessed within the template for rendering the post details, comments, and the comment submission form."
   ]
  },
  {
   "cell_type": "markdown",
   "id": "858bed1f",
   "metadata": {},
   "source": [
    "- objects = CommentManager(): The objects attribute in the Comment model is assigned the CommentManager class. This allows you to customize the manager for the Comment model, although currently, the CommentManager class is empty (only containing pass).\n",
    "\n",
    "- def __str__(self):: This method provides a string representation of the Comment object. In this case, it returns the string representation of the comment's content (self.content).\n",
    "\n"
   ]
  },
  {
   "cell_type": "markdown",
   "id": "9e80ff96",
   "metadata": {},
   "source": [
    "## 3. Display Comments in post_detail.html:\n",
    "\n"
   ]
  },
  {
   "cell_type": "markdown",
   "id": "5b85f585",
   "metadata": {},
   "source": [
    "In the post_detail.html template, we need to iterate over the comments and display them\n",
    "\n",
    "Let's look at whata our post_detail.html looks like currently:\n"
   ]
  },
  {
   "cell_type": "code",
   "execution_count": 11,
   "id": "5bd0fc45",
   "metadata": {},
   "outputs": [
    {
     "data": {
      "text/html": [
       "<img src=\"../img/post.png\"/>"
      ],
      "text/plain": [
       "<IPython.core.display.Image object>"
      ]
     },
     "execution_count": 11,
     "metadata": {},
     "output_type": "execute_result"
    }
   ],
   "source": [
    "Image(url= \"../img/post.png\")\n"
   ]
  },
  {
   "cell_type": "markdown",
   "id": "67b5f6cc",
   "metadata": {},
   "source": [
    "Here we're accounting for what a particular article looks like on our post-detail page. Now we would want to see all the comments underneath. \n",
    "So, let's add\n",
    "\n",
    "\n",
    "```\n",
    "  <hr>\n",
    "  <h3>Comments</h3>\n",
    "  {% for comment in comments %}\n",
    "    <div class=\"comment\">\n",
    "      <p>{{ comment.content }}</p>\n",
    "      <p class=\"author\">Comment by {{ comment.author }}</p>\n",
    "      <hr>\n",
    "    </div>\n",
    "  {% empty %}\n",
    "    <p>No comments yet.</p>\n",
    "  {% endfor %}\n",
    "\n",
    "\n",
    "  <h3>Add a Comment</h3>\n",
    "  <form method=\"POST\">\n",
    "    {% csrf_token %}\n",
    "    {{ form.as_p }}\n",
    "    <button type=\"submit\">Submit</button>\n",
    "  </form>\n",
    "\n",
    "\n",
    "  <script>\n",
    "    document.getElementById('comment-form').addEventListener('submit', function(event) {\n",
    "      event.preventDefault();\n",
    "  </script>\n",
    "  \n",
    "\n",
    "{% endblock content %}\n",
    "\n",
    "\n",
    "```"
   ]
  },
  {
   "cell_type": "markdown",
   "id": "ab353187",
   "metadata": {},
   "source": [
    "inside of our block content and after the article end tag."
   ]
  },
  {
   "cell_type": "markdown",
   "id": "ff19b76b",
   "metadata": {},
   "source": [
    "In the post_detail.html template, we're adding the HTML code to render the comment form. Using the appropriate template tags, such as {{ form.as_p }} or {{ form.as_table }}, we render the form fields. This step ensures that users can see the comment form on the post detail page.\n",
    "\n"
   ]
  },
  {
   "cell_type": "markdown",
   "id": "7e6b8c9d",
   "metadata": {},
   "source": [
    "```<hr>``` - Draws a horizontal line as a separator, if we try it here in the Notebook:<hr>\n"
   ]
  },
  {
   "cell_type": "markdown",
   "id": "651bd136",
   "metadata": {},
   "source": [
    "Then we loop through each comment and display its content and author, separated by a horizontal line. We display th \"Add a Comment\" heading and render a form with fields for submitting a new comment, including a CSRF token for security and a submit button.  \n",
    "Then we also add an <action> block, which is actually additional JavaScript code to handle the form submission event. The EventListener listens specifically dor the 'submit' event, which occurs when the form is submitted. The reventDefault()  prevents the default form submission behavior.  It instructs the browser not to perform the usual form submission action, which would cause a page refresh.\n",
    " You can use JavaScript frameworks like jQuery or vanilla JavaScript  to submit the form data to the server and process the comment.\n",
    "\n",
    "#### Digression  \n",
    "- the CSRF token is a security measure used to protect against Cross-Site Request Forgery attacks. It is necessary to include the CSRF token in forms to verify that the form submission originated from the same website and not from an unauthorized source"
   ]
  },
  {
   "cell_type": "markdown",
   "id": "6c9484dc",
   "metadata": {},
   "source": [
    "Now, when we run our server we should see something like this:"
   ]
  },
  {
   "cell_type": "code",
   "execution_count": 4,
   "id": "b2a9c37c",
   "metadata": {},
   "outputs": [
    {
     "data": {
      "text/html": [
       "<img src=\"../img/comment.png\"/>"
      ],
      "text/plain": [
       "<IPython.core.display.Image object>"
      ]
     },
     "execution_count": 4,
     "metadata": {},
     "output_type": "execute_result"
    }
   ],
   "source": [
    "Image(url= \"../img/comment.png\")\n"
   ]
  },
  {
   "cell_type": "markdown",
   "id": "33b28e95",
   "metadata": {},
   "source": [
    "It's not the prettiest - but we do have our post and comment (if we added it). If not, try to add a post through the admin site and a comment here."
   ]
  },
  {
   "cell_type": "markdown",
   "id": "390f4a60",
   "metadata": {},
   "source": [
    "# ToDo additional features"
   ]
  },
  {
   "cell_type": "markdown",
   "id": "d71f50bf",
   "metadata": {},
   "source": [
    "Now, we have added the basic functionalities to out blog. We can make posts from the admin site and comments from our blog itself.\n",
    "\n",
    "But, let's add other cool stuff (optionally):\n",
    "\n",
    "#### 1. Pagination\n",
    "\n",
    "\n",
    "#### 2. Adding Topics to Blog Posts\n",
    "\n",
    "\n",
    "#### 3. Multiple users\n"
   ]
  }
 ],
 "metadata": {
  "kernelspec": {
   "display_name": "Python 3 (ipykernel)",
   "language": "python",
   "name": "python3"
  },
  "language_info": {
   "codemirror_mode": {
    "name": "ipython",
    "version": 3
   },
   "file_extension": ".py",
   "mimetype": "text/x-python",
   "name": "python",
   "nbconvert_exporter": "python",
   "pygments_lexer": "ipython3",
   "version": "3.9.13"
  }
 },
 "nbformat": 4,
 "nbformat_minor": 5
}
