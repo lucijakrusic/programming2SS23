{
 "cells": [
  {
   "cell_type": "code",
   "execution_count": null,
   "id": "067f5e41",
   "metadata": {},
   "outputs": [],
   "source": [
    "from IPython.display import Image\n",
    "from IPython.core.display import HTML "
   ]
  },
  {
   "cell_type": "markdown",
   "id": "1653a4cf",
   "metadata": {},
   "source": [
    "# Django - \"The web framework for perfectionists with deadlines\"\n",
    "https://www.djangoproject.com/\n",
    "\n",
    "- Django is a very popular and widely used full stack web development framework for Python\n",
    "\n",
    "- a Python-based framework that encourages rapid development and pragmatic, clean design\n",
    "- used for developing large, customizable, secure, and scalable web applications, websites, and platforms\n",
    "- built by experienced developers, it takes care of much of the hassle of web development, so you can focus on writing your application without needing to reinvent the wheel\n",
    "- free, open-source, and very versatile.\n",
    "\n"
   ]
  },
  {
   "cell_type": "markdown",
   "id": "4d81a197",
   "metadata": {},
   "source": [
    "# Good place to start:\n",
    "\n",
    "* download  - https://www.djangoproject.com/download/\n",
    "* detailed installation guide - https://docs.djangoproject.com/en/4.2/topics/install/\n",
    "* GitHub- https://github.com/django/django\n",
    "* first Django app -https://docs.djangoproject.com/en/4.2/intro/tutorial01/\n",
    "* documentation - https://docs.djangoproject.com/en/4.2/\n",
    "* tutorials - https://docs.djangoproject.com/en/4.2/intro/"
   ]
  },
  {
   "cell_type": "code",
   "execution_count": null,
   "id": "4ee8e8db",
   "metadata": {},
   "outputs": [],
   "source": [
    "Image(url= \"../img/django1.png\",width=500, height=1500)\n",
    "# https://realpython.com/get-started-with-django-1/"
   ]
  },
  {
   "cell_type": "markdown",
   "id": "a8da6052",
   "metadata": {},
   "source": [
    "Django uses the model-view-controller <b>(MVC) architectural pattern</b>, often referred to as Model-View-Template (MVT) in the Django context\n",
    "\n",
    "This pattern aims to segregate an application into three interconnected components:\n",
    "* <u>the Model</u> - data access layer\n",
    "* <u>the View</u> handles the user interface and client-side logic\n",
    "* <u>the Template</u> is equivalent to the controller that connects Model and View.\n",
    "\n"
   ]
  },
  {
   "cell_type": "code",
   "execution_count": null,
   "id": "90a03432",
   "metadata": {},
   "outputs": [],
   "source": [
    "Image(url= \"../img/mvt.png\",width=500, height=1500)\n",
    "# https://www.geeksforgeeks.org/django-project-mvt-structure/"
   ]
  },
  {
   "cell_type": "markdown",
   "id": "994c6957",
   "metadata": {},
   "source": [
    "## Important Usages of Django"
   ]
  },
  {
   "cell_type": "markdown",
   "id": "4db43338",
   "metadata": {},
   "source": [
    "\n",
    "\n",
    "Django has been used to build a variety of things, ranging from content management systems, social networks, scientific computing platforms, to even real-time video applications and more. Here are some important usages of Django:\n",
    "\n",
    "- Web Development: Django provides the necessary tools to build secure, scalable, and maintainable web applications with ease. This includes form handling, template rendering, routing, and session management.\n",
    "\n",
    "- Content Management Systems (CMS): Many content-driven sites use Django for its simplicity and the power of its ORM, which makes database access intuitive and efficient.\n",
    "\n",
    "- Custom CRM (Customer Relationship Management) Systems: Django's flexibility makes it a suitable choice for building custom CRM systems tailored to specific business requirements.\n",
    "\n",
    "- Backend for Mobile Applications: With Django, you can easily create a RESTful API for your mobile applications using Django REST Framework.\n",
    "\n"
   ]
  },
  {
   "cell_type": "markdown",
   "id": "eabc5f79",
   "metadata": {},
   "source": [
    "## Apps that use Django"
   ]
  },
  {
   "cell_type": "markdown",
   "id": "3a2daa78",
   "metadata": {},
   "source": [
    "- Instagram\n",
    "- Youtube\n",
    "- Spotify\n",
    "- Google Search\n",
    "- Nasa - https://www.nasa.gov/\n",
    "- The Washington Post - https://www.washingtonpost.com/\n",
    "- Pinterest\n",
    "- Venmo\n",
    "\n",
    "..."
   ]
  },
  {
   "cell_type": "code",
   "execution_count": null,
   "id": "12f54715",
   "metadata": {},
   "outputs": [],
   "source": [
    "Image(url= \"../img/django_apps.jpg\",width=500, height=1500)\n",
    "# https://www.zestminds.com/blog/wp-content/uploads/2022/06/top-django-apps.jpg"
   ]
  },
  {
   "cell_type": "markdown",
   "id": "b6ce3c8c",
   "metadata": {},
   "source": [
    "## Components of a Django Application\n",
    "\n"
   ]
  },
  {
   "cell_type": "markdown",
   "id": "24bcc2e6",
   "metadata": {},
   "source": [
    "#### Models: \n",
    "- a model is the single, definitive source of data about your data\n",
    "- contains the essential fields and behaviors of the data you’re storing\n",
    "\n",
    "#### Views\n",
    "- A view function, or “view” for short, is a Python function that takes a web request and returns a web response\n",
    "- This response can be the HTML contents of a document, a redirect, a 404 error, an XML document, an image, or anything else\n",
    "\n",
    "#### Templates:\n",
    "- Django’s template language is designed to strike a balance between power and ease. It’s designed to feel comfortable to those used to working with HTML.\n",
    "\n",
    "\n",
    "####  URLs:\n",
    "- A URL dispatcher is used to redirect HTTP requests to the appropriate view based on the request URL\n",
    "- The URLconf maps URL patterns to views.\n",
    "\n",
    "####  Forms\n",
    "- Django provides a powerful form library that handles rendering forms as HTML, validating user-submitted data, and converting that data to native Python types.\n",
    "\n",
    "#### Admin\n",
    "- the admin site is not directly tied to the Django project\n",
    "- it is a separate application that hooks into Django projects, and is included by default when creating a new Django project."
   ]
  },
  {
   "cell_type": "markdown",
   "id": "4c823339",
   "metadata": {},
   "source": [
    "## Guidelines for usage on a blog app example"
   ]
  },
  {
   "cell_type": "markdown",
   "id": "02797bd5",
   "metadata": {},
   "source": [
    "## Step 0: Creating a new folder and opening Visual Studio Code (or preffered editor), creating a virtual environment"
   ]
  },
  {
   "cell_type": "markdown",
   "id": "5b0fa0ab",
   "metadata": {},
   "source": [
    "- create a folder on your computer with a name such as \"my_blog\"\n",
    "- in VSCode, open the folder and click on Terminal - new Terminal\n",
    "- create a virtual environment (reminder - Projects notebook- /programming2SS23/intro_selected_topics)"
   ]
  },
  {
   "cell_type": "markdown",
   "id": "e3f4dbdc",
   "metadata": {},
   "source": [
    "```\n",
    "python -m venv blog_env\n",
    "blog_env/Scripts/activate\n",
    "```"
   ]
  },
  {
   "cell_type": "markdown",
   "id": "01dd78a9",
   "metadata": {},
   "source": [
    "You should see the name of the venv in green before your path. This means that the venv is now active and you're in it."
   ]
  },
  {
   "cell_type": "code",
   "execution_count": null,
   "id": "a834fd86",
   "metadata": {},
   "outputs": [],
   "source": [
    "Image(url= \"../img/django2.png\",width=500, height=1500)\n",
    "# https://realpython.com/get-started-with-django-1/"
   ]
  },
  {
   "cell_type": "markdown",
   "id": "481f0d0f",
   "metadata": {},
   "source": [
    "On Mac/Linux:\n",
    "\n",
    "```\n",
    "source venv/bin/activate\n",
    "\n",
    "\n",
    "```"
   ]
  },
  {
   "cell_type": "markdown",
   "id": "7c9e2fef",
   "metadata": {},
   "source": [
    "<div class=\"alert alert-block alert-info\">\n",
    "<b>Question</b>\n",
    "<p>\n",
    "<li>Why are virtual environments useful?</li>\n",
    "\n",
    "</p>\n",
    "  \n",
    "</div>"
   ]
  },
  {
   "cell_type": "markdown",
   "id": "1b11601d",
   "metadata": {},
   "source": [
    "# Step 1: Setting up Django Environment\n",
    "\n"
   ]
  },
  {
   "cell_type": "markdown",
   "id": "7c8182f8",
   "metadata": {},
   "source": [
    "First, we of course, need to install django."
   ]
  },
  {
   "cell_type": "markdown",
   "id": "3f7e7bbf",
   "metadata": {},
   "source": [
    "```\n",
    "$ pip install django\n",
    "```"
   ]
  },
  {
   "cell_type": "markdown",
   "id": "8bf32662",
   "metadata": {},
   "source": [
    "# Step 2: Creating a New Project"
   ]
  },
  {
   "cell_type": "markdown",
   "id": "c1c0a086",
   "metadata": {},
   "source": [
    "Second, we need to create our project."
   ]
  },
  {
   "cell_type": "markdown",
   "id": "8ca235ef",
   "metadata": {},
   "source": [
    "```\n",
    "$ django-admin startproject my_blog\n",
    "```"
   ]
  },
  {
   "cell_type": "markdown",
   "id": "22ddc647",
   "metadata": {},
   "source": [
    "Django organizes the code of your web application in projects and apps. A project can contain multiple apps, each of which does something independently of the others.\n",
    "\n",
    "To create a new Django project, navigate (in your command line) to the directory where you want to create the project and type the following command:\n",
    "\n",
    "\n"
   ]
  },
  {
   "cell_type": "markdown",
   "id": "424044e5",
   "metadata": {},
   "source": [
    "```\n",
    "\n",
    "$cd my_blog\n",
    "\n",
    "\n",
    "```"
   ]
  },
  {
   "cell_type": "markdown",
   "id": "945a5b34",
   "metadata": {},
   "source": [
    "This will put us directly inside our project so we can continue our work.\n",
    "\n"
   ]
  },
  {
   "cell_type": "markdown",
   "id": "16c3d76e",
   "metadata": {},
   "source": [
    "<div class=\"alert alert-block alert-info\">\n",
    "<b>Question</b>\n",
    "<p>\n",
    "    \n",
    "<li>Which files are found in our folder? What do you think they do?</li>\n",
    " <li> Notice the file called db.sqlite3. What is this file? </li>\n",
    "</p>\n",
    "  \n",
    "</div>"
   ]
  },
  {
   "cell_type": "markdown",
   "id": "3b5f8aae",
   "metadata": {},
   "source": [
    "### Check if everything is installed correctly\n"
   ]
  },
  {
   "cell_type": "markdown",
   "id": "fa793443",
   "metadata": {},
   "source": [
    "```\n",
    "python manage.py migrate\n",
    "python manage.py runserver\n",
    "\n",
    "```"
   ]
  },
  {
   "cell_type": "code",
   "execution_count": null,
   "id": "d645f650",
   "metadata": {},
   "outputs": [],
   "source": [
    "Image(url= \"../img/django3.png\")\n",
    "# https://realpython.com/get-started-with-django-1/"
   ]
  },
  {
   "cell_type": "markdown",
   "id": "789fa217",
   "metadata": {},
   "source": [
    "# Step 3: Creating an app"
   ]
  },
  {
   "cell_type": "markdown",
   "id": "bb67e12a",
   "metadata": {},
   "source": [
    "In Django, everything is organized around the concept of \"apps\". An app is a self-contained module designed to perform a specific task within the larger web application. Before we begin to work on URLs, views, and templates, we should create the blog app."
   ]
  },
  {
   "cell_type": "markdown",
   "id": "2c54a62f",
   "metadata": {},
   "source": [
    "Navigate to the root directory of your project in your command line. The root directory is where the manage.py file resides.\n",
    "\n",
    "Run the following command:\n",
    "\n",
    "```\n",
    "python manage.py startapp blog\n",
    "\n",
    "\n",
    "```"
   ]
  },
  {
   "cell_type": "markdown",
   "id": "85ee64e1",
   "metadata": {},
   "source": [
    "This will create a new directory named blog with the structure like this:\n",
    "\n",
    "- blog\n",
    "    - migrations\n",
    "    - init.py\n",
    "    - admin.py\n",
    "    - apps.py\n",
    "    - models.py\n",
    "    - tests.py\n",
    "    - views.py"
   ]
  },
  {
   "cell_type": "markdown",
   "id": "7d15e627",
   "metadata": {},
   "source": [
    "Django needs to be told to use this new application. You do this in the settings.py file. Open settings.py and look for INSTALLED_APPS. Add 'blog' to the list of installed apps. It should look like this:"
   ]
  },
  {
   "cell_type": "code",
   "execution_count": null,
   "id": "cbcc2863",
   "metadata": {},
   "outputs": [],
   "source": [
    "Image(url= \"../img/django5.png\")"
   ]
  },
  {
   "cell_type": "markdown",
   "id": "ec1002d2",
   "metadata": {},
   "source": [
    "Also, at the root of your project, there should be another urls.py file which is the main urls.py for your project. You should include your blog app URLs to the main URLs. It should look like this:\n",
    "\n",
    "```\n",
    "\n",
    "from django.contrib import admin\n",
    "from django.urls import include, path\n",
    "\n",
    "\n",
    "urlpatterns = [\n",
    "    path('admin/', admin.site.urls),\n",
    "    path('', include('blog.urls')),  # new\n",
    "\n",
    "    \n",
    "]\n",
    "\n",
    "\n",
    "```"
   ]
  },
  {
   "cell_type": "code",
   "execution_count": null,
   "id": "e7b7df47",
   "metadata": {},
   "outputs": [],
   "source": [
    "Image(url= \"../img/django6.png\")"
   ]
  },
  {
   "cell_type": "markdown",
   "id": "9bdd0671",
   "metadata": {},
   "source": [
    "### Digression- Django app structure (potentially confusing)\n",
    "\n",
    "A look at the directory structure of our Django project named my_blog with a Django app named blog:\n",
    "\n",
    "- blog_venv\n",
    "   - bin\n",
    "   - include\n",
    "   - lib\n",
    "   - lib64\n",
    "   - pyvenv.cfg\n",
    "   - share\n",
    "- my_blog\n",
    "   - my_blog\n",
    "      - init.py\n",
    "      - settings.py\n",
    "      - urls.py\n",
    "      - asgi.py\n",
    "      - wsgi.py\n",
    "   -  blog\n",
    "      - migrations\n",
    "         - init.py\n",
    "      - init.py\n",
    "      - admin.py\n",
    "      - apps.py\n",
    "      - models.py\n",
    "      - tests.py\n",
    "       - views.py\n",
    "       - urls.py # you'll create this one\n",
    "       - templates # you'll create this one\n",
    "            -  blog\n",
    "                - home.html # you'll create this one\n",
    "                - about.html # you'll create this one\n",
    "      - db.sqlite3\n",
    "      - manage.py\n",
    "\n",
    "The blog_venv directory is the Python virtual environment you have created for your Django project.\n",
    "\n",
    "Inside the my_blog directory (which is your Django project directory) you will see another my_blog directory (this is your main Django project configuration directory), the blog directory (this is the Django app you have created), and manage.py file (this is a command-line utility that lets you interact with your Django project).\n",
    "\n",
    "Inside the second my_blog directory, you have your main project settings in the settings.py file and project-level URL configurations in urls.py.\n",
    "\n",
    "Inside the blog directory, there are different files for different purposes: models.py for database schema, views.py for handling requests and responses, admin.py for the admin interface, etc.\n",
    "\n",
    "We will also create urls.py, templates directory, and inside templates directory another blog directory. In this blog directory, we will create home.html and about.html. These files and directories are not created automatically when you create the app, but they are crucial for routing and handling HTTP requests, and serving HTML content.\n",
    "\n"
   ]
  },
  {
   "cell_type": "markdown",
   "id": "a069ab21",
   "metadata": {},
   "source": [
    "# Step 4: URLs and views\n"
   ]
  },
  {
   "cell_type": "markdown",
   "id": "a335b741",
   "metadata": {},
   "source": [
    "Now that you have your Django app named blog set up, you can create the URLs and views.\n",
    "\n"
   ]
  },
  {
   "cell_type": "markdown",
   "id": "49772bf6",
   "metadata": {},
   "source": [
    "Hopefully, this is automatically generated, but if not - in your blog app directory (my_blog/blog), create a file named urls.py.The code that goes in it is as follows:\n"
   ]
  },
  {
   "cell_type": "markdown",
   "id": "c30f4142",
   "metadata": {},
   "source": [
    "```\n",
    "from django.urls import path\n",
    "from . import views\n",
    "\n",
    "urlpatterns = [\n",
    "    path('', views.home, name='blog-home'),\n",
    "    path('about/', views.about, name='blog-about'),\n",
    "]\n",
    "\n",
    "```"
   ]
  },
  {
   "cell_type": "markdown",
   "id": "356ff4c5",
   "metadata": {},
   "source": [
    "The urlpatterns list routes URLs to views."
   ]
  },
  {
   "cell_type": "markdown",
   "id": "e8a70a09",
   "metadata": {},
   "source": [
    "### How do urls and views work?"
   ]
  },
  {
   "cell_type": "code",
   "execution_count": null,
   "id": "58714ac1",
   "metadata": {},
   "outputs": [],
   "source": [
    "Image(url= \"../img/django4.png\")\n",
    "# https://realpython.com/get-started-with-django-1/"
   ]
  },
  {
   "cell_type": "markdown",
   "id": "841d20a1",
   "metadata": {},
   "source": [
    "#### 1. User Action\n",
    "Everything starts with a user action. The user (client) interacts with your web application through the browser. For instance, the user might type a URL in the browser's address bar, or click on a link or a button in your web application.\n",
    "\n",
    "#### 2.  HTTP Request\n",
    "This user action triggers an HTTP request from the client to the server where your Django application is hosted. This request contains information like the request method (GET, POST, PUT, DELETE, etc.), the URL the request is intended for, and potentially additional information like data to be processed by the server in the form of JSON or form data.\n",
    "\n",
    "#### 3. URL Dispatcher (urls.py)\n",
    "Once this HTTP request reaches your Django application, Django's URL dispatcher takes over. It's job is to look at the route provided in the URL (the part of the URL coming after your domain name) and decide what to do with the request. The URL dispatcher isn't responsible for processing the request, it's just a traffic cop of sorts, deciding where to send the request based on the URL.\n",
    "\n",
    "- The urls.py file(s) in your Django project contain URL patterns written as regular expressions. The URL dispatcher uses these patterns to decide which view function to call.\n",
    "\n",
    "#### 4.  View Function (views.py)\n",
    "Once the URL dispatcher has determined which view to use, it calls the appropriate view function with the HTTP request as an argument.\n",
    "\n",
    "        - View functions are where the actual processing happens. A view might read records from the database, it might process form data and create new records in the database, it might trigger a complex series of background tasks, or do anything else you can imagine.Every view function is responsible for returning an HTTP response.\n",
    "\n",
    "#### 5.  HTTP Response\n",
    "The HTTP response is created by the view, and then it is sent back through the middleware and the server to the client's browser. The response data might be HTML, JSON, XML, an image, or any other type of data that can be transferred over HTTP.\n",
    "\n",
    "#### 6. Browser Receives the Response\n",
    "The browser receives the HTTP response and based on the content-type of the response, it decides how to render it. If the response is an HTML document, the browser will render a webpage. If it's JSON, it might be processed by JavaScript running in the browser, etc."
   ]
  },
  {
   "cell_type": "markdown",
   "id": "682b57a6",
   "metadata": {},
   "source": [
    "```\n",
    "from django.urls import path\n",
    "from . import views\n",
    "\n",
    "urlpatterns = [\n",
    "    path('', views.home, name='blog-home'),\n",
    "    path('about/', views.about, name='blog-about'),\n",
    "]\n",
    "\n",
    "\n",
    "```"
   ]
  },
  {
   "cell_type": "markdown",
   "id": "c6a6f00d",
   "metadata": {},
   "source": [
    "In this code, we are creating URL routes. The path function is used to map a URL pattern to a view function. The first argument is the URL pattern, and the second argument is the view function that should be called when the pattern matches a request. Concretely, we are creating an about page for our blog.\n",
    "\n",
    "The views.home and views.about are function based views, which we will create next.\n",
    "\n"
   ]
  },
  {
   "cell_type": "markdown",
   "id": "1d049c94",
   "metadata": {},
   "source": [
    "### Creating Views in blog/views.py\n"
   ]
  },
  {
   "cell_type": "markdown",
   "id": "80775f7a",
   "metadata": {},
   "source": [
    "```\n",
    "\n",
    "from django.shortcuts import render\n",
    "\n",
    "def home(request):\n",
    "    return render(request, 'blog/home.html')\n",
    "\n",
    "def about(request):\n",
    "    return render(request, 'blog/about.html')\n",
    "\n",
    "\n",
    "```"
   ]
  },
  {
   "cell_type": "markdown",
   "id": "7487fad3",
   "metadata": {},
   "source": [
    "In this code, home and about are function based views. Each Django view is responsible for doing one of two things: returning an HttpResponse object containing the content for the requested page, or raising an exception such as Http404. The render function takes the request object as its first argument, a template name as its second argument and a dictionary as its optional third argument. It returns an HttpResponse object of the given template rendered with the given context.\n",
    "\n",
    "The render() function takes the request object as its first argument, a template name as its second argument and a dictionary as its optional third argument. It returns an HttpResponse object of the given template rendered with the given context.\n",
    "\n",
    "\n",
    "\n"
   ]
  },
  {
   "cell_type": "markdown",
   "id": "88e1d127",
   "metadata": {},
   "source": [
    "### Connect blog URLs to the project URLs (my_blog/urls.py)\n"
   ]
  },
  {
   "cell_type": "markdown",
   "id": "31737890",
   "metadata": {},
   "source": [
    "In the project-level urls.py (the one in the same directory as settings.py), include the blog URLs:\n",
    "\n"
   ]
  },
  {
   "cell_type": "code",
   "execution_count": null,
   "id": "24b7fc41",
   "metadata": {},
   "outputs": [],
   "source": [
    "Image(url= \"../img/django6.png\")"
   ]
  },
  {
   "cell_type": "markdown",
   "id": "4093566b",
   "metadata": {},
   "source": [
    "Here, the include() function allows referencing other URLconfs. Whenever Django encounters include(), it chops off whatever part of the URL matched up to that point and sends the remaining string to the included URLconf for further processing.\n",
    "\n",
    "The idea behind include() is to make it easy to plug-and-play URLs. Since blog are in their own URLconf (blog/urls.py), they can be placed under \"/\", or \"/blog/\", or \"/content/blog/\", or any other path root, and the app will still work.\n",
    "\n",
    "You can now run your server (python manage.py runserver) and visit http://localhost:8000/ for the home page and http://localhost:8000/about/ for the about page. However, you'll get a TemplateDoesNotExist error because we haven't created the templates yet.\n",
    "\n",
    "In the next step, we'll create the basic templates for these views. Let me know when you're ready.\n",
    "\n",
    "\n",
    "\n",
    "\n"
   ]
  },
  {
   "cell_type": "markdown",
   "id": "46e15ed2",
   "metadata": {},
   "source": [
    "## Step 5. Creating the Templates for home and about\n"
   ]
  },
  {
   "cell_type": "markdown",
   "id": "1cd1a8d3",
   "metadata": {},
   "source": [
    "Now that your views and URLs are set up correctly, we can proceed to create the templates for your home and about pages. In Django, we use HTML templates to generate the HTML code that is sent to the client.\n",
    "\n"
   ]
  },
  {
   "cell_type": "markdown",
   "id": "441959a4",
   "metadata": {},
   "source": [
    "- First, within your blog app directory, create a new directory called templates. Inside templates, create another directory named blog. Django will look for templates in a templates subdirectory in each of the INSTALLED_APPS.\n",
    "\n",
    "\n",
    "- Inside the blog directory that you just created, make two new files: home.html and about.html."
   ]
  },
  {
   "cell_type": "markdown",
   "id": "3ae684a9",
   "metadata": {},
   "source": [
    "```\n",
    "my_blog/\n",
    "└─── blog/\n",
    "    ├─── templates/\n",
    "    │    └─── blog/\n",
    "    │         └─── home.html\n",
    "              └─── about.html\n",
    "              \n",
    "              \n",
    "```              "
   ]
  },
  {
   "cell_type": "markdown",
   "id": "c345822d",
   "metadata": {},
   "source": [
    "For home.html, you can start with this basic HTML structure:\n",
    "\n"
   ]
  },
  {
   "cell_type": "markdown",
   "id": "cf79a963",
   "metadata": {},
   "source": [
    "```\n",
    "\n",
    "<!DOCTYPE html>\n",
    "<html>\n",
    "<head>\n",
    "    <title>Blog Home</title>\n",
    "</head>\n",
    "<body>\n",
    "    <h1>Welcome to the Home Page!</h1>\n",
    "</body>\n",
    "</html>\n",
    "\n",
    "\n",
    "```"
   ]
  },
  {
   "cell_type": "markdown",
   "id": "082c7e06",
   "metadata": {},
   "source": [
    "For about.html, you can start with this:\n",
    "\n"
   ]
  },
  {
   "cell_type": "markdown",
   "id": "42547b3a",
   "metadata": {},
   "source": [
    "```\n",
    "<!DOCTYPE html>\n",
    "<html>\n",
    "<head>\n",
    "    <title>Blog About</title>\n",
    "</head>\n",
    "<body>\n",
    "    <h1>About Us</h1>\n",
    "</body>\n",
    "</html>\n",
    "\n",
    "\n",
    "```"
   ]
  },
  {
   "cell_type": "markdown",
   "id": "cd28b73f",
   "metadata": {},
   "source": [
    "Now, if you run your server (python manage.py runserver) and navigate to the homepage (http://localhost:8000/) or the about page (http://localhost:8000/about/), you will see the content of these pages as defined in the templates."
   ]
  },
  {
   "cell_type": "markdown",
   "id": "60d9adfb",
   "metadata": {},
   "source": [
    "# Step 6: Models: Post and comment"
   ]
  },
  {
   "cell_type": "markdown",
   "id": "823c4b0b",
   "metadata": {},
   "source": [
    "Django uses a database-abstraction API which allows you to create, retrieve, update and delete records from your database using Python code.\n",
    "\n",
    "In Django, a model is the single, definitive source of information about your data. It contains the essential fields and behaviors of the data you’re storing. Generally, each model maps to a single database table. In other words, models are a way of creating Python classes that correspond to the tables in a database.\n",
    "\n",
    "Each attribute of the model represents a field in the table, and an instance of the model represents a row of the table"
   ]
  },
  {
   "cell_type": "markdown",
   "id": "4eac563d",
   "metadata": {},
   "source": [
    "### Creating the Post Model\n",
    "\n"
   ]
  },
  {
   "cell_type": "markdown",
   "id": "0a368843",
   "metadata": {},
   "source": [
    "Open the```models.py``` file in your blog app directory and define your ```Post``` model:\n",
    "\n"
   ]
  },
  {
   "cell_type": "markdown",
   "id": "6afa904b",
   "metadata": {},
   "source": [
    "```\n",
    "from django.db import models\n",
    "from django.utils import timezone\n",
    "from django.contrib.auth.models import User\n",
    "\n",
    "class Post(models.Model):\n",
    "    title = models.CharField(max_length=100)\n",
    "    content = models.TextField()\n",
    "    date_posted = models.DateTimeField(default=timezone.now)\n",
    "    author = models.ForeignKey(User, on_delete=models.CASCADE)\n",
    "\n",
    "\n",
    "```"
   ]
  },
  {
   "cell_type": "markdown",
   "id": "9a070bd7",
   "metadata": {},
   "source": [
    "- models.Model means that the Post is a Django Model, so Django knows that it should be saved in the database.\n",
    "- models.CharField is how you define text with a limited number of characters.\n",
    "- models.TextField is for long text without a limit.\n",
    "- models.DateTimeField is a date and time.\n",
    "- models.ForeignKey is a link to another model.\n",
    "\n",
    "\n",
    "Here, Post is a model that corresponds to a table in the database, with title, content, date_posted, and author as fields in that table.\n",
    "\n",
    "\n"
   ]
  },
  {
   "cell_type": "markdown",
   "id": "e57b38d0",
   "metadata": {},
   "source": [
    "### Creating the Comment Model\n",
    "\n"
   ]
  },
  {
   "cell_type": "markdown",
   "id": "81920453",
   "metadata": {},
   "source": [
    "Below the Post model, let's define the Comment model:\n",
    "\n"
   ]
  },
  {
   "cell_type": "markdown",
   "id": "824578c8",
   "metadata": {},
   "source": [
    "```\n",
    "\n",
    "class Comment(models.Model):\n",
    "    post = models.ForeignKey(Post, related_name='comments', on_delete=models.CASCADE)\n",
    "    author = models.ForeignKey(User, on_delete=models.CASCADE)\n",
    "    text = models.TextField()\n",
    "    created_date = models.DateTimeField(default=timezone.now)\n",
    "```"
   ]
  },
  {
   "cell_type": "markdown",
   "id": "8598ed81",
   "metadata": {},
   "source": [
    "- here, post is a ForeignKey to Post model. It means that a comment is related to a single post.\n",
    "- related_name='comments' allows us to have access to comments from the Post model.\n",
    "- text is the comment's content and created_date is the date the comment was created.\n"
   ]
  },
  {
   "cell_type": "markdown",
   "id": "78be7503",
   "metadata": {},
   "source": [
    "#### The Author\n",
    "\n",
    "The author attribute in the Post and Comment models is a ForeignKey. This is a type of field that allows us to create a one-to-many relationship. In this case, it means that one User can be the author of many Posts or Comments. Here, User is another model provided by Django's authentication system which represents the users of your website.\n",
    "\n",
    "The on_delete=models.CASCADE argument defines what should happen when the referenced User (the author) is deleted.\n",
    "\n",
    "models.CASCADE means that when the referenced object (in this case the User) is deleted, also delete the objects (Posts or Comments) that have a foreign key to them. In other words, if you delete a User who has written some Posts or Comments, those Posts or Comments will also be deleted, which makes sense in this case because a Post or a Comment without an author might not make sense for your application.\n",
    "\n",
    "There are also other options for on_delete:\n",
    "\n",
    "- models.PROTECT: Prevent deletion of the referenced object by raising a ProtectedError.\n",
    "- models.SET_NULL: Set the foreign key to NULL. You must also set null=True on the foreign key field.\n",
    "- models.SET_DEFAULT: Set the foreign key to its default value. You must also set default on the foreign key field.\n",
    "- models.SET(): Set the foreign key to the value returned by a callable.\n",
    "\n",
    "\n",
    "The right one to use depends on the specifics of your application. In the case of a blog, it typically makes sense to use models.CASCADE for the author of Posts and Comments, because these objects typically wouldn't exist without an author.\n",
    "\n",
    "\n",
    "\n",
    "\n"
   ]
  },
  {
   "cell_type": "markdown",
   "id": "9032ce92",
   "metadata": {},
   "source": [
    "### Making Migrations"
   ]
  },
  {
   "cell_type": "markdown",
   "id": "e9421c87",
   "metadata": {},
   "source": [
    "After creating our models, we have to let Django know that we have made changes to our model. Django comes with a built-in database migration system that tracks changes you make to your models and enables you to propagate these changes in your database.\n",
    "\n",
    "Run the following commands in your terminal:\n",
    "\n",
    "  \n",
    "    python manage.py makemigrations\n",
    "    python manage.py migrate\n",
    "    \n",
    "    "
   ]
  },
  {
   "cell_type": "markdown",
   "id": "4b23ec49",
   "metadata": {},
   "source": [
    "You should see something like this:"
   ]
  },
  {
   "cell_type": "code",
   "execution_count": null,
   "id": "017d29de",
   "metadata": {},
   "outputs": [],
   "source": [
    "Image(url= \"../img/migrations.png\")"
   ]
  },
  {
   "cell_type": "markdown",
   "id": "b0608d4d",
   "metadata": {},
   "source": [
    "  - the makemigrations command creates migrations files in the migrations folder of your app. These files are a way for Django to keep track of your database schema and changes you make to it.\n",
    "\n",
    "  - the migrate command applies these migrations (the changes you made to your models) to your database.\n",
    "\n",
    "After running these commands, your Post and Comment models are ready to be used.\n",
    "\n",
    "Now that we have our models set up, we can start to incorporate them into our views and templates."
   ]
  },
  {
   "cell_type": "markdown",
   "id": "1544cbc2",
   "metadata": {},
   "source": [
    "## Digression - BOOTSTRAP\n",
    "- https://getbootstrap.com/docs/4.0/getting-started/download/\n",
    "\n",
    "\n",
    "Bootstrap is a popular open-source toolkit for developing with HTML, CSS, and JS. It provides pre-designed templates and components that you can use to build responsive, mobile-first projects on the web. You can think of it as a collection of CSS and JavaScript components that can make web development faster and easier.\n",
    "\n",
    "\n",
    "From the link download the compiled CSS and JS folder.\n",
    "From the folder extract:\n",
    "- bootstrap.min.css: The minified version of Bootstrap's CSS.\n",
    "- bootstrap.min.css.map: This is a source map file for the minified CSS. It's useful for debugging, but not required for production.\n",
    "- bootstrap.min.js: JavaScript file needed for some of Bootstrap's components \n",
    "\n",
    "### Where to put the files\n",
    "In Django, static files should go in a folder named static in your app directory. In our case, that's the blog app. So, you'll create a static directory inside your blog directory, and inside that, create a blog directory (this is necessary to avoid naming conflicts between different apps' static files). So the directory structure would look something like this:\n",
    "\n",
    "```\n",
    "my_blog/\n",
    "└─── blog/\n",
    "    ├─── static/\n",
    "    │    └─── blog/\n",
    "    │         ├─── bootstrap.min.css\n",
    "    │         └─── bootstrap.min.css.map\n",
    "    ├─── views.py\n",
    "    ├─── models.py\n",
    "    └─── ...\n",
    "```"
   ]
  },
  {
   "cell_type": "markdown",
   "id": "e7848f50",
   "metadata": {},
   "source": [
    "### How to use the files?\n",
    "\n",
    "First, you need to tell Django to use the static files in your templates. You do this by loading static at the top of your HTML file:\n",
    "\n",
    "\n",
    "````\n",
    "{% load static %}\n",
    "\n",
    "````\n",
    "\n",
    "Then, to use a static file, you use Django's {% static %} template tag, which generates the absolute URL of static files.\n",
    "\n",
    "Here is how you would include bootstrap.min.css in a template:\n",
    "```\n",
    "\n",
    "<link rel=\"stylesheet\" href=\"{% static 'blog/bootstrap.min.css' %}\">\n",
    "\n",
    "```"
   ]
  },
  {
   "cell_type": "markdown",
   "id": "95c72d1b",
   "metadata": {},
   "source": [
    "### Including Bootstrap in our templates\n",
    "\n",
    "We'll create a base template that includes Bootstrap, and then extend this base template in our other templates.\n",
    "\n",
    "Inside your blog directory, create a templates directory (if it doesn't exist), and inside that, create another blog directory (again, to avoid naming conflicts). Inside this blog directory, create a ```base.html``` file:\n",
    "\n",
    "```\n",
    "\n",
    "\n",
    "my_blog/\n",
    "└─── blog/\n",
    "    ├─── templates/\n",
    "    │    └─── blog/\n",
    "    │         └─── base.html\n",
    "    ├─── static/\n",
    "    │    └─── blog/\n",
    "    │         ├─── bootstrap.min.css\n",
    "    │         └─── bootstrap.min.css.map\n",
    "    ├─── views.py\n",
    "    ├─── models.py\n",
    "    └─── ...\n",
    "\n",
    "\n",
    "\n",
    "```\n",
    "\n"
   ]
  },
  {
   "cell_type": "markdown",
   "id": "0cf69ef1",
   "metadata": {},
   "source": [
    "In base.html, include the Bootstrap CSS file and define blocks for the main parts of your site:\n",
    "\n",
    "```\n",
    "{% load static %}\n",
    "\n",
    "<!DOCTYPE html>\n",
    "<html lang=\"en\">\n",
    "<head>\n",
    "    <meta charset=\"UTF-8\">\n",
    "    <meta name=\"viewport\" content=\"width=device-width, initial-scale=1, shrink-to-fit=no\">\n",
    "    <title>My Blog</title>\n",
    "    <!-- Bootstrap CSS -->\n",
    "    <link rel=\"stylesheet\" href=\"{% static 'blog/bootstrap.min.css' %}\">\n",
    "</head>\n",
    "<body>\n",
    "    <nav class=\"navbar navbar-expand-lg navbar-light bg-light\">\n",
    "        <a class=\"navbar-brand\" href=\"#\">My Blog</a>\n",
    "        <button class=\"navbar-toggler\" type=\"button\" data-toggle=\"collapse\" data-target=\"#navbarNav\" \n",
    "                aria-controls=\"navbarNav\" aria-expanded=\"false\" aria-label=\"Toggle navigation\">\n",
    "            <span class=\"navbar-toggler-icon\"></span>\n",
    "        </button>\n",
    "        <div class=\"collapse navbar-collapse\" id=\"navbarNav\">\n",
    "            <ul class=\"navbar-nav\">\n",
    "                <li class=\"nav-item\">\n",
    "                    <a class=\"nav-link\" href=\"{% url 'blog-home' %}\">Home</a>\n",
    "                </li>\n",
    "                <li class=\"nav-item\">\n",
    "                    <a class=\"nav-link\" href=\"{% url 'blog-about' %}\">About</a>\n",
    "                </li>\n",
    "            </ul>\n",
    "        </div>\n",
    "    </nav>\n",
    "\n",
    "    <main role=\"main\" class=\"container\">\n",
    "        <div class=\"row\">\n",
    "            <div class=\"col-md-8\">\n",
    "                {% block content %}{% endblock content %}\n",
    "            </div>\n",
    "        </div>\n",
    "    </main>\n",
    "\n",
    "    <!-- Optional JavaScript -->\n",
    "    <script src=\"https://code.jquery.com/jquery-3.5.1.slim.min.js\"></script>\n",
    "    <script src=\"https://cdn.jsdelivr.net/npm/bootstrap@4.5.2/dist/js/bootstrap.min.js\"></script>\n",
    "</body>\n",
    "</html>\n",
    "\n",
    "\n",
    "```"
   ]
  },
  {
   "cell_type": "markdown",
   "id": "58fc0c0b",
   "metadata": {},
   "source": [
    "#### In this example:\n",
    "\n",
    "- We've loaded the static files at the top with {% load static %}.\n",
    "- We've included the bootstrap.min.css file in the head of the document using the {% static %} template tag.\n",
    "- We've set up a navigation bar using Bootstrap classes, with links to the home and about pages of your blog.\n",
    "- The {% block content %}{% endblock content %} inside the main section is where the content for each individual page will go. This is done through Django's template inheritance; each individual page template will extend base.html and define its own content block.\n",
    "- We've also included the Bootstrap JavaScript file and its dependencies at the bottom of the body of the document. We've used a CDN for these JavaScript files, but you could also download them and include them from our static files in the same way as the CSS file.\n"
   ]
  },
  {
   "cell_type": "markdown",
   "id": "e3675888",
   "metadata": {},
   "source": [
    "In your other templates (home.html, about.html, etc.), you can then extend base.html and fill in the {% block content %} block with the content for that page. With this setup, our Bootstrap styles and scripts should be applied to all templates that extend base.html.\n",
    "\n",
    "\n",
    "\n",
    "For example, in home.html:\n",
    "\n"
   ]
  },
  {
   "cell_type": "markdown",
   "id": "7247511a",
   "metadata": {},
   "source": [
    "````\n",
    "\n",
    "{% extends \"blog/base.html\" %}\n",
    "\n",
    "{% block content %}\n",
    "  <h1>Home Page</h1>\n",
    "{% endblock content %}\n",
    "\n",
    "\n",
    "````"
   ]
  },
  {
   "cell_type": "markdown",
   "id": "0530a72b",
   "metadata": {},
   "source": [
    "About:\n",
    "    \n",
    "    {% extends \"blog/base.html\" %}\n",
    "    {% block content %}\n",
    "           <h1>About Page</h1>\n",
    "    {% endblock content %}\n",
    "\n"
   ]
  },
  {
   "cell_type": "markdown",
   "id": "8acef3e7",
   "metadata": {},
   "source": [
    "In development, Django automatically serves static files from each app's static directory. But in production, you need to collect all static files into a single directory, which is specified by the STATIC_ROOT setting in settings.py.\n",
    "\n",
    "When you're ready to deploy your app, you should add this setting to settings.py:\n",
    "\n",
    "```\n",
    "\n",
    "STATIC_ROOT = os.path.join(BASE_DIR, 'staticfiles')\n",
    "\n",
    "\n",
    "```\n",
    "\n",
    "\n",
    "<B>FURTHERMORE IN SETTINGS.PY</B>:\n",
    "\n",
    "\n",
    "- STATIC_URL is the URL under which Django serves static files. Its default value is '/static/', so you don't usually need to change it. It should be present in your settings.py file.\n",
    "\n",
    "- STATICFILES_DIRS is a list of directories where Django looks for additional static files, in addition to the static directory of each app. You typically don't need to modify this setting, unless you're putting static files outside of your apps' static directories.\n",
    "\n",
    "Then, you can run ```python manage.py collectstatic```, and Django will collect all static files into the staticfiles directory.\n",
    "\n",
    "And now hopefully, our webpage looks something like this:\n"
   ]
  },
  {
   "cell_type": "code",
   "execution_count": null,
   "id": "47c65dbf",
   "metadata": {},
   "outputs": [],
   "source": [
    "Image(url= \"../img/webpage.png\")"
   ]
  },
  {
   "cell_type": "markdown",
   "id": "5db78bd6",
   "metadata": {},
   "source": [
    "For now it's not much, but that's because we need to add the Post model to the template and continue working on the comment model"
   ]
  },
  {
   "cell_type": "markdown",
   "id": "257a9d22",
   "metadata": {},
   "source": [
    "### Incorporate Post Model into Views "
   ]
  },
  {
   "cell_type": "markdown",
   "id": "47326a59",
   "metadata": {},
   "source": [
    "Let's start by creating the view for individual blog posts. In your ```views.py``` file, import the Post model at the top:\n",
    "It should look like this:\n",
    "\n",
    "\n",
    "```\n",
    "from django.shortcuts import render, get_object_or_404\n",
    "from .models import Post\n",
    "\n",
    "\n",
    "```\n"
   ]
  },
  {
   "cell_type": "markdown",
   "id": "a7a1eac8",
   "metadata": {},
   "source": [
    "#### Update the home view to retrieve all the posts from the database"
   ]
  },
  {
   "cell_type": "markdown",
   "id": "f95fb20e",
   "metadata": {},
   "source": [
    "```\n",
    "def home(request):\n",
    "    posts = Post.objects.all()\n",
    "    return render(request, 'blog/home.html', {'posts': posts})\n",
    "```"
   ]
  },
  {
   "cell_type": "markdown",
   "id": "692e432b",
   "metadata": {},
   "source": [
    "Here, we use Post.objects.all() to fetch all the Post objects from the database and pass them as a context variable named 'posts' to the home.html template.\n",
    "\n"
   ]
  },
  {
   "cell_type": "markdown",
   "id": "91cb0fc6",
   "metadata": {},
   "source": [
    "#### In your home.html template, we can loop through the posts and display them. Let's update the template as follows:\n",
    "\n",
    "```\n",
    "{% extends \"blog/base.html\" %}\n",
    "\n",
    "{% block content %}\n",
    "  {% for post in posts %}\n",
    "    <div class=\"card my-3\">\n",
    "      <div class=\"card-body\">\n",
    "        <h5 class=\"card-title\">{{ post.title }}</h5>\n",
    "        <h6 class=\"card-subtitle mb-2 text-muted\">{{ post.author.username }}</h6>\n",
    "        <p class=\"card-text\">{{ post.content }}</p>\n",
    "      </div>\n",
    "    </div>\n",
    "  {% endfor %}\n",
    "{% endblock content %}\n",
    "\n",
    "```"
   ]
  },
  {
   "cell_type": "markdown",
   "id": "b3ba4b44",
   "metadata": {},
   "source": [
    "In this updated template, we use a for loop to iterate over the posts and display the details of each post. The {{ post.title }}, {{ post.author.username }}, and {{ post.content }} are placeholders that will be replaced with the actual data from the Post objects.\n",
    "\n",
    "Now, when you visit the home page, it will display the title, author, and content of each post.\n",
    "\n",
    "Next, let's create the ```post_detail view``` to fetch a specific post based on its primary key <b>(pk)</b>:\n",
    "\n",
    "\n"
   ]
  },
  {
   "cell_type": "markdown",
   "id": "a100bf82",
   "metadata": {},
   "source": [
    "```\n",
    "def post_detail(request, pk):\n",
    "    post = get_object_or_404(Post, pk=pk)\n",
    "    return render(request, 'blog/post_detail.html', {'post': post})\n",
    "```"
   ]
  },
  {
   "cell_type": "markdown",
   "id": "a5c6855c",
   "metadata": {},
   "source": [
    "This post_detail view is slightly different from what we've seen so far. The ```pk``` parameter in the function is used to fetch a specific post. Django automatically captures the number from the URL and passes it as a keyword argument to the view function.\n",
    "\n",
    "The ```get_object_or_404``` function is a handy shortcut that fetches the object for you, given the model and the primary key (pk). If it cannot find the object, it returns a 404 not found error.\n",
    "\n",
    "Next, we need to create a URL pattern for this view. In your urls.py file, add a new path:\n",
    "\n"
   ]
  },
  {
   "cell_type": "markdown",
   "id": "0550124a",
   "metadata": {},
   "source": [
    "```\n",
    "\n",
    "from . import views\n",
    "\n",
    "urlpatterns = [\n",
    "    path('', views.home, name='blog-home'),\n",
    "    path('about/', views.about, name='blog-about'),\n",
    "    path('post/<int:pk>/', views.post_detail, name='post-detail'),\n",
    "]\n",
    "\n",
    "```"
   ]
  },
  {
   "cell_type": "markdown",
   "id": "1bba9c59",
   "metadata": {},
   "source": [
    "### Incorporate Post Model into Templates "
   ]
  },
  {
   "cell_type": "markdown",
   "id": "853ce39e",
   "metadata": {},
   "source": [
    "And a template file called post_detail.html inside the templates/blog directory:\n",
    "\n",
    "```\n",
    "\n",
    "{% extends \"blog/base.html\" %}\n",
    "\n",
    "{% block content %}\n",
    "  <article class=\"media content-section\">\n",
    "    <img class=\"rounded-circle article-img\" src=\"{{ post.author.profile.image.url }}\">\n",
    "    <div class=\"media-body\">\n",
    "      <div class=\"article-metadata\">\n",
    "        <a class=\"mr-2\" href=\"#\">{{ post.author }}</a>\n",
    "        <small class=\"text-muted\">{{ post.date_posted|date:\"F d, Y\" }}</small>\n",
    "      </div>\n",
    "      <h2 class=\"article-title\">{{ post.title }}</h2>\n",
    "      <p class=\"article-content\">{{ post.content }}</p>\n",
    "    </div>\n",
    "  </article>\n",
    "{% endblock content %}\n",
    "\n",
    "\n",
    "\n",
    "```"
   ]
  },
  {
   "cell_type": "markdown",
   "id": "e0883de6",
   "metadata": {},
   "source": [
    "## Step 7. How shall we actually add  (and see) a post? - Django Admin"
   ]
  },
  {
   "cell_type": "markdown",
   "id": "0d25b30c",
   "metadata": {},
   "source": [
    "The Django admin is a powerful built-in feature that provides a user-friendly interface for managing your website's data. It allows you to perform common administrative tasks, such as creating, editing, and deleting records, without having to write custom views or forms.\n",
    "\n"
   ]
  },
  {
   "cell_type": "markdown",
   "id": "87cb4928",
   "metadata": {},
   "source": [
    "#### Using the Django Admin\n",
    "\n",
    "To access the Django admin, you need to log in as a superuser, which is a special account with administrative privileges. Once logged in, you can navigate to the admin interface by appending /admin to the base URL of your website (e.g., http://localhost:8000/admin).\n",
    "\n"
   ]
  },
  {
   "cell_type": "markdown",
   "id": "dcf417ea",
   "metadata": {},
   "source": [
    "In the admin interface, you'll find a dashboard with various sections that correspond to the different apps in your Django project. Each section represents a model registered with the admin site. Clicking on a section will take you to a list view of the records for that model.\n",
    "\n",
    "From the list view, you can perform actions like creating new records, editing existing records, and deleting records. Clicking on a record allows you to view its details and make changes. The admin interface automatically generates forms based on the model's fields, making it easy to input and update data.\n",
    "\n"
   ]
  },
  {
   "cell_type": "markdown",
   "id": "04a3e3df",
   "metadata": {},
   "source": [
    "#### Why it is important\n",
    "\n",
    "- Rapid Development: The admin interface saves time and effort by providing a pre-built and customizable interface for managing data. It eliminates the need to manually create views and forms for basic CRUD (Create, Read, Update, Delete) operations.\n",
    "\n",
    "- Data Management: The admin interface allows authorized users to create, edit, and delete records directly from the website. This is particularly useful for managing content, such as blog posts, articles, or user profiles.\n",
    "\n",
    " - User Permissions: The admin interface includes built-in support for managing user permissions and access control. You can define different user groups and assign specific permissions to restrict or grant access to certain models or actions.\n",
    "\n",
    "- Customization: Django provides extensive customization options for the admin interface. You can define custom admin actions, add filters, create custom views, and modify the look and feel to align with your project's requirements.\n",
    "\n",
    "By leveraging the Django admin, we can efficiently manage and manipulate data without writing repetitive code, providing a better experience for content creators and site admins.\n",
    "\n"
   ]
  },
  {
   "cell_type": "markdown",
   "id": "0d56a48a",
   "metadata": {},
   "source": [
    "### 1. Create a superuser\n",
    "\n",
    "In your terminal, navigate to your project directory and run the following command:\n",
    "\n",
    "\n",
    "```\n",
    "python manage.py createsuperuser\n",
    "\n",
    "\n",
    "```"
   ]
  },
  {
   "cell_type": "markdown",
   "id": "f32bf020",
   "metadata": {},
   "source": [
    "### 2. Access the Django admin: \n",
    "Start your development server by running python manage.py runserver in your terminal. Then, in your web browser, navigate to http://localhost:8000/admin (assuming you're running the development server on the default port).\n",
    "\n",
    "### 3.Log in: \n",
    "Enter the username and password of the superuser account you created in the previous step to log in to the admin interface.\n",
    "\n",
    "### 4. Create a post: \n",
    "In the Django admin interface, you should see a section labeled \"Blog\" or the name of your app. Click on it to access the list of posts. From there, you can click the \"Add\" button to create a new post. Fill in the necessary details (title, content, etc.) and save the post.\n",
    "\n",
    "### 5. Verify the post on your website:\n",
    "Now, if you visit the home page of your website, you should see the newly created post displayed along with any other posts you may have created.\n",
    "\n"
   ]
  },
  {
   "cell_type": "code",
   "execution_count": null,
   "id": "053fc894",
   "metadata": {},
   "outputs": [],
   "source": [
    "Image(url= \"../img/admin.png\")"
   ]
  },
  {
   "cell_type": "markdown",
   "id": "d970bae8",
   "metadata": {},
   "source": [
    "# ToDo Next time"
   ]
  },
  {
   "cell_type": "markdown",
   "id": "30ee1d63",
   "metadata": {},
   "source": [
    "#### 1. Create CommentForm: \n",
    "In our  forms.py file, we will a CommentForm using Django's ModelForm class. This form will allow users to input their comments.\n",
    "\n",
    "#### 2. Update Post Detail View:\n",
    "we will update the post_detail view in views.py to handle the rendering of individual post pages along with their associated comments\n",
    "\n",
    "#### 3. Display Comments in post_detail.html\n",
    "\n",
    "#### 4. Add Comment Submission Form: \n",
    "add the comment submission form to the post_detail.html template\n",
    "Render the CommentForm and include it in the HTML form. Upon form submission, handle the form data in the post_detail view to create and save the comment to the database.\n",
    "\n",
    "#### 5. Update URLs:\n",
    "Update  urls.py file to include the necessary URL patterns for the comment-related views, such as submitting a new comment.\n",
    "\n",
    "#### 7. Styling and Design\n",
    "\n",
    "#### 8. Testing and Refinement\n",
    "\n",
    "#### 9. A word on hosting"
   ]
  }
 ],
 "metadata": {
  "kernelspec": {
   "display_name": "Python 3 (ipykernel)",
   "language": "python",
   "name": "python3"
  },
  "language_info": {
   "codemirror_mode": {
    "name": "ipython",
    "version": 3
   },
   "file_extension": ".py",
   "mimetype": "text/x-python",
   "name": "python",
   "nbconvert_exporter": "python",
   "pygments_lexer": "ipython3",
   "version": "3.9.13"
  }
 },
 "nbformat": 4,
 "nbformat_minor": 5
}
