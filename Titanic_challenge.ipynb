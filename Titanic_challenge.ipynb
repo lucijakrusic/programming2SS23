{
 "cells": [
  {
   "cell_type": "code",
   "execution_count": 1,
   "id": "0f82b291",
   "metadata": {},
   "outputs": [],
   "source": [
    "from IPython.display import Image\n",
    "from IPython.core.display import HTML "
   ]
  },
  {
   "cell_type": "markdown",
   "id": "df130eaf",
   "metadata": {},
   "source": [
    "## Where to find data?\n",
    "- in the wild (scraping websites, Twitter, GAMS, etc)\n",
    "- for practice - Kaggle (https://www.kaggle.com/datasets)\n",
    "\n",
    "Kaggle is a really useful service where you can find data to play with and Notebooks to take inspiration and learn from. \n",
    "It also offers ML models you can try out and a community of people with data science interests.\n",
    "\n",
    "You can also form groups and solve dataset issues to win competitions (sometimes with cash prizes) - https://www.kaggle.com/competitions.\n",
    "\n",
    "Let's try out one of the intro-level challenges that already has a bunch of submissions - the Titanic dataset challenge (https://www.kaggle.com/competitions/titanic/overview/description). Kaggle has its own API that you can use to easily download the data.\n",
    "\n",
    "Let's install the Kaggle library. People who have Anaconda can do it easily through the naviagtor, otherwise:\n",
    "\n",
    "```\n",
    "$pip install kaggle\n",
    "\n",
    "```\n",
    "\n",
    "or \n",
    "\n",
    "```\n",
    "conda install -c conda-forge kaggle\n",
    "\n",
    "\n",
    "```\n",
    "\n",
    "Documentation:\n",
    "- https://github.com/Kaggle/kaggle-api\n",
    "- https://anaconda.org/conda-forge/kaggle\n"
   ]
  },
  {
   "cell_type": "code",
   "execution_count": 2,
   "id": "35809305",
   "metadata": {},
   "outputs": [],
   "source": [
    "import kaggle\n"
   ]
  },
  {
   "cell_type": "markdown",
   "id": "be46d6ef",
   "metadata": {},
   "source": [
    "To be able to import this libary, you also need to create a user account, get your 'kaggle.json' file and place it under C:/Users/{username}/.kaggle.\n",
    "\n",
    "More on how to do that here: https://github.com/Kaggle/kaggle-api"
   ]
  },
  {
   "cell_type": "code",
   "execution_count": 3,
   "id": "411b1b03",
   "metadata": {},
   "outputs": [
    {
     "name": "stdout",
     "output_type": "stream",
     "text": [
      "ref                                                       title                                          size  lastUpdated          downloadCount  voteCount  usabilityRating  \n",
      "--------------------------------------------------------  --------------------------------------------  -----  -------------------  -------------  ---------  ---------------  \n",
      "b'arnabchaki/data-science-salaries-2023                     Data Science Salaries 2023 \\xf0\\x9f\\x92\\xb8                   25KB  2023-04-13 09:55:16          19976        558  1.0              '\n",
      "fatihb/coffee-quality-data-cqi                            Coffee Quality Data (CQI May-2023)             22KB  2023-05-12 13:06:39           1609         46  1.0              \n",
      "ashpalsingh1525/imdb-movies-dataset                       IMDB movies dataset                             3MB  2023-04-28 23:18:15           2216         46  1.0              \n",
      "iammustafatz/diabetes-prediction-dataset                  Diabetes prediction dataset                   734KB  2023-04-08 06:11:45          10330        150  1.0              \n",
      "utkarshx27/inflation-rate-in-asia                         Inflation Rate in Asia                          3KB  2023-05-13 17:41:29            842         29  1.0              \n",
      "radheshyamkollipara/bank-customer-churn                   Bank Customer Churn                           307KB  2023-04-28 16:32:01           2143         36  1.0              \n",
      "desalegngeb/students-exam-scores                          Students Exam Scores: Extended Dataset        695KB  2023-04-14 00:15:38           8226        157  1.0              \n",
      "chitrakumari25/corona-virus-latest-data-2023              Corona virus latest data 2023                  10KB  2023-04-29 16:00:51           2164         53  1.0              \n",
      "b'omarsobhy14/university-students-complaints-and-reports    University Students Complaints & Reports\\xf0\\x9f\\x93\\x9d\\xf0\\x9f\\x91\\xa8\\xe2\\x80\\x8d\\xf0\\x9f\\x8e\\x93   38KB  2023-05-12 19:46:45            765         31  1.0              '\n",
      "utkarshx27/starbucks-nutrition                            Starbucks Nutrition Facts                       2KB  2023-05-10 05:42:59           1565         45  1.0              \n",
      "utkarshx27/survey-of-labour-and-income-dynamics           Survey of Labour and Income Dynamics           54KB  2023-05-07 08:00:47            686         22  1.0              \n",
      "rajkumarpandey02/rainfall-in-all-india-dataset-1901-2016  Rainfall in All India Dataset 1901-2016         3KB  2023-05-18 05:45:59            424         29  1.0              \n",
      "faisaljanjua0555/best-video-games-of-all-time             Best Video Games of All Time                   24KB  2023-05-14 19:44:10            876         36  0.7058824        \n",
      "utkarshx27/world-gdp-growth-1980-2028                     World GDP growth 1980-2028                     53KB  2023-05-13 17:54:00            929         31  0.88235295       \n",
      "utkarshx27/global-poverty-and-inequality-dataset          Global poverty and inequality dataset           4MB  2023-05-12 17:25:45            918         28  0.9411765        \n",
      "ursmaheshj/top-10000-popular-movies-tmdb-05-2023          Top 10000 popular Movies TMDB                   2MB  2023-05-09 13:43:53            966         33  1.0              \n",
      "gyaswanth297/world-population-insights-1970-2022          World Population Insights: 1970-2022           16KB  2023-05-16 16:25:59            889         29  0.88235295       \n",
      "sougatapramanick/happiness-index-2018-2019                Happiness Index 2018-2019                      15KB  2023-04-14 12:01:03           3944         64  1.0              \n",
      "utkarshx27/non-alcohol-fatty-liver-disease                Non-alcohol fatty liver disease (NAFLD)         3MB  2023-05-09 11:22:22            870         33  1.0              \n",
      "ahmedshahriarsakib/usa-real-estate-dataset                USA Real Estate Dataset                         2MB  2023-05-18 03:36:35           2548         60  1.0              \n"
     ]
    }
   ],
   "source": [
    " ! kaggle datasets list"
   ]
  },
  {
   "cell_type": "code",
   "execution_count": 4,
   "id": "6ae327a7",
   "metadata": {},
   "outputs": [],
   "source": [
    "import os\n"
   ]
  },
  {
   "cell_type": "code",
   "execution_count": 5,
   "id": "8ac7cd22",
   "metadata": {},
   "outputs": [
    {
     "name": "stdout",
     "output_type": "stream",
     "text": [
      "C:\\Users\\krusic\\Documents\\GitHub\\programming2SS23\\data\n"
     ]
    }
   ],
   "source": [
    "%cd data\n"
   ]
  },
  {
   "cell_type": "code",
   "execution_count": 6,
   "id": "075c1652",
   "metadata": {},
   "outputs": [
    {
     "name": "stderr",
     "output_type": "stream",
     "text": [
      "A subdirectory or file Titanic already exists.\n"
     ]
    }
   ],
   "source": [
    "%mkdir Titanic"
   ]
  },
  {
   "cell_type": "code",
   "execution_count": 7,
   "id": "046e0305",
   "metadata": {},
   "outputs": [
    {
     "name": "stdout",
     "output_type": "stream",
     "text": [
      "C:\\Users\\krusic\\Documents\\GitHub\\programming2SS23\\data\\Titanic\n"
     ]
    }
   ],
   "source": [
    "%cd Titanic"
   ]
  },
  {
   "cell_type": "code",
   "execution_count": 8,
   "id": "2c143055",
   "metadata": {},
   "outputs": [
    {
     "name": "stdout",
     "output_type": "stream",
     "text": [
      "titanic.zip: Skipping, found more recently modified local copy (use --force to force download)\n"
     ]
    }
   ],
   "source": [
    "! kaggle competitions download -c titanic"
   ]
  },
  {
   "cell_type": "markdown",
   "id": "d71d85dd",
   "metadata": {},
   "source": [
    "Now we have our data, let's unzip it and check what is there. There should be a train and test set which we will use to build our models on. \n",
    "\n",
    "The train set (the ground truth set) contains the outcome for each passender of the titanic (whether they survived or not) and has features such as gender and passenger class. For the test set, it' s our job to build a model to predict whether they survived or died on the Titanic.\n",
    "\n",
    "The gender_submissions.csv is a set of predictions that serves an example of what the competition submission file should look like. More info on: https://www.kaggle.com/competitions/titanic/data"
   ]
  },
  {
   "cell_type": "code",
   "execution_count": 9,
   "id": "94c0eb7f",
   "metadata": {},
   "outputs": [],
   "source": [
    "import pandas as pd\n",
    "import numpy as np\n",
    "import sklearn\n",
    "\n",
    "from sklearn.preprocessing import StandardScaler, MinMaxScaler, LabelBinarizer\n",
    "from sklearn.svm import SVC\n",
    "from sklearn.preprocessing import OneHotEncoder, LabelEncoder\n"
   ]
  },
  {
   "cell_type": "code",
   "execution_count": 10,
   "id": "31e47646",
   "metadata": {},
   "outputs": [],
   "source": [
    "import plotly.graph_objects as go\n",
    "import plotly.express as px\n",
    "import matplotlib.pyplot as plt\n",
    "\n",
    "import seaborn as sns"
   ]
  },
  {
   "cell_type": "code",
   "execution_count": 11,
   "id": "8357b773",
   "metadata": {},
   "outputs": [
    {
     "data": {
      "text/html": [
       "<div>\n",
       "<style scoped>\n",
       "    .dataframe tbody tr th:only-of-type {\n",
       "        vertical-align: middle;\n",
       "    }\n",
       "\n",
       "    .dataframe tbody tr th {\n",
       "        vertical-align: top;\n",
       "    }\n",
       "\n",
       "    .dataframe thead th {\n",
       "        text-align: right;\n",
       "    }\n",
       "</style>\n",
       "<table border=\"1\" class=\"dataframe\">\n",
       "  <thead>\n",
       "    <tr style=\"text-align: right;\">\n",
       "      <th></th>\n",
       "      <th>PassengerId</th>\n",
       "      <th>Survived</th>\n",
       "      <th>Pclass</th>\n",
       "      <th>Name</th>\n",
       "      <th>Sex</th>\n",
       "      <th>Age</th>\n",
       "      <th>SibSp</th>\n",
       "      <th>Parch</th>\n",
       "      <th>Ticket</th>\n",
       "      <th>Fare</th>\n",
       "      <th>Cabin</th>\n",
       "      <th>Embarked</th>\n",
       "    </tr>\n",
       "  </thead>\n",
       "  <tbody>\n",
       "    <tr>\n",
       "      <th>0</th>\n",
       "      <td>1</td>\n",
       "      <td>0</td>\n",
       "      <td>3</td>\n",
       "      <td>Braund, Mr. Owen Harris</td>\n",
       "      <td>male</td>\n",
       "      <td>22.0</td>\n",
       "      <td>1</td>\n",
       "      <td>0</td>\n",
       "      <td>A/5 21171</td>\n",
       "      <td>7.2500</td>\n",
       "      <td>NaN</td>\n",
       "      <td>S</td>\n",
       "    </tr>\n",
       "    <tr>\n",
       "      <th>1</th>\n",
       "      <td>2</td>\n",
       "      <td>1</td>\n",
       "      <td>1</td>\n",
       "      <td>Cumings, Mrs. John Bradley (Florence Briggs Th...</td>\n",
       "      <td>female</td>\n",
       "      <td>38.0</td>\n",
       "      <td>1</td>\n",
       "      <td>0</td>\n",
       "      <td>PC 17599</td>\n",
       "      <td>71.2833</td>\n",
       "      <td>C85</td>\n",
       "      <td>C</td>\n",
       "    </tr>\n",
       "    <tr>\n",
       "      <th>2</th>\n",
       "      <td>3</td>\n",
       "      <td>1</td>\n",
       "      <td>3</td>\n",
       "      <td>Heikkinen, Miss. Laina</td>\n",
       "      <td>female</td>\n",
       "      <td>26.0</td>\n",
       "      <td>0</td>\n",
       "      <td>0</td>\n",
       "      <td>STON/O2. 3101282</td>\n",
       "      <td>7.9250</td>\n",
       "      <td>NaN</td>\n",
       "      <td>S</td>\n",
       "    </tr>\n",
       "    <tr>\n",
       "      <th>3</th>\n",
       "      <td>4</td>\n",
       "      <td>1</td>\n",
       "      <td>1</td>\n",
       "      <td>Futrelle, Mrs. Jacques Heath (Lily May Peel)</td>\n",
       "      <td>female</td>\n",
       "      <td>35.0</td>\n",
       "      <td>1</td>\n",
       "      <td>0</td>\n",
       "      <td>113803</td>\n",
       "      <td>53.1000</td>\n",
       "      <td>C123</td>\n",
       "      <td>S</td>\n",
       "    </tr>\n",
       "    <tr>\n",
       "      <th>4</th>\n",
       "      <td>5</td>\n",
       "      <td>0</td>\n",
       "      <td>3</td>\n",
       "      <td>Allen, Mr. William Henry</td>\n",
       "      <td>male</td>\n",
       "      <td>35.0</td>\n",
       "      <td>0</td>\n",
       "      <td>0</td>\n",
       "      <td>373450</td>\n",
       "      <td>8.0500</td>\n",
       "      <td>NaN</td>\n",
       "      <td>S</td>\n",
       "    </tr>\n",
       "  </tbody>\n",
       "</table>\n",
       "</div>"
      ],
      "text/plain": [
       "   PassengerId  Survived  Pclass  \\\n",
       "0            1         0       3   \n",
       "1            2         1       1   \n",
       "2            3         1       3   \n",
       "3            4         1       1   \n",
       "4            5         0       3   \n",
       "\n",
       "                                                Name     Sex   Age  SibSp  \\\n",
       "0                            Braund, Mr. Owen Harris    male  22.0      1   \n",
       "1  Cumings, Mrs. John Bradley (Florence Briggs Th...  female  38.0      1   \n",
       "2                             Heikkinen, Miss. Laina  female  26.0      0   \n",
       "3       Futrelle, Mrs. Jacques Heath (Lily May Peel)  female  35.0      1   \n",
       "4                           Allen, Mr. William Henry    male  35.0      0   \n",
       "\n",
       "   Parch            Ticket     Fare Cabin Embarked  \n",
       "0      0         A/5 21171   7.2500   NaN        S  \n",
       "1      0          PC 17599  71.2833   C85        C  \n",
       "2      0  STON/O2. 3101282   7.9250   NaN        S  \n",
       "3      0            113803  53.1000  C123        S  \n",
       "4      0            373450   8.0500   NaN        S  "
      ]
     },
     "execution_count": 11,
     "metadata": {},
     "output_type": "execute_result"
    }
   ],
   "source": [
    "train_data = pd.read_csv(\"titanic/train.csv\")\n",
    "train_data.head()"
   ]
  },
  {
   "cell_type": "code",
   "execution_count": 12,
   "id": "2bdd32b8",
   "metadata": {},
   "outputs": [
    {
     "data": {
      "text/plain": [
       "(891, 12)"
      ]
     },
     "execution_count": 12,
     "metadata": {},
     "output_type": "execute_result"
    }
   ],
   "source": [
    "train_data.shape"
   ]
  },
  {
   "cell_type": "code",
   "execution_count": 13,
   "id": "27bef898",
   "metadata": {},
   "outputs": [
    {
     "data": {
      "text/html": [
       "<div>\n",
       "<style scoped>\n",
       "    .dataframe tbody tr th:only-of-type {\n",
       "        vertical-align: middle;\n",
       "    }\n",
       "\n",
       "    .dataframe tbody tr th {\n",
       "        vertical-align: top;\n",
       "    }\n",
       "\n",
       "    .dataframe thead th {\n",
       "        text-align: right;\n",
       "    }\n",
       "</style>\n",
       "<table border=\"1\" class=\"dataframe\">\n",
       "  <thead>\n",
       "    <tr style=\"text-align: right;\">\n",
       "      <th></th>\n",
       "      <th>PassengerId</th>\n",
       "      <th>Pclass</th>\n",
       "      <th>Name</th>\n",
       "      <th>Sex</th>\n",
       "      <th>Age</th>\n",
       "      <th>SibSp</th>\n",
       "      <th>Parch</th>\n",
       "      <th>Ticket</th>\n",
       "      <th>Fare</th>\n",
       "      <th>Cabin</th>\n",
       "      <th>Embarked</th>\n",
       "    </tr>\n",
       "  </thead>\n",
       "  <tbody>\n",
       "    <tr>\n",
       "      <th>0</th>\n",
       "      <td>892</td>\n",
       "      <td>3</td>\n",
       "      <td>Kelly, Mr. James</td>\n",
       "      <td>male</td>\n",
       "      <td>34.5</td>\n",
       "      <td>0</td>\n",
       "      <td>0</td>\n",
       "      <td>330911</td>\n",
       "      <td>7.8292</td>\n",
       "      <td>NaN</td>\n",
       "      <td>Q</td>\n",
       "    </tr>\n",
       "    <tr>\n",
       "      <th>1</th>\n",
       "      <td>893</td>\n",
       "      <td>3</td>\n",
       "      <td>Wilkes, Mrs. James (Ellen Needs)</td>\n",
       "      <td>female</td>\n",
       "      <td>47.0</td>\n",
       "      <td>1</td>\n",
       "      <td>0</td>\n",
       "      <td>363272</td>\n",
       "      <td>7.0000</td>\n",
       "      <td>NaN</td>\n",
       "      <td>S</td>\n",
       "    </tr>\n",
       "    <tr>\n",
       "      <th>2</th>\n",
       "      <td>894</td>\n",
       "      <td>2</td>\n",
       "      <td>Myles, Mr. Thomas Francis</td>\n",
       "      <td>male</td>\n",
       "      <td>62.0</td>\n",
       "      <td>0</td>\n",
       "      <td>0</td>\n",
       "      <td>240276</td>\n",
       "      <td>9.6875</td>\n",
       "      <td>NaN</td>\n",
       "      <td>Q</td>\n",
       "    </tr>\n",
       "    <tr>\n",
       "      <th>3</th>\n",
       "      <td>895</td>\n",
       "      <td>3</td>\n",
       "      <td>Wirz, Mr. Albert</td>\n",
       "      <td>male</td>\n",
       "      <td>27.0</td>\n",
       "      <td>0</td>\n",
       "      <td>0</td>\n",
       "      <td>315154</td>\n",
       "      <td>8.6625</td>\n",
       "      <td>NaN</td>\n",
       "      <td>S</td>\n",
       "    </tr>\n",
       "    <tr>\n",
       "      <th>4</th>\n",
       "      <td>896</td>\n",
       "      <td>3</td>\n",
       "      <td>Hirvonen, Mrs. Alexander (Helga E Lindqvist)</td>\n",
       "      <td>female</td>\n",
       "      <td>22.0</td>\n",
       "      <td>1</td>\n",
       "      <td>1</td>\n",
       "      <td>3101298</td>\n",
       "      <td>12.2875</td>\n",
       "      <td>NaN</td>\n",
       "      <td>S</td>\n",
       "    </tr>\n",
       "    <tr>\n",
       "      <th>5</th>\n",
       "      <td>897</td>\n",
       "      <td>3</td>\n",
       "      <td>Svensson, Mr. Johan Cervin</td>\n",
       "      <td>male</td>\n",
       "      <td>14.0</td>\n",
       "      <td>0</td>\n",
       "      <td>0</td>\n",
       "      <td>7538</td>\n",
       "      <td>9.2250</td>\n",
       "      <td>NaN</td>\n",
       "      <td>S</td>\n",
       "    </tr>\n",
       "    <tr>\n",
       "      <th>6</th>\n",
       "      <td>898</td>\n",
       "      <td>3</td>\n",
       "      <td>Connolly, Miss. Kate</td>\n",
       "      <td>female</td>\n",
       "      <td>30.0</td>\n",
       "      <td>0</td>\n",
       "      <td>0</td>\n",
       "      <td>330972</td>\n",
       "      <td>7.6292</td>\n",
       "      <td>NaN</td>\n",
       "      <td>Q</td>\n",
       "    </tr>\n",
       "    <tr>\n",
       "      <th>7</th>\n",
       "      <td>899</td>\n",
       "      <td>2</td>\n",
       "      <td>Caldwell, Mr. Albert Francis</td>\n",
       "      <td>male</td>\n",
       "      <td>26.0</td>\n",
       "      <td>1</td>\n",
       "      <td>1</td>\n",
       "      <td>248738</td>\n",
       "      <td>29.0000</td>\n",
       "      <td>NaN</td>\n",
       "      <td>S</td>\n",
       "    </tr>\n",
       "    <tr>\n",
       "      <th>8</th>\n",
       "      <td>900</td>\n",
       "      <td>3</td>\n",
       "      <td>Abrahim, Mrs. Joseph (Sophie Halaut Easu)</td>\n",
       "      <td>female</td>\n",
       "      <td>18.0</td>\n",
       "      <td>0</td>\n",
       "      <td>0</td>\n",
       "      <td>2657</td>\n",
       "      <td>7.2292</td>\n",
       "      <td>NaN</td>\n",
       "      <td>C</td>\n",
       "    </tr>\n",
       "    <tr>\n",
       "      <th>9</th>\n",
       "      <td>901</td>\n",
       "      <td>3</td>\n",
       "      <td>Davies, Mr. John Samuel</td>\n",
       "      <td>male</td>\n",
       "      <td>21.0</td>\n",
       "      <td>2</td>\n",
       "      <td>0</td>\n",
       "      <td>A/4 48871</td>\n",
       "      <td>24.1500</td>\n",
       "      <td>NaN</td>\n",
       "      <td>S</td>\n",
       "    </tr>\n",
       "  </tbody>\n",
       "</table>\n",
       "</div>"
      ],
      "text/plain": [
       "   PassengerId  Pclass                                          Name     Sex  \\\n",
       "0          892       3                              Kelly, Mr. James    male   \n",
       "1          893       3              Wilkes, Mrs. James (Ellen Needs)  female   \n",
       "2          894       2                     Myles, Mr. Thomas Francis    male   \n",
       "3          895       3                              Wirz, Mr. Albert    male   \n",
       "4          896       3  Hirvonen, Mrs. Alexander (Helga E Lindqvist)  female   \n",
       "5          897       3                    Svensson, Mr. Johan Cervin    male   \n",
       "6          898       3                          Connolly, Miss. Kate  female   \n",
       "7          899       2                  Caldwell, Mr. Albert Francis    male   \n",
       "8          900       3     Abrahim, Mrs. Joseph (Sophie Halaut Easu)  female   \n",
       "9          901       3                       Davies, Mr. John Samuel    male   \n",
       "\n",
       "    Age  SibSp  Parch     Ticket     Fare Cabin Embarked  \n",
       "0  34.5      0      0     330911   7.8292   NaN        Q  \n",
       "1  47.0      1      0     363272   7.0000   NaN        S  \n",
       "2  62.0      0      0     240276   9.6875   NaN        Q  \n",
       "3  27.0      0      0     315154   8.6625   NaN        S  \n",
       "4  22.0      1      1    3101298  12.2875   NaN        S  \n",
       "5  14.0      0      0       7538   9.2250   NaN        S  \n",
       "6  30.0      0      0     330972   7.6292   NaN        Q  \n",
       "7  26.0      1      1     248738  29.0000   NaN        S  \n",
       "8  18.0      0      0       2657   7.2292   NaN        C  \n",
       "9  21.0      2      0  A/4 48871  24.1500   NaN        S  "
      ]
     },
     "execution_count": 13,
     "metadata": {},
     "output_type": "execute_result"
    }
   ],
   "source": [
    "test_data = pd.read_csv(\"titanic/test.csv\")\n",
    "test_data.head(10)"
   ]
  },
  {
   "cell_type": "code",
   "execution_count": 14,
   "id": "121c2f51",
   "metadata": {},
   "outputs": [
    {
     "data": {
      "text/plain": [
       "(418, 11)"
      ]
     },
     "execution_count": 14,
     "metadata": {},
     "output_type": "execute_result"
    }
   ],
   "source": [
    "test_data.shape"
   ]
  },
  {
   "cell_type": "markdown",
   "id": "a291fdd9",
   "metadata": {},
   "source": [
    "## EDA (Exploratory data analysis)"
   ]
  },
  {
   "cell_type": "markdown",
   "id": "fa9c0074",
   "metadata": {},
   "source": [
    "The Titanic competition also has a data dictionary, which explains the columns that make up the data set. Below are the descriptions contained in that data dictionary:\n"
   ]
  },
  {
   "cell_type": "markdown",
   "id": "ddea1fba",
   "metadata": {},
   "source": [
    "\n",
    "| Column      | Description                                                                               |\n",
    "|-------------|-------------------------------------------------------------------------------------------|\n",
    "| PassengerID | A column added by Kaggle to identify each row and make submissions easier                 |\n",
    "| Survived    | Whether the passenger survived or not and the value we are predicting (0=No, 1=Yes)       |\n",
    "| Pclass      | The class of the ticket the passenger purchased (1=1st, 2=2nd, 3=3rd)                     |\n",
    "| Sex         | The passenger's sex                                                                       |\n",
    "| Age         | The passenger's age in years                                                              |\n",
    "| SibSp       | The number of siblings or spouses the passenger had aboard the Titanic                    |\n",
    "| Parch       | The number of parents or children the passenger had aboard the Titanic                    |\n",
    "| Ticket      | The passenger's ticket number                                                             |\n",
    "| Fare        | The fare the passenger paid                                                               |\n",
    "| Cabin       | The passenger's cabin number                                                              |\n",
    "| Embarked    | The port where the passenger embarked (C=Cherbourg, Q=Queenstown, S=Southampton)          |\n",
    "\n"
   ]
  },
  {
   "cell_type": "markdown",
   "id": "af5ca7b5",
   "metadata": {},
   "source": [
    "#### How many null values?"
   ]
  },
  {
   "cell_type": "code",
   "execution_count": 15,
   "id": "7f79a7c9",
   "metadata": {},
   "outputs": [
    {
     "data": {
      "text/plain": [
       "PassengerId      0\n",
       "Survived         0\n",
       "Pclass           0\n",
       "Name             0\n",
       "Sex              0\n",
       "Age            177\n",
       "SibSp            0\n",
       "Parch            0\n",
       "Ticket           0\n",
       "Fare             0\n",
       "Cabin          687\n",
       "Embarked         2\n",
       "dtype: int64"
      ]
     },
     "execution_count": 15,
     "metadata": {},
     "output_type": "execute_result"
    }
   ],
   "source": [
    "train_data.isnull().sum()"
   ]
  },
  {
   "cell_type": "code",
   "execution_count": null,
   "id": "60ed5b42",
   "metadata": {},
   "outputs": [],
   "source": [
    "test_data.isnull().sum()"
   ]
  },
  {
   "cell_type": "markdown",
   "id": "98a5e5e1",
   "metadata": {},
   "source": [
    "#### Data types?"
   ]
  },
  {
   "cell_type": "code",
   "execution_count": null,
   "id": "18aef839",
   "metadata": {},
   "outputs": [],
   "source": [
    "train_data.dtypes"
   ]
  },
  {
   "cell_type": "code",
   "execution_count": null,
   "id": "34d743ee",
   "metadata": {},
   "outputs": [],
   "source": [
    "train_data.describe()"
   ]
  },
  {
   "cell_type": "markdown",
   "id": "0c516ba9",
   "metadata": {},
   "source": [
    "### How many people survived?"
   ]
  },
  {
   "cell_type": "code",
   "execution_count": null,
   "id": "1c821c04",
   "metadata": {},
   "outputs": [],
   "source": [
    "train_data['Survived'].value_counts().plot(kind='pie')"
   ]
  },
  {
   "cell_type": "markdown",
   "id": "04749821",
   "metadata": {},
   "source": [
    "### How many people is there per class?"
   ]
  },
  {
   "cell_type": "code",
   "execution_count": null,
   "id": "bd80f8b0",
   "metadata": {},
   "outputs": [],
   "source": [
    "train_data['Pclass'].value_counts().plot(kind='pie')"
   ]
  },
  {
   "cell_type": "markdown",
   "id": "917a8438",
   "metadata": {},
   "source": [
    "### How many women survived and how many men survived in our training set?"
   ]
  },
  {
   "cell_type": "code",
   "execution_count": null,
   "id": "4d0c44c4",
   "metadata": {},
   "outputs": [],
   "source": [
    "sex_survived = train_data.groupby(['Sex','Survived'])['Survived'].count()\n",
    "sex_survived"
   ]
  },
  {
   "cell_type": "code",
   "execution_count": null,
   "id": "ca0dcabc",
   "metadata": {},
   "outputs": [],
   "source": [
    "sex_survived.plot(kind=\"bar\")"
   ]
  },
  {
   "cell_type": "markdown",
   "id": "b938e155",
   "metadata": {},
   "source": [
    "### How many people from different classes survived? (Did the wealthy have a higher chance of survival?)\n"
   ]
  },
  {
   "cell_type": "code",
   "execution_count": null,
   "id": "d14bad9c",
   "metadata": {},
   "outputs": [],
   "source": [
    "pd.crosstab([train_data.Sex,train_data.Survived],train_data.Pclass,margins=True).style.background_gradient(cmap='summer_r')\n"
   ]
  },
  {
   "cell_type": "markdown",
   "id": "a129d2c6",
   "metadata": {},
   "source": [
    "### How many prople survived depending on age?\n"
   ]
  },
  {
   "cell_type": "code",
   "execution_count": null,
   "id": "e3100970",
   "metadata": {},
   "outputs": [],
   "source": [
    "print('Oldest Passenger was of:',train_data['Age'].max(),'Years')\n",
    "print('Youngest Passenger was of:',train_data['Age'].min(),'Years')\n",
    "print('Average Age on the ship:',train_data['Age'].mean(),'Years')\n"
   ]
  },
  {
   "cell_type": "code",
   "execution_count": null,
   "id": "e8017605",
   "metadata": {},
   "outputs": [],
   "source": [
    "df = px.data.tips()\n",
    "fig = px.violin(train_data, y=\"Age\", x=\"Survived\", color=\"Sex\", box=True, points=\"all\",\n",
    "          hover_data=train_data.columns)\n",
    "fig.show()"
   ]
  },
  {
   "cell_type": "markdown",
   "id": "0d4eb3a6",
   "metadata": {},
   "source": [
    "### Correlations?"
   ]
  },
  {
   "cell_type": "code",
   "execution_count": null,
   "id": "a24c2795",
   "metadata": {},
   "outputs": [],
   "source": [
    "# look at numeric and categorical values separately \n",
    "train_num = train_data[['Age','SibSp','Parch','Fare']]\n",
    "train_cat = train_data[['Survived','Pclass','Sex','Ticket','Cabin','Embarked']]"
   ]
  },
  {
   "cell_type": "code",
   "execution_count": null,
   "id": "801099f8",
   "metadata": {},
   "outputs": [],
   "source": [
    "print(train_num.corr())\n",
    "sns.heatmap(train_num.corr(),annot=True)"
   ]
  },
  {
   "cell_type": "markdown",
   "id": "64115e87",
   "metadata": {},
   "source": [
    "## Predict who's going to survive the Titanic disaster"
   ]
  },
  {
   "cell_type": "markdown",
   "id": "1d618801",
   "metadata": {},
   "source": [
    "In this tutorial, we're going to use two algorithms. One that we already know (Linear Regression) and one that we're going to learn about now."
   ]
  },
  {
   "cell_type": "markdown",
   "id": "4c301bf2",
   "metadata": {},
   "source": [
    "## Clean data (NaN values)"
   ]
  },
  {
   "cell_type": "markdown",
   "id": "3a40d01c",
   "metadata": {},
   "source": [
    "We have a lot of Nans in the Ticket and Cabin columns, and By dropping features we are dealing with fewer data points. Speeds up our notebook and eases the analysis.\n"
   ]
  },
  {
   "cell_type": "code",
   "execution_count": null,
   "id": "bbe0093d",
   "metadata": {},
   "outputs": [],
   "source": [
    "train_data = train_data.drop(['Ticket', 'Cabin'], axis=1)\n",
    "test_data = test_data.drop(['Ticket', 'Cabin'], axis=1)\n"
   ]
  },
  {
   "cell_type": "code",
   "execution_count": null,
   "id": "660e4e28",
   "metadata": {},
   "outputs": [],
   "source": [
    "train_data['Age'].fillna(train_data['Age'].median(), inplace = True)\n",
    "test_data['Age'].fillna(test_data['Age'].median(), inplace = True)"
   ]
  },
  {
   "cell_type": "code",
   "execution_count": null,
   "id": "5032813d",
   "metadata": {},
   "outputs": [],
   "source": [
    "train_data['Embarked'].fillna(train_data['Embarked'].mode()[0], inplace = True)\n",
    "test_data['Embarked'].fillna(test_data['Embarked'].mode()[0], inplace = True)\n"
   ]
  },
  {
   "cell_type": "code",
   "execution_count": null,
   "id": "6ed009d4",
   "metadata": {},
   "outputs": [],
   "source": [
    "train_data['Fare'].fillna(train_data['Fare'].median(), inplace = True)\n",
    "test_data['Fare'].fillna(test_data['Fare'].median(), inplace = True)\n"
   ]
  },
  {
   "cell_type": "markdown",
   "id": "5d2126b2",
   "metadata": {},
   "source": [
    "### Feature Engineering\n",
    "Here we will try to make new features by analysing the existing features. This will increase our model efficiency and performance.\n",
    "\n"
   ]
  },
  {
   "cell_type": "code",
   "execution_count": null,
   "id": "c581a359",
   "metadata": {},
   "outputs": [],
   "source": [
    "# Here the train and test dataset are stored in a list so that we dont have to manipulate both one by one\n",
    "data_cleaner = [train_data, test_data]\n"
   ]
  },
  {
   "cell_type": "code",
   "execution_count": null,
   "id": "8e3242e6",
   "metadata": {},
   "outputs": [],
   "source": [
    "###CREATE: Feature Engineering for train and test/validation dataset\n",
    "for dataset in data_cleaner:    \n",
    "        \n",
    "    \n",
    "    #Discrete variables - creates a family size with no. of siblings , spouse , parents or children.\n",
    "    dataset['FamilySize'] = dataset ['SibSp'] + dataset['Parch'] + 1\n",
    "\n",
    "    dataset['IsAlone'] = 1 #initialize to yes/1 is alone\n",
    "    dataset['IsAlone'].loc[dataset['FamilySize'] > 1] = 0 # now update to no/0 if family size is greater than 1\n",
    "\n",
    "    #quick and dirty code split title from name: http://www.pythonforbeginners.com/dictionary/python-split\n",
    "    #This will store the title of each person from its 'Name'.\n",
    "    dataset['Title'] = dataset['Name'].str.split(\", \", expand=True)[1].str.split(\".\", expand=True)[0]\n",
    "\n",
    "\n",
    "    #Continuous variable bins; qcut vs cut: https://stackoverflow.com/questions/30211923/what-is-the-difference-between-pandas-qcut-and-pandas-cut\n",
    "    #Fare Bins/Buckets using qcut or frequency bins: https://pandas.pydata.org/pandas-docs/stable/generated/pandas.qcut.html\n",
    "    #This will create a Fare Slab according to no. provided. In our case we want '4' Fare Slab.\n",
    "    dataset['FareBin'] = pd.qcut(dataset['Fare'], 4)\n",
    "\n",
    "    \n",
    "    #Age Bins/Buckets using cut or value bins: https://pandas.pydata.org/pandas-docs/stable/generated/pandas.cut.html\n",
    "    #Same goes with here, we will have 6 Age categories.\n",
    "    dataset['AgeBin'] = pd.cut(dataset['Age'].astype(int), 6)\n",
    "\n"
   ]
  },
  {
   "cell_type": "code",
   "execution_count": null,
   "id": "9a0e83d8",
   "metadata": {},
   "outputs": [],
   "source": [
    "train_data.head()"
   ]
  },
  {
   "cell_type": "code",
   "execution_count": null,
   "id": "2fec1af3",
   "metadata": {},
   "outputs": [],
   "source": [
    "\n",
    "print(test_data['Title'].value_counts())\n"
   ]
  },
  {
   "cell_type": "markdown",
   "id": "bb014d13",
   "metadata": {},
   "source": [
    "This will make a group of those titles which are less than 10 as 'Misc' column.\n",
    "\n"
   ]
  },
  {
   "cell_type": "code",
   "execution_count": null,
   "id": "e7b791e9",
   "metadata": {},
   "outputs": [],
   "source": [
    "#cleanup rare title names\n",
    "#print(data1['Title'].value_counts())\n",
    "stat_min = 10 #while small is arbitrary, we'll use the common minimum in statistics: http://nicholasjjackson.com/2012/03/08/sample-size-is-10-a-magic-number/\n",
    "title_names = (train_data['Title'].value_counts() < stat_min) #this will create a true false series with title name as index\n",
    "\n",
    "#apply and lambda functions are quick and dirty code to find and replace with fewer lines of code: https://community.modeanalytics.com/python/tutorial/pandas-groupby-and-python-lambda-functions/\n",
    "train_data['Title'] = train_data['Title'].apply(lambda x: 'Misc' if title_names.loc[x] == True else x)\n",
    "print(train_data['Title'].value_counts())\n",
    "\n",
    "title_namest = (test_data['Title'].value_counts() < stat_min)\n",
    "test_data['Title'] = test_data['Title'].apply(lambda x: 'Misc' if title_namest.loc[x] == True else x)"
   ]
  },
  {
   "cell_type": "markdown",
   "id": "fd22eac9",
   "metadata": {},
   "source": [
    "### Label Encoding\n",
    "It is used to transform non-numerical labels to numerical labels (or nominal categorical variables). Numerical labels are always between 0 and n_classes-1.\n",
    "\n",
    "Below code will create two column 'AgeBin_Code' and 'FareBin_Code' and convert the bins( ex: AgeBin has {1-16},{16-24} ) to numeric value and label them according to the bins.\n",
    "\n"
   ]
  },
  {
   "cell_type": "code",
   "execution_count": null,
   "id": "6916e958",
   "metadata": {},
   "outputs": [],
   "source": [
    "label = LabelEncoder()\n",
    "for dataset in data_cleaner:\n",
    "    dataset['AgeBin_Code'] = label.fit_transform(dataset['AgeBin'])\n",
    "    dataset['FareBin_Code'] = label.fit_transform(dataset['FareBin'])\n",
    "    \n",
    "print(train_data.columns)\n",
    "train_data.head()"
   ]
  },
  {
   "cell_type": "markdown",
   "id": "4f9cf9af",
   "metadata": {},
   "source": [
    "### Correlation between features\n"
   ]
  },
  {
   "cell_type": "code",
   "execution_count": null,
   "id": "5645cc03",
   "metadata": {},
   "outputs": [],
   "source": [
    "sns.heatmap(train_data.corr(),annot=True,cmap='RdYlGn',linewidths=0.2) \n"
   ]
  },
  {
   "cell_type": "markdown",
   "id": "e1b67b2f",
   "metadata": {},
   "source": [
    "We will select the features we want to include in our model\n",
    "\n"
   ]
  },
  {
   "cell_type": "code",
   "execution_count": null,
   "id": "cbd5fe23",
   "metadata": {},
   "outputs": [],
   "source": [
    "features_col=['Pclass','Sex','Embarked','IsAlone','Title','AgeBin_Code','FamilySize','FareBin_Code']\n",
    "train_ds = train_data[features_col]\n",
    "test_ds = test_data[features_col]\n",
    "y = train_data['Survived']\n",
    "print(train_ds.columns)\n",
    "train_ds.head()"
   ]
  },
  {
   "cell_type": "markdown",
   "id": "f26f1dde",
   "metadata": {},
   "source": [
    "## One Hot Encoding\n",
    "One hot encoding is a process by which categorical variables are converted into a form that could be provided to ML algorithms to do a better job in prediction.\n",
    "\n",
    "Suppose we have Sex classes as 'male' and 'female'. One hot encoding will create two columns 'Sex_male' and 'Sex_female' and store the values as binary.\n",
    "\n"
   ]
  },
  {
   "cell_type": "code",
   "execution_count": null,
   "id": "1f753fba",
   "metadata": {},
   "outputs": [],
   "source": [
    "one_hot_encoded_training_predictors = pd.get_dummies(train_ds)\n",
    "one_hot_encoded_testing_predictors = pd.get_dummies(test_ds)\n"
   ]
  },
  {
   "cell_type": "code",
   "execution_count": null,
   "id": "78bed835",
   "metadata": {},
   "outputs": [],
   "source": [
    "sns.heatmap(one_hot_encoded_training_predictors.corr(),annot=True,cmap='RdYlGn',linewidths=0.2) #data.corr()-->correlation matrix\n",
    "fig=plt.gcf()\n",
    "fig.set_size_inches(10,8)\n",
    "plt.show()\n"
   ]
  },
  {
   "cell_type": "markdown",
   "id": "d5c78bf1",
   "metadata": {},
   "source": [
    "Most Correlating features are (Sex_male,Title_Mr) , (Sex_female,Title_Miss) So , chances are they might have redundant data. Its better to remove one of the feature.\n",
    "\n"
   ]
  },
  {
   "cell_type": "code",
   "execution_count": null,
   "id": "83a61d97",
   "metadata": {},
   "outputs": [],
   "source": [
    "# Remove the correlated feature to reduce redundancy in model.\n",
    "corln_col=['Title_Miss','Sex_male']\n",
    "one_hot_encoded_training_predictors = one_hot_encoded_training_predictors.drop(corln_col,axis=1)\n",
    "one_hot_encoded_testing_predictors = one_hot_encoded_testing_predictors.drop(corln_col,axis=1)\n"
   ]
  },
  {
   "cell_type": "markdown",
   "id": "cb4b37fd",
   "metadata": {},
   "source": [
    "### Predictive Modeling\n"
   ]
  },
  {
   "cell_type": "markdown",
   "id": "0c8f9e00",
   "metadata": {},
   "source": [
    "So now we will predict the whether the Passenger will survive or not using some great Classification Algorithms.Following are the algorithms I will use to make the model:\n",
    "\n",
    "* Logistic Regression\n",
    "\n",
    "* Support Vector Machines\n",
    "\n",
    "* K-Nearest Neighbours\n",
    "\n",
    "\n",
    "\n"
   ]
  },
  {
   "cell_type": "code",
   "execution_count": null,
   "id": "07dea5e6",
   "metadata": {},
   "outputs": [],
   "source": [
    "from sklearn.svm import SVC, LinearSVC\n",
    "from sklearn.linear_model import LogisticRegression\n",
    "from sklearn.neighbors import KNeighborsClassifier\n",
    "from sklearn.metrics import make_scorer, accuracy_score\n",
    "from sklearn import svm #support vector Machine\n",
    "from sklearn import metrics #accuracy measure\n",
    "from sklearn.metrics import confusion_matrix #for confusion matrix\n"
   ]
  },
  {
   "cell_type": "markdown",
   "id": "010904e3",
   "metadata": {},
   "source": [
    "### Train- test split\n"
   ]
  },
  {
   "cell_type": "markdown",
   "id": "096480f4",
   "metadata": {},
   "source": [
    "The data we use is usually split into training data and test data. The training set contains a known output and the model learns on this data in order to be generalized to other data later on. We have the test dataset (or subset) in order to test our model’s prediction on this subset.\n",
    "\n",
    "The test_size=0.20 inside the function indicates the percentage of the data that should be held over for testing. It’s usually around 80/20 or 70/30.\n",
    "\n"
   ]
  },
  {
   "cell_type": "code",
   "execution_count": null,
   "id": "74893858",
   "metadata": {},
   "outputs": [],
   "source": [
    "from sklearn.model_selection import train_test_split\n",
    "\n",
    "train_X, test_X, train_y, test_y = train_test_split(one_hot_encoded_training_predictors, y, test_size=0.20)\n"
   ]
  },
  {
   "cell_type": "code",
   "execution_count": null,
   "id": "db923be6",
   "metadata": {},
   "outputs": [],
   "source": [
    "print(y)"
   ]
  },
  {
   "cell_type": "markdown",
   "id": "94eb93b6",
   "metadata": {},
   "source": [
    "### Logistic Regression\n"
   ]
  },
  {
   "cell_type": "code",
   "execution_count": null,
   "id": "f8ad3a7a",
   "metadata": {},
   "outputs": [],
   "source": [
    "logreg_clf = LogisticRegression()\n",
    "logreg_clf.fit(train_X, train_y)\n",
    "pred_logreg = logreg_clf.predict(test_X)\n",
    "acc_logreg = accuracy_score(test_y, pred_logreg)\n",
    "\n",
    "print(acc_logreg)\n"
   ]
  },
  {
   "cell_type": "markdown",
   "id": "f6482d5f",
   "metadata": {},
   "source": [
    "### K-Nearest Neighbours(KNN)"
   ]
  },
  {
   "cell_type": "code",
   "execution_count": null,
   "id": "96ed1ea7",
   "metadata": {},
   "outputs": [],
   "source": [
    "Image(url= \"img/knn.png\")\n",
    "# source: Machine Learning for Absolute Beginners, Oliver Theobald"
   ]
  },
  {
   "cell_type": "markdown",
   "id": "d8f7a499",
   "metadata": {},
   "source": [
    "- k-NN classifies new data points based on their position to nearby data points\n",
    "- using k-NN we can predict the category of the new data point based on its position regarding the other data points \n",
    "- we need to set k in order to determine how many data points we want to use to classify the new data point (e.g. if we set it to 3, k-NN will analyze it in respect to the 3 nearest data points, neighbours)\n",
    "- default is 5\n",
    "- it is useful to test numerous k combinations to find the best fit and avoid setting k to low or high\n",
    "- too low - bias, to high - more computationally expensive\n",
    "- this algorithm works best with continuous variables\n",
    "- binary variables should be used only when critical for the model’s accuracy\n"
   ]
  },
  {
   "cell_type": "code",
   "execution_count": null,
   "id": "b022cd59",
   "metadata": {},
   "outputs": [],
   "source": [
    "knn_clf = KNeighborsClassifier()\n",
    "knn_clf.fit(train_X, train_y)\n",
    "pred_knn = knn_clf.predict(test_X)\n",
    "acc_knn = accuracy_score(test_y, pred_knn)\n",
    "\n",
    "print(acc_knn)"
   ]
  },
  {
   "cell_type": "markdown",
   "id": "ba8c07bf",
   "metadata": {},
   "source": [
    "### Linear Support Vector Machines\n"
   ]
  },
  {
   "cell_type": "code",
   "execution_count": null,
   "id": "7b90dd2b",
   "metadata": {},
   "outputs": [],
   "source": [
    "Image(url= \"img/svm.png\")\n",
    "# source: Machine Learning for Absolute Beginners, Oliver Theobald"
   ]
  },
  {
   "cell_type": "markdown",
   "id": "4b80d10b",
   "metadata": {},
   "source": [
    "- useful to mitigate outliers and complex relationships\n",
    "- wide margin - more mistakes, narrow margin - fewer mistakes, the goal is to strike balance\n",
    "- you can use the hyperparameter C to make the margin softer/harder, e.g. \n",
    "- svm not recommended for low feature to row ratio (low nr of features relative to rows) \n",
    "- works well at untangling outliers from complex small and medium datasets and managing high dimensional data\n",
    "- regularization and standardization are data scrubbing (used often with this algorithm)\n"
   ]
  },
  {
   "cell_type": "code",
   "execution_count": null,
   "id": "be07ff01",
   "metadata": {},
   "outputs": [],
   "source": [
    "linsvc_clf = LinearSVC(dual=False)\n",
    "linsvc_clf.fit(train_X, train_y)\n",
    "pred_linsvc = linsvc_clf.predict(test_X)\n",
    "acc_linsvc = accuracy_score(test_y, pred_linsvc)\n",
    "\n",
    "print(acc_linsvc)"
   ]
  },
  {
   "cell_type": "code",
   "execution_count": null,
   "id": "8418a41e",
   "metadata": {},
   "outputs": [],
   "source": [
    "#Compare all model performance.\n",
    "model_performance = pd.DataFrame({\n",
    "    'Model': [ 'Linear SVM', \n",
    "              'Logistic Regression', 'K Nearest Neighbors'],\n",
    "    'Accuracy': [ acc_linsvc, \n",
    "              acc_logreg, acc_knn]\n",
    "})\n",
    "\n",
    "model_performance.sort_values(by='Accuracy', ascending=False)"
   ]
  },
  {
   "cell_type": "markdown",
   "id": "150b6139",
   "metadata": {},
   "source": [
    "## Choosing the right estimator\n"
   ]
  },
  {
   "cell_type": "markdown",
   "id": "2c334905",
   "metadata": {},
   "source": [
    "https://scikit-learn.org/stable/tutorial/machine_learning_map/index.html"
   ]
  },
  {
   "cell_type": "code",
   "execution_count": null,
   "id": "a1d1e354",
   "metadata": {},
   "outputs": [],
   "source": [
    "Image(url= \"img/sklearn.png\")\n",
    "# source: https://scikit-learn.org/stable/tutorial/machine_learning_map/index.html"
   ]
  },
  {
   "cell_type": "markdown",
   "id": "a8bdac8e",
   "metadata": {},
   "source": [
    "## Literature, tutorials\n",
    "\n",
    "* Exercises taken from - Machine Learning for Absolute Beginners, Oliver Theobald (https://www.amazon.de/gp/product/B08RWBSKQB/ref=ppx_yo_dt_b_d_asin_title_o00?ie=UTF8&psc=1) (https://bmansoori.ir/book/Machine%20Learning%20For%20Absolute%20Beginners.pdf)\n",
    "* Tutorial accompanying the book -https://scatterplotpress.teachable.com/courses/enrolled/1247161\n",
    "* Good tutorial on Kaggle -  https://www.kaggle.com/learn/intro-to-machine-learning\n",
    "* Titanic notebook - https://www.kaggle.com/code/vjgupta/titanic-simple-model-beginners\n",
    "* Titanic dataset -https://www.kaggle.com/competitions/titanic\n",
    "* SKLearn tutorial - https://scikit-learn.org/stable/index.html"
   ]
  },
  {
   "cell_type": "code",
   "execution_count": null,
   "id": "90917e5c",
   "metadata": {},
   "outputs": [],
   "source": []
  }
 ],
 "metadata": {
  "kernelspec": {
   "display_name": "Python 3 (ipykernel)",
   "language": "python",
   "name": "python3"
  },
  "language_info": {
   "codemirror_mode": {
    "name": "ipython",
    "version": 3
   },
   "file_extension": ".py",
   "mimetype": "text/x-python",
   "name": "python",
   "nbconvert_exporter": "python",
   "pygments_lexer": "ipython3",
   "version": "3.9.13"
  }
 },
 "nbformat": 4,
 "nbformat_minor": 5
}
